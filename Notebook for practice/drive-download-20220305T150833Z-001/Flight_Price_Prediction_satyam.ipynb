{
  "nbformat": 4,
  "nbformat_minor": 0,
  "metadata": {
    "colab": {
      "name": "Flight Price Prediction_satyam.ipynb",
      "provenance": []
    },
    "kernelspec": {
      "name": "python3",
      "display_name": "Python 3"
    },
    "language_info": {
      "name": "python"
    }
  },
  "cells": [
    {
      "cell_type": "code",
      "metadata": {
        "colab": {
          "base_uri": "https://localhost:8080/"
        },
        "id": "PHg4SKBip3IY",
        "outputId": "13f11db2-3f27-4eed-9f13-d5c144cc27f5"
      },
      "source": [
        "import pandas as pd\n",
        "import numpy as np\n",
        "import matplotlib.pyplot as plt\n",
        "import seaborn as sns\n",
        "%matplotlib inline\n",
        "import warnings\n",
        "warnings.filterwarnings('ignore')\n",
        "from sklearn.preprocessing import OrdinalEncoder,power_transform,StandardScaler,MinMaxScaler\n",
        "from sklearn.model_selection import train_test_split,cross_val_score,GridSearchCV,KFold\n",
        "from sklearn.ensemble import ExtraTreesRegressor,RandomForestRegressor\n",
        "from sklearn.linear_model import LinearRegression,Lasso\n",
        "from lightgbm import LGBMRegressor\n",
        "from sklearn.tree import DecisionTreeRegressor\n",
        "from xgboost import XGBRegressor\n",
        "from sklearn.metrics import mean_absolute_error,mean_squared_error,r2_score\n",
        "!pip install scikit-plot\n",
        "import scikitplot as skplt\n",
        "from xgboost import XGBRegressor\n",
        "from lightgbm import LGBMRegressor\n",
        "!pip install pyfiglet\n",
        "import pyfiglet"
      ],
      "execution_count": 1,
      "outputs": [
        {
          "output_type": "stream",
          "name": "stdout",
          "text": [
            "Requirement already satisfied: scikit-plot in /usr/local/lib/python3.7/dist-packages (0.3.7)\n",
            "Requirement already satisfied: joblib>=0.10 in /usr/local/lib/python3.7/dist-packages (from scikit-plot) (1.0.1)\n",
            "Requirement already satisfied: matplotlib>=1.4.0 in /usr/local/lib/python3.7/dist-packages (from scikit-plot) (3.2.2)\n",
            "Requirement already satisfied: scipy>=0.9 in /usr/local/lib/python3.7/dist-packages (from scikit-plot) (1.4.1)\n",
            "Requirement already satisfied: scikit-learn>=0.18 in /usr/local/lib/python3.7/dist-packages (from scikit-plot) (0.22.2.post1)\n",
            "Requirement already satisfied: pyparsing!=2.0.4,!=2.1.2,!=2.1.6,>=2.0.1 in /usr/local/lib/python3.7/dist-packages (from matplotlib>=1.4.0->scikit-plot) (2.4.7)\n",
            "Requirement already satisfied: python-dateutil>=2.1 in /usr/local/lib/python3.7/dist-packages (from matplotlib>=1.4.0->scikit-plot) (2.8.2)\n",
            "Requirement already satisfied: kiwisolver>=1.0.1 in /usr/local/lib/python3.7/dist-packages (from matplotlib>=1.4.0->scikit-plot) (1.3.2)\n",
            "Requirement already satisfied: numpy>=1.11 in /usr/local/lib/python3.7/dist-packages (from matplotlib>=1.4.0->scikit-plot) (1.19.5)\n",
            "Requirement already satisfied: cycler>=0.10 in /usr/local/lib/python3.7/dist-packages (from matplotlib>=1.4.0->scikit-plot) (0.10.0)\n",
            "Requirement already satisfied: six in /usr/local/lib/python3.7/dist-packages (from cycler>=0.10->matplotlib>=1.4.0->scikit-plot) (1.15.0)\n",
            "Requirement already satisfied: pyfiglet in /usr/local/lib/python3.7/dist-packages (0.8.post1)\n"
          ]
        }
      ]
    },
    {
      "cell_type": "code",
      "metadata": {
        "id": "z_r-_52lqb98"
      },
      "source": [
        "data=pd.read_csv('/content/Web_Scraped_Flight_Data1.csv')"
      ],
      "execution_count": 2,
      "outputs": []
    },
    {
      "cell_type": "code",
      "metadata": {
        "colab": {
          "base_uri": "https://localhost:8080/",
          "height": 419
        },
        "id": "FJsOQ4-7dO0X",
        "outputId": "5e27d1f7-e556-4bb5-c509-a483569cf7fa"
      },
      "source": [
        "data"
      ],
      "execution_count": 3,
      "outputs": [
        {
          "output_type": "execute_result",
          "data": {
            "text/html": [
              "<div>\n",
              "<style scoped>\n",
              "    .dataframe tbody tr th:only-of-type {\n",
              "        vertical-align: middle;\n",
              "    }\n",
              "\n",
              "    .dataframe tbody tr th {\n",
              "        vertical-align: top;\n",
              "    }\n",
              "\n",
              "    .dataframe thead th {\n",
              "        text-align: right;\n",
              "    }\n",
              "</style>\n",
              "<table border=\"1\" class=\"dataframe\">\n",
              "  <thead>\n",
              "    <tr style=\"text-align: right;\">\n",
              "      <th></th>\n",
              "      <th>Unnamed: 0</th>\n",
              "      <th>Unnamed: 0.1</th>\n",
              "      <th>Airline</th>\n",
              "      <th>Source</th>\n",
              "      <th>Destination</th>\n",
              "      <th>Dep_Time</th>\n",
              "      <th>Arrival_Time</th>\n",
              "      <th>Duration</th>\n",
              "      <th>Total_Stops</th>\n",
              "      <th>Price</th>\n",
              "    </tr>\n",
              "  </thead>\n",
              "  <tbody>\n",
              "    <tr>\n",
              "      <th>0</th>\n",
              "      <td>0</td>\n",
              "      <td>0</td>\n",
              "      <td>Jet Airways</td>\n",
              "      <td>Banglore</td>\n",
              "      <td>Delhi</td>\n",
              "      <td>18:55</td>\n",
              "      <td>22:00</td>\n",
              "      <td>3h 5m</td>\n",
              "      <td>non-stop</td>\n",
              "      <td>7229</td>\n",
              "    </tr>\n",
              "    <tr>\n",
              "      <th>1</th>\n",
              "      <td>1</td>\n",
              "      <td>1</td>\n",
              "      <td>Multiple carriers</td>\n",
              "      <td>Delhi</td>\n",
              "      <td>Cochin</td>\n",
              "      <td>10:20</td>\n",
              "      <td>01:30 22 May</td>\n",
              "      <td>15h 10m</td>\n",
              "      <td>1 stop</td>\n",
              "      <td>7485</td>\n",
              "    </tr>\n",
              "    <tr>\n",
              "      <th>2</th>\n",
              "      <td>2</td>\n",
              "      <td>2</td>\n",
              "      <td>IndiGo</td>\n",
              "      <td>Banglore</td>\n",
              "      <td>Delhi</td>\n",
              "      <td>18:55</td>\n",
              "      <td>21:50</td>\n",
              "      <td>2h 55m</td>\n",
              "      <td>non-stop</td>\n",
              "      <td>4823</td>\n",
              "    </tr>\n",
              "    <tr>\n",
              "      <th>3</th>\n",
              "      <td>3</td>\n",
              "      <td>3</td>\n",
              "      <td>Air India</td>\n",
              "      <td>Delhi</td>\n",
              "      <td>Cochin</td>\n",
              "      <td>05:55</td>\n",
              "      <td>07:40 07 Mar</td>\n",
              "      <td>25h 45m</td>\n",
              "      <td>2 stops</td>\n",
              "      <td>14641</td>\n",
              "    </tr>\n",
              "    <tr>\n",
              "      <th>4</th>\n",
              "      <td>4</td>\n",
              "      <td>4</td>\n",
              "      <td>SpiceJet</td>\n",
              "      <td>Kolkata</td>\n",
              "      <td>Banglore</td>\n",
              "      <td>06:55</td>\n",
              "      <td>09:30</td>\n",
              "      <td>2h 35m</td>\n",
              "      <td>non-stop</td>\n",
              "      <td>3841</td>\n",
              "    </tr>\n",
              "    <tr>\n",
              "      <th>...</th>\n",
              "      <td>...</td>\n",
              "      <td>...</td>\n",
              "      <td>...</td>\n",
              "      <td>...</td>\n",
              "      <td>...</td>\n",
              "      <td>...</td>\n",
              "      <td>...</td>\n",
              "      <td>...</td>\n",
              "      <td>...</td>\n",
              "      <td>...</td>\n",
              "    </tr>\n",
              "    <tr>\n",
              "      <th>1669</th>\n",
              "      <td>1669</td>\n",
              "      <td>1669</td>\n",
              "      <td>IndiGo</td>\n",
              "      <td>Banglore</td>\n",
              "      <td>Delhi</td>\n",
              "      <td>04:00</td>\n",
              "      <td>06:50</td>\n",
              "      <td>2h 50m</td>\n",
              "      <td>non-stop</td>\n",
              "      <td>4423</td>\n",
              "    </tr>\n",
              "    <tr>\n",
              "      <th>1670</th>\n",
              "      <td>1670</td>\n",
              "      <td>1670</td>\n",
              "      <td>Jet Airways</td>\n",
              "      <td>Kolkata</td>\n",
              "      <td>Banglore</td>\n",
              "      <td>08:25</td>\n",
              "      <td>18:15</td>\n",
              "      <td>9h 50m</td>\n",
              "      <td>1 stop</td>\n",
              "      <td>10844</td>\n",
              "    </tr>\n",
              "    <tr>\n",
              "      <th>1671</th>\n",
              "      <td>1671</td>\n",
              "      <td>1671</td>\n",
              "      <td>Jet Airways</td>\n",
              "      <td>Delhi</td>\n",
              "      <td>Cochin</td>\n",
              "      <td>19:30</td>\n",
              "      <td>12:35 28 Jun</td>\n",
              "      <td>17h 5m</td>\n",
              "      <td>2 stops</td>\n",
              "      <td>13764</td>\n",
              "    </tr>\n",
              "    <tr>\n",
              "      <th>1672</th>\n",
              "      <td>1672</td>\n",
              "      <td>1672</td>\n",
              "      <td>Air India</td>\n",
              "      <td>Delhi</td>\n",
              "      <td>Cochin</td>\n",
              "      <td>23:00</td>\n",
              "      <td>19:15 10 Mar</td>\n",
              "      <td>20h 15m</td>\n",
              "      <td>1 stop</td>\n",
              "      <td>11260</td>\n",
              "    </tr>\n",
              "    <tr>\n",
              "      <th>1673</th>\n",
              "      <td>1673</td>\n",
              "      <td>1673</td>\n",
              "      <td>Jet Airways</td>\n",
              "      <td>Kolkata</td>\n",
              "      <td>Banglore</td>\n",
              "      <td>16:30</td>\n",
              "      <td>20:45 13 May</td>\n",
              "      <td>28h 15m</td>\n",
              "      <td>1 stop</td>\n",
              "      <td>10844</td>\n",
              "    </tr>\n",
              "  </tbody>\n",
              "</table>\n",
              "<p>1674 rows × 10 columns</p>\n",
              "</div>"
            ],
            "text/plain": [
              "      Unnamed: 0  Unnamed: 0.1            Airline  ... Duration Total_Stops  Price\n",
              "0              0             0        Jet Airways  ...    3h 5m    non-stop   7229\n",
              "1              1             1  Multiple carriers  ...  15h 10m      1 stop   7485\n",
              "2              2             2             IndiGo  ...   2h 55m    non-stop   4823\n",
              "3              3             3          Air India  ...  25h 45m     2 stops  14641\n",
              "4              4             4           SpiceJet  ...   2h 35m    non-stop   3841\n",
              "...          ...           ...                ...  ...      ...         ...    ...\n",
              "1669        1669          1669             IndiGo  ...   2h 50m    non-stop   4423\n",
              "1670        1670          1670        Jet Airways  ...   9h 50m      1 stop  10844\n",
              "1671        1671          1671        Jet Airways  ...   17h 5m     2 stops  13764\n",
              "1672        1672          1672          Air India  ...  20h 15m      1 stop  11260\n",
              "1673        1673          1673        Jet Airways  ...  28h 15m      1 stop  10844\n",
              "\n",
              "[1674 rows x 10 columns]"
            ]
          },
          "metadata": {},
          "execution_count": 3
        }
      ]
    },
    {
      "cell_type": "code",
      "metadata": {
        "colab": {
          "base_uri": "https://localhost:8080/",
          "height": 297
        },
        "id": "I4-eG286qotq",
        "outputId": "ffdcd9c0-9403-46d3-a163-8f310a1fa442"
      },
      "source": [
        "data.describe()"
      ],
      "execution_count": 4,
      "outputs": [
        {
          "output_type": "execute_result",
          "data": {
            "text/html": [
              "<div>\n",
              "<style scoped>\n",
              "    .dataframe tbody tr th:only-of-type {\n",
              "        vertical-align: middle;\n",
              "    }\n",
              "\n",
              "    .dataframe tbody tr th {\n",
              "        vertical-align: top;\n",
              "    }\n",
              "\n",
              "    .dataframe thead th {\n",
              "        text-align: right;\n",
              "    }\n",
              "</style>\n",
              "<table border=\"1\" class=\"dataframe\">\n",
              "  <thead>\n",
              "    <tr style=\"text-align: right;\">\n",
              "      <th></th>\n",
              "      <th>Unnamed: 0</th>\n",
              "      <th>Unnamed: 0.1</th>\n",
              "      <th>Price</th>\n",
              "    </tr>\n",
              "  </thead>\n",
              "  <tbody>\n",
              "    <tr>\n",
              "      <th>count</th>\n",
              "      <td>1674.000000</td>\n",
              "      <td>1674.000000</td>\n",
              "      <td>1674.000000</td>\n",
              "    </tr>\n",
              "    <tr>\n",
              "      <th>mean</th>\n",
              "      <td>836.500000</td>\n",
              "      <td>836.500000</td>\n",
              "      <td>9083.091995</td>\n",
              "    </tr>\n",
              "    <tr>\n",
              "      <th>std</th>\n",
              "      <td>483.386491</td>\n",
              "      <td>483.386491</td>\n",
              "      <td>4475.845590</td>\n",
              "    </tr>\n",
              "    <tr>\n",
              "      <th>min</th>\n",
              "      <td>0.000000</td>\n",
              "      <td>0.000000</td>\n",
              "      <td>1965.000000</td>\n",
              "    </tr>\n",
              "    <tr>\n",
              "      <th>25%</th>\n",
              "      <td>418.250000</td>\n",
              "      <td>418.250000</td>\n",
              "      <td>5403.000000</td>\n",
              "    </tr>\n",
              "    <tr>\n",
              "      <th>50%</th>\n",
              "      <td>836.500000</td>\n",
              "      <td>836.500000</td>\n",
              "      <td>8529.000000</td>\n",
              "    </tr>\n",
              "    <tr>\n",
              "      <th>75%</th>\n",
              "      <td>1254.750000</td>\n",
              "      <td>1254.750000</td>\n",
              "      <td>12361.500000</td>\n",
              "    </tr>\n",
              "    <tr>\n",
              "      <th>max</th>\n",
              "      <td>1673.000000</td>\n",
              "      <td>1673.000000</td>\n",
              "      <td>57209.000000</td>\n",
              "    </tr>\n",
              "  </tbody>\n",
              "</table>\n",
              "</div>"
            ],
            "text/plain": [
              "        Unnamed: 0  Unnamed: 0.1         Price\n",
              "count  1674.000000   1674.000000   1674.000000\n",
              "mean    836.500000    836.500000   9083.091995\n",
              "std     483.386491    483.386491   4475.845590\n",
              "min       0.000000      0.000000   1965.000000\n",
              "25%     418.250000    418.250000   5403.000000\n",
              "50%     836.500000    836.500000   8529.000000\n",
              "75%    1254.750000   1254.750000  12361.500000\n",
              "max    1673.000000   1673.000000  57209.000000"
            ]
          },
          "metadata": {},
          "execution_count": 4
        }
      ]
    },
    {
      "cell_type": "code",
      "metadata": {
        "colab": {
          "base_uri": "https://localhost:8080/"
        },
        "id": "GHUnreGFqtPr",
        "outputId": "14c37b58-0857-4da2-9e46-48da843a6b65"
      },
      "source": [
        "data.isna().sum()"
      ],
      "execution_count": 5,
      "outputs": [
        {
          "output_type": "execute_result",
          "data": {
            "text/plain": [
              "Unnamed: 0      0\n",
              "Unnamed: 0.1    0\n",
              "Airline         0\n",
              "Source          0\n",
              "Destination     0\n",
              "Dep_Time        0\n",
              "Arrival_Time    0\n",
              "Duration        0\n",
              "Total_Stops     0\n",
              "Price           0\n",
              "dtype: int64"
            ]
          },
          "metadata": {},
          "execution_count": 5
        }
      ]
    },
    {
      "cell_type": "markdown",
      "metadata": {
        "id": "spyviocYMyTs"
      },
      "source": [
        "**There are no missing values**\n",
        "\n"
      ]
    },
    {
      "cell_type": "code",
      "metadata": {
        "colab": {
          "base_uri": "https://localhost:8080/"
        },
        "id": "a5_odIf-qvcC",
        "outputId": "ecbcab36-054d-4151-a4b3-18eb0c39cead"
      },
      "source": [
        "data.info()"
      ],
      "execution_count": 6,
      "outputs": [
        {
          "output_type": "stream",
          "name": "stdout",
          "text": [
            "<class 'pandas.core.frame.DataFrame'>\n",
            "RangeIndex: 1674 entries, 0 to 1673\n",
            "Data columns (total 10 columns):\n",
            " #   Column        Non-Null Count  Dtype \n",
            "---  ------        --------------  ----- \n",
            " 0   Unnamed: 0    1674 non-null   int64 \n",
            " 1   Unnamed: 0.1  1674 non-null   int64 \n",
            " 2   Airline       1674 non-null   object\n",
            " 3   Source        1674 non-null   object\n",
            " 4   Destination   1674 non-null   object\n",
            " 5   Dep_Time      1674 non-null   object\n",
            " 6   Arrival_Time  1674 non-null   object\n",
            " 7   Duration      1674 non-null   object\n",
            " 8   Total_Stops   1674 non-null   object\n",
            " 9   Price         1674 non-null   int64 \n",
            "dtypes: int64(3), object(7)\n",
            "memory usage: 130.9+ KB\n"
          ]
        }
      ]
    },
    {
      "cell_type": "markdown",
      "metadata": {
        "id": "HiGRRAxQM5o-"
      },
      "source": [
        "**We have only one column that is numeric that is target column**"
      ]
    },
    {
      "cell_type": "markdown",
      "metadata": {
        "id": "uuZThARcNHxQ"
      },
      "source": [
        "#Preprocessing\n",
        "1-Doing feature engineering\n",
        "\n",
        "2-Filling missing values\n",
        "\n",
        "3-Droping some columns\n",
        "\n",
        "Dropping Route it is not important because we just want to predict the price so basically we need Source and destination and also Droping additional info because it is not important for fligh fare prediction and also dropping Date of journey because i have converted that into years,month,day and also dropping duration because if we have Dep_time and Arrival_time we dont need it because it just represent the difference between these two only"
      ]
    },
    {
      "cell_type": "code",
      "metadata": {
        "id": "_wVvF4xJq6sk"
      },
      "source": [
        "def preprocess1(df):\n",
        "  df['Total_Stops']=df['Total_Stops'].fillna(df['Total_Stops'].mode()[0])\n",
        "  df=df.drop(['Duration'],axis=1)\n",
        "  return df"
      ],
      "execution_count": 12,
      "outputs": []
    },
    {
      "cell_type": "code",
      "metadata": {
        "id": "b-BRMYo0FY4i"
      },
      "source": [
        "data=preprocess1(data)"
      ],
      "execution_count": 13,
      "outputs": []
    },
    {
      "cell_type": "code",
      "metadata": {
        "colab": {
          "base_uri": "https://localhost:8080/",
          "height": 419
        },
        "id": "5mbCKLlLFeTI",
        "outputId": "795fa7b3-669e-4b4d-edf5-056faa0744aa"
      },
      "source": [
        "data"
      ],
      "execution_count": 14,
      "outputs": [
        {
          "output_type": "execute_result",
          "data": {
            "text/html": [
              "<div>\n",
              "<style scoped>\n",
              "    .dataframe tbody tr th:only-of-type {\n",
              "        vertical-align: middle;\n",
              "    }\n",
              "\n",
              "    .dataframe tbody tr th {\n",
              "        vertical-align: top;\n",
              "    }\n",
              "\n",
              "    .dataframe thead th {\n",
              "        text-align: right;\n",
              "    }\n",
              "</style>\n",
              "<table border=\"1\" class=\"dataframe\">\n",
              "  <thead>\n",
              "    <tr style=\"text-align: right;\">\n",
              "      <th></th>\n",
              "      <th>Unnamed: 0</th>\n",
              "      <th>Unnamed: 0.1</th>\n",
              "      <th>Airline</th>\n",
              "      <th>Source</th>\n",
              "      <th>Destination</th>\n",
              "      <th>Dep_Time</th>\n",
              "      <th>Arrival_Time</th>\n",
              "      <th>Total_Stops</th>\n",
              "      <th>Price</th>\n",
              "    </tr>\n",
              "  </thead>\n",
              "  <tbody>\n",
              "    <tr>\n",
              "      <th>0</th>\n",
              "      <td>0</td>\n",
              "      <td>0</td>\n",
              "      <td>Jet Airways</td>\n",
              "      <td>Banglore</td>\n",
              "      <td>Delhi</td>\n",
              "      <td>18:55</td>\n",
              "      <td>22:00</td>\n",
              "      <td>non-stop</td>\n",
              "      <td>7229</td>\n",
              "    </tr>\n",
              "    <tr>\n",
              "      <th>1</th>\n",
              "      <td>1</td>\n",
              "      <td>1</td>\n",
              "      <td>Multiple carriers</td>\n",
              "      <td>Delhi</td>\n",
              "      <td>Cochin</td>\n",
              "      <td>10:20</td>\n",
              "      <td>01:30 22 May</td>\n",
              "      <td>1 stop</td>\n",
              "      <td>7485</td>\n",
              "    </tr>\n",
              "    <tr>\n",
              "      <th>2</th>\n",
              "      <td>2</td>\n",
              "      <td>2</td>\n",
              "      <td>IndiGo</td>\n",
              "      <td>Banglore</td>\n",
              "      <td>Delhi</td>\n",
              "      <td>18:55</td>\n",
              "      <td>21:50</td>\n",
              "      <td>non-stop</td>\n",
              "      <td>4823</td>\n",
              "    </tr>\n",
              "    <tr>\n",
              "      <th>3</th>\n",
              "      <td>3</td>\n",
              "      <td>3</td>\n",
              "      <td>Air India</td>\n",
              "      <td>Delhi</td>\n",
              "      <td>Cochin</td>\n",
              "      <td>05:55</td>\n",
              "      <td>07:40 07 Mar</td>\n",
              "      <td>2 stops</td>\n",
              "      <td>14641</td>\n",
              "    </tr>\n",
              "    <tr>\n",
              "      <th>4</th>\n",
              "      <td>4</td>\n",
              "      <td>4</td>\n",
              "      <td>SpiceJet</td>\n",
              "      <td>Kolkata</td>\n",
              "      <td>Banglore</td>\n",
              "      <td>06:55</td>\n",
              "      <td>09:30</td>\n",
              "      <td>non-stop</td>\n",
              "      <td>3841</td>\n",
              "    </tr>\n",
              "    <tr>\n",
              "      <th>...</th>\n",
              "      <td>...</td>\n",
              "      <td>...</td>\n",
              "      <td>...</td>\n",
              "      <td>...</td>\n",
              "      <td>...</td>\n",
              "      <td>...</td>\n",
              "      <td>...</td>\n",
              "      <td>...</td>\n",
              "      <td>...</td>\n",
              "    </tr>\n",
              "    <tr>\n",
              "      <th>1669</th>\n",
              "      <td>1669</td>\n",
              "      <td>1669</td>\n",
              "      <td>IndiGo</td>\n",
              "      <td>Banglore</td>\n",
              "      <td>Delhi</td>\n",
              "      <td>04:00</td>\n",
              "      <td>06:50</td>\n",
              "      <td>non-stop</td>\n",
              "      <td>4423</td>\n",
              "    </tr>\n",
              "    <tr>\n",
              "      <th>1670</th>\n",
              "      <td>1670</td>\n",
              "      <td>1670</td>\n",
              "      <td>Jet Airways</td>\n",
              "      <td>Kolkata</td>\n",
              "      <td>Banglore</td>\n",
              "      <td>08:25</td>\n",
              "      <td>18:15</td>\n",
              "      <td>1 stop</td>\n",
              "      <td>10844</td>\n",
              "    </tr>\n",
              "    <tr>\n",
              "      <th>1671</th>\n",
              "      <td>1671</td>\n",
              "      <td>1671</td>\n",
              "      <td>Jet Airways</td>\n",
              "      <td>Delhi</td>\n",
              "      <td>Cochin</td>\n",
              "      <td>19:30</td>\n",
              "      <td>12:35 28 Jun</td>\n",
              "      <td>2 stops</td>\n",
              "      <td>13764</td>\n",
              "    </tr>\n",
              "    <tr>\n",
              "      <th>1672</th>\n",
              "      <td>1672</td>\n",
              "      <td>1672</td>\n",
              "      <td>Air India</td>\n",
              "      <td>Delhi</td>\n",
              "      <td>Cochin</td>\n",
              "      <td>23:00</td>\n",
              "      <td>19:15 10 Mar</td>\n",
              "      <td>1 stop</td>\n",
              "      <td>11260</td>\n",
              "    </tr>\n",
              "    <tr>\n",
              "      <th>1673</th>\n",
              "      <td>1673</td>\n",
              "      <td>1673</td>\n",
              "      <td>Jet Airways</td>\n",
              "      <td>Kolkata</td>\n",
              "      <td>Banglore</td>\n",
              "      <td>16:30</td>\n",
              "      <td>20:45 13 May</td>\n",
              "      <td>1 stop</td>\n",
              "      <td>10844</td>\n",
              "    </tr>\n",
              "  </tbody>\n",
              "</table>\n",
              "<p>1674 rows × 9 columns</p>\n",
              "</div>"
            ],
            "text/plain": [
              "      Unnamed: 0  Unnamed: 0.1  ... Total_Stops  Price\n",
              "0              0             0  ...    non-stop   7229\n",
              "1              1             1  ...      1 stop   7485\n",
              "2              2             2  ...    non-stop   4823\n",
              "3              3             3  ...     2 stops  14641\n",
              "4              4             4  ...    non-stop   3841\n",
              "...          ...           ...  ...         ...    ...\n",
              "1669        1669          1669  ...    non-stop   4423\n",
              "1670        1670          1670  ...      1 stop  10844\n",
              "1671        1671          1671  ...     2 stops  13764\n",
              "1672        1672          1672  ...      1 stop  11260\n",
              "1673        1673          1673  ...      1 stop  10844\n",
              "\n",
              "[1674 rows x 9 columns]"
            ]
          },
          "metadata": {},
          "execution_count": 14
        }
      ]
    },
    {
      "cell_type": "code",
      "metadata": {
        "id": "0Ec_JEasPQPw"
      },
      "source": [
        "def preprocess2(df):\n",
        "  df['Dep_hour']=pd.to_datetime(df['Dep_Time']).dt.hour\n",
        "  df['Dep_minute']=pd.to_datetime(df['Dep_Time']).dt.minute\n",
        "  df=df.drop(['Dep_Time'],axis=1)\n",
        "  df['arrival_hour']=pd.to_datetime(df['Arrival_Time']).dt.hour\n",
        "  df['arrival_minute']=pd.to_datetime(df['Arrival_Time']).dt.minute\n",
        "  df=df.drop(['Arrival_Time'],axis=1)\n",
        "  return df"
      ],
      "execution_count": 15,
      "outputs": []
    },
    {
      "cell_type": "code",
      "metadata": {
        "id": "gCb_Ia3yQ6pi"
      },
      "source": [
        "data=preprocess2(data)"
      ],
      "execution_count": 16,
      "outputs": []
    },
    {
      "cell_type": "code",
      "metadata": {
        "colab": {
          "base_uri": "https://localhost:8080/",
          "height": 521
        },
        "id": "P12rNwE2Q9BT",
        "outputId": "fca17e11-f65a-4094-a556-f8dbab403806"
      },
      "source": [
        "data"
      ],
      "execution_count": 17,
      "outputs": [
        {
          "output_type": "execute_result",
          "data": {
            "text/html": [
              "<div>\n",
              "<style scoped>\n",
              "    .dataframe tbody tr th:only-of-type {\n",
              "        vertical-align: middle;\n",
              "    }\n",
              "\n",
              "    .dataframe tbody tr th {\n",
              "        vertical-align: top;\n",
              "    }\n",
              "\n",
              "    .dataframe thead th {\n",
              "        text-align: right;\n",
              "    }\n",
              "</style>\n",
              "<table border=\"1\" class=\"dataframe\">\n",
              "  <thead>\n",
              "    <tr style=\"text-align: right;\">\n",
              "      <th></th>\n",
              "      <th>Unnamed: 0</th>\n",
              "      <th>Unnamed: 0.1</th>\n",
              "      <th>Airline</th>\n",
              "      <th>Source</th>\n",
              "      <th>Destination</th>\n",
              "      <th>Total_Stops</th>\n",
              "      <th>Price</th>\n",
              "      <th>Dep_hour</th>\n",
              "      <th>Dep_minute</th>\n",
              "      <th>arrival_hour</th>\n",
              "      <th>arrival_minute</th>\n",
              "    </tr>\n",
              "  </thead>\n",
              "  <tbody>\n",
              "    <tr>\n",
              "      <th>0</th>\n",
              "      <td>0</td>\n",
              "      <td>0</td>\n",
              "      <td>Jet Airways</td>\n",
              "      <td>Banglore</td>\n",
              "      <td>Delhi</td>\n",
              "      <td>non-stop</td>\n",
              "      <td>7229</td>\n",
              "      <td>18</td>\n",
              "      <td>55</td>\n",
              "      <td>22</td>\n",
              "      <td>0</td>\n",
              "    </tr>\n",
              "    <tr>\n",
              "      <th>1</th>\n",
              "      <td>1</td>\n",
              "      <td>1</td>\n",
              "      <td>Multiple carriers</td>\n",
              "      <td>Delhi</td>\n",
              "      <td>Cochin</td>\n",
              "      <td>1 stop</td>\n",
              "      <td>7485</td>\n",
              "      <td>10</td>\n",
              "      <td>20</td>\n",
              "      <td>1</td>\n",
              "      <td>30</td>\n",
              "    </tr>\n",
              "    <tr>\n",
              "      <th>2</th>\n",
              "      <td>2</td>\n",
              "      <td>2</td>\n",
              "      <td>IndiGo</td>\n",
              "      <td>Banglore</td>\n",
              "      <td>Delhi</td>\n",
              "      <td>non-stop</td>\n",
              "      <td>4823</td>\n",
              "      <td>18</td>\n",
              "      <td>55</td>\n",
              "      <td>21</td>\n",
              "      <td>50</td>\n",
              "    </tr>\n",
              "    <tr>\n",
              "      <th>3</th>\n",
              "      <td>3</td>\n",
              "      <td>3</td>\n",
              "      <td>Air India</td>\n",
              "      <td>Delhi</td>\n",
              "      <td>Cochin</td>\n",
              "      <td>2 stops</td>\n",
              "      <td>14641</td>\n",
              "      <td>5</td>\n",
              "      <td>55</td>\n",
              "      <td>7</td>\n",
              "      <td>40</td>\n",
              "    </tr>\n",
              "    <tr>\n",
              "      <th>4</th>\n",
              "      <td>4</td>\n",
              "      <td>4</td>\n",
              "      <td>SpiceJet</td>\n",
              "      <td>Kolkata</td>\n",
              "      <td>Banglore</td>\n",
              "      <td>non-stop</td>\n",
              "      <td>3841</td>\n",
              "      <td>6</td>\n",
              "      <td>55</td>\n",
              "      <td>9</td>\n",
              "      <td>30</td>\n",
              "    </tr>\n",
              "    <tr>\n",
              "      <th>...</th>\n",
              "      <td>...</td>\n",
              "      <td>...</td>\n",
              "      <td>...</td>\n",
              "      <td>...</td>\n",
              "      <td>...</td>\n",
              "      <td>...</td>\n",
              "      <td>...</td>\n",
              "      <td>...</td>\n",
              "      <td>...</td>\n",
              "      <td>...</td>\n",
              "      <td>...</td>\n",
              "    </tr>\n",
              "    <tr>\n",
              "      <th>1669</th>\n",
              "      <td>1669</td>\n",
              "      <td>1669</td>\n",
              "      <td>IndiGo</td>\n",
              "      <td>Banglore</td>\n",
              "      <td>Delhi</td>\n",
              "      <td>non-stop</td>\n",
              "      <td>4423</td>\n",
              "      <td>4</td>\n",
              "      <td>0</td>\n",
              "      <td>6</td>\n",
              "      <td>50</td>\n",
              "    </tr>\n",
              "    <tr>\n",
              "      <th>1670</th>\n",
              "      <td>1670</td>\n",
              "      <td>1670</td>\n",
              "      <td>Jet Airways</td>\n",
              "      <td>Kolkata</td>\n",
              "      <td>Banglore</td>\n",
              "      <td>1 stop</td>\n",
              "      <td>10844</td>\n",
              "      <td>8</td>\n",
              "      <td>25</td>\n",
              "      <td>18</td>\n",
              "      <td>15</td>\n",
              "    </tr>\n",
              "    <tr>\n",
              "      <th>1671</th>\n",
              "      <td>1671</td>\n",
              "      <td>1671</td>\n",
              "      <td>Jet Airways</td>\n",
              "      <td>Delhi</td>\n",
              "      <td>Cochin</td>\n",
              "      <td>2 stops</td>\n",
              "      <td>13764</td>\n",
              "      <td>19</td>\n",
              "      <td>30</td>\n",
              "      <td>12</td>\n",
              "      <td>35</td>\n",
              "    </tr>\n",
              "    <tr>\n",
              "      <th>1672</th>\n",
              "      <td>1672</td>\n",
              "      <td>1672</td>\n",
              "      <td>Air India</td>\n",
              "      <td>Delhi</td>\n",
              "      <td>Cochin</td>\n",
              "      <td>1 stop</td>\n",
              "      <td>11260</td>\n",
              "      <td>23</td>\n",
              "      <td>0</td>\n",
              "      <td>19</td>\n",
              "      <td>15</td>\n",
              "    </tr>\n",
              "    <tr>\n",
              "      <th>1673</th>\n",
              "      <td>1673</td>\n",
              "      <td>1673</td>\n",
              "      <td>Jet Airways</td>\n",
              "      <td>Kolkata</td>\n",
              "      <td>Banglore</td>\n",
              "      <td>1 stop</td>\n",
              "      <td>10844</td>\n",
              "      <td>16</td>\n",
              "      <td>30</td>\n",
              "      <td>20</td>\n",
              "      <td>45</td>\n",
              "    </tr>\n",
              "  </tbody>\n",
              "</table>\n",
              "<p>1674 rows × 11 columns</p>\n",
              "</div>"
            ],
            "text/plain": [
              "      Unnamed: 0  Unnamed: 0.1  ... arrival_hour arrival_minute\n",
              "0              0             0  ...           22              0\n",
              "1              1             1  ...            1             30\n",
              "2              2             2  ...           21             50\n",
              "3              3             3  ...            7             40\n",
              "4              4             4  ...            9             30\n",
              "...          ...           ...  ...          ...            ...\n",
              "1669        1669          1669  ...            6             50\n",
              "1670        1670          1670  ...           18             15\n",
              "1671        1671          1671  ...           12             35\n",
              "1672        1672          1672  ...           19             15\n",
              "1673        1673          1673  ...           20             45\n",
              "\n",
              "[1674 rows x 11 columns]"
            ]
          },
          "metadata": {},
          "execution_count": 17
        }
      ]
    },
    {
      "cell_type": "code",
      "metadata": {
        "id": "BmDa3TSGROHt"
      },
      "source": [
        "def countplot(x):\n",
        "  plt.figure(figsize=(12,8))\n",
        "  sns.countplot(x)\n",
        "  plt.xticks(rotation=90,fontsize=14)\n",
        "  plt.yticks(fontsize=14)\n",
        "  return plt.show()"
      ],
      "execution_count": 18,
      "outputs": []
    },
    {
      "cell_type": "markdown",
      "metadata": {
        "id": "mU27BHbdSUwI"
      },
      "source": [
        "#Countplot of Airlines"
      ]
    },
    {
      "cell_type": "code",
      "metadata": {
        "colab": {
          "base_uri": "https://localhost:8080/",
          "height": 736
        },
        "id": "lJgkNKjxRumv",
        "outputId": "a51c2562-a663-4ece-ee2e-f74a5540b3c2"
      },
      "source": [
        "countplot(data['Airline'])"
      ],
      "execution_count": 19,
      "outputs": [
        {
          "output_type": "display_data",
          "data": {
            "image/png": "[encoded data removed]",
            "text/plain": [
              "<Figure size 864x576 with 1 Axes>"
            ]
          },
          "metadata": {
            "needs_background": "light"
          }
        }
      ]
    },
    {
      "cell_type": "markdown",
      "metadata": {
        "id": "MlTQbumBSvY_"
      },
      "source": [
        "#Obseravtion\n",
        "\n",
        "1-Mostly people use to travel with Jet Airways\n",
        "\n",
        "2-After Jet Airways people use to travel with IndiGo\n",
        "\n",
        "3-ANd GoAir has the least count why i am saying least count because Vistara,Jet Airways,MCPE,Trujet has no count "
      ]
    },
    {
      "cell_type": "markdown",
      "metadata": {
        "id": "r9bFujreSrhZ"
      },
      "source": [
        "#Countplot of Source"
      ]
    },
    {
      "cell_type": "code",
      "metadata": {
        "colab": {
          "base_uri": "https://localhost:8080/",
          "height": 549
        },
        "id": "arIilGfIR0Am",
        "outputId": "582282ff-408e-48d8-abf3-1d4cc382d9b1"
      },
      "source": [
        "countplot(data['Source'])"
      ],
      "execution_count": 20,
      "outputs": [
        {
          "output_type": "display_data",
          "data": {
            "image/png": "[encoded data removed]",
            "text/plain": [
              "<Figure size 864x576 with 1 Axes>"
            ]
          },
          "metadata": {
            "needs_background": "light"
          }
        }
      ]
    },
    {
      "cell_type": "markdown",
      "metadata": {
        "id": "svmbA8M4TXVN"
      },
      "source": [
        "#Obseravtion\n",
        "\n",
        "1-Mostly Source has delhi as high count\n",
        "\n",
        "2-after delhi kolkata has 2nd high count\n",
        "\n",
        "3-and at least chennai means very less people source is chennai "
      ]
    },
    {
      "cell_type": "markdown",
      "metadata": {
        "id": "4_Lq4kAvT6qq"
      },
      "source": [
        "#Countplot of Destination"
      ]
    },
    {
      "cell_type": "code",
      "metadata": {
        "id": "6IVpbbWeStB7",
        "colab": {
          "base_uri": "https://localhost:8080/",
          "height": 564
        },
        "outputId": "a451354d-90e1-40b6-c1e6-919554f373a6"
      },
      "source": [
        "countplot(data['Destination'])"
      ],
      "execution_count": 21,
      "outputs": [
        {
          "output_type": "display_data",
          "data": {
            "image/png": "[encoded data removed]",
            "text/plain": [
              "<Figure size 864x576 with 1 Axes>"
            ]
          },
          "metadata": {
            "needs_background": "light"
          }
        }
      ]
    },
    {
      "cell_type": "markdown",
      "metadata": {
        "id": "qSbmUAsCT9Tt"
      },
      "source": [
        "#Obseravtion\n",
        "\n",
        "1-Mostly people use to go Cochin as per the data what i have\n",
        "\n",
        "2-after Cochin people use to go to Banglore\n",
        "\n",
        "3-And very less people use to go to Kolkata"
      ]
    },
    {
      "cell_type": "markdown",
      "metadata": {
        "id": "YBzWZOlFWynZ"
      },
      "source": [
        "#Countplot of Total_Stops"
      ]
    },
    {
      "cell_type": "code",
      "metadata": {
        "id": "B2WU7Hm_T4-S",
        "colab": {
          "base_uri": "https://localhost:8080/",
          "height": 549
        },
        "outputId": "dc0c24ea-3235-454b-d857-299012704839"
      },
      "source": [
        "countplot(data['Total_Stops'])"
      ],
      "execution_count": 22,
      "outputs": [
        {
          "output_type": "display_data",
          "data": {
            "image/png": "[encoded data removed]",
            "text/plain": [
              "<Figure size 864x576 with 1 Axes>"
            ]
          },
          "metadata": {
            "needs_background": "light"
          }
        }
      ]
    },
    {
      "cell_type": "markdown",
      "metadata": {
        "id": "sI1P5pC4W2Ak"
      },
      "source": [
        "#Obseravtion\n",
        "\n",
        "1-Mostly people use to take a fligh who has only one stop \n",
        "\n",
        "2-after one stop people used to take non-stop flights\n",
        "\n",
        "3-ANd only approx 1500 people use to take 2 stop flights\n",
        "\n",
        "4-ANd there are very less people who used to take 3 stops or 4 stops flight"
      ]
    },
    {
      "cell_type": "code",
      "metadata": {
        "id": "2sxVcPZfZu5K",
        "colab": {
          "base_uri": "https://localhost:8080/",
          "height": 695
        },
        "outputId": "8ce8cfad-0d26-4ed2-880a-de8f5ec60421"
      },
      "source": [
        "plt.figure(figsize=(30,15))\n",
        "sns.barplot(x='Airline',y='Price',data=data)\n",
        "plt.xticks(rotation=90,fontsize=15)\n",
        "plt.yticks(fontsize=15)"
      ],
      "execution_count": 25,
      "outputs": [
        {
          "output_type": "execute_result",
          "data": {
            "text/plain": [
              "(array([    0., 10000., 20000., 30000., 40000., 50000., 60000., 70000.]),\n",
              " <a list of 8 Text major ticklabel objects>)"
            ]
          },
          "metadata": {},
          "execution_count": 25
        },
        {
          "output_type": "display_data",
          "data": {
            "image/png": "[encoded data removed]",
            "text/plain": [
              "<Figure size 2160x1080 with 1 Axes>"
            ]
          },
          "metadata": {
            "needs_background": "light"
          }
        }
      ]
    },
    {
      "cell_type": "markdown",
      "metadata": {
        "id": "ZjKwl_hkbZkJ"
      },
      "source": [
        "#Obseravtion\n",
        "\n",
        "1-From upper graph i can say Jet Airways Business has the highest price \n",
        "\n",
        "2-and spicejet,Indigo,GoAIr,Air Asia is cheap for travel\n",
        "\n",
        "3-Jet Airways ,Mutiple carriers,Air India have medium price nor high neither low price"
      ]
    },
    {
      "cell_type": "code",
      "metadata": {
        "id": "7IppXC7CcXnb",
        "colab": {
          "base_uri": "https://localhost:8080/",
          "height": 521
        },
        "outputId": "a2bc8e78-1f41-4401-ab34-0cf6de4feac9"
      },
      "source": [
        "data"
      ],
      "execution_count": 26,
      "outputs": [
        {
          "output_type": "execute_result",
          "data": {
            "text/html": [
              "<div>\n",
              "<style scoped>\n",
              "    .dataframe tbody tr th:only-of-type {\n",
              "        vertical-align: middle;\n",
              "    }\n",
              "\n",
              "    .dataframe tbody tr th {\n",
              "        vertical-align: top;\n",
              "    }\n",
              "\n",
              "    .dataframe thead th {\n",
              "        text-align: right;\n",
              "    }\n",
              "</style>\n",
              "<table border=\"1\" class=\"dataframe\">\n",
              "  <thead>\n",
              "    <tr style=\"text-align: right;\">\n",
              "      <th></th>\n",
              "      <th>Unnamed: 0</th>\n",
              "      <th>Unnamed: 0.1</th>\n",
              "      <th>Airline</th>\n",
              "      <th>Source</th>\n",
              "      <th>Destination</th>\n",
              "      <th>Total_Stops</th>\n",
              "      <th>Price</th>\n",
              "      <th>Dep_hour</th>\n",
              "      <th>Dep_minute</th>\n",
              "      <th>arrival_hour</th>\n",
              "      <th>arrival_minute</th>\n",
              "    </tr>\n",
              "  </thead>\n",
              "  <tbody>\n",
              "    <tr>\n",
              "      <th>0</th>\n",
              "      <td>0</td>\n",
              "      <td>0</td>\n",
              "      <td>Jet Airways</td>\n",
              "      <td>Banglore</td>\n",
              "      <td>Delhi</td>\n",
              "      <td>non-stop</td>\n",
              "      <td>7229</td>\n",
              "      <td>18</td>\n",
              "      <td>55</td>\n",
              "      <td>22</td>\n",
              "      <td>0</td>\n",
              "    </tr>\n",
              "    <tr>\n",
              "      <th>1</th>\n",
              "      <td>1</td>\n",
              "      <td>1</td>\n",
              "      <td>Multiple carriers</td>\n",
              "      <td>Delhi</td>\n",
              "      <td>Cochin</td>\n",
              "      <td>1 stop</td>\n",
              "      <td>7485</td>\n",
              "      <td>10</td>\n",
              "      <td>20</td>\n",
              "      <td>1</td>\n",
              "      <td>30</td>\n",
              "    </tr>\n",
              "    <tr>\n",
              "      <th>2</th>\n",
              "      <td>2</td>\n",
              "      <td>2</td>\n",
              "      <td>IndiGo</td>\n",
              "      <td>Banglore</td>\n",
              "      <td>Delhi</td>\n",
              "      <td>non-stop</td>\n",
              "      <td>4823</td>\n",
              "      <td>18</td>\n",
              "      <td>55</td>\n",
              "      <td>21</td>\n",
              "      <td>50</td>\n",
              "    </tr>\n",
              "    <tr>\n",
              "      <th>3</th>\n",
              "      <td>3</td>\n",
              "      <td>3</td>\n",
              "      <td>Air India</td>\n",
              "      <td>Delhi</td>\n",
              "      <td>Cochin</td>\n",
              "      <td>2 stops</td>\n",
              "      <td>14641</td>\n",
              "      <td>5</td>\n",
              "      <td>55</td>\n",
              "      <td>7</td>\n",
              "      <td>40</td>\n",
              "    </tr>\n",
              "    <tr>\n",
              "      <th>4</th>\n",
              "      <td>4</td>\n",
              "      <td>4</td>\n",
              "      <td>SpiceJet</td>\n",
              "      <td>Kolkata</td>\n",
              "      <td>Banglore</td>\n",
              "      <td>non-stop</td>\n",
              "      <td>3841</td>\n",
              "      <td>6</td>\n",
              "      <td>55</td>\n",
              "      <td>9</td>\n",
              "      <td>30</td>\n",
              "    </tr>\n",
              "    <tr>\n",
              "      <th>...</th>\n",
              "      <td>...</td>\n",
              "      <td>...</td>\n",
              "      <td>...</td>\n",
              "      <td>...</td>\n",
              "      <td>...</td>\n",
              "      <td>...</td>\n",
              "      <td>...</td>\n",
              "      <td>...</td>\n",
              "      <td>...</td>\n",
              "      <td>...</td>\n",
              "      <td>...</td>\n",
              "    </tr>\n",
              "    <tr>\n",
              "      <th>1669</th>\n",
              "      <td>1669</td>\n",
              "      <td>1669</td>\n",
              "      <td>IndiGo</td>\n",
              "      <td>Banglore</td>\n",
              "      <td>Delhi</td>\n",
              "      <td>non-stop</td>\n",
              "      <td>4423</td>\n",
              "      <td>4</td>\n",
              "      <td>0</td>\n",
              "      <td>6</td>\n",
              "      <td>50</td>\n",
              "    </tr>\n",
              "    <tr>\n",
              "      <th>1670</th>\n",
              "      <td>1670</td>\n",
              "      <td>1670</td>\n",
              "      <td>Jet Airways</td>\n",
              "      <td>Kolkata</td>\n",
              "      <td>Banglore</td>\n",
              "      <td>1 stop</td>\n",
              "      <td>10844</td>\n",
              "      <td>8</td>\n",
              "      <td>25</td>\n",
              "      <td>18</td>\n",
              "      <td>15</td>\n",
              "    </tr>\n",
              "    <tr>\n",
              "      <th>1671</th>\n",
              "      <td>1671</td>\n",
              "      <td>1671</td>\n",
              "      <td>Jet Airways</td>\n",
              "      <td>Delhi</td>\n",
              "      <td>Cochin</td>\n",
              "      <td>2 stops</td>\n",
              "      <td>13764</td>\n",
              "      <td>19</td>\n",
              "      <td>30</td>\n",
              "      <td>12</td>\n",
              "      <td>35</td>\n",
              "    </tr>\n",
              "    <tr>\n",
              "      <th>1672</th>\n",
              "      <td>1672</td>\n",
              "      <td>1672</td>\n",
              "      <td>Air India</td>\n",
              "      <td>Delhi</td>\n",
              "      <td>Cochin</td>\n",
              "      <td>1 stop</td>\n",
              "      <td>11260</td>\n",
              "      <td>23</td>\n",
              "      <td>0</td>\n",
              "      <td>19</td>\n",
              "      <td>15</td>\n",
              "    </tr>\n",
              "    <tr>\n",
              "      <th>1673</th>\n",
              "      <td>1673</td>\n",
              "      <td>1673</td>\n",
              "      <td>Jet Airways</td>\n",
              "      <td>Kolkata</td>\n",
              "      <td>Banglore</td>\n",
              "      <td>1 stop</td>\n",
              "      <td>10844</td>\n",
              "      <td>16</td>\n",
              "      <td>30</td>\n",
              "      <td>20</td>\n",
              "      <td>45</td>\n",
              "    </tr>\n",
              "  </tbody>\n",
              "</table>\n",
              "<p>1674 rows × 11 columns</p>\n",
              "</div>"
            ],
            "text/plain": [
              "      Unnamed: 0  Unnamed: 0.1  ... arrival_hour arrival_minute\n",
              "0              0             0  ...           22              0\n",
              "1              1             1  ...            1             30\n",
              "2              2             2  ...           21             50\n",
              "3              3             3  ...            7             40\n",
              "4              4             4  ...            9             30\n",
              "...          ...           ...  ...          ...            ...\n",
              "1669        1669          1669  ...            6             50\n",
              "1670        1670          1670  ...           18             15\n",
              "1671        1671          1671  ...           12             35\n",
              "1672        1672          1672  ...           19             15\n",
              "1673        1673          1673  ...           20             45\n",
              "\n",
              "[1674 rows x 11 columns]"
            ]
          },
          "metadata": {},
          "execution_count": 26
        }
      ]
    },
    {
      "cell_type": "markdown",
      "metadata": {
        "id": "VF_edJ6JPCmG"
      },
      "source": [
        "#Feature Transformation"
      ]
    },
    {
      "cell_type": "code",
      "metadata": {
        "id": "k3TUfJJFdneT"
      },
      "source": [
        "oe=OrdinalEncoder()\n",
        "def ordinal_encoder(df,col):\n",
        "  df[col]=oe.fit_transform(df[col])\n",
        "  return df"
      ],
      "execution_count": 27,
      "outputs": []
    },
    {
      "cell_type": "markdown",
      "metadata": {
        "id": "kiPhtkCLO17P"
      },
      "source": [
        "**USing ordinal encoder because i have features who have values in order**"
      ]
    },
    {
      "cell_type": "code",
      "metadata": {
        "id": "8oiPhk7od1qm"
      },
      "source": [
        "data=ordinal_encoder(data,['Airline','Source','Destination','Total_Stops'])"
      ],
      "execution_count": 28,
      "outputs": []
    },
    {
      "cell_type": "markdown",
      "metadata": {
        "id": "Cq2yFVRNPHmr"
      },
      "source": [
        "#Spliting data into dependent and independent variable"
      ]
    },
    {
      "cell_type": "code",
      "metadata": {
        "id": "KRo6u0oJdZXI"
      },
      "source": [
        "def preprocess3(df):\n",
        "  df=df.copy()\n",
        "  X=df.drop(['Price'],axis=1)\n",
        "  y=df['Price']\n",
        "  return X,y"
      ],
      "execution_count": 29,
      "outputs": []
    },
    {
      "cell_type": "code",
      "metadata": {
        "id": "tmiIvKIOeNfK"
      },
      "source": [
        "X,y=preprocess3(data)"
      ],
      "execution_count": 30,
      "outputs": []
    },
    {
      "cell_type": "code",
      "metadata": {
        "id": "RZNg6zC8bIwb"
      },
      "source": [
        "X.drop(['Unnamed: 0','Unnamed: 0.1'],axis=1,inplace=True)"
      ],
      "execution_count": 36,
      "outputs": []
    },
    {
      "cell_type": "code",
      "metadata": {
        "id": "uqKtPT3YfD4d"
      },
      "source": [
        "X_train,X_test,y_train,y_test=train_test_split(X,np.log(y),test_size=0.3,random_state=42)"
      ],
      "execution_count": 37,
      "outputs": []
    },
    {
      "cell_type": "code",
      "metadata": {
        "colab": {
          "base_uri": "https://localhost:8080/",
          "height": 505
        },
        "id": "9O-TcL8mH053",
        "outputId": "1e1f8825-d6ed-4122-c84a-6186fe2eec97"
      },
      "source": [
        "X_corr=X.corr()\n",
        "plt.figure(figsize=(12,8))\n",
        "sns.heatmap(X_corr,annot=True)"
      ],
      "execution_count": 38,
      "outputs": [
        {
          "output_type": "execute_result",
          "data": {
            "text/plain": [
              "<matplotlib.axes._subplots.AxesSubplot at 0x7f4a9df0a050>"
            ]
          },
          "metadata": {},
          "execution_count": 38
        },
        {
          "output_type": "display_data",
          "data": {
            "image/png": "[encoded data removed]",
            "text/plain": [
              "<Figure size 864x576 with 2 Axes>"
            ]
          },
          "metadata": {
            "needs_background": "light"
          }
        }
      ]
    },
    {
      "cell_type": "markdown",
      "metadata": {
        "id": "GHwLYO6kIkwv"
      },
      "source": [
        "#Obseravtion\n",
        "\n",
        "from upper graph i can say most of teh columns are having less correlation because most of every column is categorical and through this correlation we can only find correlation with numerical data"
      ]
    },
    {
      "cell_type": "markdown",
      "metadata": {
        "id": "xYGJbtLSOwmp"
      },
      "source": [
        "#Checking Outliers"
      ]
    },
    {
      "cell_type": "code",
      "metadata": {
        "colab": {
          "base_uri": "https://localhost:8080/",
          "height": 458
        },
        "id": "fEQ9m1UFIXn5",
        "outputId": "74ed95f9-000e-42d2-898c-c81de1aae668"
      },
      "source": [
        "X_val=X.columns.values\n",
        "plt.figure(figsize=(12,20))\n",
        "for i in range(len(X_val)):\n",
        "  plt.subplot(10,3,i+1)\n",
        "  sns.boxplot(X[X_val[i]])\n",
        "  plt.tight_layout()"
      ],
      "execution_count": 39,
      "outputs": [
        {
          "output_type": "display_data",
          "data": {
            "image/png": "[encoded data removed]",
            "text/plain": [
              "<Figure size 864x1440 with 8 Axes>"
            ]
          },
          "metadata": {
            "needs_background": "light"
          }
        }
      ]
    },
    {
      "cell_type": "markdown",
      "metadata": {
        "id": "no9SiS8xJH3a"
      },
      "source": [
        "#Obseravtion\n",
        "\n",
        "there is no outliers becaise every column is categorical we dont have any continuous column in X"
      ]
    },
    {
      "cell_type": "markdown",
      "metadata": {
        "id": "w5wzxRfSOuRC"
      },
      "source": [
        "#Checking SKewness"
      ]
    },
    {
      "cell_type": "code",
      "metadata": {
        "colab": {
          "base_uri": "https://localhost:8080/"
        },
        "id": "FymVau7fJFLU",
        "outputId": "b4278c22-6a1b-4480-a667-5e6954ff5f35"
      },
      "source": [
        "X.skew()"
      ],
      "execution_count": 40,
      "outputs": [
        {
          "output_type": "execute_result",
          "data": {
            "text/plain": [
              "Airline           0.511883\n",
              "Source           -0.480290\n",
              "Destination       1.311241\n",
              "Total_Stops       0.643756\n",
              "Dep_hour          0.194887\n",
              "Dep_minute        0.183776\n",
              "arrival_hour     -0.420247\n",
              "arrival_minute    0.158993\n",
              "dtype: float64"
            ]
          },
          "metadata": {},
          "execution_count": 40
        }
      ]
    },
    {
      "cell_type": "markdown",
      "metadata": {
        "id": "zUC65o82JeXG"
      },
      "source": [
        "#Obseravtion\n",
        "There is no skewness because every column is categorical we dont remove skewness of categorical column "
      ]
    },
    {
      "cell_type": "markdown",
      "metadata": {
        "id": "-5dRWsocPRqm"
      },
      "source": [
        "#NOTE--\n",
        "\n",
        "I am not using scaling my features because i am not having any continuous feature in X means in independent feature so my every feature is categorical so no need to scale the features"
      ]
    },
    {
      "cell_type": "markdown",
      "metadata": {
        "id": "dWeQTCxwOrWi"
      },
      "source": [
        "#Training Multiple models"
      ]
    },
    {
      "cell_type": "code",
      "metadata": {
        "id": "Vjrh5KrcJb47"
      },
      "source": [
        "models={\n",
        "    \"XGB Regressor\":XGBRegressor(),\n",
        "    \"ExtraTrees Regressor\":ExtraTreesRegressor(),\n",
        "    \"RandomForest Regressor\":RandomForestRegressor(),\n",
        "    \"Linear Regression\":LinearRegression(),\n",
        "    \"DecisionTree Regressor\":DecisionTreeRegressor(),\n",
        "    \"Lasso\":Lasso(),\n",
        "    \"LIGHT GBM\":LGBMRegressor()\n",
        "}"
      ],
      "execution_count": 41,
      "outputs": []
    },
    {
      "cell_type": "code",
      "metadata": {
        "colab": {
          "base_uri": "https://localhost:8080/",
          "height": 1000
        },
        "id": "9Gi071xsKDQY",
        "outputId": "40496a0a-8827-49d0-94b3-3ef4b8fdbbe5"
      },
      "source": [
        "CVS=[]\n",
        "R2=[]\n",
        "MSE=[]\n",
        "MAE=[]\n",
        "RMSE=[]\n",
        "NAME=[]\n",
        "kf=KFold(n_splits=5,shuffle=True)\n",
        "for name, model in models.items():\n",
        "  font=pyfiglet.figlet_format(name)\n",
        "  print(font)\n",
        "  NAME.append(name)\n",
        "  model.fit(X_train,y_train)\n",
        "  y_pred=model.predict(X_test)\n",
        "  mse=mean_squared_error(y_test,y_pred)\n",
        "  MSE.append(mse)\n",
        "  print(\"MEAN SQUARED ERROR\",mse)\n",
        "  mae=mean_absolute_error(y_test,y_pred)\n",
        "  MAE.append(mae)\n",
        "  print('\\n')\n",
        "  print(\"MEAN ABSOLUTE ERROR\",mae)\n",
        "  cvs=cross_val_score(model,X,np.log(y),scoring='r2',cv=kf).mean()\n",
        "  CVS.append(cvs)\n",
        "  print('\\n')\n",
        "  print(\"CVS_SCORE\",cvs)\n",
        "  r2=r2_score(y_test,y_pred)\n",
        "  R2.append(r2)\n",
        "  print('\\n')\n",
        "  print(\"R2_SCORE\",r2)\n",
        "  rmse=np.sqrt(mse)\n",
        "  RMSE.append(rmse)\n",
        "  print('\\n')\n",
        "  print(\"RMSE\",rmse)\n",
        "  print('\\n')\n",
        "  print('MODEL PERFORMANCE CURVE')\n",
        "  skplt.estimators.plot_learning_curve(model,X,np.log(y),cv=kf,scoring='r2',title=name,text_fontsize='large')\n",
        "  plt.show()"
      ],
      "execution_count": 42,
      "outputs": [
        {
          "output_type": "stream",
          "name": "stdout",
          "text": [
            "__  ______ ____    ____                                         \n",
            "\\ \\/ / ___| __ )  |  _ \\ ___  __ _ _ __ ___  ___ ___  ___  _ __ \n",
            " \\  / |  _|  _ \\  | |_) / _ \\/ _` | '__/ _ \\/ __/ __|/ _ \\| '__|\n",
            " /  \\ |_| | |_) | |  _ <  __/ (_| | | |  __/\\__ \\__ \\ (_) | |   \n",
            "/_/\\_\\____|____/  |_| \\_\\___|\\__, |_|  \\___||___/___/\\___/|_|   \n",
            "                             |___/                              \n",
            "\n",
            "[07:46:56] WARNING: /workspace/src/objective/regression_obj.cu:152: reg:linear is now deprecated in favor of reg:squarederror.\n",
            "MEAN SQUARED ERROR 0.06808026645515229\n",
            "\n",
            "\n",
            "MEAN ABSOLUTE ERROR 0.19714117663333494\n",
            "[07:46:56] WARNING: /workspace/src/objective/regression_obj.cu:152: reg:linear is now deprecated in favor of reg:squarederror.\n",
            "[07:46:56] WARNING: /workspace/src/objective/regression_obj.cu:152: reg:linear is now deprecated in favor of reg:squarederror.\n",
            "[07:46:56] WARNING: /workspace/src/objective/regression_obj.cu:152: reg:linear is now deprecated in favor of reg:squarederror.\n",
            "[07:46:56] WARNING: /workspace/src/objective/regression_obj.cu:152: reg:linear is now deprecated in favor of reg:squarederror.\n",
            "[07:46:57] WARNING: /workspace/src/objective/regression_obj.cu:152: reg:linear is now deprecated in favor of reg:squarederror.\n",
            "\n",
            "\n",
            "CVS_SCORE 0.7192944044512943\n",
            "\n",
            "\n",
            "R2_SCORE 0.7289818354763424\n",
            "\n",
            "\n",
            "RMSE 0.26092195472047247\n",
            "\n",
            "\n",
            "MODEL PERFORMANCE CURVE\n",
            "[07:46:57] WARNING: /workspace/src/objective/regression_obj.cu:152: reg:linear is now deprecated in favor of reg:squarederror.\n",
            "[07:46:57] WARNING: /workspace/src/objective/regression_obj.cu:152: reg:linear is now deprecated in favor of reg:squarederror.\n",
            "[07:46:57] WARNING: /workspace/src/objective/regression_obj.cu:152: reg:linear is now deprecated in favor of reg:squarederror.\n",
            "[07:46:57] WARNING: /workspace/src/objective/regression_obj.cu:152: reg:linear is now deprecated in favor of reg:squarederror.\n",
            "[07:46:57] WARNING: /workspace/src/objective/regression_obj.cu:152: reg:linear is now deprecated in favor of reg:squarederror.\n",
            "[07:46:57] WARNING: /workspace/src/objective/regression_obj.cu:152: reg:linear is now deprecated in favor of reg:squarederror.\n",
            "[07:46:57] WARNING: /workspace/src/objective/regression_obj.cu:152: reg:linear is now deprecated in favor of reg:squarederror.\n",
            "[07:46:57] WARNING: /workspace/src/objective/regression_obj.cu:152: reg:linear is now deprecated in favor of reg:squarederror.\n",
            "[07:46:57] WARNING: /workspace/src/objective/regression_obj.cu:152: reg:linear is now deprecated in favor of reg:squarederror.\n",
            "[07:46:57] WARNING: /workspace/src/objective/regression_obj.cu:152: reg:linear is now deprecated in favor of reg:squarederror.\n",
            "[07:46:57] WARNING: /workspace/src/objective/regression_obj.cu:152: reg:linear is now deprecated in favor of reg:squarederror.\n",
            "[07:46:57] WARNING: /workspace/src/objective/regression_obj.cu:152: reg:linear is now deprecated in favor of reg:squarederror.\n",
            "[07:46:57] WARNING: /workspace/src/objective/regression_obj.cu:152: reg:linear is now deprecated in favor of reg:squarederror.\n",
            "[07:46:57] WARNING: /workspace/src/objective/regression_obj.cu:152: reg:linear is now deprecated in favor of reg:squarederror.\n",
            "[07:46:57] WARNING: /workspace/src/objective/regression_obj.cu:152: reg:linear is now deprecated in favor of reg:squarederror.\n",
            "[07:46:57] WARNING: /workspace/src/objective/regression_obj.cu:152: reg:linear is now deprecated in favor of reg:squarederror.\n",
            "[07:46:57] WARNING: /workspace/src/objective/regression_obj.cu:152: reg:linear is now deprecated in favor of reg:squarederror.\n",
            "[07:46:57] WARNING: /workspace/src/objective/regression_obj.cu:152: reg:linear is now deprecated in favor of reg:squarederror.\n",
            "[07:46:57] WARNING: /workspace/src/objective/regression_obj.cu:152: reg:linear is now deprecated in favor of reg:squarederror.\n",
            "[07:46:58] WARNING: /workspace/src/objective/regression_obj.cu:152: reg:linear is now deprecated in favor of reg:squarederror.\n",
            "[07:46:58] WARNING: /workspace/src/objective/regression_obj.cu:152: reg:linear is now deprecated in favor of reg:squarederror.\n",
            "[07:46:58] WARNING: /workspace/src/objective/regression_obj.cu:152: reg:linear is now deprecated in favor of reg:squarederror.\n",
            "[07:46:58] WARNING: /workspace/src/objective/regression_obj.cu:152: reg:linear is now deprecated in favor of reg:squarederror.\n",
            "[07:46:58] WARNING: /workspace/src/objective/regression_obj.cu:152: reg:linear is now deprecated in favor of reg:squarederror.\n",
            "[07:46:58] WARNING: /workspace/src/objective/regression_obj.cu:152: reg:linear is now deprecated in favor of reg:squarederror.\n"
          ]
        },
        {
          "output_type": "display_data",
          "data": {
            "image/png": "[encoded data removed]",
            "text/plain": [
              "<Figure size 432x288 with 1 Axes>"
            ]
          },
          "metadata": {
            "needs_background": "light"
          }
        },
        {
          "output_type": "stream",
          "name": "stdout",
          "text": [
            " _____      _            _____                   \n",
            "| ____|_  _| |_ _ __ __ |_   _| __ ___  ___  ___ \n",
            "|  _| \\ \\/ / __| '__/ _` || || '__/ _ \\/ _ \\/ __|\n",
            "| |___ >  <| |_| | | (_| || || | |  __/  __/\\__ \\\n",
            "|_____/_/\\_\\\\__|_|  \\__,_||_||_|  \\___|\\___||___/\n",
            "                                                 \n",
            " ____                                         \n",
            "|  _ \\ ___  __ _ _ __ ___  ___ ___  ___  _ __ \n",
            "| |_) / _ \\/ _` | '__/ _ \\/ __/ __|/ _ \\| '__|\n",
            "|  _ <  __/ (_| | | |  __/\\__ \\__ \\ (_) | |   \n",
            "|_| \\_\\___|\\__, |_|  \\___||___/___/\\___/|_|   \n",
            "           |___/                              \n",
            "\n",
            "MEAN SQUARED ERROR 0.07885886778803769\n",
            "\n",
            "\n",
            "MEAN ABSOLUTE ERROR 0.18409744420577856\n",
            "\n",
            "\n",
            "CVS_SCORE 0.692416708629543\n",
            "\n",
            "\n",
            "R2_SCORE 0.6860737080339332\n",
            "\n",
            "\n",
            "RMSE 0.28081821128274015\n",
            "\n",
            "\n",
            "MODEL PERFORMANCE CURVE\n"
          ]
        },
        {
          "output_type": "display_data",
          "data": {
            "image/png": "[encoded data removed]",
            "text/plain": [
              "<Figure size 432x288 with 1 Axes>"
            ]
          },
          "metadata": {
            "needs_background": "light"
          }
        },
        {
          "output_type": "stream",
          "name": "stdout",
          "text": [
            " ____                 _                 _____                   _   \n",
            "|  _ \\ __ _ _ __   __| | ___  _ __ ___ |  ___|__  _ __ ___  ___| |_ \n",
            "| |_) / _` | '_ \\ / _` |/ _ \\| '_ ` _ \\| |_ / _ \\| '__/ _ \\/ __| __|\n",
            "|  _ < (_| | | | | (_| | (_) | | | | | |  _| (_) | | |  __/\\__ \\ |_ \n",
            "|_| \\_\\__,_|_| |_|\\__,_|\\___/|_| |_| |_|_|  \\___/|_|  \\___||___/\\__|\n",
            "                                                                    \n",
            " ____                                         \n",
            "|  _ \\ ___  __ _ _ __ ___  ___ ___  ___  _ __ \n",
            "| |_) / _ \\/ _` | '__/ _ \\/ __/ __|/ _ \\| '__|\n",
            "|  _ <  __/ (_| | | |  __/\\__ \\__ \\ (_) | |   \n",
            "|_| \\_\\___|\\__, |_|  \\___||___/___/\\___/|_|   \n",
            "           |___/                              \n",
            "\n",
            "MEAN SQUARED ERROR 0.06573693111520763\n",
            "\n",
            "\n",
            "MEAN ABSOLUTE ERROR 0.1782409177392601\n",
            "\n",
            "\n",
            "CVS_SCORE 0.7145080405626723\n",
            "\n",
            "\n",
            "R2_SCORE 0.7383103307329464\n",
            "\n",
            "\n",
            "RMSE 0.2563921432400136\n",
            "\n",
            "\n",
            "MODEL PERFORMANCE CURVE\n"
          ]
        },
        {
          "output_type": "display_data",
          "data": {
            "image/png": "[encoded data removed]",
            "text/plain": [
              "<Figure size 432x288 with 1 Axes>"
            ]
          },
          "metadata": {
            "needs_background": "light"
          }
        },
        {
          "output_type": "stream",
          "name": "stdout",
          "text": [
            " _     _                       \n",
            "| |   (_)_ __   ___  __ _ _ __ \n",
            "| |   | | '_ \\ / _ \\/ _` | '__|\n",
            "| |___| | | | |  __/ (_| | |   \n",
            "|_____|_|_| |_|\\___|\\__,_|_|   \n",
            "                               \n",
            " ____                              _             \n",
            "|  _ \\ ___  __ _ _ __ ___  ___ ___(_) ___  _ __  \n",
            "| |_) / _ \\/ _` | '__/ _ \\/ __/ __| |/ _ \\| '_ \\ \n",
            "|  _ <  __/ (_| | | |  __/\\__ \\__ \\ | (_) | | | |\n",
            "|_| \\_\\___|\\__, |_|  \\___||___/___/_|\\___/|_| |_|\n",
            "           |___/                                 \n",
            "\n",
            "MEAN SQUARED ERROR 0.1450343456720914\n",
            "\n",
            "\n",
            "MEAN ABSOLUTE ERROR 0.31072677462294696\n",
            "\n",
            "\n",
            "CVS_SCORE 0.4450997009085321\n",
            "\n",
            "\n",
            "R2_SCORE 0.42263824447818177\n",
            "\n",
            "\n",
            "RMSE 0.38083375069981834\n",
            "\n",
            "\n",
            "MODEL PERFORMANCE CURVE\n"
          ]
        },
        {
          "output_type": "display_data",
          "data": {
            "image/png": "[encoded data removed]",
            "text/plain": [
              "<Figure size 432x288 with 1 Axes>"
            ]
          },
          "metadata": {
            "needs_background": "light"
          }
        },
        {
          "output_type": "stream",
          "name": "stdout",
          "text": [
            " ____            _     _           _____              \n",
            "|  _ \\  ___  ___(_)___(_) ___  _ _|_   _| __ ___  ___ \n",
            "| | | |/ _ \\/ __| / __| |/ _ \\| '_ \\| || '__/ _ \\/ _ \\\n",
            "| |_| |  __/ (__| \\__ \\ | (_) | | | | || | |  __/  __/\n",
            "|____/ \\___|\\___|_|___/_|\\___/|_| |_|_||_|  \\___|\\___|\n",
            "                                                      \n",
            " ____                                         \n",
            "|  _ \\ ___  __ _ _ __ ___  ___ ___  ___  _ __ \n",
            "| |_) / _ \\/ _` | '__/ _ \\/ __/ __|/ _ \\| '__|\n",
            "|  _ <  __/ (_| | | |  __/\\__ \\__ \\ (_) | |   \n",
            "|_| \\_\\___|\\__, |_|  \\___||___/___/\\___/|_|   \n",
            "           |___/                              \n",
            "\n",
            "MEAN SQUARED ERROR 0.09943908935253523\n",
            "\n",
            "\n",
            "MEAN ABSOLUTE ERROR 0.2068527169331664\n",
            "\n",
            "\n",
            "CVS_SCORE 0.63754306899584\n",
            "\n",
            "\n",
            "R2_SCORE 0.6041466803602893\n",
            "\n",
            "\n",
            "RMSE 0.31533964126404285\n",
            "\n",
            "\n",
            "MODEL PERFORMANCE CURVE\n"
          ]
        },
        {
          "output_type": "display_data",
          "data": {
            "image/png": "[encoded data removed]",
            "text/plain": [
              "<Figure size 432x288 with 1 Axes>"
            ]
          },
          "metadata": {
            "needs_background": "light"
          }
        },
        {
          "output_type": "stream",
          "name": "stdout",
          "text": [
            " _                        \n",
            "| |    __ _ ___ ___  ___  \n",
            "| |   / _` / __/ __|/ _ \\ \n",
            "| |__| (_| \\__ \\__ \\ (_) |\n",
            "|_____\\__,_|___/___/\\___/ \n",
            "                          \n",
            "\n",
            "MEAN SQUARED ERROR 0.25219223792388173\n",
            "\n",
            "\n",
            "MEAN ABSOLUTE ERROR 0.42147797609076587\n",
            "\n",
            "\n",
            "CVS_SCORE -0.006818714251773361\n",
            "\n",
            "\n",
            "R2_SCORE -0.003942566444984363\n",
            "\n",
            "\n",
            "RMSE 0.502187452973371\n",
            "\n",
            "\n",
            "MODEL PERFORMANCE CURVE\n"
          ]
        },
        {
          "output_type": "display_data",
          "data": {
            "image/png": "[encoded data removed]",
            "text/plain": [
              "<Figure size 432x288 with 1 Axes>"
            ]
          },
          "metadata": {
            "needs_background": "light"
          }
        },
        {
          "output_type": "stream",
          "name": "stdout",
          "text": [
            " _     ___ ____ _   _ _____    ____ ____  __  __ \n",
            "| |   |_ _/ ___| | | |_   _|  / ___| __ )|  \\/  |\n",
            "| |    | | |  _| |_| | | |   | |  _|  _ \\| |\\/| |\n",
            "| |___ | | |_| |  _  | | |   | |_| | |_) | |  | |\n",
            "|_____|___\\____|_| |_| |_|    \\____|____/|_|  |_|\n",
            "                                                 \n",
            "\n",
            "MEAN SQUARED ERROR 0.06780527033441756\n",
            "\n",
            "\n",
            "MEAN ABSOLUTE ERROR 0.18596436927896234\n",
            "\n",
            "\n",
            "CVS_SCORE 0.7212962482958633\n",
            "\n",
            "\n",
            "R2_SCORE 0.730076557159633\n",
            "\n",
            "\n",
            "RMSE 0.2603944514278627\n",
            "\n",
            "\n",
            "MODEL PERFORMANCE CURVE\n"
          ]
        },
        {
          "output_type": "display_data",
          "data": {
            "image/png": "[encoded data removed]",
            "text/plain": [
              "<Figure size 432x288 with 1 Axes>"
            ]
          },
          "metadata": {
            "needs_background": "light"
          }
        }
      ]
    },
    {
      "cell_type": "code",
      "metadata": {
        "id": "FVaBMZxmKH-u"
      },
      "source": [
        "models_result=pd.DataFrame({\n",
        "    \"NAME\":NAME,\n",
        "    \"Cross_Val_Score\":CVS,\n",
        "    \"R2_score\":R2,\n",
        "    \"Mean_squared_error\":MSE,\n",
        "    \"Mean_Absolute_Error\":MAE,\n",
        "    \"RMSE\":RMSE\n",
        "})"
      ],
      "execution_count": 43,
      "outputs": []
    },
    {
      "cell_type": "code",
      "metadata": {
        "colab": {
          "base_uri": "https://localhost:8080/",
          "height": 266
        },
        "id": "lkPzI3r1LL6I",
        "outputId": "4d8c523a-4b67-4c17-82ed-614a296ea75f"
      },
      "source": [
        "models_result"
      ],
      "execution_count": 44,
      "outputs": [
        {
          "output_type": "execute_result",
          "data": {
            "text/html": [
              "<div>\n",
              "<style scoped>\n",
              "    .dataframe tbody tr th:only-of-type {\n",
              "        vertical-align: middle;\n",
              "    }\n",
              "\n",
              "    .dataframe tbody tr th {\n",
              "        vertical-align: top;\n",
              "    }\n",
              "\n",
              "    .dataframe thead th {\n",
              "        text-align: right;\n",
              "    }\n",
              "</style>\n",
              "<table border=\"1\" class=\"dataframe\">\n",
              "  <thead>\n",
              "    <tr style=\"text-align: right;\">\n",
              "      <th></th>\n",
              "      <th>NAME</th>\n",
              "      <th>Cross_Val_Score</th>\n",
              "      <th>R2_score</th>\n",
              "      <th>Mean_squared_error</th>\n",
              "      <th>Mean_Absolute_Error</th>\n",
              "      <th>RMSE</th>\n",
              "    </tr>\n",
              "  </thead>\n",
              "  <tbody>\n",
              "    <tr>\n",
              "      <th>0</th>\n",
              "      <td>XGB Regressor</td>\n",
              "      <td>0.719294</td>\n",
              "      <td>0.728982</td>\n",
              "      <td>0.068080</td>\n",
              "      <td>0.197141</td>\n",
              "      <td>0.260922</td>\n",
              "    </tr>\n",
              "    <tr>\n",
              "      <th>1</th>\n",
              "      <td>ExtraTrees Regressor</td>\n",
              "      <td>0.692417</td>\n",
              "      <td>0.686074</td>\n",
              "      <td>0.078859</td>\n",
              "      <td>0.184097</td>\n",
              "      <td>0.280818</td>\n",
              "    </tr>\n",
              "    <tr>\n",
              "      <th>2</th>\n",
              "      <td>RandomForest Regressor</td>\n",
              "      <td>0.714508</td>\n",
              "      <td>0.738310</td>\n",
              "      <td>0.065737</td>\n",
              "      <td>0.178241</td>\n",
              "      <td>0.256392</td>\n",
              "    </tr>\n",
              "    <tr>\n",
              "      <th>3</th>\n",
              "      <td>Linear Regression</td>\n",
              "      <td>0.445100</td>\n",
              "      <td>0.422638</td>\n",
              "      <td>0.145034</td>\n",
              "      <td>0.310727</td>\n",
              "      <td>0.380834</td>\n",
              "    </tr>\n",
              "    <tr>\n",
              "      <th>4</th>\n",
              "      <td>DecisionTree Regressor</td>\n",
              "      <td>0.637543</td>\n",
              "      <td>0.604147</td>\n",
              "      <td>0.099439</td>\n",
              "      <td>0.206853</td>\n",
              "      <td>0.315340</td>\n",
              "    </tr>\n",
              "    <tr>\n",
              "      <th>5</th>\n",
              "      <td>Lasso</td>\n",
              "      <td>-0.006819</td>\n",
              "      <td>-0.003943</td>\n",
              "      <td>0.252192</td>\n",
              "      <td>0.421478</td>\n",
              "      <td>0.502187</td>\n",
              "    </tr>\n",
              "    <tr>\n",
              "      <th>6</th>\n",
              "      <td>LIGHT GBM</td>\n",
              "      <td>0.721296</td>\n",
              "      <td>0.730077</td>\n",
              "      <td>0.067805</td>\n",
              "      <td>0.185964</td>\n",
              "      <td>0.260394</td>\n",
              "    </tr>\n",
              "  </tbody>\n",
              "</table>\n",
              "</div>"
            ],
            "text/plain": [
              "                     NAME  Cross_Val_Score  ...  Mean_Absolute_Error      RMSE\n",
              "0           XGB Regressor         0.719294  ...             0.197141  0.260922\n",
              "1    ExtraTrees Regressor         0.692417  ...             0.184097  0.280818\n",
              "2  RandomForest Regressor         0.714508  ...             0.178241  0.256392\n",
              "3       Linear Regression         0.445100  ...             0.310727  0.380834\n",
              "4  DecisionTree Regressor         0.637543  ...             0.206853  0.315340\n",
              "5                   Lasso        -0.006819  ...             0.421478  0.502187\n",
              "6               LIGHT GBM         0.721296  ...             0.185964  0.260394\n",
              "\n",
              "[7 rows x 6 columns]"
            ]
          },
          "metadata": {},
          "execution_count": 44
        }
      ]
    },
    {
      "cell_type": "markdown",
      "metadata": {
        "id": "upgvMubpOfU6"
      },
      "source": [
        "**I will do hyperparameter Tuning of XGB because it is giving me good CVS and 72% R2 SCore**"
      ]
    },
    {
      "cell_type": "code",
      "metadata": {
        "id": "cI2kOKjeOI6Z"
      },
      "source": [
        "XGB=XGBRegressor()"
      ],
      "execution_count": 45,
      "outputs": []
    },
    {
      "cell_type": "code",
      "metadata": {
        "colab": {
          "base_uri": "https://localhost:8080/"
        },
        "id": "sIvuvm9_fKHA",
        "outputId": "ad62f591-43c9-44e0-f8c3-61741ba21fbc"
      },
      "source": [
        "XGB.fit(X_train,y_train)"
      ],
      "execution_count": 57,
      "outputs": [
        {
          "output_type": "stream",
          "name": "stdout",
          "text": [
            "[07:53:07] WARNING: /workspace/src/objective/regression_obj.cu:152: reg:linear is now deprecated in favor of reg:squarederror.\n"
          ]
        },
        {
          "output_type": "execute_result",
          "data": {
            "text/plain": [
              "XGBRegressor(base_score=0.5, booster='gbtree', colsample_bylevel=1,\n",
              "             colsample_bynode=1, colsample_bytree=1, gamma=0,\n",
              "             importance_type='gain', learning_rate=0.1, max_delta_step=0,\n",
              "             max_depth=3, min_child_weight=1, missing=None, n_estimators=100,\n",
              "             n_jobs=1, nthread=None, objective='reg:linear', random_state=0,\n",
              "             reg_alpha=0, reg_lambda=1, scale_pos_weight=1, seed=None,\n",
              "             silent=None, subsample=1, verbosity=1)"
            ]
          },
          "metadata": {},
          "execution_count": 57
        }
      ]
    },
    {
      "cell_type": "code",
      "metadata": {
        "colab": {
          "base_uri": "https://localhost:8080/"
        },
        "id": "NLCFGyzNfOsD",
        "outputId": "9f78619a-fe35-4a5d-e639-126ada605b94"
      },
      "source": [
        "XGB.get_params()"
      ],
      "execution_count": 58,
      "outputs": [
        {
          "output_type": "execute_result",
          "data": {
            "text/plain": [
              "{'base_score': 0.5,\n",
              " 'booster': 'gbtree',\n",
              " 'colsample_bylevel': 1,\n",
              " 'colsample_bynode': 1,\n",
              " 'colsample_bytree': 1,\n",
              " 'gamma': 0,\n",
              " 'importance_type': 'gain',\n",
              " 'learning_rate': 0.1,\n",
              " 'max_delta_step': 0,\n",
              " 'max_depth': 3,\n",
              " 'min_child_weight': 1,\n",
              " 'missing': None,\n",
              " 'n_estimators': 100,\n",
              " 'n_jobs': 1,\n",
              " 'nthread': None,\n",
              " 'objective': 'reg:linear',\n",
              " 'random_state': 0,\n",
              " 'reg_alpha': 0,\n",
              " 'reg_lambda': 1,\n",
              " 'scale_pos_weight': 1,\n",
              " 'seed': None,\n",
              " 'silent': None,\n",
              " 'subsample': 1,\n",
              " 'verbosity': 1}"
            ]
          },
          "metadata": {},
          "execution_count": 58
        }
      ]
    },
    {
      "cell_type": "markdown",
      "metadata": {
        "id": "_SPzlIssPsTx"
      },
      "source": [
        "#Hyperparameter Tuning"
      ]
    },
    {
      "cell_type": "code",
      "metadata": {
        "id": "cK__s_k-Nq-M"
      },
      "source": [
        "params={\n",
        "    'booster':['gbtree','dart'],\n",
        "    'importance_type':['gain','split'],\n",
        "    'max_depth':[3,4,6,5,7],\n",
        "    'n_estimators':[100,200,500]\n",
        "}"
      ],
      "execution_count": 59,
      "outputs": []
    },
    {
      "cell_type": "code",
      "metadata": {
        "id": "S9FFTMp3OLm0",
        "colab": {
          "base_uri": "https://localhost:8080/"
        },
        "outputId": "8beb2c04-5cd0-453d-d445-63b4ada8d880"
      },
      "source": [
        "Grid=GridSearchCV(estimator=XGB,param_grid=params,cv=kf,n_jobs=-1,scoring='r2')\n",
        "Grid.fit(X,np.log(y))"
      ],
      "execution_count": 60,
      "outputs": [
        {
          "output_type": "stream",
          "name": "stdout",
          "text": [
            "[08:01:13] WARNING: /workspace/src/objective/regression_obj.cu:152: reg:linear is now deprecated in favor of reg:squarederror.\n"
          ]
        },
        {
          "output_type": "execute_result",
          "data": {
            "text/plain": [
              "GridSearchCV(cv=KFold(n_splits=5, random_state=None, shuffle=True),\n",
              "             error_score=nan,\n",
              "             estimator=XGBRegressor(base_score=0.5, booster='gbtree',\n",
              "                                    colsample_bylevel=1, colsample_bynode=1,\n",
              "                                    colsample_bytree=1, gamma=0,\n",
              "                                    importance_type='gain', learning_rate=0.1,\n",
              "                                    max_delta_step=0, max_depth=3,\n",
              "                                    min_child_weight=1, missing=None,\n",
              "                                    n_estimators=100, n_jobs=1, nthread=None,\n",
              "                                    objecti...ear', random_state=0,\n",
              "                                    reg_alpha=0, reg_lambda=1,\n",
              "                                    scale_pos_weight=1, seed=None, silent=None,\n",
              "                                    subsample=1, verbosity=1),\n",
              "             iid='deprecated', n_jobs=-1,\n",
              "             param_grid={'booster': ['gbtree', 'dart'],\n",
              "                         'importance_type': ['gain', 'split'],\n",
              "                         'max_depth': [3, 4, 6, 5, 7],\n",
              "                         'n_estimators': [100, 200, 500]},\n",
              "             pre_dispatch='2*n_jobs', refit=True, return_train_score=False,\n",
              "             scoring='r2', verbose=0)"
            ]
          },
          "metadata": {},
          "execution_count": 60
        }
      ]
    },
    {
      "cell_type": "code",
      "metadata": {
        "id": "ssQr7dilOX0T",
        "colab": {
          "base_uri": "https://localhost:8080/"
        },
        "outputId": "aa2e7a12-3cb1-4a49-f55a-2c084e283c06"
      },
      "source": [
        "Grid.best_params_"
      ],
      "execution_count": 61,
      "outputs": [
        {
          "output_type": "execute_result",
          "data": {
            "text/plain": [
              "{'booster': 'gbtree',\n",
              " 'importance_type': 'gain',\n",
              " 'max_depth': 3,\n",
              " 'n_estimators': 200}"
            ]
          },
          "metadata": {},
          "execution_count": 61
        }
      ]
    },
    {
      "cell_type": "code",
      "metadata": {
        "colab": {
          "base_uri": "https://localhost:8080/"
        },
        "id": "tYDXCAhN_A7F",
        "outputId": "77fe1eba-8320-427e-fb2f-87ba8038ffcc"
      },
      "source": [
        "Grid.best_score_"
      ],
      "execution_count": 62,
      "outputs": [
        {
          "output_type": "execute_result",
          "data": {
            "text/plain": [
              "0.7242999936925213"
            ]
          },
          "metadata": {},
          "execution_count": 62
        }
      ]
    },
    {
      "cell_type": "code",
      "metadata": {
        "id": "wbjQj2EiXZMc"
      },
      "source": [
        "XGBR=XGBRegressor(booster= 'dart',\n",
        " importance_type= 'gain',\n",
        " max_depth= 7,\n",
        " n_estimators= 200)"
      ],
      "execution_count": 63,
      "outputs": []
    },
    {
      "cell_type": "code",
      "metadata": {
        "colab": {
          "base_uri": "https://localhost:8080/"
        },
        "id": "nz4SGSErXlY5",
        "outputId": "9a51b061-93dc-4337-d15f-4be81a999306"
      },
      "source": [
        "XGBR.fit(X_train,y_train)"
      ],
      "execution_count": 64,
      "outputs": [
        {
          "output_type": "stream",
          "name": "stdout",
          "text": [
            "[08:02:02] WARNING: /workspace/src/objective/regression_obj.cu:152: reg:linear is now deprecated in favor of reg:squarederror.\n"
          ]
        },
        {
          "output_type": "execute_result",
          "data": {
            "text/plain": [
              "XGBRegressor(base_score=0.5, booster='dart', colsample_bylevel=1,\n",
              "             colsample_bynode=1, colsample_bytree=1, gamma=0,\n",
              "             importance_type='gain', learning_rate=0.1, max_delta_step=0,\n",
              "             max_depth=7, min_child_weight=1, missing=None, n_estimators=200,\n",
              "             n_jobs=1, nthread=None, objective='reg:linear', random_state=0,\n",
              "             reg_alpha=0, reg_lambda=1, scale_pos_weight=1, seed=None,\n",
              "             silent=None, subsample=1, verbosity=1)"
            ]
          },
          "metadata": {},
          "execution_count": 64
        }
      ]
    },
    {
      "cell_type": "markdown",
      "metadata": {
        "id": "jCEndNbcX4X3"
      },
      "source": [
        "#Final Model Learning Curve"
      ]
    },
    {
      "cell_type": "code",
      "metadata": {
        "colab": {
          "base_uri": "https://localhost:8080/",
          "height": 737
        },
        "id": "kPJNUC2CTvDX",
        "outputId": "1f1f0c38-5ade-4faf-a89d-1586acdbf815"
      },
      "source": [
        "print('MODEL PERFORMANCE CURVE')\n",
        "skplt.estimators.plot_learning_curve(XGBR,X,y,cv=kf,scoring='r2')\n",
        "plt.show()"
      ],
      "execution_count": 65,
      "outputs": [
        {
          "output_type": "stream",
          "name": "stdout",
          "text": [
            "MODEL PERFORMANCE CURVE\n",
            "[08:02:04] WARNING: /workspace/src/objective/regression_obj.cu:152: reg:linear is now deprecated in favor of reg:squarederror.\n",
            "[08:02:04] WARNING: /workspace/src/objective/regression_obj.cu:152: reg:linear is now deprecated in favor of reg:squarederror.\n",
            "[08:02:05] WARNING: /workspace/src/objective/regression_obj.cu:152: reg:linear is now deprecated in favor of reg:squarederror.\n",
            "[08:02:06] WARNING: /workspace/src/objective/regression_obj.cu:152: reg:linear is now deprecated in favor of reg:squarederror.\n",
            "[08:02:08] WARNING: /workspace/src/objective/regression_obj.cu:152: reg:linear is now deprecated in favor of reg:squarederror.\n",
            "[08:02:11] WARNING: /workspace/src/objective/regression_obj.cu:152: reg:linear is now deprecated in favor of reg:squarederror.\n",
            "[08:02:11] WARNING: /workspace/src/objective/regression_obj.cu:152: reg:linear is now deprecated in favor of reg:squarederror.\n",
            "[08:02:12] WARNING: /workspace/src/objective/regression_obj.cu:152: reg:linear is now deprecated in favor of reg:squarederror.\n",
            "[08:02:13] WARNING: /workspace/src/objective/regression_obj.cu:152: reg:linear is now deprecated in favor of reg:squarederror.\n",
            "[08:02:15] WARNING: /workspace/src/objective/regression_obj.cu:152: reg:linear is now deprecated in favor of reg:squarederror.\n",
            "[08:02:18] WARNING: /workspace/src/objective/regression_obj.cu:152: reg:linear is now deprecated in favor of reg:squarederror.\n",
            "[08:02:18] WARNING: /workspace/src/objective/regression_obj.cu:152: reg:linear is now deprecated in favor of reg:squarederror.\n",
            "[08:02:19] WARNING: /workspace/src/objective/regression_obj.cu:152: reg:linear is now deprecated in favor of reg:squarederror.\n",
            "[08:02:20] WARNING: /workspace/src/objective/regression_obj.cu:152: reg:linear is now deprecated in favor of reg:squarederror.\n",
            "[08:02:22] WARNING: /workspace/src/objective/regression_obj.cu:152: reg:linear is now deprecated in favor of reg:squarederror.\n",
            "[08:02:24] WARNING: /workspace/src/objective/regression_obj.cu:152: reg:linear is now deprecated in favor of reg:squarederror.\n",
            "[08:02:24] WARNING: /workspace/src/objective/regression_obj.cu:152: reg:linear is now deprecated in favor of reg:squarederror.\n",
            "[08:02:25] WARNING: /workspace/src/objective/regression_obj.cu:152: reg:linear is now deprecated in favor of reg:squarederror.\n",
            "[08:02:27] WARNING: /workspace/src/objective/regression_obj.cu:152: reg:linear is now deprecated in favor of reg:squarederror.\n",
            "[08:02:28] WARNING: /workspace/src/objective/regression_obj.cu:152: reg:linear is now deprecated in favor of reg:squarederror.\n",
            "[08:02:31] WARNING: /workspace/src/objective/regression_obj.cu:152: reg:linear is now deprecated in favor of reg:squarederror.\n",
            "[08:02:31] WARNING: /workspace/src/objective/regression_obj.cu:152: reg:linear is now deprecated in favor of reg:squarederror.\n",
            "[08:02:32] WARNING: /workspace/src/objective/regression_obj.cu:152: reg:linear is now deprecated in favor of reg:squarederror.\n",
            "[08:02:33] WARNING: /workspace/src/objective/regression_obj.cu:152: reg:linear is now deprecated in favor of reg:squarederror.\n",
            "[08:02:35] WARNING: /workspace/src/objective/regression_obj.cu:152: reg:linear is now deprecated in favor of reg:squarederror.\n"
          ]
        },
        {
          "output_type": "display_data",
          "data": {
            "image/png": "[encoded data removed]",
            "text/plain": [
              "<Figure size 432x288 with 1 Axes>"
            ]
          },
          "metadata": {
            "needs_background": "light"
          }
        }
      ]
    },
    {
      "cell_type": "code",
      "metadata": {
        "id": "Gzma_OpkT2f0"
      },
      "source": [
        "y_pred=XGBR.predict(X_test)"
      ],
      "execution_count": 66,
      "outputs": []
    },
    {
      "cell_type": "markdown",
      "metadata": {
        "id": "FEXka8kFX754"
      },
      "source": [
        "#Final model metrics"
      ]
    },
    {
      "cell_type": "code",
      "metadata": {
        "colab": {
          "base_uri": "https://localhost:8080/"
        },
        "id": "t0vn81ueUCYM",
        "outputId": "9aa63c4b-6bfb-4056-806d-f070ad439ca0"
      },
      "source": [
        "print(\"MSE\",mean_squared_error(y_test,y_pred))\n",
        "print(\"MAE\",mean_absolute_error(y_test,y_pred))\n",
        "print(\"RMSE\",np.sqrt(mean_squared_error(y_test,y_pred)))\n",
        "print(\"R2_Score\",r2_score(y_test,y_pred))\n",
        "print(\"Model_Score\",XGBR.score(X_test,y_test))"
      ],
      "execution_count": 67,
      "outputs": [
        {
          "output_type": "stream",
          "name": "stdout",
          "text": [
            "MSE 0.07709220033828038\n",
            "MAE 0.18841994317585678\n",
            "RMSE 0.2776548222852979\n",
            "R2_Score 0.6931065678402668\n",
            "Model_Score 0.6931065678402668\n"
          ]
        }
      ]
    },
    {
      "cell_type": "code",
      "metadata": {
        "colab": {
          "base_uri": "https://localhost:8080/"
        },
        "id": "4FSRSuybX2-z",
        "outputId": "267d7ef2-0932-4806-a915-56f5fbd97132"
      },
      "source": [
        "import joblib\n",
        "joblib.dump(Grid,\"Flight.obj\")"
      ],
      "execution_count": 68,
      "outputs": [
        {
          "output_type": "execute_result",
          "data": {
            "text/plain": [
              "['Flight.obj']"
            ]
          },
          "metadata": {},
          "execution_count": 68
        }
      ]
    },
    {
      "cell_type": "code",
      "metadata": {
        "id": "ePE2Thg9Yhga",
        "colab": {
          "base_uri": "https://localhost:8080/"
        },
        "outputId": "75ef1b2b-dfa5-421e-bd41-9ea0819b80a9"
      },
      "source": [
        "model=joblib.load('/content/Flight.obj')"
      ],
      "execution_count": 69,
      "outputs": [
        {
          "output_type": "stream",
          "name": "stdout",
          "text": [
            "[08:02:38] WARNING: /workspace/src/objective/regression_obj.cu:152: reg:linear is now deprecated in favor of reg:squarederror.\n",
            "[08:02:38] WARNING: /workspace/src/objective/regression_obj.cu:152: reg:linear is now deprecated in favor of reg:squarederror.\n"
          ]
        }
      ]
    },
    {
      "cell_type": "code",
      "metadata": {
        "colab": {
          "base_uri": "https://localhost:8080/"
        },
        "id": "-hQqQBfcYmXf",
        "outputId": "2ccd2960-6571-4479-f6b8-037f689a1608"
      },
      "source": [
        "np.exp(model.predict(X_test))"
      ],
      "execution_count": 71,
      "outputs": [
        {
          "output_type": "execute_result",
          "data": {
            "text/plain": [
              "array([13717.246 , 10785.277 ,  3294.0044,  6942.6113,  4337.868 ,\n",
              "       11270.078 , 11757.837 ,  4074.5757, 11791.401 , 11459.647 ,\n",
              "       12979.477 , 11046.847 ,  3192.5732,  4766.3203,  9599.644 ,\n",
              "       13065.592 , 11046.847 ,  7193.847 ,  6128.7383, 11309.268 ,\n",
              "       13562.893 ,  4644.7236, 10864.345 , 11142.209 ,  4983.489 ,\n",
              "        9124.045 ,  4311.5757,  3715.3076, 10323.942 ,  8595.42  ,\n",
              "        3947.358 , 10732.938 , 10496.195 ,  5234.26  , 13240.171 ,\n",
              "        4983.489 , 10763.043 ,  5203.5654, 10612.368 , 11734.784 ,\n",
              "        9432.455 ,  7289.5874,  5800.5195,  6575.044 ,  6382.812 ,\n",
              "        4931.4976, 12133.976 , 13489.507 , 12144.163 , 12172.292 ,\n",
              "       11415.254 , 10028.567 ,  2993.2957,  4231.7153, 11080.959 ,\n",
              "        7405.7583,  2932.8508,  5963.852 , 14759.943 , 11178.481 ,\n",
              "       14617.258 , 14312.705 ,  4530.3965, 11682.214 ,  9729.461 ,\n",
              "       13562.893 , 12639.909 ,  4010.3076, 10759.903 ,  9597.3   ,\n",
              "        4811.5796, 13210.819 ,  9333.212 , 11998.125 ,  6589.4697,\n",
              "        9750.138 , 10590.975 ,  9545.116 ,  6011.4526, 10902.675 ,\n",
              "       11513.005 , 10612.368 , 14312.705 , 10439.602 ,  4074.5757,\n",
              "       11932.011 , 10676.657 , 11863.5   , 10855.902 , 12718.433 ,\n",
              "        8749.474 ,  8830.787 ,  6491.115 , 11282.133 , 10986.708 ,\n",
              "       12979.477 ,  8980.868 ,  4475.4346,  4716.338 ,  7612.1064,\n",
              "       13717.246 ,  4944.8535, 10625.289 ,  6589.4697, 15988.052 ,\n",
              "        4154.623 ,  6011.4526, 10944.982 , 14120.282 ,  6122.756 ,\n",
              "       11728.977 , 11450.7   , 14863.81  ,  5752.5264,  8166.286 ,\n",
              "        4346.096 ,  7060.562 , 26851.197 , 11539.332 , 11998.125 ,\n",
              "       11168.561 ,  8145.652 , 14359.67  ,  5468.174 ,  6400.757 ,\n",
              "       11266.939 , 10759.903 ,  4412.235 ,  8263.399 ,  4530.3965,\n",
              "        2840.7224, 13458.27  , 11065.426 , 11256.619 , 12688.472 ,\n",
              "        7659.476 ,  5127.628 ,  4644.7236, 11070.195 , 10545.207 ,\n",
              "       11247.841 , 12144.163 ,  4716.338 ,  3192.5732,  8143.966 ,\n",
              "       11053.18  , 10840.467 ,  8897.323 ,  6542.394 , 10219.636 ,\n",
              "        5161.269 ,  3600.9138,  3715.3076, 13507.529 , 11159.053 ,\n",
              "        7289.5874,  7547.9   ,  4200.198 , 11776.904 ,  5206.37  ,\n",
              "        9280.588 ,  8145.652 , 12868.291 ,  3895.3916, 10238.532 ,\n",
              "       11044.034 , 11542.963 ,  4865.276 ,  5800.5195, 10944.982 ,\n",
              "        8924.313 ,  5468.174 ,  5404.3643,  7795.8335,  5901.605 ,\n",
              "        9040.851 , 11480.989 , 10759.903 ,  9387.549 ,  4200.198 ,\n",
              "        4160.4907,  6017.6875, 11673.404 , 11312.666 ,  5206.37  ,\n",
              "       11434.179 ,  8660.066 , 11868.31  ,  5089.53  ,  2683.4775,\n",
              "        4037.0532, 11783.713 ,  3243.2078,  4727.4927, 10326.294 ,\n",
              "       11434.179 ,  6611.394 ,  4691.2485, 10625.289 ,  4351.6035,\n",
              "       11270.078 , 11668.351 , 14081.23  , 11346.419 , 10886.145 ,\n",
              "       11202.493 ,  6999.4854,  9973.314 ,  3192.5732,  6422.243 ,\n",
              "        8897.323 ,  6075.1025, 11783.713 ,  8802.712 , 11244.966 ,\n",
              "       10567.477 , 11903.437 ,  9803.797 ,  8924.313 , 11128.456 ,\n",
              "       13004.22  ,  8830.787 ,  7374.1504,  7060.562 ,  4074.5757,\n",
              "       10567.477 , 13691.12  , 13408.562 ,  3947.358 ,  5541.391 ,\n",
              "        5671.5464,  5901.605 ,  4631.3784, 10051.7295, 13691.12  ,\n",
              "        4865.276 , 11035.433 , 11998.125 ,  8594.067 ,  6737.4087,\n",
              "        5239.394 ,  9818.234 ,  2856.6548,  8014.6934,  4178.344 ,\n",
              "        5262.785 , 10986.268 ,  9180.026 ,  6400.757 , 11728.977 ,\n",
              "        5134.8457, 10445.677 ,  5585.114 , 13150.81  , 11539.332 ,\n",
              "        9432.455 , 16704.756 , 10767.159 , 10625.289 ,  7974.613 ,\n",
              "        3808.4805, 11168.561 ,  2683.4775,  8288.166 ,  3684.8416,\n",
              "        4669.288 , 10986.268 , 13328.562 ,  6589.4697, 10961.486 ,\n",
              "       11066.321 , 11394.273 ,  9803.797 ,  3600.9138,  3284.5247,\n",
              "        4337.868 ,  4154.623 ,  4822.145 ,  4351.6035, 10409.052 ,\n",
              "        9256.51  ,  4944.8535, 11282.133 ,  3684.8416, 12022.188 ,\n",
              "       10671.261 , 12116.33  , 12175.543 , 12175.543 , 10969.957 ,\n",
              "        6087.2227, 13150.81  , 10889.852 ,  6017.6875, 12775.128 ,\n",
              "        5963.852 , 14575.22  ,  7219.676 ,  6825.4204,  8485.621 ,\n",
              "        6356.363 ,  9973.314 , 12979.477 ,  4204.518 ,  8288.166 ,\n",
              "        6502.429 , 11490.782 , 12979.477 ,  4732.4854, 11410.889 ,\n",
              "        4412.235 ,  5972.5034,  4822.145 , 13255.406 , 10903.289 ,\n",
              "       14675.98  , 13439.095 , 11123.522 , 14288.512 , 10805.952 ,\n",
              "        6735.2817, 10238.532 ,  6825.4204,  5583.    ,  9104.801 ,\n",
              "       11708.435 , 10980.862 ,  5468.174 , 11255.319 ,  3327.5356,\n",
              "       10781.092 ,  8884.741 ,  6644.357 , 11159.053 , 10759.903 ,\n",
              "        3937.6648,  5552.1562,  5776.6167,  5836.6045, 12785.904 ,\n",
              "        4339.6265, 12973.561 , 10301.046 , 11168.561 ,  8095.012 ,\n",
              "        4732.4854,  9386.627 , 11220.959 ,  4311.5757, 11227.617 ,\n",
              "        7684.169 ,  3684.8416,  7974.613 ,  6823.312 , 12688.472 ,\n",
              "        6683.3774, 10987.264 ,  6735.2817,  6833.868 ,  9791.352 ,\n",
              "        4732.4854,  7612.1064,  8802.712 , 11603.412 , 13080.59  ,\n",
              "        5462.8257,  4006.3435,  5791.582 ,  7841.4443, 11998.125 ,\n",
              "        5671.5464,  4766.4976,  5963.852 ,  4337.868 ,  9714.201 ,\n",
              "        4045.1887,  5958.696 , 16259.149 ,  8924.313 , 11243.229 ,\n",
              "        6491.115 ,  5972.5034,  9579.808 , 12979.477 ,  6740.397 ,\n",
              "        6542.394 ,  8924.313 , 10986.708 ,  5836.6045, 10357.669 ,\n",
              "        5552.1562,  4204.518 ,  3582.0825,  4631.3784, 16176.822 ,\n",
              "        9952.507 , 11273.744 , 12073.063 , 11390.557 ,  6122.469 ,\n",
              "        6833.868 ,  4231.7153, 13664.666 ,  4276.9536,  4097.1333,\n",
              "        7280.472 , 13438.557 ,  4095.4143,  4010.3076,  5972.9653,\n",
              "        5832.1367,  5776.6167,  3947.358 ,  7684.169 ,  5651.0083,\n",
              "        3327.5356,  4634.149 ,  4683.3857, 11794.472 ,  9626.479 ,\n",
              "        9729.461 ,  8737.783 ,  9517.539 ,  5949.94  , 11053.18  ,\n",
              "       11394.273 ,  4566.134 ,  4691.2485, 11992.908 ,  9937.152 ,\n",
              "       11728.977 , 11579.612 ,  9439.745 , 11422.865 , 12175.543 ,\n",
              "        8307.244 , 10927.21  , 11539.332 ,  6491.115 , 11309.268 ,\n",
              "       11659.264 ,  3530.5083,  6422.243 , 11008.754 , 12028.748 ,\n",
              "       11998.125 , 22805.254 ,  6491.115 , 13121.207 ,  3139.3923,\n",
              "       13439.095 ,  5089.53  ,  6051.25  , 10013.877 , 10732.283 ,\n",
              "        5206.37  , 10676.657 ,  7302.1675, 10903.289 , 10320.87  ,\n",
              "       10748.076 ,  5628.441 ,  4160.4907,  9421.792 ,  5972.5034,\n",
              "       10870.614 , 14766.055 ,  5468.174 ,  6541.8887,  9973.314 ,\n",
              "        4788.5815, 13482.382 ,  9426.206 ,  4254.4897,  2693.1238,\n",
              "        3600.9138,  5995.9307,  6525.3643,  8348.193 , 11964.68  ,\n",
              "        9387.549 ,  6919.892 ,  5958.696 ,  6400.757 , 13408.562 ,\n",
              "        8792.971 ,  2683.4775,  7792.5337, 14575.22  , 11277.582 ,\n",
              "       10840.467 ,  4822.145 ,  7841.4443,  6938.845 , 11539.332 ,\n",
              "        4412.235 , 12199.033 ,  8232.438 ,  4204.518 ,  7934.422 ,\n",
              "        5318.8125, 10625.289 ,  5206.37  ], dtype=float32)"
            ]
          },
          "metadata": {},
          "execution_count": 71
        }
      ]
    },
    {
      "cell_type": "markdown",
      "metadata": {
        "id": "9qrZ9aJxYrOI"
      },
      "source": [
        "#Conclusion\n",
        "\n",
        "1-Data was having only one continuous value that was our target column\n",
        "\n",
        "2-I did EDA to understand the data and written the observation also\n",
        "\n",
        "3-i did all the preprocessing from data cleaning to data transformation and also did Feature engineering\n",
        "\n",
        "4-My all columns was categorical so there was no need to remove outliers and skewness and no need to apply scaling also\n",
        "\n",
        "3-Finally i build a model that was giving me 90% CSV accuracy \n",
        "\n",
        "4-And finally my model can predict the flight price"
      ]
    }
  ]
}