{
 "cells": [
  {
   "cell_type": "code",
   "execution_count": 1,
   "id": "48ce805c",
   "metadata": {},
   "outputs": [],
   "source": [
    "import pandas as pd\n",
    "import numpy as np\n",
    "import matplotlib.pyplot as plt\n",
    "import seaborn as sns"
   ]
  },
  {
   "cell_type": "code",
   "execution_count": 2,
   "id": "af1489b6",
   "metadata": {},
   "outputs": [],
   "source": [
    "import sys\n",
    "\n",
    "if not sys.warnoptions:\n",
    "    import warnings\n",
    "    warnings.simplefilter('ignore')"
   ]
  },
  {
   "cell_type": "code",
   "execution_count": 3,
   "id": "d325d3db",
   "metadata": {},
   "outputs": [],
   "source": [
    "d1= pd.read_csv('D:/Assignment/dataset/Titanic.csv')"
   ]
  },
  {
   "cell_type": "code",
   "execution_count": 4,
   "id": "e47d377a",
   "metadata": {},
   "outputs": [
    {
     "data": {
      "text/html": [
       "<div>\n",
       "<style scoped>\n",
       "    .dataframe tbody tr th:only-of-type {\n",
       "        vertical-align: middle;\n",
       "    }\n",
       "\n",
       "    .dataframe tbody tr th {\n",
       "        vertical-align: top;\n",
       "    }\n",
       "\n",
       "    .dataframe thead th {\n",
       "        text-align: right;\n",
       "    }\n",
       "</style>\n",
       "<table border=\"1\" class=\"dataframe\">\n",
       "  <thead>\n",
       "    <tr style=\"text-align: right;\">\n",
       "      <th></th>\n",
       "      <th>PassengerId</th>\n",
       "      <th>Pclass</th>\n",
       "      <th>Name</th>\n",
       "      <th>Sex</th>\n",
       "      <th>Age</th>\n",
       "      <th>SibSp</th>\n",
       "      <th>Parch</th>\n",
       "      <th>Ticket</th>\n",
       "      <th>Fare</th>\n",
       "      <th>Cabin</th>\n",
       "      <th>Embarked</th>\n",
       "    </tr>\n",
       "  </thead>\n",
       "  <tbody>\n",
       "    <tr>\n",
       "      <th>0</th>\n",
       "      <td>892</td>\n",
       "      <td>3</td>\n",
       "      <td>Kelly, Mr. James</td>\n",
       "      <td>male</td>\n",
       "      <td>34.5</td>\n",
       "      <td>0</td>\n",
       "      <td>0</td>\n",
       "      <td>330911</td>\n",
       "      <td>7.8292</td>\n",
       "      <td>NaN</td>\n",
       "      <td>Q</td>\n",
       "    </tr>\n",
       "    <tr>\n",
       "      <th>1</th>\n",
       "      <td>893</td>\n",
       "      <td>3</td>\n",
       "      <td>Wilkes, Mrs. James (Ellen Needs)</td>\n",
       "      <td>female</td>\n",
       "      <td>47.0</td>\n",
       "      <td>1</td>\n",
       "      <td>0</td>\n",
       "      <td>363272</td>\n",
       "      <td>7.0000</td>\n",
       "      <td>NaN</td>\n",
       "      <td>S</td>\n",
       "    </tr>\n",
       "    <tr>\n",
       "      <th>2</th>\n",
       "      <td>894</td>\n",
       "      <td>2</td>\n",
       "      <td>Myles, Mr. Thomas Francis</td>\n",
       "      <td>male</td>\n",
       "      <td>62.0</td>\n",
       "      <td>0</td>\n",
       "      <td>0</td>\n",
       "      <td>240276</td>\n",
       "      <td>9.6875</td>\n",
       "      <td>NaN</td>\n",
       "      <td>Q</td>\n",
       "    </tr>\n",
       "    <tr>\n",
       "      <th>3</th>\n",
       "      <td>895</td>\n",
       "      <td>3</td>\n",
       "      <td>Wirz, Mr. Albert</td>\n",
       "      <td>male</td>\n",
       "      <td>27.0</td>\n",
       "      <td>0</td>\n",
       "      <td>0</td>\n",
       "      <td>315154</td>\n",
       "      <td>8.6625</td>\n",
       "      <td>NaN</td>\n",
       "      <td>S</td>\n",
       "    </tr>\n",
       "    <tr>\n",
       "      <th>4</th>\n",
       "      <td>896</td>\n",
       "      <td>3</td>\n",
       "      <td>Hirvonen, Mrs. Alexander (Helga E Lindqvist)</td>\n",
       "      <td>female</td>\n",
       "      <td>22.0</td>\n",
       "      <td>1</td>\n",
       "      <td>1</td>\n",
       "      <td>3101298</td>\n",
       "      <td>12.2875</td>\n",
       "      <td>NaN</td>\n",
       "      <td>S</td>\n",
       "    </tr>\n",
       "    <tr>\n",
       "      <th>...</th>\n",
       "      <td>...</td>\n",
       "      <td>...</td>\n",
       "      <td>...</td>\n",
       "      <td>...</td>\n",
       "      <td>...</td>\n",
       "      <td>...</td>\n",
       "      <td>...</td>\n",
       "      <td>...</td>\n",
       "      <td>...</td>\n",
       "      <td>...</td>\n",
       "      <td>...</td>\n",
       "    </tr>\n",
       "    <tr>\n",
       "      <th>413</th>\n",
       "      <td>1305</td>\n",
       "      <td>3</td>\n",
       "      <td>Spector, Mr. Woolf</td>\n",
       "      <td>male</td>\n",
       "      <td>NaN</td>\n",
       "      <td>0</td>\n",
       "      <td>0</td>\n",
       "      <td>A.5. 3236</td>\n",
       "      <td>8.0500</td>\n",
       "      <td>NaN</td>\n",
       "      <td>S</td>\n",
       "    </tr>\n",
       "    <tr>\n",
       "      <th>414</th>\n",
       "      <td>1306</td>\n",
       "      <td>1</td>\n",
       "      <td>Oliva y Ocana, Dona. Fermina</td>\n",
       "      <td>female</td>\n",
       "      <td>39.0</td>\n",
       "      <td>0</td>\n",
       "      <td>0</td>\n",
       "      <td>PC 17758</td>\n",
       "      <td>108.9000</td>\n",
       "      <td>C105</td>\n",
       "      <td>C</td>\n",
       "    </tr>\n",
       "    <tr>\n",
       "      <th>415</th>\n",
       "      <td>1307</td>\n",
       "      <td>3</td>\n",
       "      <td>Saether, Mr. Simon Sivertsen</td>\n",
       "      <td>male</td>\n",
       "      <td>38.5</td>\n",
       "      <td>0</td>\n",
       "      <td>0</td>\n",
       "      <td>SOTON/O.Q. 3101262</td>\n",
       "      <td>7.2500</td>\n",
       "      <td>NaN</td>\n",
       "      <td>S</td>\n",
       "    </tr>\n",
       "    <tr>\n",
       "      <th>416</th>\n",
       "      <td>1308</td>\n",
       "      <td>3</td>\n",
       "      <td>Ware, Mr. Frederick</td>\n",
       "      <td>male</td>\n",
       "      <td>NaN</td>\n",
       "      <td>0</td>\n",
       "      <td>0</td>\n",
       "      <td>359309</td>\n",
       "      <td>8.0500</td>\n",
       "      <td>NaN</td>\n",
       "      <td>S</td>\n",
       "    </tr>\n",
       "    <tr>\n",
       "      <th>417</th>\n",
       "      <td>1309</td>\n",
       "      <td>3</td>\n",
       "      <td>Peter, Master. Michael J</td>\n",
       "      <td>male</td>\n",
       "      <td>NaN</td>\n",
       "      <td>1</td>\n",
       "      <td>1</td>\n",
       "      <td>2668</td>\n",
       "      <td>22.3583</td>\n",
       "      <td>NaN</td>\n",
       "      <td>C</td>\n",
       "    </tr>\n",
       "  </tbody>\n",
       "</table>\n",
       "<p>418 rows × 11 columns</p>\n",
       "</div>"
      ],
      "text/plain": [
       "     PassengerId  Pclass                                          Name  \\\n",
       "0            892       3                              Kelly, Mr. James   \n",
       "1            893       3              Wilkes, Mrs. James (Ellen Needs)   \n",
       "2            894       2                     Myles, Mr. Thomas Francis   \n",
       "3            895       3                              Wirz, Mr. Albert   \n",
       "4            896       3  Hirvonen, Mrs. Alexander (Helga E Lindqvist)   \n",
       "..           ...     ...                                           ...   \n",
       "413         1305       3                            Spector, Mr. Woolf   \n",
       "414         1306       1                  Oliva y Ocana, Dona. Fermina   \n",
       "415         1307       3                  Saether, Mr. Simon Sivertsen   \n",
       "416         1308       3                           Ware, Mr. Frederick   \n",
       "417         1309       3                      Peter, Master. Michael J   \n",
       "\n",
       "        Sex   Age  SibSp  Parch              Ticket      Fare Cabin Embarked  \n",
       "0      male  34.5      0      0              330911    7.8292   NaN        Q  \n",
       "1    female  47.0      1      0              363272    7.0000   NaN        S  \n",
       "2      male  62.0      0      0              240276    9.6875   NaN        Q  \n",
       "3      male  27.0      0      0              315154    8.6625   NaN        S  \n",
       "4    female  22.0      1      1             3101298   12.2875   NaN        S  \n",
       "..      ...   ...    ...    ...                 ...       ...   ...      ...  \n",
       "413    male   NaN      0      0           A.5. 3236    8.0500   NaN        S  \n",
       "414  female  39.0      0      0            PC 17758  108.9000  C105        C  \n",
       "415    male  38.5      0      0  SOTON/O.Q. 3101262    7.2500   NaN        S  \n",
       "416    male   NaN      0      0              359309    8.0500   NaN        S  \n",
       "417    male   NaN      1      1                2668   22.3583   NaN        C  \n",
       "\n",
       "[418 rows x 11 columns]"
      ]
     },
     "execution_count": 4,
     "metadata": {},
     "output_type": "execute_result"
    }
   ],
   "source": [
    "d1"
   ]
  },
  {
   "cell_type": "code",
   "execution_count": 5,
   "id": "8fe196ce",
   "metadata": {},
   "outputs": [
    {
     "data": {
      "text/html": [
       "<div>\n",
       "<style scoped>\n",
       "    .dataframe tbody tr th:only-of-type {\n",
       "        vertical-align: middle;\n",
       "    }\n",
       "\n",
       "    .dataframe tbody tr th {\n",
       "        vertical-align: top;\n",
       "    }\n",
       "\n",
       "    .dataframe thead th {\n",
       "        text-align: right;\n",
       "    }\n",
       "</style>\n",
       "<table border=\"1\" class=\"dataframe\">\n",
       "  <thead>\n",
       "    <tr style=\"text-align: right;\">\n",
       "      <th></th>\n",
       "      <th>PassengerId</th>\n",
       "      <th>Survived</th>\n",
       "    </tr>\n",
       "  </thead>\n",
       "  <tbody>\n",
       "    <tr>\n",
       "      <th>0</th>\n",
       "      <td>892</td>\n",
       "      <td>0</td>\n",
       "    </tr>\n",
       "    <tr>\n",
       "      <th>1</th>\n",
       "      <td>893</td>\n",
       "      <td>1</td>\n",
       "    </tr>\n",
       "    <tr>\n",
       "      <th>2</th>\n",
       "      <td>894</td>\n",
       "      <td>0</td>\n",
       "    </tr>\n",
       "    <tr>\n",
       "      <th>3</th>\n",
       "      <td>895</td>\n",
       "      <td>0</td>\n",
       "    </tr>\n",
       "    <tr>\n",
       "      <th>4</th>\n",
       "      <td>896</td>\n",
       "      <td>1</td>\n",
       "    </tr>\n",
       "    <tr>\n",
       "      <th>...</th>\n",
       "      <td>...</td>\n",
       "      <td>...</td>\n",
       "    </tr>\n",
       "    <tr>\n",
       "      <th>413</th>\n",
       "      <td>1305</td>\n",
       "      <td>0</td>\n",
       "    </tr>\n",
       "    <tr>\n",
       "      <th>414</th>\n",
       "      <td>1306</td>\n",
       "      <td>1</td>\n",
       "    </tr>\n",
       "    <tr>\n",
       "      <th>415</th>\n",
       "      <td>1307</td>\n",
       "      <td>0</td>\n",
       "    </tr>\n",
       "    <tr>\n",
       "      <th>416</th>\n",
       "      <td>1308</td>\n",
       "      <td>0</td>\n",
       "    </tr>\n",
       "    <tr>\n",
       "      <th>417</th>\n",
       "      <td>1309</td>\n",
       "      <td>0</td>\n",
       "    </tr>\n",
       "  </tbody>\n",
       "</table>\n",
       "<p>418 rows × 2 columns</p>\n",
       "</div>"
      ],
      "text/plain": [
       "     PassengerId  Survived\n",
       "0            892         0\n",
       "1            893         1\n",
       "2            894         0\n",
       "3            895         0\n",
       "4            896         1\n",
       "..           ...       ...\n",
       "413         1305         0\n",
       "414         1306         1\n",
       "415         1307         0\n",
       "416         1308         0\n",
       "417         1309         0\n",
       "\n",
       "[418 rows x 2 columns]"
      ]
     },
     "execution_count": 5,
     "metadata": {},
     "output_type": "execute_result"
    }
   ],
   "source": [
    "d2=pd.read_csv('D:/Assignment/dataset/gender_submission.csv')\n",
    "d2"
   ]
  },
  {
   "cell_type": "code",
   "execution_count": 6,
   "id": "70ef69e9",
   "metadata": {},
   "outputs": [],
   "source": [
    "d3= pd.merge(d1,d2)"
   ]
  },
  {
   "cell_type": "code",
   "execution_count": 7,
   "id": "e6b5d034",
   "metadata": {},
   "outputs": [
    {
     "data": {
      "text/plain": [
       "Index(['PassengerId', 'Pclass', 'Name', 'Sex', 'Age', 'SibSp', 'Parch',\n",
       "       'Ticket', 'Fare', 'Cabin', 'Embarked', 'Survived'],\n",
       "      dtype='object')"
      ]
     },
     "execution_count": 7,
     "metadata": {},
     "output_type": "execute_result"
    }
   ],
   "source": [
    "d3.columns"
   ]
  },
  {
   "cell_type": "code",
   "execution_count": 8,
   "id": "dc6d18df",
   "metadata": {},
   "outputs": [],
   "source": [
    "d3=d3.reindex(columns=['PassengerId','Survived' ,'Pclass', 'Name', 'Sex', 'Age', 'SibSp', 'Parch',\n",
    "       'Ticket', 'Fare', 'Cabin', 'Embarked',])"
   ]
  },
  {
   "cell_type": "code",
   "execution_count": 9,
   "id": "cd12edc6",
   "metadata": {},
   "outputs": [
    {
     "data": {
      "text/html": [
       "<div>\n",
       "<style scoped>\n",
       "    .dataframe tbody tr th:only-of-type {\n",
       "        vertical-align: middle;\n",
       "    }\n",
       "\n",
       "    .dataframe tbody tr th {\n",
       "        vertical-align: top;\n",
       "    }\n",
       "\n",
       "    .dataframe thead th {\n",
       "        text-align: right;\n",
       "    }\n",
       "</style>\n",
       "<table border=\"1\" class=\"dataframe\">\n",
       "  <thead>\n",
       "    <tr style=\"text-align: right;\">\n",
       "      <th></th>\n",
       "      <th>PassengerId</th>\n",
       "      <th>Survived</th>\n",
       "      <th>Pclass</th>\n",
       "      <th>Name</th>\n",
       "      <th>Sex</th>\n",
       "      <th>Age</th>\n",
       "      <th>SibSp</th>\n",
       "      <th>Parch</th>\n",
       "      <th>Ticket</th>\n",
       "      <th>Fare</th>\n",
       "      <th>Cabin</th>\n",
       "      <th>Embarked</th>\n",
       "    </tr>\n",
       "  </thead>\n",
       "  <tbody>\n",
       "    <tr>\n",
       "      <th>0</th>\n",
       "      <td>892</td>\n",
       "      <td>0</td>\n",
       "      <td>3</td>\n",
       "      <td>Kelly, Mr. James</td>\n",
       "      <td>male</td>\n",
       "      <td>34.5</td>\n",
       "      <td>0</td>\n",
       "      <td>0</td>\n",
       "      <td>330911</td>\n",
       "      <td>7.8292</td>\n",
       "      <td>NaN</td>\n",
       "      <td>Q</td>\n",
       "    </tr>\n",
       "    <tr>\n",
       "      <th>1</th>\n",
       "      <td>893</td>\n",
       "      <td>1</td>\n",
       "      <td>3</td>\n",
       "      <td>Wilkes, Mrs. James (Ellen Needs)</td>\n",
       "      <td>female</td>\n",
       "      <td>47.0</td>\n",
       "      <td>1</td>\n",
       "      <td>0</td>\n",
       "      <td>363272</td>\n",
       "      <td>7.0000</td>\n",
       "      <td>NaN</td>\n",
       "      <td>S</td>\n",
       "    </tr>\n",
       "    <tr>\n",
       "      <th>2</th>\n",
       "      <td>894</td>\n",
       "      <td>0</td>\n",
       "      <td>2</td>\n",
       "      <td>Myles, Mr. Thomas Francis</td>\n",
       "      <td>male</td>\n",
       "      <td>62.0</td>\n",
       "      <td>0</td>\n",
       "      <td>0</td>\n",
       "      <td>240276</td>\n",
       "      <td>9.6875</td>\n",
       "      <td>NaN</td>\n",
       "      <td>Q</td>\n",
       "    </tr>\n",
       "    <tr>\n",
       "      <th>3</th>\n",
       "      <td>895</td>\n",
       "      <td>0</td>\n",
       "      <td>3</td>\n",
       "      <td>Wirz, Mr. Albert</td>\n",
       "      <td>male</td>\n",
       "      <td>27.0</td>\n",
       "      <td>0</td>\n",
       "      <td>0</td>\n",
       "      <td>315154</td>\n",
       "      <td>8.6625</td>\n",
       "      <td>NaN</td>\n",
       "      <td>S</td>\n",
       "    </tr>\n",
       "    <tr>\n",
       "      <th>4</th>\n",
       "      <td>896</td>\n",
       "      <td>1</td>\n",
       "      <td>3</td>\n",
       "      <td>Hirvonen, Mrs. Alexander (Helga E Lindqvist)</td>\n",
       "      <td>female</td>\n",
       "      <td>22.0</td>\n",
       "      <td>1</td>\n",
       "      <td>1</td>\n",
       "      <td>3101298</td>\n",
       "      <td>12.2875</td>\n",
       "      <td>NaN</td>\n",
       "      <td>S</td>\n",
       "    </tr>\n",
       "    <tr>\n",
       "      <th>...</th>\n",
       "      <td>...</td>\n",
       "      <td>...</td>\n",
       "      <td>...</td>\n",
       "      <td>...</td>\n",
       "      <td>...</td>\n",
       "      <td>...</td>\n",
       "      <td>...</td>\n",
       "      <td>...</td>\n",
       "      <td>...</td>\n",
       "      <td>...</td>\n",
       "      <td>...</td>\n",
       "      <td>...</td>\n",
       "    </tr>\n",
       "    <tr>\n",
       "      <th>413</th>\n",
       "      <td>1305</td>\n",
       "      <td>0</td>\n",
       "      <td>3</td>\n",
       "      <td>Spector, Mr. Woolf</td>\n",
       "      <td>male</td>\n",
       "      <td>NaN</td>\n",
       "      <td>0</td>\n",
       "      <td>0</td>\n",
       "      <td>A.5. 3236</td>\n",
       "      <td>8.0500</td>\n",
       "      <td>NaN</td>\n",
       "      <td>S</td>\n",
       "    </tr>\n",
       "    <tr>\n",
       "      <th>414</th>\n",
       "      <td>1306</td>\n",
       "      <td>1</td>\n",
       "      <td>1</td>\n",
       "      <td>Oliva y Ocana, Dona. Fermina</td>\n",
       "      <td>female</td>\n",
       "      <td>39.0</td>\n",
       "      <td>0</td>\n",
       "      <td>0</td>\n",
       "      <td>PC 17758</td>\n",
       "      <td>108.9000</td>\n",
       "      <td>C105</td>\n",
       "      <td>C</td>\n",
       "    </tr>\n",
       "    <tr>\n",
       "      <th>415</th>\n",
       "      <td>1307</td>\n",
       "      <td>0</td>\n",
       "      <td>3</td>\n",
       "      <td>Saether, Mr. Simon Sivertsen</td>\n",
       "      <td>male</td>\n",
       "      <td>38.5</td>\n",
       "      <td>0</td>\n",
       "      <td>0</td>\n",
       "      <td>SOTON/O.Q. 3101262</td>\n",
       "      <td>7.2500</td>\n",
       "      <td>NaN</td>\n",
       "      <td>S</td>\n",
       "    </tr>\n",
       "    <tr>\n",
       "      <th>416</th>\n",
       "      <td>1308</td>\n",
       "      <td>0</td>\n",
       "      <td>3</td>\n",
       "      <td>Ware, Mr. Frederick</td>\n",
       "      <td>male</td>\n",
       "      <td>NaN</td>\n",
       "      <td>0</td>\n",
       "      <td>0</td>\n",
       "      <td>359309</td>\n",
       "      <td>8.0500</td>\n",
       "      <td>NaN</td>\n",
       "      <td>S</td>\n",
       "    </tr>\n",
       "    <tr>\n",
       "      <th>417</th>\n",
       "      <td>1309</td>\n",
       "      <td>0</td>\n",
       "      <td>3</td>\n",
       "      <td>Peter, Master. Michael J</td>\n",
       "      <td>male</td>\n",
       "      <td>NaN</td>\n",
       "      <td>1</td>\n",
       "      <td>1</td>\n",
       "      <td>2668</td>\n",
       "      <td>22.3583</td>\n",
       "      <td>NaN</td>\n",
       "      <td>C</td>\n",
       "    </tr>\n",
       "  </tbody>\n",
       "</table>\n",
       "<p>418 rows × 12 columns</p>\n",
       "</div>"
      ],
      "text/plain": [
       "     PassengerId  Survived  Pclass  \\\n",
       "0            892         0       3   \n",
       "1            893         1       3   \n",
       "2            894         0       2   \n",
       "3            895         0       3   \n",
       "4            896         1       3   \n",
       "..           ...       ...     ...   \n",
       "413         1305         0       3   \n",
       "414         1306         1       1   \n",
       "415         1307         0       3   \n",
       "416         1308         0       3   \n",
       "417         1309         0       3   \n",
       "\n",
       "                                             Name     Sex   Age  SibSp  Parch  \\\n",
       "0                                Kelly, Mr. James    male  34.5      0      0   \n",
       "1                Wilkes, Mrs. James (Ellen Needs)  female  47.0      1      0   \n",
       "2                       Myles, Mr. Thomas Francis    male  62.0      0      0   \n",
       "3                                Wirz, Mr. Albert    male  27.0      0      0   \n",
       "4    Hirvonen, Mrs. Alexander (Helga E Lindqvist)  female  22.0      1      1   \n",
       "..                                            ...     ...   ...    ...    ...   \n",
       "413                            Spector, Mr. Woolf    male   NaN      0      0   \n",
       "414                  Oliva y Ocana, Dona. Fermina  female  39.0      0      0   \n",
       "415                  Saether, Mr. Simon Sivertsen    male  38.5      0      0   \n",
       "416                           Ware, Mr. Frederick    male   NaN      0      0   \n",
       "417                      Peter, Master. Michael J    male   NaN      1      1   \n",
       "\n",
       "                 Ticket      Fare Cabin Embarked  \n",
       "0                330911    7.8292   NaN        Q  \n",
       "1                363272    7.0000   NaN        S  \n",
       "2                240276    9.6875   NaN        Q  \n",
       "3                315154    8.6625   NaN        S  \n",
       "4               3101298   12.2875   NaN        S  \n",
       "..                  ...       ...   ...      ...  \n",
       "413           A.5. 3236    8.0500   NaN        S  \n",
       "414            PC 17758  108.9000  C105        C  \n",
       "415  SOTON/O.Q. 3101262    7.2500   NaN        S  \n",
       "416              359309    8.0500   NaN        S  \n",
       "417                2668   22.3583   NaN        C  \n",
       "\n",
       "[418 rows x 12 columns]"
      ]
     },
     "execution_count": 9,
     "metadata": {},
     "output_type": "execute_result"
    }
   ],
   "source": [
    "d3"
   ]
  },
  {
   "cell_type": "code",
   "execution_count": 10,
   "id": "3e04e325",
   "metadata": {},
   "outputs": [
    {
     "data": {
      "text/plain": [
       "array([34.5 , 47.  , 62.  , 27.  , 22.  , 14.  , 30.  , 26.  , 18.  ,\n",
       "       21.  ,   nan, 46.  , 23.  , 63.  , 24.  , 35.  , 45.  , 55.  ,\n",
       "        9.  , 48.  , 50.  , 22.5 , 41.  , 33.  , 18.5 , 25.  , 39.  ,\n",
       "       60.  , 36.  , 20.  , 28.  , 10.  , 17.  , 32.  , 13.  , 31.  ,\n",
       "       29.  , 28.5 , 32.5 ,  6.  , 67.  , 49.  ,  2.  , 76.  , 43.  ,\n",
       "       16.  ,  1.  , 12.  , 42.  , 53.  , 26.5 , 40.  , 61.  , 60.5 ,\n",
       "        7.  , 15.  , 54.  , 64.  , 37.  , 34.  , 11.5 ,  8.  ,  0.33,\n",
       "       38.  , 57.  , 40.5 ,  0.92, 19.  , 36.5 ,  0.75,  0.83, 58.  ,\n",
       "        0.17, 59.  , 14.5 , 44.  ,  5.  , 51.  ,  3.  , 38.5 ])"
      ]
     },
     "execution_count": 10,
     "metadata": {},
     "output_type": "execute_result"
    }
   ],
   "source": [
    "d3['Age'].unique()"
   ]
  },
  {
   "cell_type": "code",
   "execution_count": 11,
   "id": "c56762c3",
   "metadata": {},
   "outputs": [
    {
     "data": {
      "text/plain": [
       "PassengerId    False\n",
       "Survived       False\n",
       "Pclass         False\n",
       "Name           False\n",
       "Sex            False\n",
       "Age             True\n",
       "SibSp          False\n",
       "Parch          False\n",
       "Ticket         False\n",
       "Fare            True\n",
       "Cabin           True\n",
       "Embarked       False\n",
       "dtype: bool"
      ]
     },
     "execution_count": 11,
     "metadata": {},
     "output_type": "execute_result"
    }
   ],
   "source": [
    "d3.isna().any()"
   ]
  },
  {
   "cell_type": "code",
   "execution_count": 12,
   "id": "b3040cd7",
   "metadata": {},
   "outputs": [
    {
     "data": {
      "text/plain": [
       "<AxesSubplot:xlabel='Fare'>"
      ]
     },
     "execution_count": 12,
     "metadata": {},
     "output_type": "execute_result"
    },
    {
     "data": {
      "image/png": "[encoded data removed]",
      "text/plain": [
       "<Figure size 432x288 with 1 Axes>"
      ]
     },
     "metadata": {
      "needs_background": "light"
     },
     "output_type": "display_data"
    }
   ],
   "source": [
    "sns.boxplot(d3['Fare'],data=d3)"
   ]
  },
  {
   "cell_type": "code",
   "execution_count": 13,
   "id": "1d3fe355",
   "metadata": {},
   "outputs": [
    {
     "data": {
      "text/plain": [
       "Index(['PassengerId', 'Survived', 'Pclass', 'Name', 'Sex', 'Age', 'SibSp',\n",
       "       'Parch', 'Ticket', 'Fare', 'Cabin', 'Embarked'],\n",
       "      dtype='object')"
      ]
     },
     "execution_count": 13,
     "metadata": {},
     "output_type": "execute_result"
    }
   ],
   "source": [
    "d3.columns"
   ]
  },
  {
   "cell_type": "code",
   "execution_count": 14,
   "id": "6a03672a",
   "metadata": {},
   "outputs": [
    {
     "data": {
      "text/plain": [
       "<AxesSubplot:xlabel='Survived', ylabel='Age'>"
      ]
     },
     "execution_count": 14,
     "metadata": {},
     "output_type": "execute_result"
    },
    {
     "data": {
      "image/png": "[encoded data removed]",
      "text/plain": [
       "<Figure size 432x288 with 1 Axes>"
      ]
     },
     "metadata": {
      "needs_background": "light"
     },
     "output_type": "display_data"
    }
   ],
   "source": [
    "sns.barplot(data=d3,x='Survived',y='Age',hue='Sex')"
   ]
  },
  {
   "cell_type": "code",
   "execution_count": 15,
   "id": "694a4f2e",
   "metadata": {},
   "outputs": [
    {
     "data": {
      "text/plain": [
       "<AxesSubplot:xlabel='Survived', ylabel='count'>"
      ]
     },
     "execution_count": 15,
     "metadata": {},
     "output_type": "execute_result"
    },
    {
     "data": {
      "image/png": "[encoded data removed]",
      "text/plain": [
       "<Figure size 432x288 with 1 Axes>"
      ]
     },
     "metadata": {
      "needs_background": "light"
     },
     "output_type": "display_data"
    }
   ],
   "source": [
    "sns.countplot(d3['Survived'])"
   ]
  },
  {
   "cell_type": "code",
   "execution_count": 16,
   "id": "00d4704e",
   "metadata": {},
   "outputs": [
    {
     "data": {
      "text/plain": [
       "<AxesSubplot:xlabel='Embarked', ylabel='count'>"
      ]
     },
     "execution_count": 16,
     "metadata": {},
     "output_type": "execute_result"
    },
    {
     "data": {
      "image/png": "[encoded data removed]",
      "text/plain": [
       "<Figure size 432x288 with 1 Axes>"
      ]
     },
     "metadata": {
      "needs_background": "light"
     },
     "output_type": "display_data"
    }
   ],
   "source": [
    "sns.countplot(d3['Embarked'])"
   ]
  },
  {
   "cell_type": "code",
   "execution_count": 17,
   "id": "0642b3c1",
   "metadata": {},
   "outputs": [
    {
     "data": {
      "text/plain": [
       "<AxesSubplot:xlabel='Pclass', ylabel='count'>"
      ]
     },
     "execution_count": 17,
     "metadata": {},
     "output_type": "execute_result"
    },
    {
     "data": {
      "image/png": "[encoded data removed]",
      "text/plain": [
       "<Figure size 432x288 with 1 Axes>"
      ]
     },
     "metadata": {
      "needs_background": "light"
     },
     "output_type": "display_data"
    }
   ],
   "source": [
    "sns.countplot(x='Pclass',hue='Survived',data=d3)"
   ]
  },
  {
   "cell_type": "code",
   "execution_count": 18,
   "id": "aba0b665",
   "metadata": {},
   "outputs": [],
   "source": [
    "tips= sns.load_dataset('tips')"
   ]
  },
  {
   "cell_type": "code",
   "execution_count": 19,
   "id": "1564d34f",
   "metadata": {},
   "outputs": [
    {
     "data": {
      "text/html": [
       "<div>\n",
       "<style scoped>\n",
       "    .dataframe tbody tr th:only-of-type {\n",
       "        vertical-align: middle;\n",
       "    }\n",
       "\n",
       "    .dataframe tbody tr th {\n",
       "        vertical-align: top;\n",
       "    }\n",
       "\n",
       "    .dataframe thead th {\n",
       "        text-align: right;\n",
       "    }\n",
       "</style>\n",
       "<table border=\"1\" class=\"dataframe\">\n",
       "  <thead>\n",
       "    <tr style=\"text-align: right;\">\n",
       "      <th></th>\n",
       "      <th>total_bill</th>\n",
       "      <th>tip</th>\n",
       "      <th>sex</th>\n",
       "      <th>smoker</th>\n",
       "      <th>day</th>\n",
       "      <th>time</th>\n",
       "      <th>size</th>\n",
       "    </tr>\n",
       "  </thead>\n",
       "  <tbody>\n",
       "    <tr>\n",
       "      <th>0</th>\n",
       "      <td>16.99</td>\n",
       "      <td>1.01</td>\n",
       "      <td>Female</td>\n",
       "      <td>No</td>\n",
       "      <td>Sun</td>\n",
       "      <td>Dinner</td>\n",
       "      <td>2</td>\n",
       "    </tr>\n",
       "    <tr>\n",
       "      <th>1</th>\n",
       "      <td>10.34</td>\n",
       "      <td>1.66</td>\n",
       "      <td>Male</td>\n",
       "      <td>No</td>\n",
       "      <td>Sun</td>\n",
       "      <td>Dinner</td>\n",
       "      <td>3</td>\n",
       "    </tr>\n",
       "    <tr>\n",
       "      <th>2</th>\n",
       "      <td>21.01</td>\n",
       "      <td>3.50</td>\n",
       "      <td>Male</td>\n",
       "      <td>No</td>\n",
       "      <td>Sun</td>\n",
       "      <td>Dinner</td>\n",
       "      <td>3</td>\n",
       "    </tr>\n",
       "    <tr>\n",
       "      <th>3</th>\n",
       "      <td>23.68</td>\n",
       "      <td>3.31</td>\n",
       "      <td>Male</td>\n",
       "      <td>No</td>\n",
       "      <td>Sun</td>\n",
       "      <td>Dinner</td>\n",
       "      <td>2</td>\n",
       "    </tr>\n",
       "    <tr>\n",
       "      <th>4</th>\n",
       "      <td>24.59</td>\n",
       "      <td>3.61</td>\n",
       "      <td>Female</td>\n",
       "      <td>No</td>\n",
       "      <td>Sun</td>\n",
       "      <td>Dinner</td>\n",
       "      <td>4</td>\n",
       "    </tr>\n",
       "    <tr>\n",
       "      <th>...</th>\n",
       "      <td>...</td>\n",
       "      <td>...</td>\n",
       "      <td>...</td>\n",
       "      <td>...</td>\n",
       "      <td>...</td>\n",
       "      <td>...</td>\n",
       "      <td>...</td>\n",
       "    </tr>\n",
       "    <tr>\n",
       "      <th>239</th>\n",
       "      <td>29.03</td>\n",
       "      <td>5.92</td>\n",
       "      <td>Male</td>\n",
       "      <td>No</td>\n",
       "      <td>Sat</td>\n",
       "      <td>Dinner</td>\n",
       "      <td>3</td>\n",
       "    </tr>\n",
       "    <tr>\n",
       "      <th>240</th>\n",
       "      <td>27.18</td>\n",
       "      <td>2.00</td>\n",
       "      <td>Female</td>\n",
       "      <td>Yes</td>\n",
       "      <td>Sat</td>\n",
       "      <td>Dinner</td>\n",
       "      <td>2</td>\n",
       "    </tr>\n",
       "    <tr>\n",
       "      <th>241</th>\n",
       "      <td>22.67</td>\n",
       "      <td>2.00</td>\n",
       "      <td>Male</td>\n",
       "      <td>Yes</td>\n",
       "      <td>Sat</td>\n",
       "      <td>Dinner</td>\n",
       "      <td>2</td>\n",
       "    </tr>\n",
       "    <tr>\n",
       "      <th>242</th>\n",
       "      <td>17.82</td>\n",
       "      <td>1.75</td>\n",
       "      <td>Male</td>\n",
       "      <td>No</td>\n",
       "      <td>Sat</td>\n",
       "      <td>Dinner</td>\n",
       "      <td>2</td>\n",
       "    </tr>\n",
       "    <tr>\n",
       "      <th>243</th>\n",
       "      <td>18.78</td>\n",
       "      <td>3.00</td>\n",
       "      <td>Female</td>\n",
       "      <td>No</td>\n",
       "      <td>Thur</td>\n",
       "      <td>Dinner</td>\n",
       "      <td>2</td>\n",
       "    </tr>\n",
       "  </tbody>\n",
       "</table>\n",
       "<p>244 rows × 7 columns</p>\n",
       "</div>"
      ],
      "text/plain": [
       "     total_bill   tip     sex smoker   day    time  size\n",
       "0         16.99  1.01  Female     No   Sun  Dinner     2\n",
       "1         10.34  1.66    Male     No   Sun  Dinner     3\n",
       "2         21.01  3.50    Male     No   Sun  Dinner     3\n",
       "3         23.68  3.31    Male     No   Sun  Dinner     2\n",
       "4         24.59  3.61  Female     No   Sun  Dinner     4\n",
       "..          ...   ...     ...    ...   ...     ...   ...\n",
       "239       29.03  5.92    Male     No   Sat  Dinner     3\n",
       "240       27.18  2.00  Female    Yes   Sat  Dinner     2\n",
       "241       22.67  2.00    Male    Yes   Sat  Dinner     2\n",
       "242       17.82  1.75    Male     No   Sat  Dinner     2\n",
       "243       18.78  3.00  Female     No  Thur  Dinner     2\n",
       "\n",
       "[244 rows x 7 columns]"
      ]
     },
     "execution_count": 19,
     "metadata": {},
     "output_type": "execute_result"
    }
   ],
   "source": [
    "tips"
   ]
  },
  {
   "cell_type": "code",
   "execution_count": 20,
   "id": "e2adf1d0",
   "metadata": {},
   "outputs": [
    {
     "data": {
      "text/html": [
       "<div>\n",
       "<style scoped>\n",
       "    .dataframe tbody tr th:only-of-type {\n",
       "        vertical-align: middle;\n",
       "    }\n",
       "\n",
       "    .dataframe tbody tr th {\n",
       "        vertical-align: top;\n",
       "    }\n",
       "\n",
       "    .dataframe thead th {\n",
       "        text-align: right;\n",
       "    }\n",
       "</style>\n",
       "<table border=\"1\" class=\"dataframe\">\n",
       "  <thead>\n",
       "    <tr style=\"text-align: right;\">\n",
       "      <th></th>\n",
       "      <th>total_bill</th>\n",
       "      <th>tip</th>\n",
       "      <th>size</th>\n",
       "    </tr>\n",
       "  </thead>\n",
       "  <tbody>\n",
       "    <tr>\n",
       "      <th>total_bill</th>\n",
       "      <td>1.000000</td>\n",
       "      <td>0.675734</td>\n",
       "      <td>0.598315</td>\n",
       "    </tr>\n",
       "    <tr>\n",
       "      <th>tip</th>\n",
       "      <td>0.675734</td>\n",
       "      <td>1.000000</td>\n",
       "      <td>0.489299</td>\n",
       "    </tr>\n",
       "    <tr>\n",
       "      <th>size</th>\n",
       "      <td>0.598315</td>\n",
       "      <td>0.489299</td>\n",
       "      <td>1.000000</td>\n",
       "    </tr>\n",
       "  </tbody>\n",
       "</table>\n",
       "</div>"
      ],
      "text/plain": [
       "            total_bill       tip      size\n",
       "total_bill    1.000000  0.675734  0.598315\n",
       "tip           0.675734  1.000000  0.489299\n",
       "size          0.598315  0.489299  1.000000"
      ]
     },
     "execution_count": 20,
     "metadata": {},
     "output_type": "execute_result"
    }
   ],
   "source": [
    "tips.corr()"
   ]
  },
  {
   "cell_type": "code",
   "execution_count": 21,
   "id": "0284fb7d",
   "metadata": {},
   "outputs": [
    {
     "data": {
      "text/plain": [
       "<AxesSubplot:>"
      ]
     },
     "execution_count": 21,
     "metadata": {},
     "output_type": "execute_result"
    },
    {
     "data": {
      "image/png": "[encoded data removed]",
      "text/plain": [
       "<Figure size 432x288 with 2 Axes>"
      ]
     },
     "metadata": {
      "needs_background": "light"
     },
     "output_type": "display_data"
    }
   ],
   "source": [
    "sns.heatmap(tips.corr(),annot=True)"
   ]
  },
  {
   "cell_type": "code",
   "execution_count": 22,
   "id": "79043156",
   "metadata": {},
   "outputs": [
    {
     "data": {
      "text/plain": [
       "<AxesSubplot:xlabel='total_bill', ylabel='day'>"
      ]
     },
     "execution_count": 22,
     "metadata": {},
     "output_type": "execute_result"
    },
    {
     "data": {
      "image/png": "[encoded data removed]",
      "text/plain": [
       "<Figure size 432x288 with 1 Axes>"
      ]
     },
     "metadata": {
      "needs_background": "light"
     },
     "output_type": "display_data"
    }
   ],
   "source": [
    "sns.violinplot(x='total_bill',y='day',data=tips)"
   ]
  },
  {
   "cell_type": "code",
   "execution_count": 23,
   "id": "634c2e57",
   "metadata": {},
   "outputs": [
    {
     "data": {
      "text/plain": [
       "<seaborn.axisgrid.FacetGrid at 0x25a0bccda00>"
      ]
     },
     "execution_count": 23,
     "metadata": {},
     "output_type": "execute_result"
    },
    {
     "data": {
      "image/png": "[encoded data removed]",
      "text/plain": [
       "<Figure size 360x360 with 1 Axes>"
      ]
     },
     "metadata": {
      "needs_background": "light"
     },
     "output_type": "display_data"
    }
   ],
   "source": [
    "sns.catplot(x='total_bill',y='day',data=tips)"
   ]
  },
  {
   "cell_type": "code",
   "execution_count": 24,
   "id": "b7606a26",
   "metadata": {},
   "outputs": [
    {
     "data": {
      "text/plain": [
       "<seaborn.axisgrid.FacetGrid at 0x25a0bc28d00>"
      ]
     },
     "execution_count": 24,
     "metadata": {},
     "output_type": "execute_result"
    },
    {
     "data": {
      "image/png": "[encoded data removed]",
      "text/plain": [
       "<Figure size 360x360 with 1 Axes>"
      ]
     },
     "metadata": {
      "needs_background": "light"
     },
     "output_type": "display_data"
    }
   ],
   "source": [
    "sns.catplot(x='tip',y='day',data=tips)"
   ]
  },
  {
   "cell_type": "code",
   "execution_count": 25,
   "id": "233231a7",
   "metadata": {},
   "outputs": [
    {
     "data": {
      "text/plain": [
       "<seaborn.axisgrid.FacetGrid at 0x25a0bd29d90>"
      ]
     },
     "execution_count": 25,
     "metadata": {},
     "output_type": "execute_result"
    },
    {
     "data": {
      "image/png": "[encoded data removed]",
      "text/plain": [
       "<Figure size 772x360 with 2 Axes>"
      ]
     },
     "metadata": {
      "needs_background": "light"
     },
     "output_type": "display_data"
    }
   ],
   "source": [
    "\n",
    "sns.relplot(x='total_bill', y='tip', hue='smoker', col='time',data=tips)"
   ]
  },
  {
   "cell_type": "code",
   "execution_count": 26,
   "id": "c69173ad",
   "metadata": {},
   "outputs": [
    {
     "data": {
      "text/plain": [
       "<AxesSubplot:xlabel='day', ylabel='total_bill'>"
      ]
     },
     "execution_count": 26,
     "metadata": {},
     "output_type": "execute_result"
    },
    {
     "data": {
      "image/png": "[encoded data removed]",
      "text/plain": [
       "<Figure size 432x288 with 1 Axes>"
      ]
     },
     "metadata": {
      "needs_background": "light"
     },
     "output_type": "display_data"
    }
   ],
   "source": [
    "### swarm plot\n",
    "\n",
    "sns.swarmplot(x='day', y='total_bill', data=tips)"
   ]
  },
  {
   "cell_type": "code",
   "execution_count": 27,
   "id": "66bdc25a",
   "metadata": {},
   "outputs": [
    {
     "data": {
      "text/plain": [
       "<seaborn.axisgrid.FacetGrid at 0x25a0bf278e0>"
      ]
     },
     "execution_count": 27,
     "metadata": {},
     "output_type": "execute_result"
    },
    {
     "data": {
      "image/png": "[encoded data removed]",
      "text/plain": [
       "<Figure size 360x360 with 1 Axes>"
      ]
     },
     "metadata": {
      "needs_background": "light"
     },
     "output_type": "display_data"
    }
   ],
   "source": [
    "sns.lmplot(x='total_bill', y='tip', data=tips)"
   ]
  },
  {
   "cell_type": "code",
   "execution_count": 28,
   "id": "074fe630",
   "metadata": {},
   "outputs": [],
   "source": [
    "# pip install plotly"
   ]
  },
  {
   "cell_type": "code",
   "execution_count": 29,
   "id": "8a26861b",
   "metadata": {},
   "outputs": [],
   "source": [
    "# pip install cufflinks"
   ]
  },
  {
   "cell_type": "code",
   "execution_count": 30,
   "id": "1124dc6c",
   "metadata": {},
   "outputs": [],
   "source": [
    "\n",
    "import cufflinks as cf\n",
    "from plotly.offline import download_plotlyjs, init_notebook_mode, plot, iplot"
   ]
  },
  {
   "cell_type": "code",
   "execution_count": 31,
   "id": "878cf977",
   "metadata": {},
   "outputs": [
    {
     "data": {
      "text/html": [
       "        <script type=\"text/javascript\">\n",
       "        window.PlotlyConfig = {MathJaxConfig: 'local'};\n",
       "        if (window.MathJax) {MathJax.Hub.Config({SVG: {font: \"STIX-Web\"}});}\n",
       "        if (typeof require !== 'undefined') {\n",
       "        require.undef(\"plotly\");\n",
       "        requirejs.config({\n",
       "            paths: {\n",
       "                'plotly': ['https://cdn.plot.ly/plotly-2.9.0.min']\n",
       "            }\n",
       "        });\n",
       "        require(['plotly'], function(Plotly) {\n",
       "            window._Plotly = Plotly;\n",
       "        });\n",
       "        }\n",
       "        </script>\n",
       "        "
      ]
     },
     "metadata": {},
     "output_type": "display_data"
    }
   ],
   "source": [
    "init_notebook_mode(connected=True)"
   ]
  },
  {
   "cell_type": "code",
   "execution_count": 32,
   "id": "2483d6dc",
   "metadata": {},
   "outputs": [
    {
     "data": {
      "text/html": [
       "        <script type=\"text/javascript\">\n",
       "        window.PlotlyConfig = {MathJaxConfig: 'local'};\n",
       "        if (window.MathJax) {MathJax.Hub.Config({SVG: {font: \"STIX-Web\"}});}\n",
       "        if (typeof require !== 'undefined') {\n",
       "        require.undef(\"plotly\");\n",
       "        requirejs.config({\n",
       "            paths: {\n",
       "                'plotly': ['https://cdn.plot.ly/plotly-2.9.0.min']\n",
       "            }\n",
       "        });\n",
       "        require(['plotly'], function(Plotly) {\n",
       "            window._Plotly = Plotly;\n",
       "        });\n",
       "        }\n",
       "        </script>\n",
       "        "
      ]
     },
     "metadata": {},
     "output_type": "display_data"
    }
   ],
   "source": [
    "cf.go_offline()"
   ]
  },
  {
   "cell_type": "code",
   "execution_count": 33,
   "id": "a91c9336",
   "metadata": {},
   "outputs": [],
   "source": [
    "df1=pd.DataFrame(np.random.rand(500,4), columns=['a','b', 'c', 'd'])"
   ]
  },
  {
   "cell_type": "code",
   "execution_count": 34,
   "id": "3404b58f",
   "metadata": {},
   "outputs": [],
   "source": [
    "df2=pd.DataFrame({'x': ['p', 'q','r'],\n",
    "                  'y': [1,2,3]})"
   ]
  },
  {
   "cell_type": "code",
   "execution_count": 35,
   "id": "11735e15",
   "metadata": {},
   "outputs": [
    {
     "data": {
      "application/vnd.plotly.v1+json": {
       "config": {
        "linkText": "Export to plot.ly",
        "plotlyServerURL": "https://plot.ly",
        "showLink": true
       },
       "data": [
        {
         "line": {
          "color": "rgba(255, 153, 51, 1.0)",
          "dash": "solid",
          "shape": "linear",
          "width": 1.3
         },
         "marker": {
          "size": 12,
          "symbol": "circle"
         },
         "mode": "markers",
         "name": "d",
         "text": "",
         "type": "scatter",
         "x": [
          0.31533955181718865,
          0.5539099718182233,
          0.2666417393009075,
          0.1318162477853121,
          0.729653956549174,
          0.8192210306761991,
          0.4939069359701074,
          0.1813840112567856,
          0.449774246386061,
          0.146637400784132,
          0.714662180447274,
          0.5217108795117404,
          0.8101427369328545,
          0.8975462537790665,
          0.3964417305041329,
          0.08162014225986236,
          0.022206075715433538,
          0.6748537135189757,
          0.3147346163911692,
          0.16688001809209596,
          0.9422801763296061,
          0.9547942881039463,
          0.07390601081021186,
          0.7022021027566704,
          0.3469143616182123,
          0.642746736511665,
          0.7896791247853495,
          0.74417184461802,
          0.026144571607043643,
          0.9626469024085974,
          0.4174972858275491,
          0.1565695321853049,
          0.4799136924412104,
          0.25335055782871596,
          0.9477353413422079,
          0.09125607482387976,
          0.6581491963557563,
          0.7592392703944322,
          0.32873718974100896,
          0.5483985168211517,
          0.9767905578420882,
          0.9135498054103689,
          0.7520356116980934,
          0.9107100650279418,
          0.10616570471715692,
          0.07601030232413186,
          0.22206663623045075,
          0.28020447221909006,
          0.14220715408610296,
          0.8459439878396496,
          0.29797574313920483,
          0.015129572694585813,
          0.6088120664067928,
          0.7043941512000748,
          0.34683135657586894,
          0.15517177489859313,
          0.1626002347139619,
          0.525009946277439,
          0.36263960887806745,
          0.7614420559396978,
          0.8651369975277277,
          0.9811615891471893,
          0.3095333406727093,
          0.44236705699295487,
          0.1187643042047063,
          0.015998146211446573,
          0.9711760811899413,
          0.20862730920450945,
          0.644912649804916,
          0.44279999369057277,
          0.634910752766904,
          0.9777813919871908,
          0.5654203587608152,
          0.9874448491753217,
          0.28523051038173797,
          0.45806551274636764,
          0.14135926882014593,
          0.4400566448691591,
          0.08830629876181029,
          0.19965698044449076,
          0.25313147744512,
          0.6939349103546347,
          0.4453763003985114,
          0.6672623881516286,
          0.2098082998718892,
          0.3506192976391046,
          0.02442771689866796,
          0.513776898132248,
          0.5910381412215956,
          0.5209761205137036,
          0.6618802970295192,
          0.4424526801341877,
          0.07097665071927128,
          0.5806221636078759,
          0.4872225804116982,
          0.2281380039741171,
          0.3145250411567503,
          0.09638022581070027,
          0.5113415485749805,
          0.6040281606370371,
          0.998027027945057,
          0.13585353459230753,
          0.17419492619131327,
          0.4900894468202843,
          0.20469649206733653,
          0.1261099144964557,
          0.10835351919096303,
          0.26913485733225295,
          0.5116026171279839,
          0.4252345049849552,
          0.2581459903921194,
          0.24777138845648594,
          0.3325791542667633,
          0.5301080368129482,
          0.3513249917748684,
          0.2107597084523748,
          0.26556160766117054,
          0.26703643748587413,
          0.24470953914841198,
          0.45740687005682323,
          0.28974049948204506,
          0.9908500245902632,
          0.2889797211939359,
          0.3887872093337794,
          0.24591102821103394,
          0.6538264313096293,
          0.391610688773082,
          0.9906976475791653,
          0.8000276620839741,
          0.009139176679967553,
          0.6740206464125772,
          0.9185713673788906,
          0.8319248885266184,
          0.7582422178361462,
          0.04152956448926026,
          0.6829016090982518,
          0.489640569047593,
          0.623549032170599,
          0.01043135130835704,
          0.2120896521607577,
          0.4217803957147419,
          0.5424784978555686,
          0.43915507862224723,
          0.20928858150603769,
          0.7291407271899949,
          0.057033464451014426,
          0.9297429573120197,
          0.5205849443530205,
          0.7667273700270555,
          0.4949568257495808,
          0.4892995904557955,
          0.30622766098218424,
          0.7423513412973544,
          0.0020096433704722694,
          0.6718414037137121,
          0.8976986529228543,
          0.9529714173265226,
          0.38375753184085704,
          0.6339943680988663,
          0.0752373151355652,
          0.8481716409955118,
          0.19607533108777853,
          0.2754063533251244,
          0.9052156113189532,
          0.5999994635657384,
          0.8874993757693707,
          0.22092137157708414,
          0.20661910113608706,
          0.5407945021913356,
          0.06325418733593513,
          0.3701627854351238,
          0.6200160402968607,
          0.8874803648992815,
          0.44891355302011504,
          0.2081494611113721,
          0.844070013822957,
          0.9127227446821767,
          0.575436734298689,
          0.08384028525709919,
          0.4709278790688123,
          0.7012958015565698,
          0.5511897079618394,
          0.09774718583721853,
          0.14644672557672433,
          0.2562451038779996,
          0.31981130061068386,
          0.1812035186616906,
          0.2998025479451456,
          0.10820740568324883,
          0.5863417173733123,
          0.647408703951146,
          0.7445881632255842,
          0.5042488942541761,
          0.06085006350397293,
          0.39138201871398826,
          0.024635125333483776,
          0.8972284369790708,
          0.5720531807227263,
          0.03345337252379865,
          0.2846920513856751,
          0.6602541797587645,
          0.7552671047040734,
          0.8731257010896759,
          0.5707658472235007,
          0.6854820707987713,
          0.3272197431879975,
          0.11827138085026989,
          0.943356830539741,
          0.3675499682098089,
          0.4087227858757101,
          0.5659667845722709,
          0.03473571153804167,
          0.8311473502833757,
          0.12275157229626588,
          0.5506307889519095,
          0.9195563350338799,
          0.969525762885705,
          0.5258360815406782,
          0.7896425937261154,
          0.18785542066685634,
          0.4966217970214817,
          0.8087016322179085,
          0.5849988565977011,
          0.14158745546520113,
          0.438605710612186,
          0.7882383845542579,
          0.5143043242454258,
          0.27856388799780674,
          0.06482219162527281,
          0.6644815140882653,
          0.47912708794407566,
          0.12854673646498638,
          0.12376596689609831,
          0.9237219847676819,
          0.467798005457181,
          0.7957508516990494,
          0.7977242268059694,
          0.49861406169861,
          0.9149975562293388,
          0.7569963014387762,
          0.07576827276259634,
          0.823581653729435,
          0.45949768736972263,
          0.4864158410181765,
          0.9850103703109149,
          0.32599468767922435,
          0.6945836017152602,
          0.2889265362519736,
          0.7763488673107458,
          0.45081471583395194,
          0.7739354422587356,
          0.06964047461867329,
          0.5087237857023192,
          0.41684476828211603,
          0.00986002574320377,
          0.6860828358568125,
          0.5354346458823234,
          0.9481730549765187,
          0.7835327873065019,
          0.8915387535394164,
          0.06321709711568124,
          0.6400092902404513,
          0.6374956409664728,
          0.10664605321649467,
          0.3784734527942416,
          0.26266140797825455,
          0.2941043234002704,
          0.1406340588096633,
          0.09762408215905005,
          0.8209681460557213,
          0.24033029362660263,
          0.926718836526074,
          0.3920294237944464,
          0.9703856553950871,
          0.07894295784631511,
          0.6650549007760983,
          0.36733389044615794,
          0.39902362452783735,
          0.9647913231592269,
          0.6541096318260253,
          0.14266871725998997,
          0.4291822299541691,
          0.08107747892932204,
          0.5656206975633992,
          0.38462010861668494,
          0.4730728016063779,
          0.8556205537942306,
          0.2169883345227942,
          0.05614448048502618,
          0.20597828387203976,
          0.5721261803538987,
          0.955810437417393,
          0.10556711823231335,
          0.9687948345570477,
          0.529654421185744,
          0.2101818503831051,
          0.33730785730697566,
          0.035348578391122376,
          0.8992217722739119,
          0.6941934725697088,
          0.04364438421505923,
          0.6037329558766491,
          0.08055000423946734,
          0.690597169301423,
          0.49485804410366463,
          0.2781045535893393,
          0.07091028523363796,
          0.14414949973675195,
          0.4098515516017355,
          0.6031258671623162,
          0.06076815504794053,
          0.3745519927394365,
          0.6120225936685076,
          0.8887956452411813,
          0.8539011974076943,
          0.24473245555954626,
          0.4116661233150418,
          0.27185327345215726,
          0.4396799034934039,
          0.9553763391047527,
          0.7102793666855295,
          0.2516366780418633,
          0.2825555758865148,
          0.33288479070654897,
          0.8257565414830713,
          0.880191955784801,
          0.8775352722975729,
          0.8136166838855338,
          0.5232612206078966,
          0.3467995051661257,
          0.18941828192441157,
          0.6410966161917488,
          0.6832470008284096,
          0.740609948014194,
          0.2894888127289381,
          0.5600915994786737,
          0.005836940270658397,
          0.5673259174590995,
          0.5148016593357911,
          0.9407958063456531,
          0.20083848872895282,
          0.9451531138867133,
          0.0248198965515265,
          0.20382084585895377,
          0.6748941843748144,
          0.4400411268729253,
          0.011268896993052224,
          0.1452752632302825,
          0.8433333402235555,
          0.7321304022719771,
          0.09628604386359585,
          0.3824759819179602,
          0.9455274162029241,
          0.4111312113833526,
          0.27360402719517907,
          0.43213716133357993,
          0.48688759437415485,
          0.5176905064780482,
          0.09256688035960514,
          0.9197833849442669,
          0.4143881804574212,
          0.9313811233356847,
          0.21977443168265087,
          0.35619148131741896,
          0.19168419702892114,
          0.29675422327329015,
          0.2734046021004116,
          0.33463417183037825,
          0.8543608424977411,
          0.08599472043195633,
          0.29012249512213517,
          0.062393558512348735,
          0.49594823808499733,
          0.1887159149603388,
          0.2790601893564053,
          0.8510343803011101,
          0.262404022275301,
          0.6469455624298385,
          0.19703780388073744,
          0.8491372844706299,
          0.6817487631325079,
          0.4876644831199495,
          0.6353264089443244,
          0.3751847558173308,
          0.40684590643420604,
          0.7273292916569379,
          0.21842649333570696,
          0.4768986303492899,
          0.6062481802502198,
          0.762006382279796,
          0.9206797368960087,
          0.3329753911173957,
          0.8408820592276643,
          0.37373749556655034,
          0.03165760096857273,
          0.5250984022575503,
          0.06435532506413144,
          0.46459315764048603,
          0.037105684334086564,
          0.6090594042931998,
          0.2776174517346822,
          0.2554355923615207,
          0.23866473301499647,
          0.1604452076098356,
          0.6249024505629704,
          0.6540370819019438,
          0.08519051988352444,
          0.7941409892875959,
          0.6038717405045155,
          0.3971072335069672,
          0.8493819968320634,
          0.6003316618595556,
          0.5897936461359236,
          0.7961374192696908,
          0.6948081375322813,
          0.41871640217731454,
          0.5786981768356295,
          0.829769275054972,
          0.8528112489716281,
          0.41693779195993674,
          0.4413510930887171,
          0.6520033000480051,
          0.2360590953626004,
          0.4786895608570021,
          0.5443648971195442,
          0.34290180847628804,
          0.47512781849843433,
          0.562263050291712,
          0.08444485508011024,
          0.15811507541657077,
          0.7310924617388328,
          0.4556045319554062,
          0.058222122501998874,
          0.7113350175186673,
          0.7588741865789924,
          0.7843678294708714,
          0.31351762927696014,
          0.8073544390932376,
          0.3484882429383128,
          0.23710003767052956,
          0.6694210827933059,
          0.6246564876311518,
          0.06296487289289099,
          0.44023156893651405,
          0.5322482157786838,
          0.2311623159977234,
          0.17788063756571082,
          0.16923138071495603,
          0.02146651008966627,
          0.035574452050256444,
          0.9809599528742875,
          0.6783455515699552,
          0.595584570442391,
          0.3206385064882562,
          0.6511458389173512,
          0.5733461807192132,
          0.42239168228596946,
          0.7257744684126598,
          0.9935719569781173,
          0.12412097461087113,
          0.614509726045759,
          0.587295323236953,
          0.025282258841565763,
          0.07914829628042497,
          0.5070866555826244,
          0.09695031124234876,
          0.6266129473829848,
          0.07938889378707115,
          0.8146234170063464,
          0.7509843617315421,
          0.25348528580297913,
          0.2680025455095203,
          0.2034325199722441,
          0.2876387183896234,
          0.040757291983899546,
          0.5714855108009546,
          0.27757434780632817,
          0.6812848818799894,
          0.27361431421844595,
          0.9719026738691542,
          0.6695179712723569,
          0.03184146646951336,
          0.2655006003657313,
          0.8406761706891539,
          0.571869306172972,
          0.4835754279520277,
          0.8340073038907573,
          0.11802140981805587,
          0.7705430894642158,
          0.27744882129356274,
          0.14227494143094666,
          0.31293206808516427,
          0.6633868190715252,
          0.9120391626938426,
          0.5345789285646249,
          0.6210763706663569,
          0.3499785158954316,
          0.2205353792407082,
          0.35867978150744306,
          0.43908092999024373
         ],
         "y": [
          0.6841944341332977,
          0.707725760921391,
          0.8351021740493405,
          0.4277509358052517,
          0.8734872723527567,
          0.3326912233452234,
          0.6360918362984774,
          0.23422520050032103,
          0.99252391858371,
          0.2845213864624636,
          0.1727287355964663,
          0.4130836302159361,
          0.48388838345004004,
          0.9944220593326139,
          0.6709435234590244,
          0.7025516953937757,
          0.12760763493446647,
          0.7095813675629565,
          0.3701387267162398,
          0.5149851457515003,
          0.02401523192975752,
          0.3331670960057843,
          0.9373245099534951,
          0.17976905220137807,
          0.8205160315316463,
          0.5207760681581942,
          0.8001719453926847,
          0.5416925043104881,
          0.5465572652984347,
          0.619165398372604,
          0.7478535954186895,
          0.7666169369859117,
          0.8068184489848341,
          0.36342196090813206,
          0.020868054297283,
          0.7257717048623592,
          0.6455875156570352,
          0.8269404893959796,
          0.8752309656738617,
          0.32500237143615696,
          0.5144731751736518,
          0.3119884064769405,
          0.901396344374955,
          0.9485269360807991,
          0.025710850680750075,
          0.5124182729033245,
          0.9364026171116198,
          0.18661068897245447,
          0.8774736228261043,
          0.11549225027028487,
          0.6512108509094218,
          0.7387219560556729,
          0.13366120790150104,
          0.2879665112934344,
          0.7195106504121997,
          0.4990799402392625,
          0.23709385393358373,
          0.05884068807462994,
          0.8313939331241377,
          0.009536255193150045,
          0.7035993679723365,
          0.22888227904312253,
          0.9464639561982651,
          0.10849702313347354,
          0.21535976314869643,
          0.42198266431206544,
          0.18188282342292406,
          0.47771568756408755,
          0.31949264549889045,
          0.1862096716603706,
          0.7472330847843147,
          0.7218558939708629,
          0.8604088252267619,
          0.5226096356525469,
          0.27775151301661594,
          0.959690741926741,
          0.07274514962389456,
          0.8363411590491032,
          0.20446198711971297,
          0.8627045044965447,
          0.8955111093147896,
          0.5762794770322743,
          0.875698369767816,
          0.5488217738083587,
          0.382012005153719,
          0.7852782101048688,
          0.8322472246368265,
          0.8214910050521808,
          0.7459870568952911,
          0.6077951471863287,
          0.2606572102822071,
          0.21946217401252432,
          0.9289826882225608,
          0.26977774090896134,
          0.37689505599082385,
          0.018427460582400967,
          0.6749355486168331,
          0.44087259695826886,
          0.7358750874427759,
          0.6430853519067729,
          0.81615575566659,
          0.0785846848915347,
          0.9626600885515808,
          0.08548017924038853,
          0.8865756442642901,
          0.43873920406927336,
          0.09685736215171648,
          0.8691669332260148,
          0.9455138837085073,
          0.9588694236423598,
          0.08471277441912684,
          0.6982761326612253,
          0.02091658819068143,
          0.3906936748769527,
          0.5198534930130753,
          0.2818491307599327,
          0.48628869770292005,
          0.37125808928160675,
          0.3818812984067673,
          0.4455155161973763,
          0.4723197761054725,
          0.40044769559189586,
          0.11692886212047549,
          0.0720636054995295,
          0.7937342788798087,
          0.260593685587177,
          0.9136596699001885,
          0.9687955190150279,
          0.0707775036274626,
          0.37257851489087845,
          0.8451612107155395,
          0.557242114799216,
          0.42123069294179727,
          0.7664997173030229,
          0.3745175821431095,
          0.888388612785429,
          0.22016529106678728,
          0.6642532094290537,
          0.7554261879044237,
          0.9472436677511671,
          0.9770766689467891,
          0.97650996565173,
          0.9144242335789069,
          0.9839610735683662,
          0.6980664837510339,
          0.1835020880232875,
          0.5334830064298828,
          0.5202146255086177,
          0.13364449279311064,
          0.39951461261472687,
          0.4135188984131193,
          0.25711094108987975,
          0.9027609532878568,
          0.5866533992394346,
          0.8397021590197593,
          0.748554773979922,
          0.23169753496714296,
          0.7473773513257336,
          0.5184021594571886,
          0.1765092148741536,
          0.3234285620462982,
          0.5867911874209459,
          0.6990847598187228,
          0.2886010918107472,
          0.13091449399824173,
          0.6230546244825848,
          0.21320315060370765,
          0.5392364383674273,
          0.5007509306656459,
          0.17419155485557336,
          0.39944023753742386,
          0.16572578062529586,
          0.5375394634366356,
          0.7954639521316933,
          0.8818552126767711,
          0.41447636418799494,
          0.6868568363713574,
          0.3431285778562423,
          0.01792816662097152,
          0.009458317906924307,
          0.503794622926351,
          0.42813963133159216,
          0.3816035516340873,
          0.13778614896040242,
          0.17820736178276697,
          0.5365839050191662,
          0.7799447830974946,
          0.42135229264928487,
          0.39237250688842407,
          0.027995256718249317,
          0.5232653431486308,
          0.36781750195547314,
          0.4217856865061276,
          0.9284549485726601,
          0.03900319810240804,
          0.560726815706613,
          0.18360208948865597,
          0.4499391524461088,
          0.7517553727215466,
          0.26493074355910784,
          0.6784579093562366,
          0.7776872571577028,
          0.9902404392686107,
          0.12885009678007964,
          0.6343741906183117,
          0.370902057407952,
          0.021450784250584554,
          0.008768738667580322,
          0.49652628114042285,
          0.07619543886481184,
          0.5731712242173278,
          0.4199485734115713,
          0.8417925075956321,
          0.12871658037749256,
          0.5664718975049619,
          0.6900338304071859,
          0.4458080217446889,
          0.5470222818440061,
          0.4147054817358956,
          0.6652755327373926,
          0.6930628205218115,
          0.46348804853771275,
          0.6736921861841506,
          0.843085304813901,
          0.78531813128705,
          0.10105694261257514,
          0.03785740560895123,
          0.6557969474745987,
          0.8213794365139317,
          0.30455161717386436,
          0.2472444653950776,
          0.1926695641240822,
          0.6205309330979063,
          0.14507168611501042,
          0.34402837042276235,
          0.2571776795579037,
          0.9045823245481572,
          0.03004690552879208,
          0.6078567103964858,
          0.6843350108228909,
          0.9631485320491154,
          0.394505260767571,
          0.2542075829511695,
          0.4333688558147166,
          0.46950717749474935,
          0.5433471996553741,
          0.7685691213700655,
          0.7060620146010376,
          0.02045338330372759,
          0.2419127201020994,
          0.8670911085294932,
          0.8552876995996647,
          0.6856478746285083,
          0.8929331213325862,
          0.33416428514418794,
          0.10391885670927559,
          0.20432469514843787,
          0.8090689047460898,
          0.9892283888382488,
          0.3842839050639524,
          0.9422259155373167,
          0.2080213778720298,
          0.019311681896279853,
          0.3913988884341151,
          0.14526412096471297,
          0.5715730164102083,
          0.7272532594644409,
          0.24181381989546002,
          0.31366585729892626,
          0.4001984429429275,
          0.10423712438463462,
          0.5947379643217354,
          0.930489255183302,
          0.19940952257760558,
          0.6615050608882118,
          0.6132913750073993,
          0.7028373806426804,
          0.7408162193507933,
          0.9456456912184054,
          0.4094482620144815,
          0.5301303662821786,
          0.42415170459427065,
          0.750323657511074,
          0.4798283220470295,
          0.8555180281147121,
          0.2872233600279187,
          0.4609539966962293,
          0.47497792059970123,
          0.30961836928024644,
          0.9045253548905453,
          0.952043308683288,
          0.32468726186319696,
          0.4823909133549852,
          0.1346978681212465,
          0.6222186660945722,
          0.05917417438882344,
          0.3804089095720222,
          0.3952235657956005,
          0.6635929450695989,
          0.4348496934713586,
          0.05132533968535413,
          0.0167241188560302,
          0.6783206465259598,
          0.07100005919947994,
          0.2909424923344608,
          0.0716049175594663,
          0.923604283264406,
          0.26820096431211504,
          0.8628324974932624,
          0.01495645172602178,
          0.5957706891640976,
          0.27060042178535115,
          0.3818009403100726,
          0.7424504784241248,
          0.6672996358191418,
          0.5421221579447603,
          0.5253219143278391,
          0.8647644370199591,
          0.8434827054033226,
          0.40927135749182675,
          0.3720919629486166,
          0.47988266350664277,
          0.8109271581801906,
          0.2908621490875096,
          0.0786385744636634,
          0.4773012375798694,
          0.3964783541144592,
          0.7852213251035577,
          0.22835829782609596,
          0.2869804207277583,
          0.779576469361169,
          0.40763299669476305,
          0.5445225185719704,
          0.7460319924007311,
          0.7444762698342943,
          0.3994806269615956,
          0.8370115785906688,
          0.7254852446261532,
          0.2853066996690695,
          0.27352882341687124,
          0.02816274897406068,
          0.1947839591928845,
          0.8683639546034144,
          0.7534862678124011,
          0.4512043622925468,
          0.8020856228679397,
          0.5880127765340719,
          0.5074520190146559,
          0.46077780840714144,
          0.9348195002049479,
          0.14774083349028755,
          0.5649051787144029,
          0.450055907517368,
          0.22412584523361656,
          0.23604886404808123,
          0.5530354559342496,
          0.3924461167294878,
          0.24759700655838535,
          0.9136501136582617,
          0.20979277489937598,
          0.7038777702519846,
          0.5136219084009356,
          0.7339617215958184,
          0.6599268327074863,
          0.21913602240037655,
          0.6704710825278272,
          0.0982489837560081,
          0.3127883198280069,
          0.5246996033520772,
          0.04764855476961816,
          0.8173756757757584,
          0.46963775190384416,
          0.7683644490399869,
          0.8575137900922785,
          0.5353430390818199,
          0.8016916423969983,
          0.7758609543321477,
          0.7889094207693623,
          0.2742772582889982,
          0.7991613279555696,
          0.5842116266409652,
          0.434804966033253,
          0.14907031296372653,
          0.5191954116365347,
          0.7760946107729086,
          0.09203052996853,
          0.144164355497022,
          0.06009736602510363,
          0.1086602159672112,
          0.695312345924543,
          0.7687435081693622,
          0.10025641622235493,
          0.942607405728154,
          0.8852968599055103,
          0.7521167605757152,
          0.9073030713205952,
          0.5207110124640784,
          0.12669892286489992,
          0.3288192484259128,
          0.07057135780875334,
          0.2954975761646801,
          0.2832116731897951,
          0.47392022225771513,
          0.35114601075626506,
          0.9880155943028865,
          0.5110864237604533,
          0.6093938241623168,
          0.928098813962966,
          0.7548158828332583,
          0.2993123799826142,
          0.3866635788421966,
          0.3663529194223939,
          0.742474686847177,
          0.5138836378329711,
          0.836952001654467,
          0.9464502133252222,
          0.6252865833157106,
          0.38830535138559386,
          0.5978634609834296,
          0.526882620463152,
          0.3120310624322312,
          0.8932225061080125,
          0.16600710481058367,
          0.11508931571173064,
          0.6816377850672607,
          0.46225321285300247,
          0.4921324741390989,
          0.2146416366869357,
          0.5794424435698187,
          0.7595171084302388,
          0.08324013280745757,
          0.7622812461473893,
          0.1061497886759799,
          0.32931864838475877,
          0.4405821776299824,
          0.2225503539552096,
          0.7597914357696103,
          0.9148211767760724,
          0.735641162252936,
          0.2846722308057986,
          0.7765602933487339,
          0.5981442011304126,
          0.7227363591147643,
          0.44482564204260977,
          0.356557364355756,
          0.7407971522668686,
          0.15613477089855576,
          0.10844370055642671,
          0.09771417159403561,
          0.4899178828379648,
          0.1598964581963226,
          0.7206861390555442,
          0.5646990323163209,
          0.09267903358409157,
          0.7522144161887582,
          0.38210677624816947,
          0.3481549827857151,
          0.6038502667486313,
          0.2659803020704724,
          0.1414107737765936,
          0.7705748946942114,
          0.6436841733421657,
          0.4402912988027846,
          0.9080446091350759,
          0.8149876776679409,
          0.7430882438912193,
          0.22439590229631912,
          0.266385964802095,
          0.25353666606470715,
          0.5582121856634517,
          0.29729755629600596,
          0.026227009698253423,
          0.6962979409507339,
          0.8674109329782796,
          0.1439900245829906,
          0.2763222910590344,
          0.8821420911963117,
          0.3277573717973643,
          0.06426205661347206,
          0.0287226710447962,
          0.5406712395652121,
          0.298549629829685,
          0.32398568253527227,
          0.44602622940476533,
          0.41918565073240033,
          0.3129009966362234,
          0.08554274147633845,
          0.29996095324670957,
          0.14034051535772973,
          0.8526910839425038,
          0.660035602203321,
          0.4180302400939401,
          0.23718874690176683,
          0.5538946891545685,
          0.9157271937950261,
          0.2187960692125811,
          0.14840130678304886,
          0.19175643712339552,
          0.8852978159463981,
          0.3698759212116134
         ]
        }
       ],
       "layout": {
        "legend": {
         "bgcolor": "#F5F6F9",
         "font": {
          "color": "#4D5663"
         }
        },
        "paper_bgcolor": "#F5F6F9",
        "plot_bgcolor": "#F5F6F9",
        "template": {
         "data": {
          "bar": [
           {
            "error_x": {
             "color": "#2a3f5f"
            },
            "error_y": {
             "color": "#2a3f5f"
            },
            "marker": {
             "line": {
              "color": "#E5ECF6",
              "width": 0.5
             },
             "pattern": {
              "fillmode": "overlay",
              "size": 10,
              "solidity": 0.2
             }
            },
            "type": "bar"
           }
          ],
          "barpolar": [
           {
            "marker": {
             "line": {
              "color": "#E5ECF6",
              "width": 0.5
             },
             "pattern": {
              "fillmode": "overlay",
              "size": 10,
              "solidity": 0.2
             }
            },
            "type": "barpolar"
           }
          ],
          "carpet": [
           {
            "aaxis": {
             "endlinecolor": "#2a3f5f",
             "gridcolor": "white",
             "linecolor": "white",
             "minorgridcolor": "white",
             "startlinecolor": "#2a3f5f"
            },
            "baxis": {
             "endlinecolor": "#2a3f5f",
             "gridcolor": "white",
             "linecolor": "white",
             "minorgridcolor": "white",
             "startlinecolor": "#2a3f5f"
            },
            "type": "carpet"
           }
          ],
          "choropleth": [
           {
            "colorbar": {
             "outlinewidth": 0,
             "ticks": ""
            },
            "type": "choropleth"
           }
          ],
          "contour": [
           {
            "colorbar": {
             "outlinewidth": 0,
             "ticks": ""
            },
            "colorscale": [
             [
              0,
              "#0d0887"
             ],
             [
              0.1111111111111111,
              "#46039f"
             ],
             [
              0.2222222222222222,
              "#7201a8"
             ],
             [
              0.3333333333333333,
              "#9c179e"
             ],
             [
              0.4444444444444444,
              "#bd3786"
             ],
             [
              0.5555555555555556,
              "#d8576b"
             ],
             [
              0.6666666666666666,
              "#ed7953"
             ],
             [
              0.7777777777777778,
              "#fb9f3a"
             ],
             [
              0.8888888888888888,
              "#fdca26"
             ],
             [
              1,
              "#f0f921"
             ]
            ],
            "type": "contour"
           }
          ],
          "contourcarpet": [
           {
            "colorbar": {
             "outlinewidth": 0,
             "ticks": ""
            },
            "type": "contourcarpet"
           }
          ],
          "heatmap": [
           {
            "colorbar": {
             "outlinewidth": 0,
             "ticks": ""
            },
            "colorscale": [
             [
              0,
              "#0d0887"
             ],
             [
              0.1111111111111111,
              "#46039f"
             ],
             [
              0.2222222222222222,
              "#7201a8"
             ],
             [
              0.3333333333333333,
              "#9c179e"
             ],
             [
              0.4444444444444444,
              "#bd3786"
             ],
             [
              0.5555555555555556,
              "#d8576b"
             ],
             [
              0.6666666666666666,
              "#ed7953"
             ],
             [
              0.7777777777777778,
              "#fb9f3a"
             ],
             [
              0.8888888888888888,
              "#fdca26"
             ],
             [
              1,
              "#f0f921"
             ]
            ],
            "type": "heatmap"
           }
          ],
          "heatmapgl": [
           {
            "colorbar": {
             "outlinewidth": 0,
             "ticks": ""
            },
            "colorscale": [
             [
              0,
              "#0d0887"
             ],
             [
              0.1111111111111111,
              "#46039f"
             ],
             [
              0.2222222222222222,
              "#7201a8"
             ],
             [
              0.3333333333333333,
              "#9c179e"
             ],
             [
              0.4444444444444444,
              "#bd3786"
             ],
             [
              0.5555555555555556,
              "#d8576b"
             ],
             [
              0.6666666666666666,
              "#ed7953"
             ],
             [
              0.7777777777777778,
              "#fb9f3a"
             ],
             [
              0.8888888888888888,
              "#fdca26"
             ],
             [
              1,
              "#f0f921"
             ]
            ],
            "type": "heatmapgl"
           }
          ],
          "histogram": [
           {
            "marker": {
             "pattern": {
              "fillmode": "overlay",
              "size": 10,
              "solidity": 0.2
             }
            },
            "type": "histogram"
           }
          ],
          "histogram2d": [
           {
            "colorbar": {
             "outlinewidth": 0,
             "ticks": ""
            },
            "colorscale": [
             [
              0,
              "#0d0887"
             ],
             [
              0.1111111111111111,
              "#46039f"
             ],
             [
              0.2222222222222222,
              "#7201a8"
             ],
             [
              0.3333333333333333,
              "#9c179e"
             ],
             [
              0.4444444444444444,
              "#bd3786"
             ],
             [
              0.5555555555555556,
              "#d8576b"
             ],
             [
              0.6666666666666666,
              "#ed7953"
             ],
             [
              0.7777777777777778,
              "#fb9f3a"
             ],
             [
              0.8888888888888888,
              "#fdca26"
             ],
             [
              1,
              "#f0f921"
             ]
            ],
            "type": "histogram2d"
           }
          ],
          "histogram2dcontour": [
           {
            "colorbar": {
             "outlinewidth": 0,
             "ticks": ""
            },
            "colorscale": [
             [
              0,
              "#0d0887"
             ],
             [
              0.1111111111111111,
              "#46039f"
             ],
             [
              0.2222222222222222,
              "#7201a8"
             ],
             [
              0.3333333333333333,
              "#9c179e"
             ],
             [
              0.4444444444444444,
              "#bd3786"
             ],
             [
              0.5555555555555556,
              "#d8576b"
             ],
             [
              0.6666666666666666,
              "#ed7953"
             ],
             [
              0.7777777777777778,
              "#fb9f3a"
             ],
             [
              0.8888888888888888,
              "#fdca26"
             ],
             [
              1,
              "#f0f921"
             ]
            ],
            "type": "histogram2dcontour"
           }
          ],
          "mesh3d": [
           {
            "colorbar": {
             "outlinewidth": 0,
             "ticks": ""
            },
            "type": "mesh3d"
           }
          ],
          "parcoords": [
           {
            "line": {
             "colorbar": {
              "outlinewidth": 0,
              "ticks": ""
             }
            },
            "type": "parcoords"
           }
          ],
          "pie": [
           {
            "automargin": true,
            "type": "pie"
           }
          ],
          "scatter": [
           {
            "marker": {
             "colorbar": {
              "outlinewidth": 0,
              "ticks": ""
             }
            },
            "type": "scatter"
           }
          ],
          "scatter3d": [
           {
            "line": {
             "colorbar": {
              "outlinewidth": 0,
              "ticks": ""
             }
            },
            "marker": {
             "colorbar": {
              "outlinewidth": 0,
              "ticks": ""
             }
            },
            "type": "scatter3d"
           }
          ],
          "scattercarpet": [
           {
            "marker": {
             "colorbar": {
              "outlinewidth": 0,
              "ticks": ""
             }
            },
            "type": "scattercarpet"
           }
          ],
          "scattergeo": [
           {
            "marker": {
             "colorbar": {
              "outlinewidth": 0,
              "ticks": ""
             }
            },
            "type": "scattergeo"
           }
          ],
          "scattergl": [
           {
            "marker": {
             "colorbar": {
              "outlinewidth": 0,
              "ticks": ""
             }
            },
            "type": "scattergl"
           }
          ],
          "scattermapbox": [
           {
            "marker": {
             "colorbar": {
              "outlinewidth": 0,
              "ticks": ""
             }
            },
            "type": "scattermapbox"
           }
          ],
          "scatterpolar": [
           {
            "marker": {
             "colorbar": {
              "outlinewidth": 0,
              "ticks": ""
             }
            },
            "type": "scatterpolar"
           }
          ],
          "scatterpolargl": [
           {
            "marker": {
             "colorbar": {
              "outlinewidth": 0,
              "ticks": ""
             }
            },
            "type": "scatterpolargl"
           }
          ],
          "scatterternary": [
           {
            "marker": {
             "colorbar": {
              "outlinewidth": 0,
              "ticks": ""
             }
            },
            "type": "scatterternary"
           }
          ],
          "surface": [
           {
            "colorbar": {
             "outlinewidth": 0,
             "ticks": ""
            },
            "colorscale": [
             [
              0,
              "#0d0887"
             ],
             [
              0.1111111111111111,
              "#46039f"
             ],
             [
              0.2222222222222222,
              "#7201a8"
             ],
             [
              0.3333333333333333,
              "#9c179e"
             ],
             [
              0.4444444444444444,
              "#bd3786"
             ],
             [
              0.5555555555555556,
              "#d8576b"
             ],
             [
              0.6666666666666666,
              "#ed7953"
             ],
             [
              0.7777777777777778,
              "#fb9f3a"
             ],
             [
              0.8888888888888888,
              "#fdca26"
             ],
             [
              1,
              "#f0f921"
             ]
            ],
            "type": "surface"
           }
          ],
          "table": [
           {
            "cells": {
             "fill": {
              "color": "#EBF0F8"
             },
             "line": {
              "color": "white"
             }
            },
            "header": {
             "fill": {
              "color": "#C8D4E3"
             },
             "line": {
              "color": "white"
             }
            },
            "type": "table"
           }
          ]
         },
         "layout": {
          "annotationdefaults": {
           "arrowcolor": "#2a3f5f",
           "arrowhead": 0,
           "arrowwidth": 1
          },
          "autotypenumbers": "strict",
          "coloraxis": {
           "colorbar": {
            "outlinewidth": 0,
            "ticks": ""
           }
          },
          "colorscale": {
           "diverging": [
            [
             0,
             "#8e0152"
            ],
            [
             0.1,
             "#c51b7d"
            ],
            [
             0.2,
             "#de77ae"
            ],
            [
             0.3,
             "#f1b6da"
            ],
            [
             0.4,
             "#fde0ef"
            ],
            [
             0.5,
             "#f7f7f7"
            ],
            [
             0.6,
             "#e6f5d0"
            ],
            [
             0.7,
             "#b8e186"
            ],
            [
             0.8,
             "#7fbc41"
            ],
            [
             0.9,
             "#4d9221"
            ],
            [
             1,
             "#276419"
            ]
           ],
           "sequential": [
            [
             0,
             "#0d0887"
            ],
            [
             0.1111111111111111,
             "#46039f"
            ],
            [
             0.2222222222222222,
             "#7201a8"
            ],
            [
             0.3333333333333333,
             "#9c179e"
            ],
            [
             0.4444444444444444,
             "#bd3786"
            ],
            [
             0.5555555555555556,
             "#d8576b"
            ],
            [
             0.6666666666666666,
             "#ed7953"
            ],
            [
             0.7777777777777778,
             "#fb9f3a"
            ],
            [
             0.8888888888888888,
             "#fdca26"
            ],
            [
             1,
             "#f0f921"
            ]
           ],
           "sequentialminus": [
            [
             0,
             "#0d0887"
            ],
            [
             0.1111111111111111,
             "#46039f"
            ],
            [
             0.2222222222222222,
             "#7201a8"
            ],
            [
             0.3333333333333333,
             "#9c179e"
            ],
            [
             0.4444444444444444,
             "#bd3786"
            ],
            [
             0.5555555555555556,
             "#d8576b"
            ],
            [
             0.6666666666666666,
             "#ed7953"
            ],
            [
             0.7777777777777778,
             "#fb9f3a"
            ],
            [
             0.8888888888888888,
             "#fdca26"
            ],
            [
             1,
             "#f0f921"
            ]
           ]
          },
          "colorway": [
           "#636efa",
           "#EF553B",
           "#00cc96",
           "#ab63fa",
           "#FFA15A",
           "#19d3f3",
           "#FF6692",
           "#B6E880",
           "#FF97FF",
           "#FECB52"
          ],
          "font": {
           "color": "#2a3f5f"
          },
          "geo": {
           "bgcolor": "white",
           "lakecolor": "white",
           "landcolor": "#E5ECF6",
           "showlakes": true,
           "showland": true,
           "subunitcolor": "white"
          },
          "hoverlabel": {
           "align": "left"
          },
          "hovermode": "closest",
          "mapbox": {
           "style": "light"
          },
          "paper_bgcolor": "white",
          "plot_bgcolor": "#E5ECF6",
          "polar": {
           "angularaxis": {
            "gridcolor": "white",
            "linecolor": "white",
            "ticks": ""
           },
           "bgcolor": "#E5ECF6",
           "radialaxis": {
            "gridcolor": "white",
            "linecolor": "white",
            "ticks": ""
           }
          },
          "scene": {
           "xaxis": {
            "backgroundcolor": "#E5ECF6",
            "gridcolor": "white",
            "gridwidth": 2,
            "linecolor": "white",
            "showbackground": true,
            "ticks": "",
            "zerolinecolor": "white"
           },
           "yaxis": {
            "backgroundcolor": "#E5ECF6",
            "gridcolor": "white",
            "gridwidth": 2,
            "linecolor": "white",
            "showbackground": true,
            "ticks": "",
            "zerolinecolor": "white"
           },
           "zaxis": {
            "backgroundcolor": "#E5ECF6",
            "gridcolor": "white",
            "gridwidth": 2,
            "linecolor": "white",
            "showbackground": true,
            "ticks": "",
            "zerolinecolor": "white"
           }
          },
          "shapedefaults": {
           "line": {
            "color": "#2a3f5f"
           }
          },
          "ternary": {
           "aaxis": {
            "gridcolor": "white",
            "linecolor": "white",
            "ticks": ""
           },
           "baxis": {
            "gridcolor": "white",
            "linecolor": "white",
            "ticks": ""
           },
           "bgcolor": "#E5ECF6",
           "caxis": {
            "gridcolor": "white",
            "linecolor": "white",
            "ticks": ""
           }
          },
          "title": {
           "x": 0.05
          },
          "xaxis": {
           "automargin": true,
           "gridcolor": "white",
           "linecolor": "white",
           "ticks": "",
           "title": {
            "standoff": 15
           },
           "zerolinecolor": "white",
           "zerolinewidth": 2
          },
          "yaxis": {
           "automargin": true,
           "gridcolor": "white",
           "linecolor": "white",
           "ticks": "",
           "title": {
            "standoff": 15
           },
           "zerolinecolor": "white",
           "zerolinewidth": 2
          }
         }
        },
        "title": {
         "font": {
          "color": "#4D5663"
         }
        },
        "xaxis": {
         "gridcolor": "#E1E5ED",
         "showgrid": true,
         "tickfont": {
          "color": "#4D5663"
         },
         "title": {
          "font": {
           "color": "#4D5663"
          },
          "text": ""
         },
         "zerolinecolor": "#E1E5ED"
        },
        "yaxis": {
         "gridcolor": "#E1E5ED",
         "showgrid": true,
         "tickfont": {
          "color": "#4D5663"
         },
         "title": {
          "font": {
           "color": "#4D5663"
          },
          "text": ""
         },
         "zerolinecolor": "#E1E5ED"
        }
       }
      },
      "text/html": [
       "<div>                            <div id=\"3226286c-93c9-425b-a382-5834603e83c7\" class=\"plotly-graph-div\" style=\"height:525px; width:100%;\"></div>            <script type=\"text/javascript\">                require([\"plotly\"], function(Plotly) {                    window.PLOTLYENV=window.PLOTLYENV || {};\n",
       "                    window.PLOTLYENV.BASE_URL='https://plot.ly';                                    if (document.getElementById(\"3226286c-93c9-425b-a382-5834603e83c7\")) {                    Plotly.newPlot(                        \"3226286c-93c9-425b-a382-5834603e83c7\",                        [{\"line\":{\"color\":\"rgba(255, 153, 51, 1.0)\",\"dash\":\"solid\",\"shape\":\"linear\",\"width\":1.3},\"marker\":{\"size\":12,\"symbol\":\"circle\"},\"mode\":\"markers\",\"name\":\"d\",\"text\":\"\",\"x\":[0.31533955181718865,0.5539099718182233,0.2666417393009075,0.1318162477853121,0.729653956549174,0.8192210306761991,0.4939069359701074,0.1813840112567856,0.449774246386061,0.146637400784132,0.714662180447274,0.5217108795117404,0.8101427369328545,0.8975462537790665,0.3964417305041329,0.08162014225986236,0.022206075715433538,0.6748537135189757,0.3147346163911692,0.16688001809209596,0.9422801763296061,0.9547942881039463,0.07390601081021186,0.7022021027566704,0.3469143616182123,0.642746736511665,0.7896791247853495,0.74417184461802,0.026144571607043643,0.9626469024085974,0.4174972858275491,0.1565695321853049,0.4799136924412104,0.25335055782871596,0.9477353413422079,0.09125607482387976,0.6581491963557563,0.7592392703944322,0.32873718974100896,0.5483985168211517,0.9767905578420882,0.9135498054103689,0.7520356116980934,0.9107100650279418,0.10616570471715692,0.07601030232413186,0.22206663623045075,0.28020447221909006,0.14220715408610296,0.8459439878396496,0.29797574313920483,0.015129572694585813,0.6088120664067928,0.7043941512000748,0.34683135657586894,0.15517177489859313,0.1626002347139619,0.525009946277439,0.36263960887806745,0.7614420559396978,0.8651369975277277,0.9811615891471893,0.3095333406727093,0.44236705699295487,0.1187643042047063,0.015998146211446573,0.9711760811899413,0.20862730920450945,0.644912649804916,0.44279999369057277,0.634910752766904,0.9777813919871908,0.5654203587608152,0.9874448491753217,0.28523051038173797,0.45806551274636764,0.14135926882014593,0.4400566448691591,0.08830629876181029,0.19965698044449076,0.25313147744512,0.6939349103546347,0.4453763003985114,0.6672623881516286,0.2098082998718892,0.3506192976391046,0.02442771689866796,0.513776898132248,0.5910381412215956,0.5209761205137036,0.6618802970295192,0.4424526801341877,0.07097665071927128,0.5806221636078759,0.4872225804116982,0.2281380039741171,0.3145250411567503,0.09638022581070027,0.5113415485749805,0.6040281606370371,0.998027027945057,0.13585353459230753,0.17419492619131327,0.4900894468202843,0.20469649206733653,0.1261099144964557,0.10835351919096303,0.26913485733225295,0.5116026171279839,0.4252345049849552,0.2581459903921194,0.24777138845648594,0.3325791542667633,0.5301080368129482,0.3513249917748684,0.2107597084523748,0.26556160766117054,0.26703643748587413,0.24470953914841198,0.45740687005682323,0.28974049948204506,0.9908500245902632,0.2889797211939359,0.3887872093337794,0.24591102821103394,0.6538264313096293,0.391610688773082,0.9906976475791653,0.8000276620839741,0.009139176679967553,0.6740206464125772,0.9185713673788906,0.8319248885266184,0.7582422178361462,0.04152956448926026,0.6829016090982518,0.489640569047593,0.623549032170599,0.01043135130835704,0.2120896521607577,0.4217803957147419,0.5424784978555686,0.43915507862224723,0.20928858150603769,0.7291407271899949,0.057033464451014426,0.9297429573120197,0.5205849443530205,0.7667273700270555,0.4949568257495808,0.4892995904557955,0.30622766098218424,0.7423513412973544,0.0020096433704722694,0.6718414037137121,0.8976986529228543,0.9529714173265226,0.38375753184085704,0.6339943680988663,0.0752373151355652,0.8481716409955118,0.19607533108777853,0.2754063533251244,0.9052156113189532,0.5999994635657384,0.8874993757693707,0.22092137157708414,0.20661910113608706,0.5407945021913356,0.06325418733593513,0.3701627854351238,0.6200160402968607,0.8874803648992815,0.44891355302011504,0.2081494611113721,0.844070013822957,0.9127227446821767,0.575436734298689,0.08384028525709919,0.4709278790688123,0.7012958015565698,0.5511897079618394,0.09774718583721853,0.14644672557672433,0.2562451038779996,0.31981130061068386,0.1812035186616906,0.2998025479451456,0.10820740568324883,0.5863417173733123,0.647408703951146,0.7445881632255842,0.5042488942541761,0.06085006350397293,0.39138201871398826,0.024635125333483776,0.8972284369790708,0.5720531807227263,0.03345337252379865,0.2846920513856751,0.6602541797587645,0.7552671047040734,0.8731257010896759,0.5707658472235007,0.6854820707987713,0.3272197431879975,0.11827138085026989,0.943356830539741,0.3675499682098089,0.4087227858757101,0.5659667845722709,0.03473571153804167,0.8311473502833757,0.12275157229626588,0.5506307889519095,0.9195563350338799,0.969525762885705,0.5258360815406782,0.7896425937261154,0.18785542066685634,0.4966217970214817,0.8087016322179085,0.5849988565977011,0.14158745546520113,0.438605710612186,0.7882383845542579,0.5143043242454258,0.27856388799780674,0.06482219162527281,0.6644815140882653,0.47912708794407566,0.12854673646498638,0.12376596689609831,0.9237219847676819,0.467798005457181,0.7957508516990494,0.7977242268059694,0.49861406169861,0.9149975562293388,0.7569963014387762,0.07576827276259634,0.823581653729435,0.45949768736972263,0.4864158410181765,0.9850103703109149,0.32599468767922435,0.6945836017152602,0.2889265362519736,0.7763488673107458,0.45081471583395194,0.7739354422587356,0.06964047461867329,0.5087237857023192,0.41684476828211603,0.00986002574320377,0.6860828358568125,0.5354346458823234,0.9481730549765187,0.7835327873065019,0.8915387535394164,0.06321709711568124,0.6400092902404513,0.6374956409664728,0.10664605321649467,0.3784734527942416,0.26266140797825455,0.2941043234002704,0.1406340588096633,0.09762408215905005,0.8209681460557213,0.24033029362660263,0.926718836526074,0.3920294237944464,0.9703856553950871,0.07894295784631511,0.6650549007760983,0.36733389044615794,0.39902362452783735,0.9647913231592269,0.6541096318260253,0.14266871725998997,0.4291822299541691,0.08107747892932204,0.5656206975633992,0.38462010861668494,0.4730728016063779,0.8556205537942306,0.2169883345227942,0.05614448048502618,0.20597828387203976,0.5721261803538987,0.955810437417393,0.10556711823231335,0.9687948345570477,0.529654421185744,0.2101818503831051,0.33730785730697566,0.035348578391122376,0.8992217722739119,0.6941934725697088,0.04364438421505923,0.6037329558766491,0.08055000423946734,0.690597169301423,0.49485804410366463,0.2781045535893393,0.07091028523363796,0.14414949973675195,0.4098515516017355,0.6031258671623162,0.06076815504794053,0.3745519927394365,0.6120225936685076,0.8887956452411813,0.8539011974076943,0.24473245555954626,0.4116661233150418,0.27185327345215726,0.4396799034934039,0.9553763391047527,0.7102793666855295,0.2516366780418633,0.2825555758865148,0.33288479070654897,0.8257565414830713,0.880191955784801,0.8775352722975729,0.8136166838855338,0.5232612206078966,0.3467995051661257,0.18941828192441157,0.6410966161917488,0.6832470008284096,0.740609948014194,0.2894888127289381,0.5600915994786737,0.005836940270658397,0.5673259174590995,0.5148016593357911,0.9407958063456531,0.20083848872895282,0.9451531138867133,0.0248198965515265,0.20382084585895377,0.6748941843748144,0.4400411268729253,0.011268896993052224,0.1452752632302825,0.8433333402235555,0.7321304022719771,0.09628604386359585,0.3824759819179602,0.9455274162029241,0.4111312113833526,0.27360402719517907,0.43213716133357993,0.48688759437415485,0.5176905064780482,0.09256688035960514,0.9197833849442669,0.4143881804574212,0.9313811233356847,0.21977443168265087,0.35619148131741896,0.19168419702892114,0.29675422327329015,0.2734046021004116,0.33463417183037825,0.8543608424977411,0.08599472043195633,0.29012249512213517,0.062393558512348735,0.49594823808499733,0.1887159149603388,0.2790601893564053,0.8510343803011101,0.262404022275301,0.6469455624298385,0.19703780388073744,0.8491372844706299,0.6817487631325079,0.4876644831199495,0.6353264089443244,0.3751847558173308,0.40684590643420604,0.7273292916569379,0.21842649333570696,0.4768986303492899,0.6062481802502198,0.762006382279796,0.9206797368960087,0.3329753911173957,0.8408820592276643,0.37373749556655034,0.03165760096857273,0.5250984022575503,0.06435532506413144,0.46459315764048603,0.037105684334086564,0.6090594042931998,0.2776174517346822,0.2554355923615207,0.23866473301499647,0.1604452076098356,0.6249024505629704,0.6540370819019438,0.08519051988352444,0.7941409892875959,0.6038717405045155,0.3971072335069672,0.8493819968320634,0.6003316618595556,0.5897936461359236,0.7961374192696908,0.6948081375322813,0.41871640217731454,0.5786981768356295,0.829769275054972,0.8528112489716281,0.41693779195993674,0.4413510930887171,0.6520033000480051,0.2360590953626004,0.4786895608570021,0.5443648971195442,0.34290180847628804,0.47512781849843433,0.562263050291712,0.08444485508011024,0.15811507541657077,0.7310924617388328,0.4556045319554062,0.058222122501998874,0.7113350175186673,0.7588741865789924,0.7843678294708714,0.31351762927696014,0.8073544390932376,0.3484882429383128,0.23710003767052956,0.6694210827933059,0.6246564876311518,0.06296487289289099,0.44023156893651405,0.5322482157786838,0.2311623159977234,0.17788063756571082,0.16923138071495603,0.02146651008966627,0.035574452050256444,0.9809599528742875,0.6783455515699552,0.595584570442391,0.3206385064882562,0.6511458389173512,0.5733461807192132,0.42239168228596946,0.7257744684126598,0.9935719569781173,0.12412097461087113,0.614509726045759,0.587295323236953,0.025282258841565763,0.07914829628042497,0.5070866555826244,0.09695031124234876,0.6266129473829848,0.07938889378707115,0.8146234170063464,0.7509843617315421,0.25348528580297913,0.2680025455095203,0.2034325199722441,0.2876387183896234,0.040757291983899546,0.5714855108009546,0.27757434780632817,0.6812848818799894,0.27361431421844595,0.9719026738691542,0.6695179712723569,0.03184146646951336,0.2655006003657313,0.8406761706891539,0.571869306172972,0.4835754279520277,0.8340073038907573,0.11802140981805587,0.7705430894642158,0.27744882129356274,0.14227494143094666,0.31293206808516427,0.6633868190715252,0.9120391626938426,0.5345789285646249,0.6210763706663569,0.3499785158954316,0.2205353792407082,0.35867978150744306,0.43908092999024373],\"y\":[0.6841944341332977,0.707725760921391,0.8351021740493405,0.4277509358052517,0.8734872723527567,0.3326912233452234,0.6360918362984774,0.23422520050032103,0.99252391858371,0.2845213864624636,0.1727287355964663,0.4130836302159361,0.48388838345004004,0.9944220593326139,0.6709435234590244,0.7025516953937757,0.12760763493446647,0.7095813675629565,0.3701387267162398,0.5149851457515003,0.02401523192975752,0.3331670960057843,0.9373245099534951,0.17976905220137807,0.8205160315316463,0.5207760681581942,0.8001719453926847,0.5416925043104881,0.5465572652984347,0.619165398372604,0.7478535954186895,0.7666169369859117,0.8068184489848341,0.36342196090813206,0.020868054297283,0.7257717048623592,0.6455875156570352,0.8269404893959796,0.8752309656738617,0.32500237143615696,0.5144731751736518,0.3119884064769405,0.901396344374955,0.9485269360807991,0.025710850680750075,0.5124182729033245,0.9364026171116198,0.18661068897245447,0.8774736228261043,0.11549225027028487,0.6512108509094218,0.7387219560556729,0.13366120790150104,0.2879665112934344,0.7195106504121997,0.4990799402392625,0.23709385393358373,0.05884068807462994,0.8313939331241377,0.009536255193150045,0.7035993679723365,0.22888227904312253,0.9464639561982651,0.10849702313347354,0.21535976314869643,0.42198266431206544,0.18188282342292406,0.47771568756408755,0.31949264549889045,0.1862096716603706,0.7472330847843147,0.7218558939708629,0.8604088252267619,0.5226096356525469,0.27775151301661594,0.959690741926741,0.07274514962389456,0.8363411590491032,0.20446198711971297,0.8627045044965447,0.8955111093147896,0.5762794770322743,0.875698369767816,0.5488217738083587,0.382012005153719,0.7852782101048688,0.8322472246368265,0.8214910050521808,0.7459870568952911,0.6077951471863287,0.2606572102822071,0.21946217401252432,0.9289826882225608,0.26977774090896134,0.37689505599082385,0.018427460582400967,0.6749355486168331,0.44087259695826886,0.7358750874427759,0.6430853519067729,0.81615575566659,0.0785846848915347,0.9626600885515808,0.08548017924038853,0.8865756442642901,0.43873920406927336,0.09685736215171648,0.8691669332260148,0.9455138837085073,0.9588694236423598,0.08471277441912684,0.6982761326612253,0.02091658819068143,0.3906936748769527,0.5198534930130753,0.2818491307599327,0.48628869770292005,0.37125808928160675,0.3818812984067673,0.4455155161973763,0.4723197761054725,0.40044769559189586,0.11692886212047549,0.0720636054995295,0.7937342788798087,0.260593685587177,0.9136596699001885,0.9687955190150279,0.0707775036274626,0.37257851489087845,0.8451612107155395,0.557242114799216,0.42123069294179727,0.7664997173030229,0.3745175821431095,0.888388612785429,0.22016529106678728,0.6642532094290537,0.7554261879044237,0.9472436677511671,0.9770766689467891,0.97650996565173,0.9144242335789069,0.9839610735683662,0.6980664837510339,0.1835020880232875,0.5334830064298828,0.5202146255086177,0.13364449279311064,0.39951461261472687,0.4135188984131193,0.25711094108987975,0.9027609532878568,0.5866533992394346,0.8397021590197593,0.748554773979922,0.23169753496714296,0.7473773513257336,0.5184021594571886,0.1765092148741536,0.3234285620462982,0.5867911874209459,0.6990847598187228,0.2886010918107472,0.13091449399824173,0.6230546244825848,0.21320315060370765,0.5392364383674273,0.5007509306656459,0.17419155485557336,0.39944023753742386,0.16572578062529586,0.5375394634366356,0.7954639521316933,0.8818552126767711,0.41447636418799494,0.6868568363713574,0.3431285778562423,0.01792816662097152,0.009458317906924307,0.503794622926351,0.42813963133159216,0.3816035516340873,0.13778614896040242,0.17820736178276697,0.5365839050191662,0.7799447830974946,0.42135229264928487,0.39237250688842407,0.027995256718249317,0.5232653431486308,0.36781750195547314,0.4217856865061276,0.9284549485726601,0.03900319810240804,0.560726815706613,0.18360208948865597,0.4499391524461088,0.7517553727215466,0.26493074355910784,0.6784579093562366,0.7776872571577028,0.9902404392686107,0.12885009678007964,0.6343741906183117,0.370902057407952,0.021450784250584554,0.008768738667580322,0.49652628114042285,0.07619543886481184,0.5731712242173278,0.4199485734115713,0.8417925075956321,0.12871658037749256,0.5664718975049619,0.6900338304071859,0.4458080217446889,0.5470222818440061,0.4147054817358956,0.6652755327373926,0.6930628205218115,0.46348804853771275,0.6736921861841506,0.843085304813901,0.78531813128705,0.10105694261257514,0.03785740560895123,0.6557969474745987,0.8213794365139317,0.30455161717386436,0.2472444653950776,0.1926695641240822,0.6205309330979063,0.14507168611501042,0.34402837042276235,0.2571776795579037,0.9045823245481572,0.03004690552879208,0.6078567103964858,0.6843350108228909,0.9631485320491154,0.394505260767571,0.2542075829511695,0.4333688558147166,0.46950717749474935,0.5433471996553741,0.7685691213700655,0.7060620146010376,0.02045338330372759,0.2419127201020994,0.8670911085294932,0.8552876995996647,0.6856478746285083,0.8929331213325862,0.33416428514418794,0.10391885670927559,0.20432469514843787,0.8090689047460898,0.9892283888382488,0.3842839050639524,0.9422259155373167,0.2080213778720298,0.019311681896279853,0.3913988884341151,0.14526412096471297,0.5715730164102083,0.7272532594644409,0.24181381989546002,0.31366585729892626,0.4001984429429275,0.10423712438463462,0.5947379643217354,0.930489255183302,0.19940952257760558,0.6615050608882118,0.6132913750073993,0.7028373806426804,0.7408162193507933,0.9456456912184054,0.4094482620144815,0.5301303662821786,0.42415170459427065,0.750323657511074,0.4798283220470295,0.8555180281147121,0.2872233600279187,0.4609539966962293,0.47497792059970123,0.30961836928024644,0.9045253548905453,0.952043308683288,0.32468726186319696,0.4823909133549852,0.1346978681212465,0.6222186660945722,0.05917417438882344,0.3804089095720222,0.3952235657956005,0.6635929450695989,0.4348496934713586,0.05132533968535413,0.0167241188560302,0.6783206465259598,0.07100005919947994,0.2909424923344608,0.0716049175594663,0.923604283264406,0.26820096431211504,0.8628324974932624,0.01495645172602178,0.5957706891640976,0.27060042178535115,0.3818009403100726,0.7424504784241248,0.6672996358191418,0.5421221579447603,0.5253219143278391,0.8647644370199591,0.8434827054033226,0.40927135749182675,0.3720919629486166,0.47988266350664277,0.8109271581801906,0.2908621490875096,0.0786385744636634,0.4773012375798694,0.3964783541144592,0.7852213251035577,0.22835829782609596,0.2869804207277583,0.779576469361169,0.40763299669476305,0.5445225185719704,0.7460319924007311,0.7444762698342943,0.3994806269615956,0.8370115785906688,0.7254852446261532,0.2853066996690695,0.27352882341687124,0.02816274897406068,0.1947839591928845,0.8683639546034144,0.7534862678124011,0.4512043622925468,0.8020856228679397,0.5880127765340719,0.5074520190146559,0.46077780840714144,0.9348195002049479,0.14774083349028755,0.5649051787144029,0.450055907517368,0.22412584523361656,0.23604886404808123,0.5530354559342496,0.3924461167294878,0.24759700655838535,0.9136501136582617,0.20979277489937598,0.7038777702519846,0.5136219084009356,0.7339617215958184,0.6599268327074863,0.21913602240037655,0.6704710825278272,0.0982489837560081,0.3127883198280069,0.5246996033520772,0.04764855476961816,0.8173756757757584,0.46963775190384416,0.7683644490399869,0.8575137900922785,0.5353430390818199,0.8016916423969983,0.7758609543321477,0.7889094207693623,0.2742772582889982,0.7991613279555696,0.5842116266409652,0.434804966033253,0.14907031296372653,0.5191954116365347,0.7760946107729086,0.09203052996853,0.144164355497022,0.06009736602510363,0.1086602159672112,0.695312345924543,0.7687435081693622,0.10025641622235493,0.942607405728154,0.8852968599055103,0.7521167605757152,0.9073030713205952,0.5207110124640784,0.12669892286489992,0.3288192484259128,0.07057135780875334,0.2954975761646801,0.2832116731897951,0.47392022225771513,0.35114601075626506,0.9880155943028865,0.5110864237604533,0.6093938241623168,0.928098813962966,0.7548158828332583,0.2993123799826142,0.3866635788421966,0.3663529194223939,0.742474686847177,0.5138836378329711,0.836952001654467,0.9464502133252222,0.6252865833157106,0.38830535138559386,0.5978634609834296,0.526882620463152,0.3120310624322312,0.8932225061080125,0.16600710481058367,0.11508931571173064,0.6816377850672607,0.46225321285300247,0.4921324741390989,0.2146416366869357,0.5794424435698187,0.7595171084302388,0.08324013280745757,0.7622812461473893,0.1061497886759799,0.32931864838475877,0.4405821776299824,0.2225503539552096,0.7597914357696103,0.9148211767760724,0.735641162252936,0.2846722308057986,0.7765602933487339,0.5981442011304126,0.7227363591147643,0.44482564204260977,0.356557364355756,0.7407971522668686,0.15613477089855576,0.10844370055642671,0.09771417159403561,0.4899178828379648,0.1598964581963226,0.7206861390555442,0.5646990323163209,0.09267903358409157,0.7522144161887582,0.38210677624816947,0.3481549827857151,0.6038502667486313,0.2659803020704724,0.1414107737765936,0.7705748946942114,0.6436841733421657,0.4402912988027846,0.9080446091350759,0.8149876776679409,0.7430882438912193,0.22439590229631912,0.266385964802095,0.25353666606470715,0.5582121856634517,0.29729755629600596,0.026227009698253423,0.6962979409507339,0.8674109329782796,0.1439900245829906,0.2763222910590344,0.8821420911963117,0.3277573717973643,0.06426205661347206,0.0287226710447962,0.5406712395652121,0.298549629829685,0.32398568253527227,0.44602622940476533,0.41918565073240033,0.3129009966362234,0.08554274147633845,0.29996095324670957,0.14034051535772973,0.8526910839425038,0.660035602203321,0.4180302400939401,0.23718874690176683,0.5538946891545685,0.9157271937950261,0.2187960692125811,0.14840130678304886,0.19175643712339552,0.8852978159463981,0.3698759212116134],\"type\":\"scatter\"}],                        {\"legend\":{\"bgcolor\":\"#F5F6F9\",\"font\":{\"color\":\"#4D5663\"}},\"paper_bgcolor\":\"#F5F6F9\",\"plot_bgcolor\":\"#F5F6F9\",\"template\":{\"data\":{\"barpolar\":[{\"marker\":{\"line\":{\"color\":\"#E5ECF6\",\"width\":0.5},\"pattern\":{\"fillmode\":\"overlay\",\"size\":10,\"solidity\":0.2}},\"type\":\"barpolar\"}],\"bar\":[{\"error_x\":{\"color\":\"#2a3f5f\"},\"error_y\":{\"color\":\"#2a3f5f\"},\"marker\":{\"line\":{\"color\":\"#E5ECF6\",\"width\":0.5},\"pattern\":{\"fillmode\":\"overlay\",\"size\":10,\"solidity\":0.2}},\"type\":\"bar\"}],\"carpet\":[{\"aaxis\":{\"endlinecolor\":\"#2a3f5f\",\"gridcolor\":\"white\",\"linecolor\":\"white\",\"minorgridcolor\":\"white\",\"startlinecolor\":\"#2a3f5f\"},\"baxis\":{\"endlinecolor\":\"#2a3f5f\",\"gridcolor\":\"white\",\"linecolor\":\"white\",\"minorgridcolor\":\"white\",\"startlinecolor\":\"#2a3f5f\"},\"type\":\"carpet\"}],\"choropleth\":[{\"colorbar\":{\"outlinewidth\":0,\"ticks\":\"\"},\"type\":\"choropleth\"}],\"contourcarpet\":[{\"colorbar\":{\"outlinewidth\":0,\"ticks\":\"\"},\"type\":\"contourcarpet\"}],\"contour\":[{\"colorbar\":{\"outlinewidth\":0,\"ticks\":\"\"},\"colorscale\":[[0.0,\"#0d0887\"],[0.1111111111111111,\"#46039f\"],[0.2222222222222222,\"#7201a8\"],[0.3333333333333333,\"#9c179e\"],[0.4444444444444444,\"#bd3786\"],[0.5555555555555556,\"#d8576b\"],[0.6666666666666666,\"#ed7953\"],[0.7777777777777778,\"#fb9f3a\"],[0.8888888888888888,\"#fdca26\"],[1.0,\"#f0f921\"]],\"type\":\"contour\"}],\"heatmapgl\":[{\"colorbar\":{\"outlinewidth\":0,\"ticks\":\"\"},\"colorscale\":[[0.0,\"#0d0887\"],[0.1111111111111111,\"#46039f\"],[0.2222222222222222,\"#7201a8\"],[0.3333333333333333,\"#9c179e\"],[0.4444444444444444,\"#bd3786\"],[0.5555555555555556,\"#d8576b\"],[0.6666666666666666,\"#ed7953\"],[0.7777777777777778,\"#fb9f3a\"],[0.8888888888888888,\"#fdca26\"],[1.0,\"#f0f921\"]],\"type\":\"heatmapgl\"}],\"heatmap\":[{\"colorbar\":{\"outlinewidth\":0,\"ticks\":\"\"},\"colorscale\":[[0.0,\"#0d0887\"],[0.1111111111111111,\"#46039f\"],[0.2222222222222222,\"#7201a8\"],[0.3333333333333333,\"#9c179e\"],[0.4444444444444444,\"#bd3786\"],[0.5555555555555556,\"#d8576b\"],[0.6666666666666666,\"#ed7953\"],[0.7777777777777778,\"#fb9f3a\"],[0.8888888888888888,\"#fdca26\"],[1.0,\"#f0f921\"]],\"type\":\"heatmap\"}],\"histogram2dcontour\":[{\"colorbar\":{\"outlinewidth\":0,\"ticks\":\"\"},\"colorscale\":[[0.0,\"#0d0887\"],[0.1111111111111111,\"#46039f\"],[0.2222222222222222,\"#7201a8\"],[0.3333333333333333,\"#9c179e\"],[0.4444444444444444,\"#bd3786\"],[0.5555555555555556,\"#d8576b\"],[0.6666666666666666,\"#ed7953\"],[0.7777777777777778,\"#fb9f3a\"],[0.8888888888888888,\"#fdca26\"],[1.0,\"#f0f921\"]],\"type\":\"histogram2dcontour\"}],\"histogram2d\":[{\"colorbar\":{\"outlinewidth\":0,\"ticks\":\"\"},\"colorscale\":[[0.0,\"#0d0887\"],[0.1111111111111111,\"#46039f\"],[0.2222222222222222,\"#7201a8\"],[0.3333333333333333,\"#9c179e\"],[0.4444444444444444,\"#bd3786\"],[0.5555555555555556,\"#d8576b\"],[0.6666666666666666,\"#ed7953\"],[0.7777777777777778,\"#fb9f3a\"],[0.8888888888888888,\"#fdca26\"],[1.0,\"#f0f921\"]],\"type\":\"histogram2d\"}],\"histogram\":[{\"marker\":{\"pattern\":{\"fillmode\":\"overlay\",\"size\":10,\"solidity\":0.2}},\"type\":\"histogram\"}],\"mesh3d\":[{\"colorbar\":{\"outlinewidth\":0,\"ticks\":\"\"},\"type\":\"mesh3d\"}],\"parcoords\":[{\"line\":{\"colorbar\":{\"outlinewidth\":0,\"ticks\":\"\"}},\"type\":\"parcoords\"}],\"pie\":[{\"automargin\":true,\"type\":\"pie\"}],\"scatter3d\":[{\"line\":{\"colorbar\":{\"outlinewidth\":0,\"ticks\":\"\"}},\"marker\":{\"colorbar\":{\"outlinewidth\":0,\"ticks\":\"\"}},\"type\":\"scatter3d\"}],\"scattercarpet\":[{\"marker\":{\"colorbar\":{\"outlinewidth\":0,\"ticks\":\"\"}},\"type\":\"scattercarpet\"}],\"scattergeo\":[{\"marker\":{\"colorbar\":{\"outlinewidth\":0,\"ticks\":\"\"}},\"type\":\"scattergeo\"}],\"scattergl\":[{\"marker\":{\"colorbar\":{\"outlinewidth\":0,\"ticks\":\"\"}},\"type\":\"scattergl\"}],\"scattermapbox\":[{\"marker\":{\"colorbar\":{\"outlinewidth\":0,\"ticks\":\"\"}},\"type\":\"scattermapbox\"}],\"scatterpolargl\":[{\"marker\":{\"colorbar\":{\"outlinewidth\":0,\"ticks\":\"\"}},\"type\":\"scatterpolargl\"}],\"scatterpolar\":[{\"marker\":{\"colorbar\":{\"outlinewidth\":0,\"ticks\":\"\"}},\"type\":\"scatterpolar\"}],\"scatter\":[{\"marker\":{\"colorbar\":{\"outlinewidth\":0,\"ticks\":\"\"}},\"type\":\"scatter\"}],\"scatterternary\":[{\"marker\":{\"colorbar\":{\"outlinewidth\":0,\"ticks\":\"\"}},\"type\":\"scatterternary\"}],\"surface\":[{\"colorbar\":{\"outlinewidth\":0,\"ticks\":\"\"},\"colorscale\":[[0.0,\"#0d0887\"],[0.1111111111111111,\"#46039f\"],[0.2222222222222222,\"#7201a8\"],[0.3333333333333333,\"#9c179e\"],[0.4444444444444444,\"#bd3786\"],[0.5555555555555556,\"#d8576b\"],[0.6666666666666666,\"#ed7953\"],[0.7777777777777778,\"#fb9f3a\"],[0.8888888888888888,\"#fdca26\"],[1.0,\"#f0f921\"]],\"type\":\"surface\"}],\"table\":[{\"cells\":{\"fill\":{\"color\":\"#EBF0F8\"},\"line\":{\"color\":\"white\"}},\"header\":{\"fill\":{\"color\":\"#C8D4E3\"},\"line\":{\"color\":\"white\"}},\"type\":\"table\"}]},\"layout\":{\"annotationdefaults\":{\"arrowcolor\":\"#2a3f5f\",\"arrowhead\":0,\"arrowwidth\":1},\"autotypenumbers\":\"strict\",\"coloraxis\":{\"colorbar\":{\"outlinewidth\":0,\"ticks\":\"\"}},\"colorscale\":{\"diverging\":[[0,\"#8e0152\"],[0.1,\"#c51b7d\"],[0.2,\"#de77ae\"],[0.3,\"#f1b6da\"],[0.4,\"#fde0ef\"],[0.5,\"#f7f7f7\"],[0.6,\"#e6f5d0\"],[0.7,\"#b8e186\"],[0.8,\"#7fbc41\"],[0.9,\"#4d9221\"],[1,\"#276419\"]],\"sequential\":[[0.0,\"#0d0887\"],[0.1111111111111111,\"#46039f\"],[0.2222222222222222,\"#7201a8\"],[0.3333333333333333,\"#9c179e\"],[0.4444444444444444,\"#bd3786\"],[0.5555555555555556,\"#d8576b\"],[0.6666666666666666,\"#ed7953\"],[0.7777777777777778,\"#fb9f3a\"],[0.8888888888888888,\"#fdca26\"],[1.0,\"#f0f921\"]],\"sequentialminus\":[[0.0,\"#0d0887\"],[0.1111111111111111,\"#46039f\"],[0.2222222222222222,\"#7201a8\"],[0.3333333333333333,\"#9c179e\"],[0.4444444444444444,\"#bd3786\"],[0.5555555555555556,\"#d8576b\"],[0.6666666666666666,\"#ed7953\"],[0.7777777777777778,\"#fb9f3a\"],[0.8888888888888888,\"#fdca26\"],[1.0,\"#f0f921\"]]},\"colorway\":[\"#636efa\",\"#EF553B\",\"#00cc96\",\"#ab63fa\",\"#FFA15A\",\"#19d3f3\",\"#FF6692\",\"#B6E880\",\"#FF97FF\",\"#FECB52\"],\"font\":{\"color\":\"#2a3f5f\"},\"geo\":{\"bgcolor\":\"white\",\"lakecolor\":\"white\",\"landcolor\":\"#E5ECF6\",\"showlakes\":true,\"showland\":true,\"subunitcolor\":\"white\"},\"hoverlabel\":{\"align\":\"left\"},\"hovermode\":\"closest\",\"mapbox\":{\"style\":\"light\"},\"paper_bgcolor\":\"white\",\"plot_bgcolor\":\"#E5ECF6\",\"polar\":{\"angularaxis\":{\"gridcolor\":\"white\",\"linecolor\":\"white\",\"ticks\":\"\"},\"bgcolor\":\"#E5ECF6\",\"radialaxis\":{\"gridcolor\":\"white\",\"linecolor\":\"white\",\"ticks\":\"\"}},\"scene\":{\"xaxis\":{\"backgroundcolor\":\"#E5ECF6\",\"gridcolor\":\"white\",\"gridwidth\":2,\"linecolor\":\"white\",\"showbackground\":true,\"ticks\":\"\",\"zerolinecolor\":\"white\"},\"yaxis\":{\"backgroundcolor\":\"#E5ECF6\",\"gridcolor\":\"white\",\"gridwidth\":2,\"linecolor\":\"white\",\"showbackground\":true,\"ticks\":\"\",\"zerolinecolor\":\"white\"},\"zaxis\":{\"backgroundcolor\":\"#E5ECF6\",\"gridcolor\":\"white\",\"gridwidth\":2,\"linecolor\":\"white\",\"showbackground\":true,\"ticks\":\"\",\"zerolinecolor\":\"white\"}},\"shapedefaults\":{\"line\":{\"color\":\"#2a3f5f\"}},\"ternary\":{\"aaxis\":{\"gridcolor\":\"white\",\"linecolor\":\"white\",\"ticks\":\"\"},\"baxis\":{\"gridcolor\":\"white\",\"linecolor\":\"white\",\"ticks\":\"\"},\"bgcolor\":\"#E5ECF6\",\"caxis\":{\"gridcolor\":\"white\",\"linecolor\":\"white\",\"ticks\":\"\"}},\"title\":{\"x\":0.05},\"xaxis\":{\"automargin\":true,\"gridcolor\":\"white\",\"linecolor\":\"white\",\"ticks\":\"\",\"title\":{\"standoff\":15},\"zerolinecolor\":\"white\",\"zerolinewidth\":2},\"yaxis\":{\"automargin\":true,\"gridcolor\":\"white\",\"linecolor\":\"white\",\"ticks\":\"\",\"title\":{\"standoff\":15},\"zerolinecolor\":\"white\",\"zerolinewidth\":2}}},\"title\":{\"font\":{\"color\":\"#4D5663\"}},\"xaxis\":{\"gridcolor\":\"#E1E5ED\",\"showgrid\":true,\"tickfont\":{\"color\":\"#4D5663\"},\"title\":{\"font\":{\"color\":\"#4D5663\"},\"text\":\"\"},\"zerolinecolor\":\"#E1E5ED\"},\"yaxis\":{\"gridcolor\":\"#E1E5ED\",\"showgrid\":true,\"tickfont\":{\"color\":\"#4D5663\"},\"title\":{\"font\":{\"color\":\"#4D5663\"},\"text\":\"\"},\"zerolinecolor\":\"#E1E5ED\"}},                        {\"showLink\": true, \"linkText\": \"Export to plot.ly\", \"plotlyServerURL\": \"https://plot.ly\", \"responsive\": true}                    ).then(function(){\n",
       "                            \n",
       "var gd = document.getElementById('3226286c-93c9-425b-a382-5834603e83c7');\n",
       "var x = new MutationObserver(function (mutations, observer) {{\n",
       "        var display = window.getComputedStyle(gd).display;\n",
       "        if (!display || display === 'none') {{\n",
       "            console.log([gd, 'removed!']);\n",
       "            Plotly.purge(gd);\n",
       "            observer.disconnect();\n",
       "        }}\n",
       "}});\n",
       "\n",
       "// Listen for the removal of the full notebook cells\n",
       "var notebookContainer = gd.closest('#notebook-container');\n",
       "if (notebookContainer) {{\n",
       "    x.observe(notebookContainer, {childList: true});\n",
       "}}\n",
       "\n",
       "// Listen for the clearing of the current output cell\n",
       "var outputEl = gd.closest('.output');\n",
       "if (outputEl) {{\n",
       "    x.observe(outputEl, {childList: true});\n",
       "}}\n",
       "\n",
       "                        })                };                });            </script>        </div>"
      ]
     },
     "metadata": {},
     "output_type": "display_data"
    }
   ],
   "source": [
    "df1.iplot(kind='scatter', x='a', y='d', mode='markers')"
   ]
  },
  {
   "cell_type": "code",
   "execution_count": 36,
   "id": "47515ba1",
   "metadata": {},
   "outputs": [
    {
     "data": {
      "text/plain": [
       "<bound method _iplot of             a         b         c         d\n",
       "0    0.315340  0.566866  0.029316  0.684194\n",
       "1    0.553910  0.881885  0.323751  0.707726\n",
       "2    0.266642  0.022661  0.354716  0.835102\n",
       "3    0.131816  0.288985  0.635113  0.427751\n",
       "4    0.729654  0.686352  0.511978  0.873487\n",
       "..        ...       ...       ...       ...\n",
       "495  0.621076  0.851192  0.626524  0.218796\n",
       "496  0.349979  0.666046  0.083351  0.148401\n",
       "497  0.220535  0.688397  0.109417  0.191756\n",
       "498  0.358680  0.931890  0.595970  0.885298\n",
       "499  0.439081  0.917570  0.288742  0.369876\n",
       "\n",
       "[500 rows x 4 columns]>"
      ]
     },
     "execution_count": 36,
     "metadata": {},
     "output_type": "execute_result"
    }
   ],
   "source": [
    "df1.iplot"
   ]
  },
  {
   "cell_type": "code",
   "execution_count": 37,
   "id": "097ab2dc",
   "metadata": {},
   "outputs": [
    {
     "data": {
      "application/vnd.plotly.v1+json": {
       "config": {
        "linkText": "Export to plot.ly",
        "plotlyServerURL": "https://plot.ly",
        "showLink": true
       },
       "data": [
        {
         "marker": {
          "color": "rgba(255, 153, 51, 0.6)",
          "line": {
           "color": "rgba(255, 153, 51, 1.0)",
           "width": 1
          }
         },
         "name": "y",
         "orientation": "v",
         "text": "",
         "type": "bar",
         "x": [
          "p",
          "q",
          "r"
         ],
         "y": [
          1,
          2,
          3
         ]
        }
       ],
       "layout": {
        "legend": {
         "bgcolor": "#F5F6F9",
         "font": {
          "color": "#4D5663"
         }
        },
        "paper_bgcolor": "#F5F6F9",
        "plot_bgcolor": "#F5F6F9",
        "template": {
         "data": {
          "bar": [
           {
            "error_x": {
             "color": "#2a3f5f"
            },
            "error_y": {
             "color": "#2a3f5f"
            },
            "marker": {
             "line": {
              "color": "#E5ECF6",
              "width": 0.5
             },
             "pattern": {
              "fillmode": "overlay",
              "size": 10,
              "solidity": 0.2
             }
            },
            "type": "bar"
           }
          ],
          "barpolar": [
           {
            "marker": {
             "line": {
              "color": "#E5ECF6",
              "width": 0.5
             },
             "pattern": {
              "fillmode": "overlay",
              "size": 10,
              "solidity": 0.2
             }
            },
            "type": "barpolar"
           }
          ],
          "carpet": [
           {
            "aaxis": {
             "endlinecolor": "#2a3f5f",
             "gridcolor": "white",
             "linecolor": "white",
             "minorgridcolor": "white",
             "startlinecolor": "#2a3f5f"
            },
            "baxis": {
             "endlinecolor": "#2a3f5f",
             "gridcolor": "white",
             "linecolor": "white",
             "minorgridcolor": "white",
             "startlinecolor": "#2a3f5f"
            },
            "type": "carpet"
           }
          ],
          "choropleth": [
           {
            "colorbar": {
             "outlinewidth": 0,
             "ticks": ""
            },
            "type": "choropleth"
           }
          ],
          "contour": [
           {
            "colorbar": {
             "outlinewidth": 0,
             "ticks": ""
            },
            "colorscale": [
             [
              0,
              "#0d0887"
             ],
             [
              0.1111111111111111,
              "#46039f"
             ],
             [
              0.2222222222222222,
              "#7201a8"
             ],
             [
              0.3333333333333333,
              "#9c179e"
             ],
             [
              0.4444444444444444,
              "#bd3786"
             ],
             [
              0.5555555555555556,
              "#d8576b"
             ],
             [
              0.6666666666666666,
              "#ed7953"
             ],
             [
              0.7777777777777778,
              "#fb9f3a"
             ],
             [
              0.8888888888888888,
              "#fdca26"
             ],
             [
              1,
              "#f0f921"
             ]
            ],
            "type": "contour"
           }
          ],
          "contourcarpet": [
           {
            "colorbar": {
             "outlinewidth": 0,
             "ticks": ""
            },
            "type": "contourcarpet"
           }
          ],
          "heatmap": [
           {
            "colorbar": {
             "outlinewidth": 0,
             "ticks": ""
            },
            "colorscale": [
             [
              0,
              "#0d0887"
             ],
             [
              0.1111111111111111,
              "#46039f"
             ],
             [
              0.2222222222222222,
              "#7201a8"
             ],
             [
              0.3333333333333333,
              "#9c179e"
             ],
             [
              0.4444444444444444,
              "#bd3786"
             ],
             [
              0.5555555555555556,
              "#d8576b"
             ],
             [
              0.6666666666666666,
              "#ed7953"
             ],
             [
              0.7777777777777778,
              "#fb9f3a"
             ],
             [
              0.8888888888888888,
              "#fdca26"
             ],
             [
              1,
              "#f0f921"
             ]
            ],
            "type": "heatmap"
           }
          ],
          "heatmapgl": [
           {
            "colorbar": {
             "outlinewidth": 0,
             "ticks": ""
            },
            "colorscale": [
             [
              0,
              "#0d0887"
             ],
             [
              0.1111111111111111,
              "#46039f"
             ],
             [
              0.2222222222222222,
              "#7201a8"
             ],
             [
              0.3333333333333333,
              "#9c179e"
             ],
             [
              0.4444444444444444,
              "#bd3786"
             ],
             [
              0.5555555555555556,
              "#d8576b"
             ],
             [
              0.6666666666666666,
              "#ed7953"
             ],
             [
              0.7777777777777778,
              "#fb9f3a"
             ],
             [
              0.8888888888888888,
              "#fdca26"
             ],
             [
              1,
              "#f0f921"
             ]
            ],
            "type": "heatmapgl"
           }
          ],
          "histogram": [
           {
            "marker": {
             "pattern": {
              "fillmode": "overlay",
              "size": 10,
              "solidity": 0.2
             }
            },
            "type": "histogram"
           }
          ],
          "histogram2d": [
           {
            "colorbar": {
             "outlinewidth": 0,
             "ticks": ""
            },
            "colorscale": [
             [
              0,
              "#0d0887"
             ],
             [
              0.1111111111111111,
              "#46039f"
             ],
             [
              0.2222222222222222,
              "#7201a8"
             ],
             [
              0.3333333333333333,
              "#9c179e"
             ],
             [
              0.4444444444444444,
              "#bd3786"
             ],
             [
              0.5555555555555556,
              "#d8576b"
             ],
             [
              0.6666666666666666,
              "#ed7953"
             ],
             [
              0.7777777777777778,
              "#fb9f3a"
             ],
             [
              0.8888888888888888,
              "#fdca26"
             ],
             [
              1,
              "#f0f921"
             ]
            ],
            "type": "histogram2d"
           }
          ],
          "histogram2dcontour": [
           {
            "colorbar": {
             "outlinewidth": 0,
             "ticks": ""
            },
            "colorscale": [
             [
              0,
              "#0d0887"
             ],
             [
              0.1111111111111111,
              "#46039f"
             ],
             [
              0.2222222222222222,
              "#7201a8"
             ],
             [
              0.3333333333333333,
              "#9c179e"
             ],
             [
              0.4444444444444444,
              "#bd3786"
             ],
             [
              0.5555555555555556,
              "#d8576b"
             ],
             [
              0.6666666666666666,
              "#ed7953"
             ],
             [
              0.7777777777777778,
              "#fb9f3a"
             ],
             [
              0.8888888888888888,
              "#fdca26"
             ],
             [
              1,
              "#f0f921"
             ]
            ],
            "type": "histogram2dcontour"
           }
          ],
          "mesh3d": [
           {
            "colorbar": {
             "outlinewidth": 0,
             "ticks": ""
            },
            "type": "mesh3d"
           }
          ],
          "parcoords": [
           {
            "line": {
             "colorbar": {
              "outlinewidth": 0,
              "ticks": ""
             }
            },
            "type": "parcoords"
           }
          ],
          "pie": [
           {
            "automargin": true,
            "type": "pie"
           }
          ],
          "scatter": [
           {
            "marker": {
             "colorbar": {
              "outlinewidth": 0,
              "ticks": ""
             }
            },
            "type": "scatter"
           }
          ],
          "scatter3d": [
           {
            "line": {
             "colorbar": {
              "outlinewidth": 0,
              "ticks": ""
             }
            },
            "marker": {
             "colorbar": {
              "outlinewidth": 0,
              "ticks": ""
             }
            },
            "type": "scatter3d"
           }
          ],
          "scattercarpet": [
           {
            "marker": {
             "colorbar": {
              "outlinewidth": 0,
              "ticks": ""
             }
            },
            "type": "scattercarpet"
           }
          ],
          "scattergeo": [
           {
            "marker": {
             "colorbar": {
              "outlinewidth": 0,
              "ticks": ""
             }
            },
            "type": "scattergeo"
           }
          ],
          "scattergl": [
           {
            "marker": {
             "colorbar": {
              "outlinewidth": 0,
              "ticks": ""
             }
            },
            "type": "scattergl"
           }
          ],
          "scattermapbox": [
           {
            "marker": {
             "colorbar": {
              "outlinewidth": 0,
              "ticks": ""
             }
            },
            "type": "scattermapbox"
           }
          ],
          "scatterpolar": [
           {
            "marker": {
             "colorbar": {
              "outlinewidth": 0,
              "ticks": ""
             }
            },
            "type": "scatterpolar"
           }
          ],
          "scatterpolargl": [
           {
            "marker": {
             "colorbar": {
              "outlinewidth": 0,
              "ticks": ""
             }
            },
            "type": "scatterpolargl"
           }
          ],
          "scatterternary": [
           {
            "marker": {
             "colorbar": {
              "outlinewidth": 0,
              "ticks": ""
             }
            },
            "type": "scatterternary"
           }
          ],
          "surface": [
           {
            "colorbar": {
             "outlinewidth": 0,
             "ticks": ""
            },
            "colorscale": [
             [
              0,
              "#0d0887"
             ],
             [
              0.1111111111111111,
              "#46039f"
             ],
             [
              0.2222222222222222,
              "#7201a8"
             ],
             [
              0.3333333333333333,
              "#9c179e"
             ],
             [
              0.4444444444444444,
              "#bd3786"
             ],
             [
              0.5555555555555556,
              "#d8576b"
             ],
             [
              0.6666666666666666,
              "#ed7953"
             ],
             [
              0.7777777777777778,
              "#fb9f3a"
             ],
             [
              0.8888888888888888,
              "#fdca26"
             ],
             [
              1,
              "#f0f921"
             ]
            ],
            "type": "surface"
           }
          ],
          "table": [
           {
            "cells": {
             "fill": {
              "color": "#EBF0F8"
             },
             "line": {
              "color": "white"
             }
            },
            "header": {
             "fill": {
              "color": "#C8D4E3"
             },
             "line": {
              "color": "white"
             }
            },
            "type": "table"
           }
          ]
         },
         "layout": {
          "annotationdefaults": {
           "arrowcolor": "#2a3f5f",
           "arrowhead": 0,
           "arrowwidth": 1
          },
          "autotypenumbers": "strict",
          "coloraxis": {
           "colorbar": {
            "outlinewidth": 0,
            "ticks": ""
           }
          },
          "colorscale": {
           "diverging": [
            [
             0,
             "#8e0152"
            ],
            [
             0.1,
             "#c51b7d"
            ],
            [
             0.2,
             "#de77ae"
            ],
            [
             0.3,
             "#f1b6da"
            ],
            [
             0.4,
             "#fde0ef"
            ],
            [
             0.5,
             "#f7f7f7"
            ],
            [
             0.6,
             "#e6f5d0"
            ],
            [
             0.7,
             "#b8e186"
            ],
            [
             0.8,
             "#7fbc41"
            ],
            [
             0.9,
             "#4d9221"
            ],
            [
             1,
             "#276419"
            ]
           ],
           "sequential": [
            [
             0,
             "#0d0887"
            ],
            [
             0.1111111111111111,
             "#46039f"
            ],
            [
             0.2222222222222222,
             "#7201a8"
            ],
            [
             0.3333333333333333,
             "#9c179e"
            ],
            [
             0.4444444444444444,
             "#bd3786"
            ],
            [
             0.5555555555555556,
             "#d8576b"
            ],
            [
             0.6666666666666666,
             "#ed7953"
            ],
            [
             0.7777777777777778,
             "#fb9f3a"
            ],
            [
             0.8888888888888888,
             "#fdca26"
            ],
            [
             1,
             "#f0f921"
            ]
           ],
           "sequentialminus": [
            [
             0,
             "#0d0887"
            ],
            [
             0.1111111111111111,
             "#46039f"
            ],
            [
             0.2222222222222222,
             "#7201a8"
            ],
            [
             0.3333333333333333,
             "#9c179e"
            ],
            [
             0.4444444444444444,
             "#bd3786"
            ],
            [
             0.5555555555555556,
             "#d8576b"
            ],
            [
             0.6666666666666666,
             "#ed7953"
            ],
            [
             0.7777777777777778,
             "#fb9f3a"
            ],
            [
             0.8888888888888888,
             "#fdca26"
            ],
            [
             1,
             "#f0f921"
            ]
           ]
          },
          "colorway": [
           "#636efa",
           "#EF553B",
           "#00cc96",
           "#ab63fa",
           "#FFA15A",
           "#19d3f3",
           "#FF6692",
           "#B6E880",
           "#FF97FF",
           "#FECB52"
          ],
          "font": {
           "color": "#2a3f5f"
          },
          "geo": {
           "bgcolor": "white",
           "lakecolor": "white",
           "landcolor": "#E5ECF6",
           "showlakes": true,
           "showland": true,
           "subunitcolor": "white"
          },
          "hoverlabel": {
           "align": "left"
          },
          "hovermode": "closest",
          "mapbox": {
           "style": "light"
          },
          "paper_bgcolor": "white",
          "plot_bgcolor": "#E5ECF6",
          "polar": {
           "angularaxis": {
            "gridcolor": "white",
            "linecolor": "white",
            "ticks": ""
           },
           "bgcolor": "#E5ECF6",
           "radialaxis": {
            "gridcolor": "white",
            "linecolor": "white",
            "ticks": ""
           }
          },
          "scene": {
           "xaxis": {
            "backgroundcolor": "#E5ECF6",
            "gridcolor": "white",
            "gridwidth": 2,
            "linecolor": "white",
            "showbackground": true,
            "ticks": "",
            "zerolinecolor": "white"
           },
           "yaxis": {
            "backgroundcolor": "#E5ECF6",
            "gridcolor": "white",
            "gridwidth": 2,
            "linecolor": "white",
            "showbackground": true,
            "ticks": "",
            "zerolinecolor": "white"
           },
           "zaxis": {
            "backgroundcolor": "#E5ECF6",
            "gridcolor": "white",
            "gridwidth": 2,
            "linecolor": "white",
            "showbackground": true,
            "ticks": "",
            "zerolinecolor": "white"
           }
          },
          "shapedefaults": {
           "line": {
            "color": "#2a3f5f"
           }
          },
          "ternary": {
           "aaxis": {
            "gridcolor": "white",
            "linecolor": "white",
            "ticks": ""
           },
           "baxis": {
            "gridcolor": "white",
            "linecolor": "white",
            "ticks": ""
           },
           "bgcolor": "#E5ECF6",
           "caxis": {
            "gridcolor": "white",
            "linecolor": "white",
            "ticks": ""
           }
          },
          "title": {
           "x": 0.05
          },
          "xaxis": {
           "automargin": true,
           "gridcolor": "white",
           "linecolor": "white",
           "ticks": "",
           "title": {
            "standoff": 15
           },
           "zerolinecolor": "white",
           "zerolinewidth": 2
          },
          "yaxis": {
           "automargin": true,
           "gridcolor": "white",
           "linecolor": "white",
           "ticks": "",
           "title": {
            "standoff": 15
           },
           "zerolinecolor": "white",
           "zerolinewidth": 2
          }
         }
        },
        "title": {
         "font": {
          "color": "#4D5663"
         }
        },
        "xaxis": {
         "gridcolor": "#E1E5ED",
         "showgrid": true,
         "tickfont": {
          "color": "#4D5663"
         },
         "title": {
          "font": {
           "color": "#4D5663"
          },
          "text": ""
         },
         "zerolinecolor": "#E1E5ED"
        },
        "yaxis": {
         "gridcolor": "#E1E5ED",
         "showgrid": true,
         "tickfont": {
          "color": "#4D5663"
         },
         "title": {
          "font": {
           "color": "#4D5663"
          },
          "text": ""
         },
         "zerolinecolor": "#E1E5ED"
        }
       }
      },
      "text/html": [
       "<div>                            <div id=\"fca7ca30-c48c-4f02-97b8-0739f2cc1b67\" class=\"plotly-graph-div\" style=\"height:525px; width:100%;\"></div>            <script type=\"text/javascript\">                require([\"plotly\"], function(Plotly) {                    window.PLOTLYENV=window.PLOTLYENV || {};\n",
       "                    window.PLOTLYENV.BASE_URL='https://plot.ly';                                    if (document.getElementById(\"fca7ca30-c48c-4f02-97b8-0739f2cc1b67\")) {                    Plotly.newPlot(                        \"fca7ca30-c48c-4f02-97b8-0739f2cc1b67\",                        [{\"marker\":{\"color\":\"rgba(255, 153, 51, 0.6)\",\"line\":{\"color\":\"rgba(255, 153, 51, 1.0)\",\"width\":1}},\"name\":\"y\",\"orientation\":\"v\",\"text\":\"\",\"x\":[\"p\",\"q\",\"r\"],\"y\":[1,2,3],\"type\":\"bar\"}],                        {\"legend\":{\"bgcolor\":\"#F5F6F9\",\"font\":{\"color\":\"#4D5663\"}},\"paper_bgcolor\":\"#F5F6F9\",\"plot_bgcolor\":\"#F5F6F9\",\"template\":{\"data\":{\"barpolar\":[{\"marker\":{\"line\":{\"color\":\"#E5ECF6\",\"width\":0.5},\"pattern\":{\"fillmode\":\"overlay\",\"size\":10,\"solidity\":0.2}},\"type\":\"barpolar\"}],\"bar\":[{\"error_x\":{\"color\":\"#2a3f5f\"},\"error_y\":{\"color\":\"#2a3f5f\"},\"marker\":{\"line\":{\"color\":\"#E5ECF6\",\"width\":0.5},\"pattern\":{\"fillmode\":\"overlay\",\"size\":10,\"solidity\":0.2}},\"type\":\"bar\"}],\"carpet\":[{\"aaxis\":{\"endlinecolor\":\"#2a3f5f\",\"gridcolor\":\"white\",\"linecolor\":\"white\",\"minorgridcolor\":\"white\",\"startlinecolor\":\"#2a3f5f\"},\"baxis\":{\"endlinecolor\":\"#2a3f5f\",\"gridcolor\":\"white\",\"linecolor\":\"white\",\"minorgridcolor\":\"white\",\"startlinecolor\":\"#2a3f5f\"},\"type\":\"carpet\"}],\"choropleth\":[{\"colorbar\":{\"outlinewidth\":0,\"ticks\":\"\"},\"type\":\"choropleth\"}],\"contourcarpet\":[{\"colorbar\":{\"outlinewidth\":0,\"ticks\":\"\"},\"type\":\"contourcarpet\"}],\"contour\":[{\"colorbar\":{\"outlinewidth\":0,\"ticks\":\"\"},\"colorscale\":[[0.0,\"#0d0887\"],[0.1111111111111111,\"#46039f\"],[0.2222222222222222,\"#7201a8\"],[0.3333333333333333,\"#9c179e\"],[0.4444444444444444,\"#bd3786\"],[0.5555555555555556,\"#d8576b\"],[0.6666666666666666,\"#ed7953\"],[0.7777777777777778,\"#fb9f3a\"],[0.8888888888888888,\"#fdca26\"],[1.0,\"#f0f921\"]],\"type\":\"contour\"}],\"heatmapgl\":[{\"colorbar\":{\"outlinewidth\":0,\"ticks\":\"\"},\"colorscale\":[[0.0,\"#0d0887\"],[0.1111111111111111,\"#46039f\"],[0.2222222222222222,\"#7201a8\"],[0.3333333333333333,\"#9c179e\"],[0.4444444444444444,\"#bd3786\"],[0.5555555555555556,\"#d8576b\"],[0.6666666666666666,\"#ed7953\"],[0.7777777777777778,\"#fb9f3a\"],[0.8888888888888888,\"#fdca26\"],[1.0,\"#f0f921\"]],\"type\":\"heatmapgl\"}],\"heatmap\":[{\"colorbar\":{\"outlinewidth\":0,\"ticks\":\"\"},\"colorscale\":[[0.0,\"#0d0887\"],[0.1111111111111111,\"#46039f\"],[0.2222222222222222,\"#7201a8\"],[0.3333333333333333,\"#9c179e\"],[0.4444444444444444,\"#bd3786\"],[0.5555555555555556,\"#d8576b\"],[0.6666666666666666,\"#ed7953\"],[0.7777777777777778,\"#fb9f3a\"],[0.8888888888888888,\"#fdca26\"],[1.0,\"#f0f921\"]],\"type\":\"heatmap\"}],\"histogram2dcontour\":[{\"colorbar\":{\"outlinewidth\":0,\"ticks\":\"\"},\"colorscale\":[[0.0,\"#0d0887\"],[0.1111111111111111,\"#46039f\"],[0.2222222222222222,\"#7201a8\"],[0.3333333333333333,\"#9c179e\"],[0.4444444444444444,\"#bd3786\"],[0.5555555555555556,\"#d8576b\"],[0.6666666666666666,\"#ed7953\"],[0.7777777777777778,\"#fb9f3a\"],[0.8888888888888888,\"#fdca26\"],[1.0,\"#f0f921\"]],\"type\":\"histogram2dcontour\"}],\"histogram2d\":[{\"colorbar\":{\"outlinewidth\":0,\"ticks\":\"\"},\"colorscale\":[[0.0,\"#0d0887\"],[0.1111111111111111,\"#46039f\"],[0.2222222222222222,\"#7201a8\"],[0.3333333333333333,\"#9c179e\"],[0.4444444444444444,\"#bd3786\"],[0.5555555555555556,\"#d8576b\"],[0.6666666666666666,\"#ed7953\"],[0.7777777777777778,\"#fb9f3a\"],[0.8888888888888888,\"#fdca26\"],[1.0,\"#f0f921\"]],\"type\":\"histogram2d\"}],\"histogram\":[{\"marker\":{\"pattern\":{\"fillmode\":\"overlay\",\"size\":10,\"solidity\":0.2}},\"type\":\"histogram\"}],\"mesh3d\":[{\"colorbar\":{\"outlinewidth\":0,\"ticks\":\"\"},\"type\":\"mesh3d\"}],\"parcoords\":[{\"line\":{\"colorbar\":{\"outlinewidth\":0,\"ticks\":\"\"}},\"type\":\"parcoords\"}],\"pie\":[{\"automargin\":true,\"type\":\"pie\"}],\"scatter3d\":[{\"line\":{\"colorbar\":{\"outlinewidth\":0,\"ticks\":\"\"}},\"marker\":{\"colorbar\":{\"outlinewidth\":0,\"ticks\":\"\"}},\"type\":\"scatter3d\"}],\"scattercarpet\":[{\"marker\":{\"colorbar\":{\"outlinewidth\":0,\"ticks\":\"\"}},\"type\":\"scattercarpet\"}],\"scattergeo\":[{\"marker\":{\"colorbar\":{\"outlinewidth\":0,\"ticks\":\"\"}},\"type\":\"scattergeo\"}],\"scattergl\":[{\"marker\":{\"colorbar\":{\"outlinewidth\":0,\"ticks\":\"\"}},\"type\":\"scattergl\"}],\"scattermapbox\":[{\"marker\":{\"colorbar\":{\"outlinewidth\":0,\"ticks\":\"\"}},\"type\":\"scattermapbox\"}],\"scatterpolargl\":[{\"marker\":{\"colorbar\":{\"outlinewidth\":0,\"ticks\":\"\"}},\"type\":\"scatterpolargl\"}],\"scatterpolar\":[{\"marker\":{\"colorbar\":{\"outlinewidth\":0,\"ticks\":\"\"}},\"type\":\"scatterpolar\"}],\"scatter\":[{\"marker\":{\"colorbar\":{\"outlinewidth\":0,\"ticks\":\"\"}},\"type\":\"scatter\"}],\"scatterternary\":[{\"marker\":{\"colorbar\":{\"outlinewidth\":0,\"ticks\":\"\"}},\"type\":\"scatterternary\"}],\"surface\":[{\"colorbar\":{\"outlinewidth\":0,\"ticks\":\"\"},\"colorscale\":[[0.0,\"#0d0887\"],[0.1111111111111111,\"#46039f\"],[0.2222222222222222,\"#7201a8\"],[0.3333333333333333,\"#9c179e\"],[0.4444444444444444,\"#bd3786\"],[0.5555555555555556,\"#d8576b\"],[0.6666666666666666,\"#ed7953\"],[0.7777777777777778,\"#fb9f3a\"],[0.8888888888888888,\"#fdca26\"],[1.0,\"#f0f921\"]],\"type\":\"surface\"}],\"table\":[{\"cells\":{\"fill\":{\"color\":\"#EBF0F8\"},\"line\":{\"color\":\"white\"}},\"header\":{\"fill\":{\"color\":\"#C8D4E3\"},\"line\":{\"color\":\"white\"}},\"type\":\"table\"}]},\"layout\":{\"annotationdefaults\":{\"arrowcolor\":\"#2a3f5f\",\"arrowhead\":0,\"arrowwidth\":1},\"autotypenumbers\":\"strict\",\"coloraxis\":{\"colorbar\":{\"outlinewidth\":0,\"ticks\":\"\"}},\"colorscale\":{\"diverging\":[[0,\"#8e0152\"],[0.1,\"#c51b7d\"],[0.2,\"#de77ae\"],[0.3,\"#f1b6da\"],[0.4,\"#fde0ef\"],[0.5,\"#f7f7f7\"],[0.6,\"#e6f5d0\"],[0.7,\"#b8e186\"],[0.8,\"#7fbc41\"],[0.9,\"#4d9221\"],[1,\"#276419\"]],\"sequential\":[[0.0,\"#0d0887\"],[0.1111111111111111,\"#46039f\"],[0.2222222222222222,\"#7201a8\"],[0.3333333333333333,\"#9c179e\"],[0.4444444444444444,\"#bd3786\"],[0.5555555555555556,\"#d8576b\"],[0.6666666666666666,\"#ed7953\"],[0.7777777777777778,\"#fb9f3a\"],[0.8888888888888888,\"#fdca26\"],[1.0,\"#f0f921\"]],\"sequentialminus\":[[0.0,\"#0d0887\"],[0.1111111111111111,\"#46039f\"],[0.2222222222222222,\"#7201a8\"],[0.3333333333333333,\"#9c179e\"],[0.4444444444444444,\"#bd3786\"],[0.5555555555555556,\"#d8576b\"],[0.6666666666666666,\"#ed7953\"],[0.7777777777777778,\"#fb9f3a\"],[0.8888888888888888,\"#fdca26\"],[1.0,\"#f0f921\"]]},\"colorway\":[\"#636efa\",\"#EF553B\",\"#00cc96\",\"#ab63fa\",\"#FFA15A\",\"#19d3f3\",\"#FF6692\",\"#B6E880\",\"#FF97FF\",\"#FECB52\"],\"font\":{\"color\":\"#2a3f5f\"},\"geo\":{\"bgcolor\":\"white\",\"lakecolor\":\"white\",\"landcolor\":\"#E5ECF6\",\"showlakes\":true,\"showland\":true,\"subunitcolor\":\"white\"},\"hoverlabel\":{\"align\":\"left\"},\"hovermode\":\"closest\",\"mapbox\":{\"style\":\"light\"},\"paper_bgcolor\":\"white\",\"plot_bgcolor\":\"#E5ECF6\",\"polar\":{\"angularaxis\":{\"gridcolor\":\"white\",\"linecolor\":\"white\",\"ticks\":\"\"},\"bgcolor\":\"#E5ECF6\",\"radialaxis\":{\"gridcolor\":\"white\",\"linecolor\":\"white\",\"ticks\":\"\"}},\"scene\":{\"xaxis\":{\"backgroundcolor\":\"#E5ECF6\",\"gridcolor\":\"white\",\"gridwidth\":2,\"linecolor\":\"white\",\"showbackground\":true,\"ticks\":\"\",\"zerolinecolor\":\"white\"},\"yaxis\":{\"backgroundcolor\":\"#E5ECF6\",\"gridcolor\":\"white\",\"gridwidth\":2,\"linecolor\":\"white\",\"showbackground\":true,\"ticks\":\"\",\"zerolinecolor\":\"white\"},\"zaxis\":{\"backgroundcolor\":\"#E5ECF6\",\"gridcolor\":\"white\",\"gridwidth\":2,\"linecolor\":\"white\",\"showbackground\":true,\"ticks\":\"\",\"zerolinecolor\":\"white\"}},\"shapedefaults\":{\"line\":{\"color\":\"#2a3f5f\"}},\"ternary\":{\"aaxis\":{\"gridcolor\":\"white\",\"linecolor\":\"white\",\"ticks\":\"\"},\"baxis\":{\"gridcolor\":\"white\",\"linecolor\":\"white\",\"ticks\":\"\"},\"bgcolor\":\"#E5ECF6\",\"caxis\":{\"gridcolor\":\"white\",\"linecolor\":\"white\",\"ticks\":\"\"}},\"title\":{\"x\":0.05},\"xaxis\":{\"automargin\":true,\"gridcolor\":\"white\",\"linecolor\":\"white\",\"ticks\":\"\",\"title\":{\"standoff\":15},\"zerolinecolor\":\"white\",\"zerolinewidth\":2},\"yaxis\":{\"automargin\":true,\"gridcolor\":\"white\",\"linecolor\":\"white\",\"ticks\":\"\",\"title\":{\"standoff\":15},\"zerolinecolor\":\"white\",\"zerolinewidth\":2}}},\"title\":{\"font\":{\"color\":\"#4D5663\"}},\"xaxis\":{\"gridcolor\":\"#E1E5ED\",\"showgrid\":true,\"tickfont\":{\"color\":\"#4D5663\"},\"title\":{\"font\":{\"color\":\"#4D5663\"},\"text\":\"\"},\"zerolinecolor\":\"#E1E5ED\"},\"yaxis\":{\"gridcolor\":\"#E1E5ED\",\"showgrid\":true,\"tickfont\":{\"color\":\"#4D5663\"},\"title\":{\"font\":{\"color\":\"#4D5663\"},\"text\":\"\"},\"zerolinecolor\":\"#E1E5ED\"}},                        {\"showLink\": true, \"linkText\": \"Export to plot.ly\", \"plotlyServerURL\": \"https://plot.ly\", \"responsive\": true}                    ).then(function(){\n",
       "                            \n",
       "var gd = document.getElementById('fca7ca30-c48c-4f02-97b8-0739f2cc1b67');\n",
       "var x = new MutationObserver(function (mutations, observer) {{\n",
       "        var display = window.getComputedStyle(gd).display;\n",
       "        if (!display || display === 'none') {{\n",
       "            console.log([gd, 'removed!']);\n",
       "            Plotly.purge(gd);\n",
       "            observer.disconnect();\n",
       "        }}\n",
       "}});\n",
       "\n",
       "// Listen for the removal of the full notebook cells\n",
       "var notebookContainer = gd.closest('#notebook-container');\n",
       "if (notebookContainer) {{\n",
       "    x.observe(notebookContainer, {childList: true});\n",
       "}}\n",
       "\n",
       "// Listen for the clearing of the current output cell\n",
       "var outputEl = gd.closest('.output');\n",
       "if (outputEl) {{\n",
       "    x.observe(outputEl, {childList: true});\n",
       "}}\n",
       "\n",
       "                        })                };                });            </script>        </div>"
      ]
     },
     "metadata": {},
     "output_type": "display_data"
    }
   ],
   "source": [
    "df2.iplot(kind='bar', x='x', y='y')"
   ]
  },
  {
   "cell_type": "code",
   "execution_count": 38,
   "id": "90a9dc78",
   "metadata": {},
   "outputs": [
    {
     "data": {
      "application/vnd.plotly.v1+json": {
       "config": {
        "linkText": "Export to plot.ly",
        "plotlyServerURL": "https://plot.ly",
        "showLink": true
       },
       "data": [
        {
         "colorscale": [
          [
           0,
           "rgb(255, 153, 51)"
          ],
          [
           0.1111111111111111,
           "rgb(55, 128, 191)"
          ],
          [
           0.2222222222222222,
           "rgb(50, 171, 96)"
          ],
          [
           0.3333333333333333,
           "rgb(128, 0, 128)"
          ],
          [
           0.4444444444444444,
           "rgb(219, 64, 82)"
          ],
          [
           0.5555555555555556,
           "rgb(0, 128, 128)"
          ],
          [
           0.6666666666666666,
           "rgb(255, 255, 51)"
          ],
          [
           0.7777777777777778,
           "rgb(128, 128, 0)"
          ],
          [
           0.8888888888888888,
           "rgb(251, 128, 114)"
          ],
          [
           1,
           "rgb(128, 177, 211)"
          ]
         ],
         "type": "surface",
         "x": [
          0,
          1,
          2,
          3,
          4,
          5,
          6,
          7,
          8,
          9,
          10,
          11,
          12,
          13,
          14,
          15,
          16,
          17,
          18,
          19,
          20,
          21,
          22,
          23,
          24,
          25,
          26,
          27,
          28,
          29,
          30,
          31,
          32,
          33,
          34,
          35,
          36,
          37,
          38,
          39,
          40,
          41,
          42,
          43,
          44,
          45,
          46,
          47,
          48,
          49,
          50,
          51,
          52,
          53,
          54,
          55,
          56,
          57,
          58,
          59,
          60,
          61,
          62,
          63,
          64,
          65,
          66,
          67,
          68,
          69,
          70,
          71,
          72,
          73,
          74,
          75,
          76,
          77,
          78,
          79,
          80,
          81,
          82,
          83,
          84,
          85,
          86,
          87,
          88,
          89,
          90,
          91,
          92,
          93,
          94,
          95,
          96,
          97,
          98,
          99,
          100,
          101,
          102,
          103,
          104,
          105,
          106,
          107,
          108,
          109,
          110,
          111,
          112,
          113,
          114,
          115,
          116,
          117,
          118,
          119,
          120,
          121,
          122,
          123,
          124,
          125,
          126,
          127,
          128,
          129,
          130,
          131,
          132,
          133,
          134,
          135,
          136,
          137,
          138,
          139,
          140,
          141,
          142,
          143,
          144,
          145,
          146,
          147,
          148,
          149,
          150,
          151,
          152,
          153,
          154,
          155,
          156,
          157,
          158,
          159,
          160,
          161,
          162,
          163,
          164,
          165,
          166,
          167,
          168,
          169,
          170,
          171,
          172,
          173,
          174,
          175,
          176,
          177,
          178,
          179,
          180,
          181,
          182,
          183,
          184,
          185,
          186,
          187,
          188,
          189,
          190,
          191,
          192,
          193,
          194,
          195,
          196,
          197,
          198,
          199,
          200,
          201,
          202,
          203,
          204,
          205,
          206,
          207,
          208,
          209,
          210,
          211,
          212,
          213,
          214,
          215,
          216,
          217,
          218,
          219,
          220,
          221,
          222,
          223,
          224,
          225,
          226,
          227,
          228,
          229,
          230,
          231,
          232,
          233,
          234,
          235,
          236,
          237,
          238,
          239,
          240,
          241,
          242,
          243,
          244,
          245,
          246,
          247,
          248,
          249,
          250,
          251,
          252,
          253,
          254,
          255,
          256,
          257,
          258,
          259,
          260,
          261,
          262,
          263,
          264,
          265,
          266,
          267,
          268,
          269,
          270,
          271,
          272,
          273,
          274,
          275,
          276,
          277,
          278,
          279,
          280,
          281,
          282,
          283,
          284,
          285,
          286,
          287,
          288,
          289,
          290,
          291,
          292,
          293,
          294,
          295,
          296,
          297,
          298,
          299,
          300,
          301,
          302,
          303,
          304,
          305,
          306,
          307,
          308,
          309,
          310,
          311,
          312,
          313,
          314,
          315,
          316,
          317,
          318,
          319,
          320,
          321,
          322,
          323,
          324,
          325,
          326,
          327,
          328,
          329,
          330,
          331,
          332,
          333,
          334,
          335,
          336,
          337,
          338,
          339,
          340,
          341,
          342,
          343,
          344,
          345,
          346,
          347,
          348,
          349,
          350,
          351,
          352,
          353,
          354,
          355,
          356,
          357,
          358,
          359,
          360,
          361,
          362,
          363,
          364,
          365,
          366,
          367,
          368,
          369,
          370,
          371,
          372,
          373,
          374,
          375,
          376,
          377,
          378,
          379,
          380,
          381,
          382,
          383,
          384,
          385,
          386,
          387,
          388,
          389,
          390,
          391,
          392,
          393,
          394,
          395,
          396,
          397,
          398,
          399,
          400,
          401,
          402,
          403,
          404,
          405,
          406,
          407,
          408,
          409,
          410,
          411,
          412,
          413,
          414,
          415,
          416,
          417,
          418,
          419,
          420,
          421,
          422,
          423,
          424,
          425,
          426,
          427,
          428,
          429,
          430,
          431,
          432,
          433,
          434,
          435,
          436,
          437,
          438,
          439,
          440,
          441,
          442,
          443,
          444,
          445,
          446,
          447,
          448,
          449,
          450,
          451,
          452,
          453,
          454,
          455,
          456,
          457,
          458,
          459,
          460,
          461,
          462,
          463,
          464,
          465,
          466,
          467,
          468,
          469,
          470,
          471,
          472,
          473,
          474,
          475,
          476,
          477,
          478,
          479,
          480,
          481,
          482,
          483,
          484,
          485,
          486,
          487,
          488,
          489,
          490,
          491,
          492,
          493,
          494,
          495,
          496,
          497,
          498,
          499
         ],
         "y": [
          "a",
          "b",
          "c",
          "d"
         ],
         "z": [
          [
           0.31533955181718865,
           0.5539099718182233,
           0.2666417393009075,
           0.1318162477853121,
           0.729653956549174,
           0.8192210306761991,
           0.4939069359701074,
           0.1813840112567856,
           0.449774246386061,
           0.146637400784132,
           0.714662180447274,
           0.5217108795117404,
           0.8101427369328545,
           0.8975462537790665,
           0.3964417305041329,
           0.08162014225986236,
           0.022206075715433538,
           0.6748537135189757,
           0.3147346163911692,
           0.16688001809209596,
           0.9422801763296061,
           0.9547942881039463,
           0.07390601081021186,
           0.7022021027566704,
           0.3469143616182123,
           0.642746736511665,
           0.7896791247853495,
           0.74417184461802,
           0.026144571607043643,
           0.9626469024085974,
           0.4174972858275491,
           0.1565695321853049,
           0.4799136924412104,
           0.25335055782871596,
           0.9477353413422079,
           0.09125607482387976,
           0.6581491963557563,
           0.7592392703944322,
           0.32873718974100896,
           0.5483985168211517,
           0.9767905578420882,
           0.9135498054103689,
           0.7520356116980934,
           0.9107100650279418,
           0.10616570471715692,
           0.07601030232413186,
           0.22206663623045075,
           0.28020447221909006,
           0.14220715408610296,
           0.8459439878396496,
           0.29797574313920483,
           0.015129572694585813,
           0.6088120664067928,
           0.7043941512000748,
           0.34683135657586894,
           0.15517177489859313,
           0.1626002347139619,
           0.525009946277439,
           0.36263960887806745,
           0.7614420559396978,
           0.8651369975277277,
           0.9811615891471893,
           0.3095333406727093,
           0.44236705699295487,
           0.1187643042047063,
           0.015998146211446573,
           0.9711760811899413,
           0.20862730920450945,
           0.644912649804916,
           0.44279999369057277,
           0.634910752766904,
           0.9777813919871908,
           0.5654203587608152,
           0.9874448491753217,
           0.28523051038173797,
           0.45806551274636764,
           0.14135926882014593,
           0.4400566448691591,
           0.08830629876181029,
           0.19965698044449076,
           0.25313147744512,
           0.6939349103546347,
           0.4453763003985114,
           0.6672623881516286,
           0.2098082998718892,
           0.3506192976391046,
           0.02442771689866796,
           0.513776898132248,
           0.5910381412215956,
           0.5209761205137036,
           0.6618802970295192,
           0.4424526801341877,
           0.07097665071927128,
           0.5806221636078759,
           0.4872225804116982,
           0.2281380039741171,
           0.3145250411567503,
           0.09638022581070027,
           0.5113415485749805,
           0.6040281606370371,
           0.998027027945057,
           0.13585353459230753,
           0.17419492619131327,
           0.4900894468202843,
           0.20469649206733653,
           0.1261099144964557,
           0.10835351919096303,
           0.26913485733225295,
           0.5116026171279839,
           0.4252345049849552,
           0.2581459903921194,
           0.24777138845648594,
           0.3325791542667633,
           0.5301080368129482,
           0.3513249917748684,
           0.2107597084523748,
           0.26556160766117054,
           0.26703643748587413,
           0.24470953914841198,
           0.45740687005682323,
           0.28974049948204506,
           0.9908500245902632,
           0.2889797211939359,
           0.3887872093337794,
           0.24591102821103394,
           0.6538264313096293,
           0.391610688773082,
           0.9906976475791653,
           0.8000276620839741,
           0.009139176679967553,
           0.6740206464125772,
           0.9185713673788906,
           0.8319248885266184,
           0.7582422178361462,
           0.04152956448926026,
           0.6829016090982518,
           0.489640569047593,
           0.623549032170599,
           0.01043135130835704,
           0.2120896521607577,
           0.4217803957147419,
           0.5424784978555686,
           0.43915507862224723,
           0.20928858150603769,
           0.7291407271899949,
           0.057033464451014426,
           0.9297429573120197,
           0.5205849443530205,
           0.7667273700270555,
           0.4949568257495808,
           0.4892995904557955,
           0.30622766098218424,
           0.7423513412973544,
           0.0020096433704722694,
           0.6718414037137121,
           0.8976986529228543,
           0.9529714173265226,
           0.38375753184085704,
           0.6339943680988663,
           0.0752373151355652,
           0.8481716409955118,
           0.19607533108777853,
           0.2754063533251244,
           0.9052156113189532,
           0.5999994635657384,
           0.8874993757693707,
           0.22092137157708414,
           0.20661910113608706,
           0.5407945021913356,
           0.06325418733593513,
           0.3701627854351238,
           0.6200160402968607,
           0.8874803648992815,
           0.44891355302011504,
           0.2081494611113721,
           0.844070013822957,
           0.9127227446821767,
           0.575436734298689,
           0.08384028525709919,
           0.4709278790688123,
           0.7012958015565698,
           0.5511897079618394,
           0.09774718583721853,
           0.14644672557672433,
           0.2562451038779996,
           0.31981130061068386,
           0.1812035186616906,
           0.2998025479451456,
           0.10820740568324883,
           0.5863417173733123,
           0.647408703951146,
           0.7445881632255842,
           0.5042488942541761,
           0.06085006350397293,
           0.39138201871398826,
           0.024635125333483776,
           0.8972284369790708,
           0.5720531807227263,
           0.03345337252379865,
           0.2846920513856751,
           0.6602541797587645,
           0.7552671047040734,
           0.8731257010896759,
           0.5707658472235007,
           0.6854820707987713,
           0.3272197431879975,
           0.11827138085026989,
           0.943356830539741,
           0.3675499682098089,
           0.4087227858757101,
           0.5659667845722709,
           0.03473571153804167,
           0.8311473502833757,
           0.12275157229626588,
           0.5506307889519095,
           0.9195563350338799,
           0.969525762885705,
           0.5258360815406782,
           0.7896425937261154,
           0.18785542066685634,
           0.4966217970214817,
           0.8087016322179085,
           0.5849988565977011,
           0.14158745546520113,
           0.438605710612186,
           0.7882383845542579,
           0.5143043242454258,
           0.27856388799780674,
           0.06482219162527281,
           0.6644815140882653,
           0.47912708794407566,
           0.12854673646498638,
           0.12376596689609831,
           0.9237219847676819,
           0.467798005457181,
           0.7957508516990494,
           0.7977242268059694,
           0.49861406169861,
           0.9149975562293388,
           0.7569963014387762,
           0.07576827276259634,
           0.823581653729435,
           0.45949768736972263,
           0.4864158410181765,
           0.9850103703109149,
           0.32599468767922435,
           0.6945836017152602,
           0.2889265362519736,
           0.7763488673107458,
           0.45081471583395194,
           0.7739354422587356,
           0.06964047461867329,
           0.5087237857023192,
           0.41684476828211603,
           0.00986002574320377,
           0.6860828358568125,
           0.5354346458823234,
           0.9481730549765187,
           0.7835327873065019,
           0.8915387535394164,
           0.06321709711568124,
           0.6400092902404513,
           0.6374956409664728,
           0.10664605321649467,
           0.3784734527942416,
           0.26266140797825455,
           0.2941043234002704,
           0.1406340588096633,
           0.09762408215905005,
           0.8209681460557213,
           0.24033029362660263,
           0.926718836526074,
           0.3920294237944464,
           0.9703856553950871,
           0.07894295784631511,
           0.6650549007760983,
           0.36733389044615794,
           0.39902362452783735,
           0.9647913231592269,
           0.6541096318260253,
           0.14266871725998997,
           0.4291822299541691,
           0.08107747892932204,
           0.5656206975633992,
           0.38462010861668494,
           0.4730728016063779,
           0.8556205537942306,
           0.2169883345227942,
           0.05614448048502618,
           0.20597828387203976,
           0.5721261803538987,
           0.955810437417393,
           0.10556711823231335,
           0.9687948345570477,
           0.529654421185744,
           0.2101818503831051,
           0.33730785730697566,
           0.035348578391122376,
           0.8992217722739119,
           0.6941934725697088,
           0.04364438421505923,
           0.6037329558766491,
           0.08055000423946734,
           0.690597169301423,
           0.49485804410366463,
           0.2781045535893393,
           0.07091028523363796,
           0.14414949973675195,
           0.4098515516017355,
           0.6031258671623162,
           0.06076815504794053,
           0.3745519927394365,
           0.6120225936685076,
           0.8887956452411813,
           0.8539011974076943,
           0.24473245555954626,
           0.4116661233150418,
           0.27185327345215726,
           0.4396799034934039,
           0.9553763391047527,
           0.7102793666855295,
           0.2516366780418633,
           0.2825555758865148,
           0.33288479070654897,
           0.8257565414830713,
           0.880191955784801,
           0.8775352722975729,
           0.8136166838855338,
           0.5232612206078966,
           0.3467995051661257,
           0.18941828192441157,
           0.6410966161917488,
           0.6832470008284096,
           0.740609948014194,
           0.2894888127289381,
           0.5600915994786737,
           0.005836940270658397,
           0.5673259174590995,
           0.5148016593357911,
           0.9407958063456531,
           0.20083848872895282,
           0.9451531138867133,
           0.0248198965515265,
           0.20382084585895377,
           0.6748941843748144,
           0.4400411268729253,
           0.011268896993052224,
           0.1452752632302825,
           0.8433333402235555,
           0.7321304022719771,
           0.09628604386359585,
           0.3824759819179602,
           0.9455274162029241,
           0.4111312113833526,
           0.27360402719517907,
           0.43213716133357993,
           0.48688759437415485,
           0.5176905064780482,
           0.09256688035960514,
           0.9197833849442669,
           0.4143881804574212,
           0.9313811233356847,
           0.21977443168265087,
           0.35619148131741896,
           0.19168419702892114,
           0.29675422327329015,
           0.2734046021004116,
           0.33463417183037825,
           0.8543608424977411,
           0.08599472043195633,
           0.29012249512213517,
           0.062393558512348735,
           0.49594823808499733,
           0.1887159149603388,
           0.2790601893564053,
           0.8510343803011101,
           0.262404022275301,
           0.6469455624298385,
           0.19703780388073744,
           0.8491372844706299,
           0.6817487631325079,
           0.4876644831199495,
           0.6353264089443244,
           0.3751847558173308,
           0.40684590643420604,
           0.7273292916569379,
           0.21842649333570696,
           0.4768986303492899,
           0.6062481802502198,
           0.762006382279796,
           0.9206797368960087,
           0.3329753911173957,
           0.8408820592276643,
           0.37373749556655034,
           0.03165760096857273,
           0.5250984022575503,
           0.06435532506413144,
           0.46459315764048603,
           0.037105684334086564,
           0.6090594042931998,
           0.2776174517346822,
           0.2554355923615207,
           0.23866473301499647,
           0.1604452076098356,
           0.6249024505629704,
           0.6540370819019438,
           0.08519051988352444,
           0.7941409892875959,
           0.6038717405045155,
           0.3971072335069672,
           0.8493819968320634,
           0.6003316618595556,
           0.5897936461359236,
           0.7961374192696908,
           0.6948081375322813,
           0.41871640217731454,
           0.5786981768356295,
           0.829769275054972,
           0.8528112489716281,
           0.41693779195993674,
           0.4413510930887171,
           0.6520033000480051,
           0.2360590953626004,
           0.4786895608570021,
           0.5443648971195442,
           0.34290180847628804,
           0.47512781849843433,
           0.562263050291712,
           0.08444485508011024,
           0.15811507541657077,
           0.7310924617388328,
           0.4556045319554062,
           0.058222122501998874,
           0.7113350175186673,
           0.7588741865789924,
           0.7843678294708714,
           0.31351762927696014,
           0.8073544390932376,
           0.3484882429383128,
           0.23710003767052956,
           0.6694210827933059,
           0.6246564876311518,
           0.06296487289289099,
           0.44023156893651405,
           0.5322482157786838,
           0.2311623159977234,
           0.17788063756571082,
           0.16923138071495603,
           0.02146651008966627,
           0.035574452050256444,
           0.9809599528742875,
           0.6783455515699552,
           0.595584570442391,
           0.3206385064882562,
           0.6511458389173512,
           0.5733461807192132,
           0.42239168228596946,
           0.7257744684126598,
           0.9935719569781173,
           0.12412097461087113,
           0.614509726045759,
           0.587295323236953,
           0.025282258841565763,
           0.07914829628042497,
           0.5070866555826244,
           0.09695031124234876,
           0.6266129473829848,
           0.07938889378707115,
           0.8146234170063464,
           0.7509843617315421,
           0.25348528580297913,
           0.2680025455095203,
           0.2034325199722441,
           0.2876387183896234,
           0.040757291983899546,
           0.5714855108009546,
           0.27757434780632817,
           0.6812848818799894,
           0.27361431421844595,
           0.9719026738691542,
           0.6695179712723569,
           0.03184146646951336,
           0.2655006003657313,
           0.8406761706891539,
           0.571869306172972,
           0.4835754279520277,
           0.8340073038907573,
           0.11802140981805587,
           0.7705430894642158,
           0.27744882129356274,
           0.14227494143094666,
           0.31293206808516427,
           0.6633868190715252,
           0.9120391626938426,
           0.5345789285646249,
           0.6210763706663569,
           0.3499785158954316,
           0.2205353792407082,
           0.35867978150744306,
           0.43908092999024373
          ],
          [
           0.5668663156516601,
           0.8818852761471555,
           0.022660751835567372,
           0.28898515621143284,
           0.6863521827946284,
           0.3865925999728579,
           0.9562311931578612,
           0.4519008678099711,
           0.22402153926679869,
           0.6847184223621499,
           0.2823430337913897,
           0.7118433697088283,
           0.44148827868922935,
           0.2888491423149827,
           0.7138543161317453,
           0.31807130312523524,
           0.5964896328887659,
           0.3545683454736803,
           0.29380233492063046,
           0.2705996645208838,
           0.14711368590262963,
           0.6548702587300944,
           0.6749449060564122,
           0.024825882834999535,
           0.8619796284390219,
           0.39181373769454875,
           0.7231848300049635,
           0.752831001809385,
           0.9583623463441733,
           0.7301723060542111,
           0.45701388840734947,
           0.44528056543258476,
           0.5130930022496764,
           0.9251717320668976,
           0.6812821737985159,
           0.8336474103964148,
           0.3386814274185276,
           0.753298112278522,
           0.10346316888221052,
           0.4856730021133775,
           0.09203672922981532,
           0.892180222258954,
           0.34287218208504444,
           0.6312316823695688,
           0.9791810485418755,
           0.860488520238403,
           0.18780312967153723,
           0.9456158715941622,
           0.406867646247958,
           0.8327938526326505,
           0.6452541719308815,
           0.4348043661194594,
           0.42731201482708636,
           0.7219782534964456,
           0.7469769590442686,
           0.4688133752359802,
           0.4823383278595428,
           0.18226222947271375,
           0.5091903464320802,
           0.7682347980088433,
           0.8133625549642411,
           0.016545473498110086,
           0.4151913941266415,
           0.22511311552487978,
           0.47600134018374385,
           0.7120804963207858,
           0.06699571509904312,
           0.7960556580884283,
           0.9018026108885543,
           0.5639599813618322,
           0.3245458725975826,
           0.08020538648847397,
           0.9119397238031386,
           0.42052597618174103,
           0.006713113189758646,
           0.24383981465982307,
           0.3754899628349948,
           0.19590080947098865,
           0.782662990690425,
           0.7465966359555094,
           0.48767855602404353,
           0.8044214402359187,
           0.2311148713817408,
           0.6394717679700683,
           0.6332735994074546,
           0.2637493220391087,
           0.3713160642991692,
           0.9320704520951608,
           0.3217529853809449,
           0.47979230780398596,
           0.2929966465710906,
           0.3234126907219592,
           0.30116066035747957,
           0.02549961629692954,
           0.1470456530143257,
           0.40258376038971155,
           0.2508035811880228,
           0.5949502407202407,
           0.25686476120314017,
           0.23591799557052806,
           0.7313996792806581,
           0.9596702229132645,
           0.1892033295131711,
           0.8922569747952044,
           0.5635909639910909,
           0.32171504805184237,
           0.5544975212311054,
           0.6283493742805857,
           0.7515720556823461,
           0.5474029636746591,
           0.14575490151068948,
           0.8427515440233341,
           0.4022365652788873,
           0.5136799552999997,
           0.06146062107994721,
           0.5901622613102747,
           0.3897409281803238,
           0.2124855058715891,
           0.1417465707987896,
           0.39607659516679083,
           0.6473922116038798,
           0.16294538874052722,
           0.30874301959863704,
           0.5806607267362266,
           0.12220098399140888,
           0.5141816976835034,
           0.6970940659994577,
           0.15501053986263658,
           0.8761546452631875,
           0.7705732511860061,
           0.4932854992250558,
           0.8456271791155374,
           0.35740300114245616,
           0.807077537276667,
           0.07872054025775155,
           0.6026574849935322,
           0.444085927601492,
           0.5740937460805405,
           0.1797594471786813,
           0.8894597966269933,
           0.4901662546609944,
           0.6823936806228578,
           0.5905100452494901,
           0.7595154313751245,
           0.13652401545523096,
           0.8849758632744533,
           0.8007209866635314,
           0.3187026764093681,
           0.2696929642337098,
           0.9586094423390066,
           0.21740661183820587,
           0.12363906713273876,
           0.595501266289367,
           0.04955271520739302,
           0.22261043700261307,
           0.2639545230099809,
           0.2731454865511308,
           0.6886898344807052,
           0.6817100529236584,
           0.563978932892274,
           0.4713187665370253,
           0.01232297672669791,
           0.27198813312576875,
           0.8351009569398579,
           0.2623024296656724,
           0.7347453719335153,
           0.12824250359972078,
           0.29107379349207385,
           0.42537499435854,
           0.8867821591391398,
           0.697449185766242,
           0.6594876636781849,
           0.7813543571916506,
           0.3017940887664795,
           0.7965103502394825,
           0.7407152810703421,
           0.7757022958357283,
           0.8950938032378996,
           0.8443280259190326,
           0.7832276539517371,
           0.56295204822866,
           0.9253742430426602,
           0.9568262925910661,
           0.7818016564994541,
           0.060765388548195354,
           0.28905261613446165,
           0.9029584543747377,
           0.35498137501761384,
           0.6037711097986393,
           0.9815140895758054,
           0.3785258335776486,
           0.5095318097083527,
           0.9512555978586019,
           0.6758387747391426,
           0.7875008892085678,
           0.8608565867378946,
           0.8901711251534047,
           0.2759210000365804,
           0.1572133868428105,
           0.7152284702578896,
           0.1619401231808174,
           0.3392869425142556,
           0.7184725466106789,
           0.9296162286052558,
           0.34310007614287386,
           0.6628235524399548,
           0.5908910649919621,
           0.41839568849183584,
           0.4849685643400239,
           0.4668997305354007,
           0.3494938305682186,
           0.18117583443482188,
           0.634361453401893,
           0.5019282114828564,
           0.1445379365872983,
           0.05787666179114559,
           0.5458602476790434,
           0.6396727652110201,
           0.21960004513227716,
           0.8645279885126406,
           0.9666976365539436,
           0.16066846184378336,
           0.27671580594515,
           0.7746568564024618,
           0.5020876595905822,
           0.5498189767544504,
           0.29656721168324807,
           0.8805068044796163,
           0.8041456174152928,
           0.3131205804149071,
           0.21347971349203743,
           0.6480439812598092,
           0.09480730365197954,
           0.6055201461035179,
           0.45312806774851855,
           0.005982889293746241,
           0.5920803108912276,
           0.30886304255900254,
           0.03860515169315393,
           0.5491039324692226,
           0.03458210075969559,
           0.6517075247673149,
           0.580956505925393,
           0.6014813692785475,
           0.6053429134608365,
           0.6425336556347753,
           0.5670074213460045,
           0.2562582577301775,
           0.9944634113878273,
           0.6196891172005646,
           0.9537383809734125,
           0.8910800683378288,
           0.5455839566674491,
           0.632352472895496,
           0.37640832913775135,
           0.4882822418959152,
           0.673403593682459,
           0.7724524801621507,
           0.15366219776213896,
           0.08253385966872695,
           0.2873197450052346,
           0.3475118875250367,
           0.6332368758246834,
           0.5199512533680376,
           0.22705176793561865,
           0.41755129789153045,
           0.5336990094674309,
           0.7301835965177229,
           0.9513633461672687,
           0.5514291090831346,
           0.29737525590988945,
           0.19088228244907035,
           0.35466560746557063,
           0.4660863723331259,
           0.35137539623989245,
           0.11498243010217113,
           0.744257546882325,
           0.08497723824115166,
           0.2547288897343828,
           0.55380349755695,
           0.631948341508326,
           0.683687455558882,
           0.6981227235834807,
           0.09854862063746017,
           0.2792457999118769,
           0.3361446781798584,
           0.6353565232543443,
           0.9810938855427651,
           0.6498844317507607,
           0.7734103646305877,
           0.48545647500893196,
           0.14088934362369465,
           0.7449657716722351,
           0.8581116130851298,
           0.97459462424048,
           0.06622307699681818,
           0.9978162793510003,
           0.7204098847824629,
           0.06448422658190445,
           0.32374651716062053,
           0.3655168026918457,
           0.10427545214516232,
           0.4781347993066467,
           0.7229716340684913,
           0.2372580855329488,
           0.7814558551571268,
           0.800134111436308,
           0.04195062657527149,
           0.2112027893606101,
           0.6792319485660492,
           0.10418554938667735,
           0.5877932076108245,
           0.35095885619436284,
           0.7869013099181019,
           0.4817695854034001,
           0.5895006072713888,
           0.3438239396084506,
           0.1906357139606476,
           0.950867135421135,
           0.23691549838088233,
           0.43394351844379697,
           0.36096924786121576,
           0.7781744392823446,
           0.6457557519105908,
           0.5068982582489855,
           0.05900318828571127,
           0.7180908980995003,
           0.5291701537026144,
           0.7778537172479146,
           0.4233619280823244,
           0.9012091448673962,
           0.47313685707368613,
           0.413173017849214,
           0.42730471973175355,
           0.2507701322566037,
           0.8838410211865384,
           0.646390796390032,
           0.5030723765593452,
           0.7839627498387786,
           0.7344123503990101,
           0.6207808518908765,
           0.839550048100158,
           0.8772427831529241,
           0.06879184535564298,
           0.9308222998883664,
           0.7559785623961003,
           0.07981085429135071,
           0.01601732599948369,
           0.27833768673511716,
           0.2060013052289087,
           0.8503641142033804,
           0.2391308023005262,
           0.006171085170538437,
           0.2123177114113982,
           0.6435974289678801,
           0.530448858645529,
           0.8896201788451845,
           0.15763637667008135,
           0.8321682846379025,
           0.048268609694506526,
           0.041421813536174135,
           0.6798805640015266,
           0.7028639746395494,
           0.2558960867388729,
           0.7805796072273506,
           0.2861916935243216,
           0.15235368369870428,
           0.01698674236890063,
           0.060020288643414466,
           0.8629593970188808,
           0.5939764472333644,
           0.294188573493415,
           0.8934723639469103,
           0.6798565522932398,
           0.7705359486910235,
           0.6452053938233928,
           0.4327314618813719,
           0.4911594059700013,
           0.08528873497102951,
           0.6537456400197527,
           0.11564933654937148,
           0.16081321925941694,
           0.8277815399965052,
           0.8228273543108257,
           0.7522182349458607,
           0.054680806706473795,
           0.5365870263772592,
           0.9653751115924655,
           0.46467497549479275,
           0.7278456122132313,
           0.6526430120282339,
           0.4740528757555593,
           0.9780167969872866,
           0.638865204353039,
           0.6855646425072721,
           0.7073420516337691,
           0.8729291026459288,
           0.81834743835375,
           0.34520207406753034,
           0.05390891682163457,
           0.6753567595601252,
           0.3401009291211051,
           0.16059518110765436,
           0.3974472209846698,
           0.23603229882695254,
           0.491884171654812,
           0.6461672553494408,
           0.1450969581754965,
           0.7050707156054864,
           0.8519031415101649,
           0.3139365331661662,
           0.8340135927742433,
           0.9247829460208586,
           0.9844409092058374,
           0.743828296685163,
           0.228597064256307,
           0.22734215061004992,
           0.48862586795077834,
           0.34431712468155495,
           0.20160913003188086,
           0.7049207748298216,
           0.5031535825684849,
           0.038344424697645985,
           0.7060142947115623,
           0.2054807110469219,
           0.8873957673592572,
           0.19720627710229133,
           0.21949317803142654,
           0.044235722459522786,
           0.09169133993645884,
           0.9506510784145152,
           0.5178777868970648,
           0.8411785557471051,
           0.7545674018408446,
           0.05706434366279789,
           0.440325848064133,
           0.4296151177205678,
           0.35106103411400347,
           0.20295988651644048,
           0.5000551117132231,
           0.5275172930241746,
           0.8992176722792333,
           0.002457030598108201,
           0.534866545691235,
           0.3786428648883091,
           0.1929034224278009,
           0.5853827693348913,
           0.7125262120354412,
           0.15528234988087175,
           0.22291661109814953,
           0.2699350106849202,
           0.5969241157913484,
           0.8694955107335991,
           0.8259138252072488,
           0.18448603440722333,
           0.44351049574382817,
           0.2740410020550409,
           0.8406301388013087,
           0.21891791465348098,
           0.6908889970288934,
           0.2600046285690918,
           0.25631599158547835,
           0.02321708179789339,
           0.7333230843390823,
           0.9436875054531739,
           0.1625738474944144,
           0.9470157041945959,
           0.25558221494247757,
           0.7695162994961002,
           0.08179694554013772,
           0.2899824878541223,
           0.5940440773539847,
           0.6059036248607421,
           0.49194280302043936,
           0.5448949420472141,
           0.7603978750712809,
           0.2961410578460426,
           0.6783981090188628,
           0.9136167214453969,
           0.505561003005587,
           0.2527070959944331,
           0.055848134077429834,
           0.30266291445244553,
           0.050889861854043095,
           0.939614793035071,
           0.5163039747054733,
           0.05392266888439534,
           0.8687234556302589,
           0.603102639428504,
           0.9073820298529593,
           0.5734531935614271,
           0.22315238810983085,
           0.7923529908430886,
           0.8831771072675563,
           0.48963526025052395,
           0.851191966200963,
           0.666045619374514,
           0.6883965599984112,
           0.9318900081093384,
           0.9175698977883668
          ],
          [
           0.029315892112298236,
           0.3237513496126211,
           0.35471644069092056,
           0.6351127662899921,
           0.5119777293840335,
           0.7636551701951068,
           0.5398378717439224,
           0.19314167730261966,
           0.12395804915839903,
           0.683351428751105,
           0.7929315052272278,
           0.6316002108579883,
           0.16547120024778172,
           0.1815878418528163,
           0.7936660007257305,
           0.8134279881660598,
           0.4715378350838435,
           0.6577333530500495,
           0.4399394459854675,
           0.2683593337127663,
           0.8357664121306488,
           0.9511240494812777,
           0.6296972683898978,
           0.9812410517965694,
           0.9354970126538981,
           0.26572340131882255,
           0.06950414739281052,
           0.8749710644757757,
           0.8215960114939272,
           0.7077354708936023,
           0.9962922577308948,
           0.19005993200644777,
           0.002877096130893153,
           0.7893697608333045,
           0.8141191752021022,
           0.10528177769592306,
           0.9056720585674507,
           0.5544509681941315,
           0.7535909863536135,
           0.6534654583651158,
           0.4686908320916483,
           0.26804772092154305,
           0.5256231312691823,
           0.29978755215616815,
           0.28297984733253523,
           0.0008349190784073812,
           0.4156313456951811,
           0.0772514502397198,
           0.722924765088718,
           0.12746353599616211,
           0.9433769858882455,
           0.6531939426920699,
           0.37973453704895865,
           0.9515836103044155,
           0.6722184348274586,
           0.798096227040339,
           0.7827683251052698,
           0.009228810117218433,
           0.21127304920898693,
           0.9673442954225416,
           0.07713473031717533,
           0.048389466739300446,
           0.6320545503825203,
           0.3033612380694093,
           0.6559255026872569,
           0.1991489408256749,
           0.1789299578721646,
           0.5150289946954311,
           0.43640135441902217,
           0.8556216125922175,
           0.6990852353585327,
           0.4927191690740854,
           0.8304725239798569,
           0.622941542623038,
           0.2025258080557658,
           0.4537084907198661,
           0.44088094077750517,
           0.4362383036811761,
           0.1351203279679012,
           0.6944551368000697,
           0.16918300149493293,
           0.46375329123532916,
           0.9389890645204613,
           0.16457687526816844,
           0.2131156567592415,
           0.31885701172798553,
           0.055216396146848146,
           0.5929002263555805,
           0.8043337860582845,
           0.516499733707382,
           0.8030917764452078,
           0.09122938044787832,
           0.7824333459484182,
           0.37385583488954555,
           0.7536227891024275,
           0.9847950763712808,
           0.9123649682166997,
           0.48136450685728416,
           0.8507887563078903,
           0.5236119094734237,
           0.5393974341513782,
           0.5297299167024645,
           0.28673068091116094,
           0.41517946205089173,
           0.8485261521255061,
           0.6845370421307623,
           0.753681783805666,
           0.09138697781167615,
           0.844842117435399,
           0.7431987082379651,
           0.5640035196667302,
           0.6176609415706821,
           0.2896755271355165,
           0.7337791019109514,
           0.4978047230169964,
           0.9580445857179152,
           0.7790072616098688,
           0.12846445678679952,
           0.14960400443545963,
           0.20361265987451505,
           0.8042203100907003,
           0.83953266715138,
           0.7780403478138829,
           0.14895458446191423,
           0.26801510633880365,
           0.29851144494757476,
           0.42982548900172546,
           0.4931647575746405,
           0.7763055869694442,
           0.6410454758709445,
           0.6214841983559788,
           0.3681202256099064,
           0.8049056317327004,
           0.7011791110950442,
           0.9274000014209967,
           0.7058814666746736,
           0.22520757699906668,
           0.5539722586821131,
           0.6260975895387515,
           0.5876665986290828,
           0.42265310111321286,
           0.5506529463713041,
           0.10165602666198714,
           0.06808356527799353,
           0.5977634636835595,
           0.164578596924576,
           0.053486210335104256,
           0.026425005210728436,
           0.7685705625455826,
           0.1680271130649984,
           0.29413008028863163,
           0.023639028783434823,
           0.9864719951031893,
           0.4515840994361108,
           0.6675681609141313,
           0.5308562509620194,
           0.5844341094980581,
           0.9825649477094768,
           0.9316609454587002,
           0.06513769245171175,
           0.04228537262340126,
           0.5832802773328828,
           0.3946121391816879,
           0.9286471913259464,
           0.13090556776822937,
           0.9670327100024428,
           0.3359445193765166,
           0.4027370053668695,
           0.10906006284592873,
           0.9640107623855371,
           0.6946266471831388,
           0.8500259729376568,
           0.0704494885332666,
           0.5334359398163012,
           0.23605887374158852,
           0.5941065109832434,
           0.16350149291079752,
           0.9379355160366429,
           0.3503374376269205,
           0.585509138411847,
           0.6404064600957059,
           0.4091444003218425,
           0.39869725990397753,
           0.5532619668797544,
           0.8552198873243029,
           0.29649810491786543,
           0.1977893146417825,
           0.9514078185975615,
           0.04014783547347256,
           0.8544681357843987,
           0.7877880460284851,
           0.9978679606848702,
           0.4879646854160119,
           0.6500304378996995,
           0.7554658437888245,
           0.9116182742615677,
           0.6075050048136094,
           0.27718386905920545,
           0.8526077187312922,
           0.5028621550247929,
           0.37982205595826657,
           0.18078835297978357,
           0.17677263253589293,
           0.08202464837441614,
           0.5027749264627247,
           0.5760280192319236,
           0.35304911460916655,
           0.8620353238159715,
           0.14372203146643692,
           0.029237755358623718,
           0.717649248116963,
           0.0006354374746184721,
           0.7341577066350644,
           0.8125645363409505,
           0.2744244982929107,
           0.9555009453819466,
           0.2705639815698603,
           0.9064492154732913,
           0.9556306488351628,
           0.8992141187874377,
           0.8475194812633914,
           0.8308435208151438,
           0.36655071684769625,
           0.926654170859442,
           0.42579828605438996,
           0.12301691500257295,
           0.18886140168243137,
           0.5077932291337485,
           0.24079466658410176,
           0.15492568225624326,
           0.2713134953348445,
           0.688957917271913,
           0.7691640046159095,
           0.37091641537797115,
           0.22105368259558156,
           0.9801421387980881,
           0.17940527907033454,
           0.7974691195894771,
           0.21762388497192042,
           0.765069380683962,
           0.5582618658992173,
           0.0585140358251135,
           0.49011530474087395,
           0.09187323184836083,
           0.3531322651986578,
           0.3629458963691591,
           0.6752818306414103,
           0.8926358757369898,
           0.3140240482555958,
           0.47003103713264216,
           0.7371468971580913,
           0.417910571202468,
           0.07620694778528303,
           0.604479705766926,
           0.5402391970689163,
           0.5417830179620993,
           0.6685840550504382,
           0.8746436219884601,
           0.34661213844746175,
           0.3737237333349003,
           0.29100625168912275,
           0.19267967452830714,
           0.22015798839056833,
           0.8701248721872755,
           0.22832098531034772,
           0.9117348477703343,
           0.9373412227274749,
           0.038550632365601634,
           0.13165841639329623,
           0.5636189793154716,
           0.7030255184658659,
           0.27026186209513225,
           0.656208184752201,
           0.4054682858136044,
           0.8389910103303426,
           0.9989209965056418,
           0.7958575919951314,
           0.35852125641755284,
           0.8281945214634925,
           0.8244421449588258,
           0.3697828947348859,
           0.5588154590710264,
           0.16169641320940653,
           0.3522373815544202,
           0.3621781099905871,
           0.0851485466832187,
           0.7924177973404807,
           0.35307205976953815,
           0.5373928442992085,
           0.5778781733989605,
           0.6751380900630632,
           0.594429221132019,
           0.027543190528681927,
           0.1501392381140635,
           0.683683834417817,
           0.8426297865279441,
           0.8387664870586902,
           0.2071335737019382,
           0.8229261233815031,
           0.6663894100126083,
           0.029277986983861082,
           0.25131507081334525,
           0.9015698694757583,
           0.9561466007928551,
           0.18079376073711717,
           0.9168851053139823,
           0.22995965198958035,
           0.3141002423999677,
           0.871733976910166,
           0.05615650962616736,
           0.8482305091667177,
           0.14051178952514942,
           0.6202730281630993,
           0.5256563041516455,
           0.13837090165792765,
           0.27774914438801224,
           0.5685584585589365,
           0.4928875403119203,
           0.7917367571541035,
           0.7118648157122299,
           0.4998971850628229,
           0.124574808200138,
           0.8813950164637222,
           0.0673544461661526,
           0.6981086244993293,
           0.09439997267799694,
           0.8321450746136342,
           0.727019292639866,
           0.45549809983323086,
           0.2191321479100461,
           0.7228079667298792,
           0.4628580364507142,
           0.6009458461948604,
           0.3742884540604532,
           0.5081183189875975,
           0.5991809672919136,
           0.8239525250420623,
           0.8823306934790557,
           0.9878641468571111,
           0.10867169406993593,
           0.3236377044104217,
           0.721794157491465,
           0.296492070409911,
           0.3111710728383892,
           0.4371609328728788,
           0.15465232536232099,
           0.0036261757465481104,
           0.3732294903759611,
           0.09497822065979156,
           0.6651726874963179,
           0.6872277583364552,
           0.15697755517324719,
           0.5791831012888264,
           0.4205131525316662,
           0.25213334383120967,
           0.002390090341725881,
           0.7866776581550651,
           0.5263122398936487,
           0.987040995696338,
           0.5995694527063764,
           0.8024208493814341,
           0.5986181832452714,
           0.5958844341341701,
           0.6514804877384742,
           0.5499068067055123,
           0.5031797206499805,
           0.17193036131117556,
           0.179102361444188,
           0.9939999156578374,
           0.14700401306339872,
           0.2924539810268013,
           0.5036916965683464,
           0.3330405739838068,
           0.9092463867865672,
           0.6417801877941312,
           0.15773505276889344,
           0.8126374386886637,
           0.8916453190103468,
           0.893969539191279,
           0.7255321838340466,
           0.059945844756146394,
           0.401890659718403,
           0.922307609849913,
           0.4019135377304035,
           0.7162384265823267,
           0.5084461846806104,
           0.18233615614808762,
           0.6107706146066302,
           0.21961036985157112,
           0.47359040171618705,
           0.6935876356635524,
           0.27065465652200493,
           0.5602427082298831,
           0.8414479078962074,
           0.6649686392574043,
           0.07324461535100213,
           0.7151090993132332,
           0.4498316479769864,
           0.7034569541817026,
           0.7052933438356584,
           0.27471474982193944,
           0.7429759220232924,
           0.7560240918358493,
           0.7532705937956382,
           0.5054849070263624,
           0.1475362718350588,
           0.2919632510001142,
           0.8938327043477012,
           0.2395049500715578,
           0.9216873023545514,
           0.10081406885606559,
           0.5671882927095809,
           0.5616231645196287,
           0.2068607038261252,
           0.05299501929672101,
           0.05551977717773238,
           0.9039295840874735,
           0.7012235860341256,
           0.9746400879358729,
           0.13743499281884963,
           0.7044828605632049,
           0.7830092236780566,
           0.888242878928459,
           0.3881949461153995,
           0.046125514420359615,
           0.4330957354258306,
           0.021178521331945643,
           0.021283539834088372,
           0.010125352571541346,
           0.47009072336984825,
           0.33452427931829876,
           0.3221007250875204,
           0.0997166428811661,
           0.2904584856396544,
           0.04298769017902193,
           0.4577586324111498,
           0.4429475448971891,
           0.4948426363724435,
           0.4752143611855799,
           0.7517711122742273,
           0.08694613613739932,
           0.7494035675927863,
           0.605654915656395,
           0.6094901608096781,
           0.7122176748028263,
           0.16855393655426176,
           0.42219624233905884,
           0.42115587844981406,
           0.9881933736286957,
           0.7491880825429534,
           0.9454000446560636,
           0.6520381360989583,
           0.8859260530274494,
           0.5134939835746473,
           0.2143029206274386,
           0.09018653199145443,
           0.5432080068453434,
           0.7133259601106934,
           0.8622429476672803,
           0.24833410864565642,
           0.27714807399256414,
           0.2669220336772794,
           0.3160886484118214,
           0.3958995542197954,
           0.20120085766633922,
           0.566300682792962,
           0.8646982757058036,
           0.8227132314383548,
           0.32959614725651487,
           0.7067963931211177,
           0.5189922181144302,
           0.02450070635307966,
           0.3094312076597948,
           0.327421966428441,
           0.5565535283089975,
           0.22492121891299577,
           0.812005972538968,
           0.991077828182667,
           0.6613926726995801,
           0.8553842219665917,
           0.7739443587818986,
           0.9756363751202476,
           0.7144493885027668,
           0.3224707463712355,
           0.20662513797481208,
           0.3358728843619292,
           0.2042546942290745,
           0.8463438763322553,
           0.46388265951205365,
           0.5216254496736883,
           0.5583185668711259,
           0.669976555380258,
           0.6147223915739872,
           0.05332370967690536,
           0.9648529758956325,
           0.6265237350231663,
           0.08335053930487601,
           0.10941722130261267,
           0.5959699191386865,
           0.2887415128838039
          ],
          [
           0.6841944341332977,
           0.707725760921391,
           0.8351021740493405,
           0.4277509358052517,
           0.8734872723527567,
           0.3326912233452234,
           0.6360918362984774,
           0.23422520050032103,
           0.99252391858371,
           0.2845213864624636,
           0.1727287355964663,
           0.4130836302159361,
           0.48388838345004004,
           0.9944220593326139,
           0.6709435234590244,
           0.7025516953937757,
           0.12760763493446647,
           0.7095813675629565,
           0.3701387267162398,
           0.5149851457515003,
           0.02401523192975752,
           0.3331670960057843,
           0.9373245099534951,
           0.17976905220137807,
           0.8205160315316463,
           0.5207760681581942,
           0.8001719453926847,
           0.5416925043104881,
           0.5465572652984347,
           0.619165398372604,
           0.7478535954186895,
           0.7666169369859117,
           0.8068184489848341,
           0.36342196090813206,
           0.020868054297283,
           0.7257717048623592,
           0.6455875156570352,
           0.8269404893959796,
           0.8752309656738617,
           0.32500237143615696,
           0.5144731751736518,
           0.3119884064769405,
           0.901396344374955,
           0.9485269360807991,
           0.025710850680750075,
           0.5124182729033245,
           0.9364026171116198,
           0.18661068897245447,
           0.8774736228261043,
           0.11549225027028487,
           0.6512108509094218,
           0.7387219560556729,
           0.13366120790150104,
           0.2879665112934344,
           0.7195106504121997,
           0.4990799402392625,
           0.23709385393358373,
           0.05884068807462994,
           0.8313939331241377,
           0.009536255193150045,
           0.7035993679723365,
           0.22888227904312253,
           0.9464639561982651,
           0.10849702313347354,
           0.21535976314869643,
           0.42198266431206544,
           0.18188282342292406,
           0.47771568756408755,
           0.31949264549889045,
           0.1862096716603706,
           0.7472330847843147,
           0.7218558939708629,
           0.8604088252267619,
           0.5226096356525469,
           0.27775151301661594,
           0.959690741926741,
           0.07274514962389456,
           0.8363411590491032,
           0.20446198711971297,
           0.8627045044965447,
           0.8955111093147896,
           0.5762794770322743,
           0.875698369767816,
           0.5488217738083587,
           0.382012005153719,
           0.7852782101048688,
           0.8322472246368265,
           0.8214910050521808,
           0.7459870568952911,
           0.6077951471863287,
           0.2606572102822071,
           0.21946217401252432,
           0.9289826882225608,
           0.26977774090896134,
           0.37689505599082385,
           0.018427460582400967,
           0.6749355486168331,
           0.44087259695826886,
           0.7358750874427759,
           0.6430853519067729,
           0.81615575566659,
           0.0785846848915347,
           0.9626600885515808,
           0.08548017924038853,
           0.8865756442642901,
           0.43873920406927336,
           0.09685736215171648,
           0.8691669332260148,
           0.9455138837085073,
           0.9588694236423598,
           0.08471277441912684,
           0.6982761326612253,
           0.02091658819068143,
           0.3906936748769527,
           0.5198534930130753,
           0.2818491307599327,
           0.48628869770292005,
           0.37125808928160675,
           0.3818812984067673,
           0.4455155161973763,
           0.4723197761054725,
           0.40044769559189586,
           0.11692886212047549,
           0.0720636054995295,
           0.7937342788798087,
           0.260593685587177,
           0.9136596699001885,
           0.9687955190150279,
           0.0707775036274626,
           0.37257851489087845,
           0.8451612107155395,
           0.557242114799216,
           0.42123069294179727,
           0.7664997173030229,
           0.3745175821431095,
           0.888388612785429,
           0.22016529106678728,
           0.6642532094290537,
           0.7554261879044237,
           0.9472436677511671,
           0.9770766689467891,
           0.97650996565173,
           0.9144242335789069,
           0.9839610735683662,
           0.6980664837510339,
           0.1835020880232875,
           0.5334830064298828,
           0.5202146255086177,
           0.13364449279311064,
           0.39951461261472687,
           0.4135188984131193,
           0.25711094108987975,
           0.9027609532878568,
           0.5866533992394346,
           0.8397021590197593,
           0.748554773979922,
           0.23169753496714296,
           0.7473773513257336,
           0.5184021594571886,
           0.1765092148741536,
           0.3234285620462982,
           0.5867911874209459,
           0.6990847598187228,
           0.2886010918107472,
           0.13091449399824173,
           0.6230546244825848,
           0.21320315060370765,
           0.5392364383674273,
           0.5007509306656459,
           0.17419155485557336,
           0.39944023753742386,
           0.16572578062529586,
           0.5375394634366356,
           0.7954639521316933,
           0.8818552126767711,
           0.41447636418799494,
           0.6868568363713574,
           0.3431285778562423,
           0.01792816662097152,
           0.009458317906924307,
           0.503794622926351,
           0.42813963133159216,
           0.3816035516340873,
           0.13778614896040242,
           0.17820736178276697,
           0.5365839050191662,
           0.7799447830974946,
           0.42135229264928487,
           0.39237250688842407,
           0.027995256718249317,
           0.5232653431486308,
           0.36781750195547314,
           0.4217856865061276,
           0.9284549485726601,
           0.03900319810240804,
           0.560726815706613,
           0.18360208948865597,
           0.4499391524461088,
           0.7517553727215466,
           0.26493074355910784,
           0.6784579093562366,
           0.7776872571577028,
           0.9902404392686107,
           0.12885009678007964,
           0.6343741906183117,
           0.370902057407952,
           0.021450784250584554,
           0.008768738667580322,
           0.49652628114042285,
           0.07619543886481184,
           0.5731712242173278,
           0.4199485734115713,
           0.8417925075956321,
           0.12871658037749256,
           0.5664718975049619,
           0.6900338304071859,
           0.4458080217446889,
           0.5470222818440061,
           0.4147054817358956,
           0.6652755327373926,
           0.6930628205218115,
           0.46348804853771275,
           0.6736921861841506,
           0.843085304813901,
           0.78531813128705,
           0.10105694261257514,
           0.03785740560895123,
           0.6557969474745987,
           0.8213794365139317,
           0.30455161717386436,
           0.2472444653950776,
           0.1926695641240822,
           0.6205309330979063,
           0.14507168611501042,
           0.34402837042276235,
           0.2571776795579037,
           0.9045823245481572,
           0.03004690552879208,
           0.6078567103964858,
           0.6843350108228909,
           0.9631485320491154,
           0.394505260767571,
           0.2542075829511695,
           0.4333688558147166,
           0.46950717749474935,
           0.5433471996553741,
           0.7685691213700655,
           0.7060620146010376,
           0.02045338330372759,
           0.2419127201020994,
           0.8670911085294932,
           0.8552876995996647,
           0.6856478746285083,
           0.8929331213325862,
           0.33416428514418794,
           0.10391885670927559,
           0.20432469514843787,
           0.8090689047460898,
           0.9892283888382488,
           0.3842839050639524,
           0.9422259155373167,
           0.2080213778720298,
           0.019311681896279853,
           0.3913988884341151,
           0.14526412096471297,
           0.5715730164102083,
           0.7272532594644409,
           0.24181381989546002,
           0.31366585729892626,
           0.4001984429429275,
           0.10423712438463462,
           0.5947379643217354,
           0.930489255183302,
           0.19940952257760558,
           0.6615050608882118,
           0.6132913750073993,
           0.7028373806426804,
           0.7408162193507933,
           0.9456456912184054,
           0.4094482620144815,
           0.5301303662821786,
           0.42415170459427065,
           0.750323657511074,
           0.4798283220470295,
           0.8555180281147121,
           0.2872233600279187,
           0.4609539966962293,
           0.47497792059970123,
           0.30961836928024644,
           0.9045253548905453,
           0.952043308683288,
           0.32468726186319696,
           0.4823909133549852,
           0.1346978681212465,
           0.6222186660945722,
           0.05917417438882344,
           0.3804089095720222,
           0.3952235657956005,
           0.6635929450695989,
           0.4348496934713586,
           0.05132533968535413,
           0.0167241188560302,
           0.6783206465259598,
           0.07100005919947994,
           0.2909424923344608,
           0.0716049175594663,
           0.923604283264406,
           0.26820096431211504,
           0.8628324974932624,
           0.01495645172602178,
           0.5957706891640976,
           0.27060042178535115,
           0.3818009403100726,
           0.7424504784241248,
           0.6672996358191418,
           0.5421221579447603,
           0.5253219143278391,
           0.8647644370199591,
           0.8434827054033226,
           0.40927135749182675,
           0.3720919629486166,
           0.47988266350664277,
           0.8109271581801906,
           0.2908621490875096,
           0.0786385744636634,
           0.4773012375798694,
           0.3964783541144592,
           0.7852213251035577,
           0.22835829782609596,
           0.2869804207277583,
           0.779576469361169,
           0.40763299669476305,
           0.5445225185719704,
           0.7460319924007311,
           0.7444762698342943,
           0.3994806269615956,
           0.8370115785906688,
           0.7254852446261532,
           0.2853066996690695,
           0.27352882341687124,
           0.02816274897406068,
           0.1947839591928845,
           0.8683639546034144,
           0.7534862678124011,
           0.4512043622925468,
           0.8020856228679397,
           0.5880127765340719,
           0.5074520190146559,
           0.46077780840714144,
           0.9348195002049479,
           0.14774083349028755,
           0.5649051787144029,
           0.450055907517368,
           0.22412584523361656,
           0.23604886404808123,
           0.5530354559342496,
           0.3924461167294878,
           0.24759700655838535,
           0.9136501136582617,
           0.20979277489937598,
           0.7038777702519846,
           0.5136219084009356,
           0.7339617215958184,
           0.6599268327074863,
           0.21913602240037655,
           0.6704710825278272,
           0.0982489837560081,
           0.3127883198280069,
           0.5246996033520772,
           0.04764855476961816,
           0.8173756757757584,
           0.46963775190384416,
           0.7683644490399869,
           0.8575137900922785,
           0.5353430390818199,
           0.8016916423969983,
           0.7758609543321477,
           0.7889094207693623,
           0.2742772582889982,
           0.7991613279555696,
           0.5842116266409652,
           0.434804966033253,
           0.14907031296372653,
           0.5191954116365347,
           0.7760946107729086,
           0.09203052996853,
           0.144164355497022,
           0.06009736602510363,
           0.1086602159672112,
           0.695312345924543,
           0.7687435081693622,
           0.10025641622235493,
           0.942607405728154,
           0.8852968599055103,
           0.7521167605757152,
           0.9073030713205952,
           0.5207110124640784,
           0.12669892286489992,
           0.3288192484259128,
           0.07057135780875334,
           0.2954975761646801,
           0.2832116731897951,
           0.47392022225771513,
           0.35114601075626506,
           0.9880155943028865,
           0.5110864237604533,
           0.6093938241623168,
           0.928098813962966,
           0.7548158828332583,
           0.2993123799826142,
           0.3866635788421966,
           0.3663529194223939,
           0.742474686847177,
           0.5138836378329711,
           0.836952001654467,
           0.9464502133252222,
           0.6252865833157106,
           0.38830535138559386,
           0.5978634609834296,
           0.526882620463152,
           0.3120310624322312,
           0.8932225061080125,
           0.16600710481058367,
           0.11508931571173064,
           0.6816377850672607,
           0.46225321285300247,
           0.4921324741390989,
           0.2146416366869357,
           0.5794424435698187,
           0.7595171084302388,
           0.08324013280745757,
           0.7622812461473893,
           0.1061497886759799,
           0.32931864838475877,
           0.4405821776299824,
           0.2225503539552096,
           0.7597914357696103,
           0.9148211767760724,
           0.735641162252936,
           0.2846722308057986,
           0.7765602933487339,
           0.5981442011304126,
           0.7227363591147643,
           0.44482564204260977,
           0.356557364355756,
           0.7407971522668686,
           0.15613477089855576,
           0.10844370055642671,
           0.09771417159403561,
           0.4899178828379648,
           0.1598964581963226,
           0.7206861390555442,
           0.5646990323163209,
           0.09267903358409157,
           0.7522144161887582,
           0.38210677624816947,
           0.3481549827857151,
           0.6038502667486313,
           0.2659803020704724,
           0.1414107737765936,
           0.7705748946942114,
           0.6436841733421657,
           0.4402912988027846,
           0.9080446091350759,
           0.8149876776679409,
           0.7430882438912193,
           0.22439590229631912,
           0.266385964802095,
           0.25353666606470715,
           0.5582121856634517,
           0.29729755629600596,
           0.026227009698253423,
           0.6962979409507339,
           0.8674109329782796,
           0.1439900245829906,
           0.2763222910590344,
           0.8821420911963117,
           0.3277573717973643,
           0.06426205661347206,
           0.0287226710447962,
           0.5406712395652121,
           0.298549629829685,
           0.32398568253527227,
           0.44602622940476533,
           0.41918565073240033,
           0.3129009966362234,
           0.08554274147633845,
           0.29996095324670957,
           0.14034051535772973,
           0.8526910839425038,
           0.660035602203321,
           0.4180302400939401,
           0.23718874690176683,
           0.5538946891545685,
           0.9157271937950261,
           0.2187960692125811,
           0.14840130678304886,
           0.19175643712339552,
           0.8852978159463981,
           0.3698759212116134
          ]
         ]
        }
       ],
       "layout": {
        "legend": {
         "bgcolor": "#F5F6F9",
         "font": {
          "color": "#4D5663"
         }
        },
        "paper_bgcolor": "#F5F6F9",
        "plot_bgcolor": "#F5F6F9",
        "template": {
         "data": {
          "bar": [
           {
            "error_x": {
             "color": "#2a3f5f"
            },
            "error_y": {
             "color": "#2a3f5f"
            },
            "marker": {
             "line": {
              "color": "#E5ECF6",
              "width": 0.5
             },
             "pattern": {
              "fillmode": "overlay",
              "size": 10,
              "solidity": 0.2
             }
            },
            "type": "bar"
           }
          ],
          "barpolar": [
           {
            "marker": {
             "line": {
              "color": "#E5ECF6",
              "width": 0.5
             },
             "pattern": {
              "fillmode": "overlay",
              "size": 10,
              "solidity": 0.2
             }
            },
            "type": "barpolar"
           }
          ],
          "carpet": [
           {
            "aaxis": {
             "endlinecolor": "#2a3f5f",
             "gridcolor": "white",
             "linecolor": "white",
             "minorgridcolor": "white",
             "startlinecolor": "#2a3f5f"
            },
            "baxis": {
             "endlinecolor": "#2a3f5f",
             "gridcolor": "white",
             "linecolor": "white",
             "minorgridcolor": "white",
             "startlinecolor": "#2a3f5f"
            },
            "type": "carpet"
           }
          ],
          "choropleth": [
           {
            "colorbar": {
             "outlinewidth": 0,
             "ticks": ""
            },
            "type": "choropleth"
           }
          ],
          "contour": [
           {
            "colorbar": {
             "outlinewidth": 0,
             "ticks": ""
            },
            "colorscale": [
             [
              0,
              "#0d0887"
             ],
             [
              0.1111111111111111,
              "#46039f"
             ],
             [
              0.2222222222222222,
              "#7201a8"
             ],
             [
              0.3333333333333333,
              "#9c179e"
             ],
             [
              0.4444444444444444,
              "#bd3786"
             ],
             [
              0.5555555555555556,
              "#d8576b"
             ],
             [
              0.6666666666666666,
              "#ed7953"
             ],
             [
              0.7777777777777778,
              "#fb9f3a"
             ],
             [
              0.8888888888888888,
              "#fdca26"
             ],
             [
              1,
              "#f0f921"
             ]
            ],
            "type": "contour"
           }
          ],
          "contourcarpet": [
           {
            "colorbar": {
             "outlinewidth": 0,
             "ticks": ""
            },
            "type": "contourcarpet"
           }
          ],
          "heatmap": [
           {
            "colorbar": {
             "outlinewidth": 0,
             "ticks": ""
            },
            "colorscale": [
             [
              0,
              "#0d0887"
             ],
             [
              0.1111111111111111,
              "#46039f"
             ],
             [
              0.2222222222222222,
              "#7201a8"
             ],
             [
              0.3333333333333333,
              "#9c179e"
             ],
             [
              0.4444444444444444,
              "#bd3786"
             ],
             [
              0.5555555555555556,
              "#d8576b"
             ],
             [
              0.6666666666666666,
              "#ed7953"
             ],
             [
              0.7777777777777778,
              "#fb9f3a"
             ],
             [
              0.8888888888888888,
              "#fdca26"
             ],
             [
              1,
              "#f0f921"
             ]
            ],
            "type": "heatmap"
           }
          ],
          "heatmapgl": [
           {
            "colorbar": {
             "outlinewidth": 0,
             "ticks": ""
            },
            "colorscale": [
             [
              0,
              "#0d0887"
             ],
             [
              0.1111111111111111,
              "#46039f"
             ],
             [
              0.2222222222222222,
              "#7201a8"
             ],
             [
              0.3333333333333333,
              "#9c179e"
             ],
             [
              0.4444444444444444,
              "#bd3786"
             ],
             [
              0.5555555555555556,
              "#d8576b"
             ],
             [
              0.6666666666666666,
              "#ed7953"
             ],
             [
              0.7777777777777778,
              "#fb9f3a"
             ],
             [
              0.8888888888888888,
              "#fdca26"
             ],
             [
              1,
              "#f0f921"
             ]
            ],
            "type": "heatmapgl"
           }
          ],
          "histogram": [
           {
            "marker": {
             "pattern": {
              "fillmode": "overlay",
              "size": 10,
              "solidity": 0.2
             }
            },
            "type": "histogram"
           }
          ],
          "histogram2d": [
           {
            "colorbar": {
             "outlinewidth": 0,
             "ticks": ""
            },
            "colorscale": [
             [
              0,
              "#0d0887"
             ],
             [
              0.1111111111111111,
              "#46039f"
             ],
             [
              0.2222222222222222,
              "#7201a8"
             ],
             [
              0.3333333333333333,
              "#9c179e"
             ],
             [
              0.4444444444444444,
              "#bd3786"
             ],
             [
              0.5555555555555556,
              "#d8576b"
             ],
             [
              0.6666666666666666,
              "#ed7953"
             ],
             [
              0.7777777777777778,
              "#fb9f3a"
             ],
             [
              0.8888888888888888,
              "#fdca26"
             ],
             [
              1,
              "#f0f921"
             ]
            ],
            "type": "histogram2d"
           }
          ],
          "histogram2dcontour": [
           {
            "colorbar": {
             "outlinewidth": 0,
             "ticks": ""
            },
            "colorscale": [
             [
              0,
              "#0d0887"
             ],
             [
              0.1111111111111111,
              "#46039f"
             ],
             [
              0.2222222222222222,
              "#7201a8"
             ],
             [
              0.3333333333333333,
              "#9c179e"
             ],
             [
              0.4444444444444444,
              "#bd3786"
             ],
             [
              0.5555555555555556,
              "#d8576b"
             ],
             [
              0.6666666666666666,
              "#ed7953"
             ],
             [
              0.7777777777777778,
              "#fb9f3a"
             ],
             [
              0.8888888888888888,
              "#fdca26"
             ],
             [
              1,
              "#f0f921"
             ]
            ],
            "type": "histogram2dcontour"
           }
          ],
          "mesh3d": [
           {
            "colorbar": {
             "outlinewidth": 0,
             "ticks": ""
            },
            "type": "mesh3d"
           }
          ],
          "parcoords": [
           {
            "line": {
             "colorbar": {
              "outlinewidth": 0,
              "ticks": ""
             }
            },
            "type": "parcoords"
           }
          ],
          "pie": [
           {
            "automargin": true,
            "type": "pie"
           }
          ],
          "scatter": [
           {
            "marker": {
             "colorbar": {
              "outlinewidth": 0,
              "ticks": ""
             }
            },
            "type": "scatter"
           }
          ],
          "scatter3d": [
           {
            "line": {
             "colorbar": {
              "outlinewidth": 0,
              "ticks": ""
             }
            },
            "marker": {
             "colorbar": {
              "outlinewidth": 0,
              "ticks": ""
             }
            },
            "type": "scatter3d"
           }
          ],
          "scattercarpet": [
           {
            "marker": {
             "colorbar": {
              "outlinewidth": 0,
              "ticks": ""
             }
            },
            "type": "scattercarpet"
           }
          ],
          "scattergeo": [
           {
            "marker": {
             "colorbar": {
              "outlinewidth": 0,
              "ticks": ""
             }
            },
            "type": "scattergeo"
           }
          ],
          "scattergl": [
           {
            "marker": {
             "colorbar": {
              "outlinewidth": 0,
              "ticks": ""
             }
            },
            "type": "scattergl"
           }
          ],
          "scattermapbox": [
           {
            "marker": {
             "colorbar": {
              "outlinewidth": 0,
              "ticks": ""
             }
            },
            "type": "scattermapbox"
           }
          ],
          "scatterpolar": [
           {
            "marker": {
             "colorbar": {
              "outlinewidth": 0,
              "ticks": ""
             }
            },
            "type": "scatterpolar"
           }
          ],
          "scatterpolargl": [
           {
            "marker": {
             "colorbar": {
              "outlinewidth": 0,
              "ticks": ""
             }
            },
            "type": "scatterpolargl"
           }
          ],
          "scatterternary": [
           {
            "marker": {
             "colorbar": {
              "outlinewidth": 0,
              "ticks": ""
             }
            },
            "type": "scatterternary"
           }
          ],
          "surface": [
           {
            "colorbar": {
             "outlinewidth": 0,
             "ticks": ""
            },
            "colorscale": [
             [
              0,
              "#0d0887"
             ],
             [
              0.1111111111111111,
              "#46039f"
             ],
             [
              0.2222222222222222,
              "#7201a8"
             ],
             [
              0.3333333333333333,
              "#9c179e"
             ],
             [
              0.4444444444444444,
              "#bd3786"
             ],
             [
              0.5555555555555556,
              "#d8576b"
             ],
             [
              0.6666666666666666,
              "#ed7953"
             ],
             [
              0.7777777777777778,
              "#fb9f3a"
             ],
             [
              0.8888888888888888,
              "#fdca26"
             ],
             [
              1,
              "#f0f921"
             ]
            ],
            "type": "surface"
           }
          ],
          "table": [
           {
            "cells": {
             "fill": {
              "color": "#EBF0F8"
             },
             "line": {
              "color": "white"
             }
            },
            "header": {
             "fill": {
              "color": "#C8D4E3"
             },
             "line": {
              "color": "white"
             }
            },
            "type": "table"
           }
          ]
         },
         "layout": {
          "annotationdefaults": {
           "arrowcolor": "#2a3f5f",
           "arrowhead": 0,
           "arrowwidth": 1
          },
          "autotypenumbers": "strict",
          "coloraxis": {
           "colorbar": {
            "outlinewidth": 0,
            "ticks": ""
           }
          },
          "colorscale": {
           "diverging": [
            [
             0,
             "#8e0152"
            ],
            [
             0.1,
             "#c51b7d"
            ],
            [
             0.2,
             "#de77ae"
            ],
            [
             0.3,
             "#f1b6da"
            ],
            [
             0.4,
             "#fde0ef"
            ],
            [
             0.5,
             "#f7f7f7"
            ],
            [
             0.6,
             "#e6f5d0"
            ],
            [
             0.7,
             "#b8e186"
            ],
            [
             0.8,
             "#7fbc41"
            ],
            [
             0.9,
             "#4d9221"
            ],
            [
             1,
             "#276419"
            ]
           ],
           "sequential": [
            [
             0,
             "#0d0887"
            ],
            [
             0.1111111111111111,
             "#46039f"
            ],
            [
             0.2222222222222222,
             "#7201a8"
            ],
            [
             0.3333333333333333,
             "#9c179e"
            ],
            [
             0.4444444444444444,
             "#bd3786"
            ],
            [
             0.5555555555555556,
             "#d8576b"
            ],
            [
             0.6666666666666666,
             "#ed7953"
            ],
            [
             0.7777777777777778,
             "#fb9f3a"
            ],
            [
             0.8888888888888888,
             "#fdca26"
            ],
            [
             1,
             "#f0f921"
            ]
           ],
           "sequentialminus": [
            [
             0,
             "#0d0887"
            ],
            [
             0.1111111111111111,
             "#46039f"
            ],
            [
             0.2222222222222222,
             "#7201a8"
            ],
            [
             0.3333333333333333,
             "#9c179e"
            ],
            [
             0.4444444444444444,
             "#bd3786"
            ],
            [
             0.5555555555555556,
             "#d8576b"
            ],
            [
             0.6666666666666666,
             "#ed7953"
            ],
            [
             0.7777777777777778,
             "#fb9f3a"
            ],
            [
             0.8888888888888888,
             "#fdca26"
            ],
            [
             1,
             "#f0f921"
            ]
           ]
          },
          "colorway": [
           "#636efa",
           "#EF553B",
           "#00cc96",
           "#ab63fa",
           "#FFA15A",
           "#19d3f3",
           "#FF6692",
           "#B6E880",
           "#FF97FF",
           "#FECB52"
          ],
          "font": {
           "color": "#2a3f5f"
          },
          "geo": {
           "bgcolor": "white",
           "lakecolor": "white",
           "landcolor": "#E5ECF6",
           "showlakes": true,
           "showland": true,
           "subunitcolor": "white"
          },
          "hoverlabel": {
           "align": "left"
          },
          "hovermode": "closest",
          "mapbox": {
           "style": "light"
          },
          "paper_bgcolor": "white",
          "plot_bgcolor": "#E5ECF6",
          "polar": {
           "angularaxis": {
            "gridcolor": "white",
            "linecolor": "white",
            "ticks": ""
           },
           "bgcolor": "#E5ECF6",
           "radialaxis": {
            "gridcolor": "white",
            "linecolor": "white",
            "ticks": ""
           }
          },
          "scene": {
           "xaxis": {
            "backgroundcolor": "#E5ECF6",
            "gridcolor": "white",
            "gridwidth": 2,
            "linecolor": "white",
            "showbackground": true,
            "ticks": "",
            "zerolinecolor": "white"
           },
           "yaxis": {
            "backgroundcolor": "#E5ECF6",
            "gridcolor": "white",
            "gridwidth": 2,
            "linecolor": "white",
            "showbackground": true,
            "ticks": "",
            "zerolinecolor": "white"
           },
           "zaxis": {
            "backgroundcolor": "#E5ECF6",
            "gridcolor": "white",
            "gridwidth": 2,
            "linecolor": "white",
            "showbackground": true,
            "ticks": "",
            "zerolinecolor": "white"
           }
          },
          "shapedefaults": {
           "line": {
            "color": "#2a3f5f"
           }
          },
          "ternary": {
           "aaxis": {
            "gridcolor": "white",
            "linecolor": "white",
            "ticks": ""
           },
           "baxis": {
            "gridcolor": "white",
            "linecolor": "white",
            "ticks": ""
           },
           "bgcolor": "#E5ECF6",
           "caxis": {
            "gridcolor": "white",
            "linecolor": "white",
            "ticks": ""
           }
          },
          "title": {
           "x": 0.05
          },
          "xaxis": {
           "automargin": true,
           "gridcolor": "white",
           "linecolor": "white",
           "ticks": "",
           "title": {
            "standoff": 15
           },
           "zerolinecolor": "white",
           "zerolinewidth": 2
          },
          "yaxis": {
           "automargin": true,
           "gridcolor": "white",
           "linecolor": "white",
           "ticks": "",
           "title": {
            "standoff": 15
           },
           "zerolinecolor": "white",
           "zerolinewidth": 2
          }
         }
        },
        "title": {
         "font": {
          "color": "#4D5663"
         }
        },
        "xaxis": {
         "gridcolor": "#E1E5ED",
         "showgrid": true,
         "tickfont": {
          "color": "#4D5663"
         },
         "title": {
          "font": {
           "color": "#4D5663"
          },
          "text": ""
         },
         "zerolinecolor": "#E1E5ED"
        },
        "yaxis": {
         "gridcolor": "#E1E5ED",
         "showgrid": true,
         "tickfont": {
          "color": "#4D5663"
         },
         "title": {
          "font": {
           "color": "#4D5663"
          },
          "text": ""
         },
         "zerolinecolor": "#E1E5ED"
        }
       }
      },
      "text/html": [
       "<div>                            <div id=\"7209fc2c-1c6f-4565-bf81-4cda9243aa8d\" class=\"plotly-graph-div\" style=\"height:525px; width:100%;\"></div>            <script type=\"text/javascript\">                require([\"plotly\"], function(Plotly) {                    window.PLOTLYENV=window.PLOTLYENV || {};\n",
       "                    window.PLOTLYENV.BASE_URL='https://plot.ly';                                    if (document.getElementById(\"7209fc2c-1c6f-4565-bf81-4cda9243aa8d\")) {                    Plotly.newPlot(                        \"7209fc2c-1c6f-4565-bf81-4cda9243aa8d\",                        [{\"colorscale\":[[0.0,\"rgb(255, 153, 51)\"],[0.1111111111111111,\"rgb(55, 128, 191)\"],[0.2222222222222222,\"rgb(50, 171, 96)\"],[0.3333333333333333,\"rgb(128, 0, 128)\"],[0.4444444444444444,\"rgb(219, 64, 82)\"],[0.5555555555555556,\"rgb(0, 128, 128)\"],[0.6666666666666666,\"rgb(255, 255, 51)\"],[0.7777777777777778,\"rgb(128, 128, 0)\"],[0.8888888888888888,\"rgb(251, 128, 114)\"],[1.0,\"rgb(128, 177, 211)\"]],\"x\":[0,1,2,3,4,5,6,7,8,9,10,11,12,13,14,15,16,17,18,19,20,21,22,23,24,25,26,27,28,29,30,31,32,33,34,35,36,37,38,39,40,41,42,43,44,45,46,47,48,49,50,51,52,53,54,55,56,57,58,59,60,61,62,63,64,65,66,67,68,69,70,71,72,73,74,75,76,77,78,79,80,81,82,83,84,85,86,87,88,89,90,91,92,93,94,95,96,97,98,99,100,101,102,103,104,105,106,107,108,109,110,111,112,113,114,115,116,117,118,119,120,121,122,123,124,125,126,127,128,129,130,131,132,133,134,135,136,137,138,139,140,141,142,143,144,145,146,147,148,149,150,151,152,153,154,155,156,157,158,159,160,161,162,163,164,165,166,167,168,169,170,171,172,173,174,175,176,177,178,179,180,181,182,183,184,185,186,187,188,189,190,191,192,193,194,195,196,197,198,199,200,201,202,203,204,205,206,207,208,209,210,211,212,213,214,215,216,217,218,219,220,221,222,223,224,225,226,227,228,229,230,231,232,233,234,235,236,237,238,239,240,241,242,243,244,245,246,247,248,249,250,251,252,253,254,255,256,257,258,259,260,261,262,263,264,265,266,267,268,269,270,271,272,273,274,275,276,277,278,279,280,281,282,283,284,285,286,287,288,289,290,291,292,293,294,295,296,297,298,299,300,301,302,303,304,305,306,307,308,309,310,311,312,313,314,315,316,317,318,319,320,321,322,323,324,325,326,327,328,329,330,331,332,333,334,335,336,337,338,339,340,341,342,343,344,345,346,347,348,349,350,351,352,353,354,355,356,357,358,359,360,361,362,363,364,365,366,367,368,369,370,371,372,373,374,375,376,377,378,379,380,381,382,383,384,385,386,387,388,389,390,391,392,393,394,395,396,397,398,399,400,401,402,403,404,405,406,407,408,409,410,411,412,413,414,415,416,417,418,419,420,421,422,423,424,425,426,427,428,429,430,431,432,433,434,435,436,437,438,439,440,441,442,443,444,445,446,447,448,449,450,451,452,453,454,455,456,457,458,459,460,461,462,463,464,465,466,467,468,469,470,471,472,473,474,475,476,477,478,479,480,481,482,483,484,485,486,487,488,489,490,491,492,493,494,495,496,497,498,499],\"y\":[\"a\",\"b\",\"c\",\"d\"],\"z\":[[0.31533955181718865,0.5539099718182233,0.2666417393009075,0.1318162477853121,0.729653956549174,0.8192210306761991,0.4939069359701074,0.1813840112567856,0.449774246386061,0.146637400784132,0.714662180447274,0.5217108795117404,0.8101427369328545,0.8975462537790665,0.3964417305041329,0.08162014225986236,0.022206075715433538,0.6748537135189757,0.3147346163911692,0.16688001809209596,0.9422801763296061,0.9547942881039463,0.07390601081021186,0.7022021027566704,0.3469143616182123,0.642746736511665,0.7896791247853495,0.74417184461802,0.026144571607043643,0.9626469024085974,0.4174972858275491,0.1565695321853049,0.4799136924412104,0.25335055782871596,0.9477353413422079,0.09125607482387976,0.6581491963557563,0.7592392703944322,0.32873718974100896,0.5483985168211517,0.9767905578420882,0.9135498054103689,0.7520356116980934,0.9107100650279418,0.10616570471715692,0.07601030232413186,0.22206663623045075,0.28020447221909006,0.14220715408610296,0.8459439878396496,0.29797574313920483,0.015129572694585813,0.6088120664067928,0.7043941512000748,0.34683135657586894,0.15517177489859313,0.1626002347139619,0.525009946277439,0.36263960887806745,0.7614420559396978,0.8651369975277277,0.9811615891471893,0.3095333406727093,0.44236705699295487,0.1187643042047063,0.015998146211446573,0.9711760811899413,0.20862730920450945,0.644912649804916,0.44279999369057277,0.634910752766904,0.9777813919871908,0.5654203587608152,0.9874448491753217,0.28523051038173797,0.45806551274636764,0.14135926882014593,0.4400566448691591,0.08830629876181029,0.19965698044449076,0.25313147744512,0.6939349103546347,0.4453763003985114,0.6672623881516286,0.2098082998718892,0.3506192976391046,0.02442771689866796,0.513776898132248,0.5910381412215956,0.5209761205137036,0.6618802970295192,0.4424526801341877,0.07097665071927128,0.5806221636078759,0.4872225804116982,0.2281380039741171,0.3145250411567503,0.09638022581070027,0.5113415485749805,0.6040281606370371,0.998027027945057,0.13585353459230753,0.17419492619131327,0.4900894468202843,0.20469649206733653,0.1261099144964557,0.10835351919096303,0.26913485733225295,0.5116026171279839,0.4252345049849552,0.2581459903921194,0.24777138845648594,0.3325791542667633,0.5301080368129482,0.3513249917748684,0.2107597084523748,0.26556160766117054,0.26703643748587413,0.24470953914841198,0.45740687005682323,0.28974049948204506,0.9908500245902632,0.2889797211939359,0.3887872093337794,0.24591102821103394,0.6538264313096293,0.391610688773082,0.9906976475791653,0.8000276620839741,0.009139176679967553,0.6740206464125772,0.9185713673788906,0.8319248885266184,0.7582422178361462,0.04152956448926026,0.6829016090982518,0.489640569047593,0.623549032170599,0.01043135130835704,0.2120896521607577,0.4217803957147419,0.5424784978555686,0.43915507862224723,0.20928858150603769,0.7291407271899949,0.057033464451014426,0.9297429573120197,0.5205849443530205,0.7667273700270555,0.4949568257495808,0.4892995904557955,0.30622766098218424,0.7423513412973544,0.0020096433704722694,0.6718414037137121,0.8976986529228543,0.9529714173265226,0.38375753184085704,0.6339943680988663,0.0752373151355652,0.8481716409955118,0.19607533108777853,0.2754063533251244,0.9052156113189532,0.5999994635657384,0.8874993757693707,0.22092137157708414,0.20661910113608706,0.5407945021913356,0.06325418733593513,0.3701627854351238,0.6200160402968607,0.8874803648992815,0.44891355302011504,0.2081494611113721,0.844070013822957,0.9127227446821767,0.575436734298689,0.08384028525709919,0.4709278790688123,0.7012958015565698,0.5511897079618394,0.09774718583721853,0.14644672557672433,0.2562451038779996,0.31981130061068386,0.1812035186616906,0.2998025479451456,0.10820740568324883,0.5863417173733123,0.647408703951146,0.7445881632255842,0.5042488942541761,0.06085006350397293,0.39138201871398826,0.024635125333483776,0.8972284369790708,0.5720531807227263,0.03345337252379865,0.2846920513856751,0.6602541797587645,0.7552671047040734,0.8731257010896759,0.5707658472235007,0.6854820707987713,0.3272197431879975,0.11827138085026989,0.943356830539741,0.3675499682098089,0.4087227858757101,0.5659667845722709,0.03473571153804167,0.8311473502833757,0.12275157229626588,0.5506307889519095,0.9195563350338799,0.969525762885705,0.5258360815406782,0.7896425937261154,0.18785542066685634,0.4966217970214817,0.8087016322179085,0.5849988565977011,0.14158745546520113,0.438605710612186,0.7882383845542579,0.5143043242454258,0.27856388799780674,0.06482219162527281,0.6644815140882653,0.47912708794407566,0.12854673646498638,0.12376596689609831,0.9237219847676819,0.467798005457181,0.7957508516990494,0.7977242268059694,0.49861406169861,0.9149975562293388,0.7569963014387762,0.07576827276259634,0.823581653729435,0.45949768736972263,0.4864158410181765,0.9850103703109149,0.32599468767922435,0.6945836017152602,0.2889265362519736,0.7763488673107458,0.45081471583395194,0.7739354422587356,0.06964047461867329,0.5087237857023192,0.41684476828211603,0.00986002574320377,0.6860828358568125,0.5354346458823234,0.9481730549765187,0.7835327873065019,0.8915387535394164,0.06321709711568124,0.6400092902404513,0.6374956409664728,0.10664605321649467,0.3784734527942416,0.26266140797825455,0.2941043234002704,0.1406340588096633,0.09762408215905005,0.8209681460557213,0.24033029362660263,0.926718836526074,0.3920294237944464,0.9703856553950871,0.07894295784631511,0.6650549007760983,0.36733389044615794,0.39902362452783735,0.9647913231592269,0.6541096318260253,0.14266871725998997,0.4291822299541691,0.08107747892932204,0.5656206975633992,0.38462010861668494,0.4730728016063779,0.8556205537942306,0.2169883345227942,0.05614448048502618,0.20597828387203976,0.5721261803538987,0.955810437417393,0.10556711823231335,0.9687948345570477,0.529654421185744,0.2101818503831051,0.33730785730697566,0.035348578391122376,0.8992217722739119,0.6941934725697088,0.04364438421505923,0.6037329558766491,0.08055000423946734,0.690597169301423,0.49485804410366463,0.2781045535893393,0.07091028523363796,0.14414949973675195,0.4098515516017355,0.6031258671623162,0.06076815504794053,0.3745519927394365,0.6120225936685076,0.8887956452411813,0.8539011974076943,0.24473245555954626,0.4116661233150418,0.27185327345215726,0.4396799034934039,0.9553763391047527,0.7102793666855295,0.2516366780418633,0.2825555758865148,0.33288479070654897,0.8257565414830713,0.880191955784801,0.8775352722975729,0.8136166838855338,0.5232612206078966,0.3467995051661257,0.18941828192441157,0.6410966161917488,0.6832470008284096,0.740609948014194,0.2894888127289381,0.5600915994786737,0.005836940270658397,0.5673259174590995,0.5148016593357911,0.9407958063456531,0.20083848872895282,0.9451531138867133,0.0248198965515265,0.20382084585895377,0.6748941843748144,0.4400411268729253,0.011268896993052224,0.1452752632302825,0.8433333402235555,0.7321304022719771,0.09628604386359585,0.3824759819179602,0.9455274162029241,0.4111312113833526,0.27360402719517907,0.43213716133357993,0.48688759437415485,0.5176905064780482,0.09256688035960514,0.9197833849442669,0.4143881804574212,0.9313811233356847,0.21977443168265087,0.35619148131741896,0.19168419702892114,0.29675422327329015,0.2734046021004116,0.33463417183037825,0.8543608424977411,0.08599472043195633,0.29012249512213517,0.062393558512348735,0.49594823808499733,0.1887159149603388,0.2790601893564053,0.8510343803011101,0.262404022275301,0.6469455624298385,0.19703780388073744,0.8491372844706299,0.6817487631325079,0.4876644831199495,0.6353264089443244,0.3751847558173308,0.40684590643420604,0.7273292916569379,0.21842649333570696,0.4768986303492899,0.6062481802502198,0.762006382279796,0.9206797368960087,0.3329753911173957,0.8408820592276643,0.37373749556655034,0.03165760096857273,0.5250984022575503,0.06435532506413144,0.46459315764048603,0.037105684334086564,0.6090594042931998,0.2776174517346822,0.2554355923615207,0.23866473301499647,0.1604452076098356,0.6249024505629704,0.6540370819019438,0.08519051988352444,0.7941409892875959,0.6038717405045155,0.3971072335069672,0.8493819968320634,0.6003316618595556,0.5897936461359236,0.7961374192696908,0.6948081375322813,0.41871640217731454,0.5786981768356295,0.829769275054972,0.8528112489716281,0.41693779195993674,0.4413510930887171,0.6520033000480051,0.2360590953626004,0.4786895608570021,0.5443648971195442,0.34290180847628804,0.47512781849843433,0.562263050291712,0.08444485508011024,0.15811507541657077,0.7310924617388328,0.4556045319554062,0.058222122501998874,0.7113350175186673,0.7588741865789924,0.7843678294708714,0.31351762927696014,0.8073544390932376,0.3484882429383128,0.23710003767052956,0.6694210827933059,0.6246564876311518,0.06296487289289099,0.44023156893651405,0.5322482157786838,0.2311623159977234,0.17788063756571082,0.16923138071495603,0.02146651008966627,0.035574452050256444,0.9809599528742875,0.6783455515699552,0.595584570442391,0.3206385064882562,0.6511458389173512,0.5733461807192132,0.42239168228596946,0.7257744684126598,0.9935719569781173,0.12412097461087113,0.614509726045759,0.587295323236953,0.025282258841565763,0.07914829628042497,0.5070866555826244,0.09695031124234876,0.6266129473829848,0.07938889378707115,0.8146234170063464,0.7509843617315421,0.25348528580297913,0.2680025455095203,0.2034325199722441,0.2876387183896234,0.040757291983899546,0.5714855108009546,0.27757434780632817,0.6812848818799894,0.27361431421844595,0.9719026738691542,0.6695179712723569,0.03184146646951336,0.2655006003657313,0.8406761706891539,0.571869306172972,0.4835754279520277,0.8340073038907573,0.11802140981805587,0.7705430894642158,0.27744882129356274,0.14227494143094666,0.31293206808516427,0.6633868190715252,0.9120391626938426,0.5345789285646249,0.6210763706663569,0.3499785158954316,0.2205353792407082,0.35867978150744306,0.43908092999024373],[0.5668663156516601,0.8818852761471555,0.022660751835567372,0.28898515621143284,0.6863521827946284,0.3865925999728579,0.9562311931578612,0.4519008678099711,0.22402153926679869,0.6847184223621499,0.2823430337913897,0.7118433697088283,0.44148827868922935,0.2888491423149827,0.7138543161317453,0.31807130312523524,0.5964896328887659,0.3545683454736803,0.29380233492063046,0.2705996645208838,0.14711368590262963,0.6548702587300944,0.6749449060564122,0.024825882834999535,0.8619796284390219,0.39181373769454875,0.7231848300049635,0.752831001809385,0.9583623463441733,0.7301723060542111,0.45701388840734947,0.44528056543258476,0.5130930022496764,0.9251717320668976,0.6812821737985159,0.8336474103964148,0.3386814274185276,0.753298112278522,0.10346316888221052,0.4856730021133775,0.09203672922981532,0.892180222258954,0.34287218208504444,0.6312316823695688,0.9791810485418755,0.860488520238403,0.18780312967153723,0.9456158715941622,0.406867646247958,0.8327938526326505,0.6452541719308815,0.4348043661194594,0.42731201482708636,0.7219782534964456,0.7469769590442686,0.4688133752359802,0.4823383278595428,0.18226222947271375,0.5091903464320802,0.7682347980088433,0.8133625549642411,0.016545473498110086,0.4151913941266415,0.22511311552487978,0.47600134018374385,0.7120804963207858,0.06699571509904312,0.7960556580884283,0.9018026108885543,0.5639599813618322,0.3245458725975826,0.08020538648847397,0.9119397238031386,0.42052597618174103,0.006713113189758646,0.24383981465982307,0.3754899628349948,0.19590080947098865,0.782662990690425,0.7465966359555094,0.48767855602404353,0.8044214402359187,0.2311148713817408,0.6394717679700683,0.6332735994074546,0.2637493220391087,0.3713160642991692,0.9320704520951608,0.3217529853809449,0.47979230780398596,0.2929966465710906,0.3234126907219592,0.30116066035747957,0.02549961629692954,0.1470456530143257,0.40258376038971155,0.2508035811880228,0.5949502407202407,0.25686476120314017,0.23591799557052806,0.7313996792806581,0.9596702229132645,0.1892033295131711,0.8922569747952044,0.5635909639910909,0.32171504805184237,0.5544975212311054,0.6283493742805857,0.7515720556823461,0.5474029636746591,0.14575490151068948,0.8427515440233341,0.4022365652788873,0.5136799552999997,0.06146062107994721,0.5901622613102747,0.3897409281803238,0.2124855058715891,0.1417465707987896,0.39607659516679083,0.6473922116038798,0.16294538874052722,0.30874301959863704,0.5806607267362266,0.12220098399140888,0.5141816976835034,0.6970940659994577,0.15501053986263658,0.8761546452631875,0.7705732511860061,0.4932854992250558,0.8456271791155374,0.35740300114245616,0.807077537276667,0.07872054025775155,0.6026574849935322,0.444085927601492,0.5740937460805405,0.1797594471786813,0.8894597966269933,0.4901662546609944,0.6823936806228578,0.5905100452494901,0.7595154313751245,0.13652401545523096,0.8849758632744533,0.8007209866635314,0.3187026764093681,0.2696929642337098,0.9586094423390066,0.21740661183820587,0.12363906713273876,0.595501266289367,0.04955271520739302,0.22261043700261307,0.2639545230099809,0.2731454865511308,0.6886898344807052,0.6817100529236584,0.563978932892274,0.4713187665370253,0.01232297672669791,0.27198813312576875,0.8351009569398579,0.2623024296656724,0.7347453719335153,0.12824250359972078,0.29107379349207385,0.42537499435854,0.8867821591391398,0.697449185766242,0.6594876636781849,0.7813543571916506,0.3017940887664795,0.7965103502394825,0.7407152810703421,0.7757022958357283,0.8950938032378996,0.8443280259190326,0.7832276539517371,0.56295204822866,0.9253742430426602,0.9568262925910661,0.7818016564994541,0.060765388548195354,0.28905261613446165,0.9029584543747377,0.35498137501761384,0.6037711097986393,0.9815140895758054,0.3785258335776486,0.5095318097083527,0.9512555978586019,0.6758387747391426,0.7875008892085678,0.8608565867378946,0.8901711251534047,0.2759210000365804,0.1572133868428105,0.7152284702578896,0.1619401231808174,0.3392869425142556,0.7184725466106789,0.9296162286052558,0.34310007614287386,0.6628235524399548,0.5908910649919621,0.41839568849183584,0.4849685643400239,0.4668997305354007,0.3494938305682186,0.18117583443482188,0.634361453401893,0.5019282114828564,0.1445379365872983,0.05787666179114559,0.5458602476790434,0.6396727652110201,0.21960004513227716,0.8645279885126406,0.9666976365539436,0.16066846184378336,0.27671580594515,0.7746568564024618,0.5020876595905822,0.5498189767544504,0.29656721168324807,0.8805068044796163,0.8041456174152928,0.3131205804149071,0.21347971349203743,0.6480439812598092,0.09480730365197954,0.6055201461035179,0.45312806774851855,0.005982889293746241,0.5920803108912276,0.30886304255900254,0.03860515169315393,0.5491039324692226,0.03458210075969559,0.6517075247673149,0.580956505925393,0.6014813692785475,0.6053429134608365,0.6425336556347753,0.5670074213460045,0.2562582577301775,0.9944634113878273,0.6196891172005646,0.9537383809734125,0.8910800683378288,0.5455839566674491,0.632352472895496,0.37640832913775135,0.4882822418959152,0.673403593682459,0.7724524801621507,0.15366219776213896,0.08253385966872695,0.2873197450052346,0.3475118875250367,0.6332368758246834,0.5199512533680376,0.22705176793561865,0.41755129789153045,0.5336990094674309,0.7301835965177229,0.9513633461672687,0.5514291090831346,0.29737525590988945,0.19088228244907035,0.35466560746557063,0.4660863723331259,0.35137539623989245,0.11498243010217113,0.744257546882325,0.08497723824115166,0.2547288897343828,0.55380349755695,0.631948341508326,0.683687455558882,0.6981227235834807,0.09854862063746017,0.2792457999118769,0.3361446781798584,0.6353565232543443,0.9810938855427651,0.6498844317507607,0.7734103646305877,0.48545647500893196,0.14088934362369465,0.7449657716722351,0.8581116130851298,0.97459462424048,0.06622307699681818,0.9978162793510003,0.7204098847824629,0.06448422658190445,0.32374651716062053,0.3655168026918457,0.10427545214516232,0.4781347993066467,0.7229716340684913,0.2372580855329488,0.7814558551571268,0.800134111436308,0.04195062657527149,0.2112027893606101,0.6792319485660492,0.10418554938667735,0.5877932076108245,0.35095885619436284,0.7869013099181019,0.4817695854034001,0.5895006072713888,0.3438239396084506,0.1906357139606476,0.950867135421135,0.23691549838088233,0.43394351844379697,0.36096924786121576,0.7781744392823446,0.6457557519105908,0.5068982582489855,0.05900318828571127,0.7180908980995003,0.5291701537026144,0.7778537172479146,0.4233619280823244,0.9012091448673962,0.47313685707368613,0.413173017849214,0.42730471973175355,0.2507701322566037,0.8838410211865384,0.646390796390032,0.5030723765593452,0.7839627498387786,0.7344123503990101,0.6207808518908765,0.839550048100158,0.8772427831529241,0.06879184535564298,0.9308222998883664,0.7559785623961003,0.07981085429135071,0.01601732599948369,0.27833768673511716,0.2060013052289087,0.8503641142033804,0.2391308023005262,0.006171085170538437,0.2123177114113982,0.6435974289678801,0.530448858645529,0.8896201788451845,0.15763637667008135,0.8321682846379025,0.048268609694506526,0.041421813536174135,0.6798805640015266,0.7028639746395494,0.2558960867388729,0.7805796072273506,0.2861916935243216,0.15235368369870428,0.01698674236890063,0.060020288643414466,0.8629593970188808,0.5939764472333644,0.294188573493415,0.8934723639469103,0.6798565522932398,0.7705359486910235,0.6452053938233928,0.4327314618813719,0.4911594059700013,0.08528873497102951,0.6537456400197527,0.11564933654937148,0.16081321925941694,0.8277815399965052,0.8228273543108257,0.7522182349458607,0.054680806706473795,0.5365870263772592,0.9653751115924655,0.46467497549479275,0.7278456122132313,0.6526430120282339,0.4740528757555593,0.9780167969872866,0.638865204353039,0.6855646425072721,0.7073420516337691,0.8729291026459288,0.81834743835375,0.34520207406753034,0.05390891682163457,0.6753567595601252,0.3401009291211051,0.16059518110765436,0.3974472209846698,0.23603229882695254,0.491884171654812,0.6461672553494408,0.1450969581754965,0.7050707156054864,0.8519031415101649,0.3139365331661662,0.8340135927742433,0.9247829460208586,0.9844409092058374,0.743828296685163,0.228597064256307,0.22734215061004992,0.48862586795077834,0.34431712468155495,0.20160913003188086,0.7049207748298216,0.5031535825684849,0.038344424697645985,0.7060142947115623,0.2054807110469219,0.8873957673592572,0.19720627710229133,0.21949317803142654,0.044235722459522786,0.09169133993645884,0.9506510784145152,0.5178777868970648,0.8411785557471051,0.7545674018408446,0.05706434366279789,0.440325848064133,0.4296151177205678,0.35106103411400347,0.20295988651644048,0.5000551117132231,0.5275172930241746,0.8992176722792333,0.002457030598108201,0.534866545691235,0.3786428648883091,0.1929034224278009,0.5853827693348913,0.7125262120354412,0.15528234988087175,0.22291661109814953,0.2699350106849202,0.5969241157913484,0.8694955107335991,0.8259138252072488,0.18448603440722333,0.44351049574382817,0.2740410020550409,0.8406301388013087,0.21891791465348098,0.6908889970288934,0.2600046285690918,0.25631599158547835,0.02321708179789339,0.7333230843390823,0.9436875054531739,0.1625738474944144,0.9470157041945959,0.25558221494247757,0.7695162994961002,0.08179694554013772,0.2899824878541223,0.5940440773539847,0.6059036248607421,0.49194280302043936,0.5448949420472141,0.7603978750712809,0.2961410578460426,0.6783981090188628,0.9136167214453969,0.505561003005587,0.2527070959944331,0.055848134077429834,0.30266291445244553,0.050889861854043095,0.939614793035071,0.5163039747054733,0.05392266888439534,0.8687234556302589,0.603102639428504,0.9073820298529593,0.5734531935614271,0.22315238810983085,0.7923529908430886,0.8831771072675563,0.48963526025052395,0.851191966200963,0.666045619374514,0.6883965599984112,0.9318900081093384,0.9175698977883668],[0.029315892112298236,0.3237513496126211,0.35471644069092056,0.6351127662899921,0.5119777293840335,0.7636551701951068,0.5398378717439224,0.19314167730261966,0.12395804915839903,0.683351428751105,0.7929315052272278,0.6316002108579883,0.16547120024778172,0.1815878418528163,0.7936660007257305,0.8134279881660598,0.4715378350838435,0.6577333530500495,0.4399394459854675,0.2683593337127663,0.8357664121306488,0.9511240494812777,0.6296972683898978,0.9812410517965694,0.9354970126538981,0.26572340131882255,0.06950414739281052,0.8749710644757757,0.8215960114939272,0.7077354708936023,0.9962922577308948,0.19005993200644777,0.002877096130893153,0.7893697608333045,0.8141191752021022,0.10528177769592306,0.9056720585674507,0.5544509681941315,0.7535909863536135,0.6534654583651158,0.4686908320916483,0.26804772092154305,0.5256231312691823,0.29978755215616815,0.28297984733253523,0.0008349190784073812,0.4156313456951811,0.0772514502397198,0.722924765088718,0.12746353599616211,0.9433769858882455,0.6531939426920699,0.37973453704895865,0.9515836103044155,0.6722184348274586,0.798096227040339,0.7827683251052698,0.009228810117218433,0.21127304920898693,0.9673442954225416,0.07713473031717533,0.048389466739300446,0.6320545503825203,0.3033612380694093,0.6559255026872569,0.1991489408256749,0.1789299578721646,0.5150289946954311,0.43640135441902217,0.8556216125922175,0.6990852353585327,0.4927191690740854,0.8304725239798569,0.622941542623038,0.2025258080557658,0.4537084907198661,0.44088094077750517,0.4362383036811761,0.1351203279679012,0.6944551368000697,0.16918300149493293,0.46375329123532916,0.9389890645204613,0.16457687526816844,0.2131156567592415,0.31885701172798553,0.055216396146848146,0.5929002263555805,0.8043337860582845,0.516499733707382,0.8030917764452078,0.09122938044787832,0.7824333459484182,0.37385583488954555,0.7536227891024275,0.9847950763712808,0.9123649682166997,0.48136450685728416,0.8507887563078903,0.5236119094734237,0.5393974341513782,0.5297299167024645,0.28673068091116094,0.41517946205089173,0.8485261521255061,0.6845370421307623,0.753681783805666,0.09138697781167615,0.844842117435399,0.7431987082379651,0.5640035196667302,0.6176609415706821,0.2896755271355165,0.7337791019109514,0.4978047230169964,0.9580445857179152,0.7790072616098688,0.12846445678679952,0.14960400443545963,0.20361265987451505,0.8042203100907003,0.83953266715138,0.7780403478138829,0.14895458446191423,0.26801510633880365,0.29851144494757476,0.42982548900172546,0.4931647575746405,0.7763055869694442,0.6410454758709445,0.6214841983559788,0.3681202256099064,0.8049056317327004,0.7011791110950442,0.9274000014209967,0.7058814666746736,0.22520757699906668,0.5539722586821131,0.6260975895387515,0.5876665986290828,0.42265310111321286,0.5506529463713041,0.10165602666198714,0.06808356527799353,0.5977634636835595,0.164578596924576,0.053486210335104256,0.026425005210728436,0.7685705625455826,0.1680271130649984,0.29413008028863163,0.023639028783434823,0.9864719951031893,0.4515840994361108,0.6675681609141313,0.5308562509620194,0.5844341094980581,0.9825649477094768,0.9316609454587002,0.06513769245171175,0.04228537262340126,0.5832802773328828,0.3946121391816879,0.9286471913259464,0.13090556776822937,0.9670327100024428,0.3359445193765166,0.4027370053668695,0.10906006284592873,0.9640107623855371,0.6946266471831388,0.8500259729376568,0.0704494885332666,0.5334359398163012,0.23605887374158852,0.5941065109832434,0.16350149291079752,0.9379355160366429,0.3503374376269205,0.585509138411847,0.6404064600957059,0.4091444003218425,0.39869725990397753,0.5532619668797544,0.8552198873243029,0.29649810491786543,0.1977893146417825,0.9514078185975615,0.04014783547347256,0.8544681357843987,0.7877880460284851,0.9978679606848702,0.4879646854160119,0.6500304378996995,0.7554658437888245,0.9116182742615677,0.6075050048136094,0.27718386905920545,0.8526077187312922,0.5028621550247929,0.37982205595826657,0.18078835297978357,0.17677263253589293,0.08202464837441614,0.5027749264627247,0.5760280192319236,0.35304911460916655,0.8620353238159715,0.14372203146643692,0.029237755358623718,0.717649248116963,0.0006354374746184721,0.7341577066350644,0.8125645363409505,0.2744244982929107,0.9555009453819466,0.2705639815698603,0.9064492154732913,0.9556306488351628,0.8992141187874377,0.8475194812633914,0.8308435208151438,0.36655071684769625,0.926654170859442,0.42579828605438996,0.12301691500257295,0.18886140168243137,0.5077932291337485,0.24079466658410176,0.15492568225624326,0.2713134953348445,0.688957917271913,0.7691640046159095,0.37091641537797115,0.22105368259558156,0.9801421387980881,0.17940527907033454,0.7974691195894771,0.21762388497192042,0.765069380683962,0.5582618658992173,0.0585140358251135,0.49011530474087395,0.09187323184836083,0.3531322651986578,0.3629458963691591,0.6752818306414103,0.8926358757369898,0.3140240482555958,0.47003103713264216,0.7371468971580913,0.417910571202468,0.07620694778528303,0.604479705766926,0.5402391970689163,0.5417830179620993,0.6685840550504382,0.8746436219884601,0.34661213844746175,0.3737237333349003,0.29100625168912275,0.19267967452830714,0.22015798839056833,0.8701248721872755,0.22832098531034772,0.9117348477703343,0.9373412227274749,0.038550632365601634,0.13165841639329623,0.5636189793154716,0.7030255184658659,0.27026186209513225,0.656208184752201,0.4054682858136044,0.8389910103303426,0.9989209965056418,0.7958575919951314,0.35852125641755284,0.8281945214634925,0.8244421449588258,0.3697828947348859,0.5588154590710264,0.16169641320940653,0.3522373815544202,0.3621781099905871,0.0851485466832187,0.7924177973404807,0.35307205976953815,0.5373928442992085,0.5778781733989605,0.6751380900630632,0.594429221132019,0.027543190528681927,0.1501392381140635,0.683683834417817,0.8426297865279441,0.8387664870586902,0.2071335737019382,0.8229261233815031,0.6663894100126083,0.029277986983861082,0.25131507081334525,0.9015698694757583,0.9561466007928551,0.18079376073711717,0.9168851053139823,0.22995965198958035,0.3141002423999677,0.871733976910166,0.05615650962616736,0.8482305091667177,0.14051178952514942,0.6202730281630993,0.5256563041516455,0.13837090165792765,0.27774914438801224,0.5685584585589365,0.4928875403119203,0.7917367571541035,0.7118648157122299,0.4998971850628229,0.124574808200138,0.8813950164637222,0.0673544461661526,0.6981086244993293,0.09439997267799694,0.8321450746136342,0.727019292639866,0.45549809983323086,0.2191321479100461,0.7228079667298792,0.4628580364507142,0.6009458461948604,0.3742884540604532,0.5081183189875975,0.5991809672919136,0.8239525250420623,0.8823306934790557,0.9878641468571111,0.10867169406993593,0.3236377044104217,0.721794157491465,0.296492070409911,0.3111710728383892,0.4371609328728788,0.15465232536232099,0.0036261757465481104,0.3732294903759611,0.09497822065979156,0.6651726874963179,0.6872277583364552,0.15697755517324719,0.5791831012888264,0.4205131525316662,0.25213334383120967,0.002390090341725881,0.7866776581550651,0.5263122398936487,0.987040995696338,0.5995694527063764,0.8024208493814341,0.5986181832452714,0.5958844341341701,0.6514804877384742,0.5499068067055123,0.5031797206499805,0.17193036131117556,0.179102361444188,0.9939999156578374,0.14700401306339872,0.2924539810268013,0.5036916965683464,0.3330405739838068,0.9092463867865672,0.6417801877941312,0.15773505276889344,0.8126374386886637,0.8916453190103468,0.893969539191279,0.7255321838340466,0.059945844756146394,0.401890659718403,0.922307609849913,0.4019135377304035,0.7162384265823267,0.5084461846806104,0.18233615614808762,0.6107706146066302,0.21961036985157112,0.47359040171618705,0.6935876356635524,0.27065465652200493,0.5602427082298831,0.8414479078962074,0.6649686392574043,0.07324461535100213,0.7151090993132332,0.4498316479769864,0.7034569541817026,0.7052933438356584,0.27471474982193944,0.7429759220232924,0.7560240918358493,0.7532705937956382,0.5054849070263624,0.1475362718350588,0.2919632510001142,0.8938327043477012,0.2395049500715578,0.9216873023545514,0.10081406885606559,0.5671882927095809,0.5616231645196287,0.2068607038261252,0.05299501929672101,0.05551977717773238,0.9039295840874735,0.7012235860341256,0.9746400879358729,0.13743499281884963,0.7044828605632049,0.7830092236780566,0.888242878928459,0.3881949461153995,0.046125514420359615,0.4330957354258306,0.021178521331945643,0.021283539834088372,0.010125352571541346,0.47009072336984825,0.33452427931829876,0.3221007250875204,0.0997166428811661,0.2904584856396544,0.04298769017902193,0.4577586324111498,0.4429475448971891,0.4948426363724435,0.4752143611855799,0.7517711122742273,0.08694613613739932,0.7494035675927863,0.605654915656395,0.6094901608096781,0.7122176748028263,0.16855393655426176,0.42219624233905884,0.42115587844981406,0.9881933736286957,0.7491880825429534,0.9454000446560636,0.6520381360989583,0.8859260530274494,0.5134939835746473,0.2143029206274386,0.09018653199145443,0.5432080068453434,0.7133259601106934,0.8622429476672803,0.24833410864565642,0.27714807399256414,0.2669220336772794,0.3160886484118214,0.3958995542197954,0.20120085766633922,0.566300682792962,0.8646982757058036,0.8227132314383548,0.32959614725651487,0.7067963931211177,0.5189922181144302,0.02450070635307966,0.3094312076597948,0.327421966428441,0.5565535283089975,0.22492121891299577,0.812005972538968,0.991077828182667,0.6613926726995801,0.8553842219665917,0.7739443587818986,0.9756363751202476,0.7144493885027668,0.3224707463712355,0.20662513797481208,0.3358728843619292,0.2042546942290745,0.8463438763322553,0.46388265951205365,0.5216254496736883,0.5583185668711259,0.669976555380258,0.6147223915739872,0.05332370967690536,0.9648529758956325,0.6265237350231663,0.08335053930487601,0.10941722130261267,0.5959699191386865,0.2887415128838039],[0.6841944341332977,0.707725760921391,0.8351021740493405,0.4277509358052517,0.8734872723527567,0.3326912233452234,0.6360918362984774,0.23422520050032103,0.99252391858371,0.2845213864624636,0.1727287355964663,0.4130836302159361,0.48388838345004004,0.9944220593326139,0.6709435234590244,0.7025516953937757,0.12760763493446647,0.7095813675629565,0.3701387267162398,0.5149851457515003,0.02401523192975752,0.3331670960057843,0.9373245099534951,0.17976905220137807,0.8205160315316463,0.5207760681581942,0.8001719453926847,0.5416925043104881,0.5465572652984347,0.619165398372604,0.7478535954186895,0.7666169369859117,0.8068184489848341,0.36342196090813206,0.020868054297283,0.7257717048623592,0.6455875156570352,0.8269404893959796,0.8752309656738617,0.32500237143615696,0.5144731751736518,0.3119884064769405,0.901396344374955,0.9485269360807991,0.025710850680750075,0.5124182729033245,0.9364026171116198,0.18661068897245447,0.8774736228261043,0.11549225027028487,0.6512108509094218,0.7387219560556729,0.13366120790150104,0.2879665112934344,0.7195106504121997,0.4990799402392625,0.23709385393358373,0.05884068807462994,0.8313939331241377,0.009536255193150045,0.7035993679723365,0.22888227904312253,0.9464639561982651,0.10849702313347354,0.21535976314869643,0.42198266431206544,0.18188282342292406,0.47771568756408755,0.31949264549889045,0.1862096716603706,0.7472330847843147,0.7218558939708629,0.8604088252267619,0.5226096356525469,0.27775151301661594,0.959690741926741,0.07274514962389456,0.8363411590491032,0.20446198711971297,0.8627045044965447,0.8955111093147896,0.5762794770322743,0.875698369767816,0.5488217738083587,0.382012005153719,0.7852782101048688,0.8322472246368265,0.8214910050521808,0.7459870568952911,0.6077951471863287,0.2606572102822071,0.21946217401252432,0.9289826882225608,0.26977774090896134,0.37689505599082385,0.018427460582400967,0.6749355486168331,0.44087259695826886,0.7358750874427759,0.6430853519067729,0.81615575566659,0.0785846848915347,0.9626600885515808,0.08548017924038853,0.8865756442642901,0.43873920406927336,0.09685736215171648,0.8691669332260148,0.9455138837085073,0.9588694236423598,0.08471277441912684,0.6982761326612253,0.02091658819068143,0.3906936748769527,0.5198534930130753,0.2818491307599327,0.48628869770292005,0.37125808928160675,0.3818812984067673,0.4455155161973763,0.4723197761054725,0.40044769559189586,0.11692886212047549,0.0720636054995295,0.7937342788798087,0.260593685587177,0.9136596699001885,0.9687955190150279,0.0707775036274626,0.37257851489087845,0.8451612107155395,0.557242114799216,0.42123069294179727,0.7664997173030229,0.3745175821431095,0.888388612785429,0.22016529106678728,0.6642532094290537,0.7554261879044237,0.9472436677511671,0.9770766689467891,0.97650996565173,0.9144242335789069,0.9839610735683662,0.6980664837510339,0.1835020880232875,0.5334830064298828,0.5202146255086177,0.13364449279311064,0.39951461261472687,0.4135188984131193,0.25711094108987975,0.9027609532878568,0.5866533992394346,0.8397021590197593,0.748554773979922,0.23169753496714296,0.7473773513257336,0.5184021594571886,0.1765092148741536,0.3234285620462982,0.5867911874209459,0.6990847598187228,0.2886010918107472,0.13091449399824173,0.6230546244825848,0.21320315060370765,0.5392364383674273,0.5007509306656459,0.17419155485557336,0.39944023753742386,0.16572578062529586,0.5375394634366356,0.7954639521316933,0.8818552126767711,0.41447636418799494,0.6868568363713574,0.3431285778562423,0.01792816662097152,0.009458317906924307,0.503794622926351,0.42813963133159216,0.3816035516340873,0.13778614896040242,0.17820736178276697,0.5365839050191662,0.7799447830974946,0.42135229264928487,0.39237250688842407,0.027995256718249317,0.5232653431486308,0.36781750195547314,0.4217856865061276,0.9284549485726601,0.03900319810240804,0.560726815706613,0.18360208948865597,0.4499391524461088,0.7517553727215466,0.26493074355910784,0.6784579093562366,0.7776872571577028,0.9902404392686107,0.12885009678007964,0.6343741906183117,0.370902057407952,0.021450784250584554,0.008768738667580322,0.49652628114042285,0.07619543886481184,0.5731712242173278,0.4199485734115713,0.8417925075956321,0.12871658037749256,0.5664718975049619,0.6900338304071859,0.4458080217446889,0.5470222818440061,0.4147054817358956,0.6652755327373926,0.6930628205218115,0.46348804853771275,0.6736921861841506,0.843085304813901,0.78531813128705,0.10105694261257514,0.03785740560895123,0.6557969474745987,0.8213794365139317,0.30455161717386436,0.2472444653950776,0.1926695641240822,0.6205309330979063,0.14507168611501042,0.34402837042276235,0.2571776795579037,0.9045823245481572,0.03004690552879208,0.6078567103964858,0.6843350108228909,0.9631485320491154,0.394505260767571,0.2542075829511695,0.4333688558147166,0.46950717749474935,0.5433471996553741,0.7685691213700655,0.7060620146010376,0.02045338330372759,0.2419127201020994,0.8670911085294932,0.8552876995996647,0.6856478746285083,0.8929331213325862,0.33416428514418794,0.10391885670927559,0.20432469514843787,0.8090689047460898,0.9892283888382488,0.3842839050639524,0.9422259155373167,0.2080213778720298,0.019311681896279853,0.3913988884341151,0.14526412096471297,0.5715730164102083,0.7272532594644409,0.24181381989546002,0.31366585729892626,0.4001984429429275,0.10423712438463462,0.5947379643217354,0.930489255183302,0.19940952257760558,0.6615050608882118,0.6132913750073993,0.7028373806426804,0.7408162193507933,0.9456456912184054,0.4094482620144815,0.5301303662821786,0.42415170459427065,0.750323657511074,0.4798283220470295,0.8555180281147121,0.2872233600279187,0.4609539966962293,0.47497792059970123,0.30961836928024644,0.9045253548905453,0.952043308683288,0.32468726186319696,0.4823909133549852,0.1346978681212465,0.6222186660945722,0.05917417438882344,0.3804089095720222,0.3952235657956005,0.6635929450695989,0.4348496934713586,0.05132533968535413,0.0167241188560302,0.6783206465259598,0.07100005919947994,0.2909424923344608,0.0716049175594663,0.923604283264406,0.26820096431211504,0.8628324974932624,0.01495645172602178,0.5957706891640976,0.27060042178535115,0.3818009403100726,0.7424504784241248,0.6672996358191418,0.5421221579447603,0.5253219143278391,0.8647644370199591,0.8434827054033226,0.40927135749182675,0.3720919629486166,0.47988266350664277,0.8109271581801906,0.2908621490875096,0.0786385744636634,0.4773012375798694,0.3964783541144592,0.7852213251035577,0.22835829782609596,0.2869804207277583,0.779576469361169,0.40763299669476305,0.5445225185719704,0.7460319924007311,0.7444762698342943,0.3994806269615956,0.8370115785906688,0.7254852446261532,0.2853066996690695,0.27352882341687124,0.02816274897406068,0.1947839591928845,0.8683639546034144,0.7534862678124011,0.4512043622925468,0.8020856228679397,0.5880127765340719,0.5074520190146559,0.46077780840714144,0.9348195002049479,0.14774083349028755,0.5649051787144029,0.450055907517368,0.22412584523361656,0.23604886404808123,0.5530354559342496,0.3924461167294878,0.24759700655838535,0.9136501136582617,0.20979277489937598,0.7038777702519846,0.5136219084009356,0.7339617215958184,0.6599268327074863,0.21913602240037655,0.6704710825278272,0.0982489837560081,0.3127883198280069,0.5246996033520772,0.04764855476961816,0.8173756757757584,0.46963775190384416,0.7683644490399869,0.8575137900922785,0.5353430390818199,0.8016916423969983,0.7758609543321477,0.7889094207693623,0.2742772582889982,0.7991613279555696,0.5842116266409652,0.434804966033253,0.14907031296372653,0.5191954116365347,0.7760946107729086,0.09203052996853,0.144164355497022,0.06009736602510363,0.1086602159672112,0.695312345924543,0.7687435081693622,0.10025641622235493,0.942607405728154,0.8852968599055103,0.7521167605757152,0.9073030713205952,0.5207110124640784,0.12669892286489992,0.3288192484259128,0.07057135780875334,0.2954975761646801,0.2832116731897951,0.47392022225771513,0.35114601075626506,0.9880155943028865,0.5110864237604533,0.6093938241623168,0.928098813962966,0.7548158828332583,0.2993123799826142,0.3866635788421966,0.3663529194223939,0.742474686847177,0.5138836378329711,0.836952001654467,0.9464502133252222,0.6252865833157106,0.38830535138559386,0.5978634609834296,0.526882620463152,0.3120310624322312,0.8932225061080125,0.16600710481058367,0.11508931571173064,0.6816377850672607,0.46225321285300247,0.4921324741390989,0.2146416366869357,0.5794424435698187,0.7595171084302388,0.08324013280745757,0.7622812461473893,0.1061497886759799,0.32931864838475877,0.4405821776299824,0.2225503539552096,0.7597914357696103,0.9148211767760724,0.735641162252936,0.2846722308057986,0.7765602933487339,0.5981442011304126,0.7227363591147643,0.44482564204260977,0.356557364355756,0.7407971522668686,0.15613477089855576,0.10844370055642671,0.09771417159403561,0.4899178828379648,0.1598964581963226,0.7206861390555442,0.5646990323163209,0.09267903358409157,0.7522144161887582,0.38210677624816947,0.3481549827857151,0.6038502667486313,0.2659803020704724,0.1414107737765936,0.7705748946942114,0.6436841733421657,0.4402912988027846,0.9080446091350759,0.8149876776679409,0.7430882438912193,0.22439590229631912,0.266385964802095,0.25353666606470715,0.5582121856634517,0.29729755629600596,0.026227009698253423,0.6962979409507339,0.8674109329782796,0.1439900245829906,0.2763222910590344,0.8821420911963117,0.3277573717973643,0.06426205661347206,0.0287226710447962,0.5406712395652121,0.298549629829685,0.32398568253527227,0.44602622940476533,0.41918565073240033,0.3129009966362234,0.08554274147633845,0.29996095324670957,0.14034051535772973,0.8526910839425038,0.660035602203321,0.4180302400939401,0.23718874690176683,0.5538946891545685,0.9157271937950261,0.2187960692125811,0.14840130678304886,0.19175643712339552,0.8852978159463981,0.3698759212116134]],\"type\":\"surface\"}],                        {\"legend\":{\"bgcolor\":\"#F5F6F9\",\"font\":{\"color\":\"#4D5663\"}},\"paper_bgcolor\":\"#F5F6F9\",\"plot_bgcolor\":\"#F5F6F9\",\"template\":{\"data\":{\"barpolar\":[{\"marker\":{\"line\":{\"color\":\"#E5ECF6\",\"width\":0.5},\"pattern\":{\"fillmode\":\"overlay\",\"size\":10,\"solidity\":0.2}},\"type\":\"barpolar\"}],\"bar\":[{\"error_x\":{\"color\":\"#2a3f5f\"},\"error_y\":{\"color\":\"#2a3f5f\"},\"marker\":{\"line\":{\"color\":\"#E5ECF6\",\"width\":0.5},\"pattern\":{\"fillmode\":\"overlay\",\"size\":10,\"solidity\":0.2}},\"type\":\"bar\"}],\"carpet\":[{\"aaxis\":{\"endlinecolor\":\"#2a3f5f\",\"gridcolor\":\"white\",\"linecolor\":\"white\",\"minorgridcolor\":\"white\",\"startlinecolor\":\"#2a3f5f\"},\"baxis\":{\"endlinecolor\":\"#2a3f5f\",\"gridcolor\":\"white\",\"linecolor\":\"white\",\"minorgridcolor\":\"white\",\"startlinecolor\":\"#2a3f5f\"},\"type\":\"carpet\"}],\"choropleth\":[{\"colorbar\":{\"outlinewidth\":0,\"ticks\":\"\"},\"type\":\"choropleth\"}],\"contourcarpet\":[{\"colorbar\":{\"outlinewidth\":0,\"ticks\":\"\"},\"type\":\"contourcarpet\"}],\"contour\":[{\"colorbar\":{\"outlinewidth\":0,\"ticks\":\"\"},\"colorscale\":[[0.0,\"#0d0887\"],[0.1111111111111111,\"#46039f\"],[0.2222222222222222,\"#7201a8\"],[0.3333333333333333,\"#9c179e\"],[0.4444444444444444,\"#bd3786\"],[0.5555555555555556,\"#d8576b\"],[0.6666666666666666,\"#ed7953\"],[0.7777777777777778,\"#fb9f3a\"],[0.8888888888888888,\"#fdca26\"],[1.0,\"#f0f921\"]],\"type\":\"contour\"}],\"heatmapgl\":[{\"colorbar\":{\"outlinewidth\":0,\"ticks\":\"\"},\"colorscale\":[[0.0,\"#0d0887\"],[0.1111111111111111,\"#46039f\"],[0.2222222222222222,\"#7201a8\"],[0.3333333333333333,\"#9c179e\"],[0.4444444444444444,\"#bd3786\"],[0.5555555555555556,\"#d8576b\"],[0.6666666666666666,\"#ed7953\"],[0.7777777777777778,\"#fb9f3a\"],[0.8888888888888888,\"#fdca26\"],[1.0,\"#f0f921\"]],\"type\":\"heatmapgl\"}],\"heatmap\":[{\"colorbar\":{\"outlinewidth\":0,\"ticks\":\"\"},\"colorscale\":[[0.0,\"#0d0887\"],[0.1111111111111111,\"#46039f\"],[0.2222222222222222,\"#7201a8\"],[0.3333333333333333,\"#9c179e\"],[0.4444444444444444,\"#bd3786\"],[0.5555555555555556,\"#d8576b\"],[0.6666666666666666,\"#ed7953\"],[0.7777777777777778,\"#fb9f3a\"],[0.8888888888888888,\"#fdca26\"],[1.0,\"#f0f921\"]],\"type\":\"heatmap\"}],\"histogram2dcontour\":[{\"colorbar\":{\"outlinewidth\":0,\"ticks\":\"\"},\"colorscale\":[[0.0,\"#0d0887\"],[0.1111111111111111,\"#46039f\"],[0.2222222222222222,\"#7201a8\"],[0.3333333333333333,\"#9c179e\"],[0.4444444444444444,\"#bd3786\"],[0.5555555555555556,\"#d8576b\"],[0.6666666666666666,\"#ed7953\"],[0.7777777777777778,\"#fb9f3a\"],[0.8888888888888888,\"#fdca26\"],[1.0,\"#f0f921\"]],\"type\":\"histogram2dcontour\"}],\"histogram2d\":[{\"colorbar\":{\"outlinewidth\":0,\"ticks\":\"\"},\"colorscale\":[[0.0,\"#0d0887\"],[0.1111111111111111,\"#46039f\"],[0.2222222222222222,\"#7201a8\"],[0.3333333333333333,\"#9c179e\"],[0.4444444444444444,\"#bd3786\"],[0.5555555555555556,\"#d8576b\"],[0.6666666666666666,\"#ed7953\"],[0.7777777777777778,\"#fb9f3a\"],[0.8888888888888888,\"#fdca26\"],[1.0,\"#f0f921\"]],\"type\":\"histogram2d\"}],\"histogram\":[{\"marker\":{\"pattern\":{\"fillmode\":\"overlay\",\"size\":10,\"solidity\":0.2}},\"type\":\"histogram\"}],\"mesh3d\":[{\"colorbar\":{\"outlinewidth\":0,\"ticks\":\"\"},\"type\":\"mesh3d\"}],\"parcoords\":[{\"line\":{\"colorbar\":{\"outlinewidth\":0,\"ticks\":\"\"}},\"type\":\"parcoords\"}],\"pie\":[{\"automargin\":true,\"type\":\"pie\"}],\"scatter3d\":[{\"line\":{\"colorbar\":{\"outlinewidth\":0,\"ticks\":\"\"}},\"marker\":{\"colorbar\":{\"outlinewidth\":0,\"ticks\":\"\"}},\"type\":\"scatter3d\"}],\"scattercarpet\":[{\"marker\":{\"colorbar\":{\"outlinewidth\":0,\"ticks\":\"\"}},\"type\":\"scattercarpet\"}],\"scattergeo\":[{\"marker\":{\"colorbar\":{\"outlinewidth\":0,\"ticks\":\"\"}},\"type\":\"scattergeo\"}],\"scattergl\":[{\"marker\":{\"colorbar\":{\"outlinewidth\":0,\"ticks\":\"\"}},\"type\":\"scattergl\"}],\"scattermapbox\":[{\"marker\":{\"colorbar\":{\"outlinewidth\":0,\"ticks\":\"\"}},\"type\":\"scattermapbox\"}],\"scatterpolargl\":[{\"marker\":{\"colorbar\":{\"outlinewidth\":0,\"ticks\":\"\"}},\"type\":\"scatterpolargl\"}],\"scatterpolar\":[{\"marker\":{\"colorbar\":{\"outlinewidth\":0,\"ticks\":\"\"}},\"type\":\"scatterpolar\"}],\"scatter\":[{\"marker\":{\"colorbar\":{\"outlinewidth\":0,\"ticks\":\"\"}},\"type\":\"scatter\"}],\"scatterternary\":[{\"marker\":{\"colorbar\":{\"outlinewidth\":0,\"ticks\":\"\"}},\"type\":\"scatterternary\"}],\"surface\":[{\"colorbar\":{\"outlinewidth\":0,\"ticks\":\"\"},\"colorscale\":[[0.0,\"#0d0887\"],[0.1111111111111111,\"#46039f\"],[0.2222222222222222,\"#7201a8\"],[0.3333333333333333,\"#9c179e\"],[0.4444444444444444,\"#bd3786\"],[0.5555555555555556,\"#d8576b\"],[0.6666666666666666,\"#ed7953\"],[0.7777777777777778,\"#fb9f3a\"],[0.8888888888888888,\"#fdca26\"],[1.0,\"#f0f921\"]],\"type\":\"surface\"}],\"table\":[{\"cells\":{\"fill\":{\"color\":\"#EBF0F8\"},\"line\":{\"color\":\"white\"}},\"header\":{\"fill\":{\"color\":\"#C8D4E3\"},\"line\":{\"color\":\"white\"}},\"type\":\"table\"}]},\"layout\":{\"annotationdefaults\":{\"arrowcolor\":\"#2a3f5f\",\"arrowhead\":0,\"arrowwidth\":1},\"autotypenumbers\":\"strict\",\"coloraxis\":{\"colorbar\":{\"outlinewidth\":0,\"ticks\":\"\"}},\"colorscale\":{\"diverging\":[[0,\"#8e0152\"],[0.1,\"#c51b7d\"],[0.2,\"#de77ae\"],[0.3,\"#f1b6da\"],[0.4,\"#fde0ef\"],[0.5,\"#f7f7f7\"],[0.6,\"#e6f5d0\"],[0.7,\"#b8e186\"],[0.8,\"#7fbc41\"],[0.9,\"#4d9221\"],[1,\"#276419\"]],\"sequential\":[[0.0,\"#0d0887\"],[0.1111111111111111,\"#46039f\"],[0.2222222222222222,\"#7201a8\"],[0.3333333333333333,\"#9c179e\"],[0.4444444444444444,\"#bd3786\"],[0.5555555555555556,\"#d8576b\"],[0.6666666666666666,\"#ed7953\"],[0.7777777777777778,\"#fb9f3a\"],[0.8888888888888888,\"#fdca26\"],[1.0,\"#f0f921\"]],\"sequentialminus\":[[0.0,\"#0d0887\"],[0.1111111111111111,\"#46039f\"],[0.2222222222222222,\"#7201a8\"],[0.3333333333333333,\"#9c179e\"],[0.4444444444444444,\"#bd3786\"],[0.5555555555555556,\"#d8576b\"],[0.6666666666666666,\"#ed7953\"],[0.7777777777777778,\"#fb9f3a\"],[0.8888888888888888,\"#fdca26\"],[1.0,\"#f0f921\"]]},\"colorway\":[\"#636efa\",\"#EF553B\",\"#00cc96\",\"#ab63fa\",\"#FFA15A\",\"#19d3f3\",\"#FF6692\",\"#B6E880\",\"#FF97FF\",\"#FECB52\"],\"font\":{\"color\":\"#2a3f5f\"},\"geo\":{\"bgcolor\":\"white\",\"lakecolor\":\"white\",\"landcolor\":\"#E5ECF6\",\"showlakes\":true,\"showland\":true,\"subunitcolor\":\"white\"},\"hoverlabel\":{\"align\":\"left\"},\"hovermode\":\"closest\",\"mapbox\":{\"style\":\"light\"},\"paper_bgcolor\":\"white\",\"plot_bgcolor\":\"#E5ECF6\",\"polar\":{\"angularaxis\":{\"gridcolor\":\"white\",\"linecolor\":\"white\",\"ticks\":\"\"},\"bgcolor\":\"#E5ECF6\",\"radialaxis\":{\"gridcolor\":\"white\",\"linecolor\":\"white\",\"ticks\":\"\"}},\"scene\":{\"xaxis\":{\"backgroundcolor\":\"#E5ECF6\",\"gridcolor\":\"white\",\"gridwidth\":2,\"linecolor\":\"white\",\"showbackground\":true,\"ticks\":\"\",\"zerolinecolor\":\"white\"},\"yaxis\":{\"backgroundcolor\":\"#E5ECF6\",\"gridcolor\":\"white\",\"gridwidth\":2,\"linecolor\":\"white\",\"showbackground\":true,\"ticks\":\"\",\"zerolinecolor\":\"white\"},\"zaxis\":{\"backgroundcolor\":\"#E5ECF6\",\"gridcolor\":\"white\",\"gridwidth\":2,\"linecolor\":\"white\",\"showbackground\":true,\"ticks\":\"\",\"zerolinecolor\":\"white\"}},\"shapedefaults\":{\"line\":{\"color\":\"#2a3f5f\"}},\"ternary\":{\"aaxis\":{\"gridcolor\":\"white\",\"linecolor\":\"white\",\"ticks\":\"\"},\"baxis\":{\"gridcolor\":\"white\",\"linecolor\":\"white\",\"ticks\":\"\"},\"bgcolor\":\"#E5ECF6\",\"caxis\":{\"gridcolor\":\"white\",\"linecolor\":\"white\",\"ticks\":\"\"}},\"title\":{\"x\":0.05},\"xaxis\":{\"automargin\":true,\"gridcolor\":\"white\",\"linecolor\":\"white\",\"ticks\":\"\",\"title\":{\"standoff\":15},\"zerolinecolor\":\"white\",\"zerolinewidth\":2},\"yaxis\":{\"automargin\":true,\"gridcolor\":\"white\",\"linecolor\":\"white\",\"ticks\":\"\",\"title\":{\"standoff\":15},\"zerolinecolor\":\"white\",\"zerolinewidth\":2}}},\"title\":{\"font\":{\"color\":\"#4D5663\"}},\"xaxis\":{\"gridcolor\":\"#E1E5ED\",\"showgrid\":true,\"tickfont\":{\"color\":\"#4D5663\"},\"title\":{\"font\":{\"color\":\"#4D5663\"},\"text\":\"\"},\"zerolinecolor\":\"#E1E5ED\"},\"yaxis\":{\"gridcolor\":\"#E1E5ED\",\"showgrid\":true,\"tickfont\":{\"color\":\"#4D5663\"},\"title\":{\"font\":{\"color\":\"#4D5663\"},\"text\":\"\"},\"zerolinecolor\":\"#E1E5ED\"}},                        {\"showLink\": true, \"linkText\": \"Export to plot.ly\", \"plotlyServerURL\": \"https://plot.ly\", \"responsive\": true}                    ).then(function(){\n",
       "                            \n",
       "var gd = document.getElementById('7209fc2c-1c6f-4565-bf81-4cda9243aa8d');\n",
       "var x = new MutationObserver(function (mutations, observer) {{\n",
       "        var display = window.getComputedStyle(gd).display;\n",
       "        if (!display || display === 'none') {{\n",
       "            console.log([gd, 'removed!']);\n",
       "            Plotly.purge(gd);\n",
       "            observer.disconnect();\n",
       "        }}\n",
       "}});\n",
       "\n",
       "// Listen for the removal of the full notebook cells\n",
       "var notebookContainer = gd.closest('#notebook-container');\n",
       "if (notebookContainer) {{\n",
       "    x.observe(notebookContainer, {childList: true});\n",
       "}}\n",
       "\n",
       "// Listen for the clearing of the current output cell\n",
       "var outputEl = gd.closest('.output');\n",
       "if (outputEl) {{\n",
       "    x.observe(outputEl, {childList: true});\n",
       "}}\n",
       "\n",
       "                        })                };                });            </script>        </div>"
      ]
     },
     "metadata": {},
     "output_type": "display_data"
    }
   ],
   "source": [
    "df1.iplot(kind='surface')  #### 3-D surface plot\n"
   ]
  },
  {
   "cell_type": "code",
   "execution_count": 39,
   "id": "016e6de1",
   "metadata": {},
   "outputs": [
    {
     "data": {
      "text/html": [
       "<div>\n",
       "<style scoped>\n",
       "    .dataframe tbody tr th:only-of-type {\n",
       "        vertical-align: middle;\n",
       "    }\n",
       "\n",
       "    .dataframe tbody tr th {\n",
       "        vertical-align: top;\n",
       "    }\n",
       "\n",
       "    .dataframe thead th {\n",
       "        text-align: right;\n",
       "    }\n",
       "</style>\n",
       "<table border=\"1\" class=\"dataframe\">\n",
       "  <thead>\n",
       "    <tr style=\"text-align: right;\">\n",
       "      <th></th>\n",
       "      <th>carat</th>\n",
       "      <th>cut</th>\n",
       "      <th>color</th>\n",
       "      <th>clarity</th>\n",
       "      <th>depth</th>\n",
       "      <th>table</th>\n",
       "      <th>price</th>\n",
       "      <th>x</th>\n",
       "      <th>y</th>\n",
       "      <th>z</th>\n",
       "    </tr>\n",
       "  </thead>\n",
       "  <tbody>\n",
       "    <tr>\n",
       "      <th>0</th>\n",
       "      <td>0.23</td>\n",
       "      <td>Ideal</td>\n",
       "      <td>E</td>\n",
       "      <td>SI2</td>\n",
       "      <td>61.5</td>\n",
       "      <td>55.0</td>\n",
       "      <td>326</td>\n",
       "      <td>3.95</td>\n",
       "      <td>3.98</td>\n",
       "      <td>2.43</td>\n",
       "    </tr>\n",
       "    <tr>\n",
       "      <th>1</th>\n",
       "      <td>0.21</td>\n",
       "      <td>Premium</td>\n",
       "      <td>E</td>\n",
       "      <td>SI1</td>\n",
       "      <td>59.8</td>\n",
       "      <td>61.0</td>\n",
       "      <td>326</td>\n",
       "      <td>3.89</td>\n",
       "      <td>3.84</td>\n",
       "      <td>2.31</td>\n",
       "    </tr>\n",
       "    <tr>\n",
       "      <th>2</th>\n",
       "      <td>0.23</td>\n",
       "      <td>Good</td>\n",
       "      <td>E</td>\n",
       "      <td>VS1</td>\n",
       "      <td>56.9</td>\n",
       "      <td>65.0</td>\n",
       "      <td>327</td>\n",
       "      <td>4.05</td>\n",
       "      <td>4.07</td>\n",
       "      <td>2.31</td>\n",
       "    </tr>\n",
       "    <tr>\n",
       "      <th>3</th>\n",
       "      <td>0.29</td>\n",
       "      <td>Premium</td>\n",
       "      <td>I</td>\n",
       "      <td>VS2</td>\n",
       "      <td>62.4</td>\n",
       "      <td>58.0</td>\n",
       "      <td>334</td>\n",
       "      <td>4.20</td>\n",
       "      <td>4.23</td>\n",
       "      <td>2.63</td>\n",
       "    </tr>\n",
       "    <tr>\n",
       "      <th>4</th>\n",
       "      <td>0.31</td>\n",
       "      <td>Good</td>\n",
       "      <td>J</td>\n",
       "      <td>SI2</td>\n",
       "      <td>63.3</td>\n",
       "      <td>58.0</td>\n",
       "      <td>335</td>\n",
       "      <td>4.34</td>\n",
       "      <td>4.35</td>\n",
       "      <td>2.75</td>\n",
       "    </tr>\n",
       "  </tbody>\n",
       "</table>\n",
       "</div>"
      ],
      "text/plain": [
       "   carat      cut color clarity  depth  table  price     x     y     z\n",
       "0   0.23    Ideal     E     SI2   61.5   55.0    326  3.95  3.98  2.43\n",
       "1   0.21  Premium     E     SI1   59.8   61.0    326  3.89  3.84  2.31\n",
       "2   0.23     Good     E     VS1   56.9   65.0    327  4.05  4.07  2.31\n",
       "3   0.29  Premium     I     VS2   62.4   58.0    334  4.20  4.23  2.63\n",
       "4   0.31     Good     J     SI2   63.3   58.0    335  4.34  4.35  2.75"
      ]
     },
     "execution_count": 39,
     "metadata": {},
     "output_type": "execute_result"
    }
   ],
   "source": [
    "df=sns.load_dataset(\"diamonds\")\n",
    "df.head()"
   ]
  },
  {
   "cell_type": "code",
   "execution_count": null,
   "id": "2ac221e3",
   "metadata": {},
   "outputs": [],
   "source": []
  }
 ],
 "metadata": {
  "kernelspec": {
   "display_name": "Python 3 (ipykernel)",
   "language": "python",
   "name": "python3"
  },
  "language_info": {
   "codemirror_mode": {
    "name": "ipython",
    "version": 3
   },
   "file_extension": ".py",
   "mimetype": "text/x-python",
   "name": "python",
   "nbconvert_exporter": "python",
   "pygments_lexer": "ipython3",
   "version": "3.8.12"
  }
 },
 "nbformat": 4,
 "nbformat_minor": 5
}
