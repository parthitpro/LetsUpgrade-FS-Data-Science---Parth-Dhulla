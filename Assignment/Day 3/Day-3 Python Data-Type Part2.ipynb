{
 "cells": [
  {
   "cell_type": "markdown",
   "id": "27d7ca24",
   "metadata": {},
   "source": [
    "# 1. Write a program to read 3 float numbers and print the largest value\n"
   ]
  },
  {
   "cell_type": "code",
   "execution_count": 2,
   "id": "2098d69f",
   "metadata": {},
   "outputs": [
    {
     "name": "stdout",
     "output_type": "stream",
     "text": [
      "Enter the number110\n",
      "Enter the number220\n",
      "Enter the number330\n",
      "The bigger num is num1 10.0\n"
     ]
    }
   ],
   "source": [
    "\n",
    "num1 = float(input('Enter the number1'))\n",
    "num2 = float(input('Enter the number2'))\n",
    "num3 = float(input('Enter the number3'))\n",
    "\n",
    "if num1>num2:\n",
    "    print('The bigger num is num2',num2)\n",
    "elif num2>num3:\n",
    "    print('The bigger num is num3',num3)\n",
    "else:\n",
    "    print('The bigger num is num1',num1)"
   ]
  },
  {
   "cell_type": "code",
   "execution_count": null,
   "id": "7b90a893",
   "metadata": {},
   "outputs": [],
   "source": []
  }
 ],
 "metadata": {
  "kernelspec": {
   "display_name": "Python 3 (ipykernel)",
   "language": "python",
   "name": "python3"
  },
  "language_info": {
   "codemirror_mode": {
    "name": "ipython",
    "version": 3
   },
   "file_extension": ".py",
   "mimetype": "text/x-python",
   "name": "python",
   "nbconvert_exporter": "python",
   "pygments_lexer": "ipython3",
   "version": "3.8.12"
  }
 },
 "nbformat": 4,
 "nbformat_minor": 5
}
