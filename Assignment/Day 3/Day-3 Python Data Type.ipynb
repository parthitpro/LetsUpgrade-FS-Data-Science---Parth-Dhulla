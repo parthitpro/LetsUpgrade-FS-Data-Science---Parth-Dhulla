{
 "cells": [
  {
   "cell_type": "markdown",
   "id": "cd3e0ae8",
   "metadata": {},
   "source": [
    "Conditional Statements \n",
    "\n",
    "    - if \n",
    "    - else\n",
    "    - elif"
   ]
  },
  {
   "cell_type": "code",
   "execution_count": 7,
   "id": "2b536090",
   "metadata": {},
   "outputs": [
    {
     "name": "stdout",
     "output_type": "stream",
     "text": [
      " enter the number5\n"
     ]
    }
   ],
   "source": []
  },
  {
   "cell_type": "code",
   "execution_count": 10,
   "id": "8c1e4210",
   "metadata": {},
   "outputs": [
    {
     "name": "stdout",
     "output_type": "stream",
     "text": [
      " enter the number25\n",
      " number is odd\n"
     ]
    }
   ],
   "source": [
    "num= int(input(' enter the number'))\n",
    "if num%2==0:\n",
    "    print('number is even')\n",
    "else:\n",
    "    print(' number is odd')"
   ]
  },
  {
   "cell_type": "markdown",
   "id": "d2e86572",
   "metadata": {},
   "source": [
    "Comparison operators\n",
    "\n",
    "    - == equal to\n",
    "    - < less than\n",
    "    - > greater than"
   ]
  },
  {
   "cell_type": "code",
   "execution_count": 11,
   "id": "ca3ed4d6",
   "metadata": {},
   "outputs": [
    {
     "name": "stdout",
     "output_type": "stream",
     "text": [
      "the language is Python\n"
     ]
    }
   ],
   "source": [
    "lang = 'python'\n",
    "if lang == 'python':\n",
    "    print('the language is Python')\n",
    "else:\n",
    "    print('the language is not python')"
   ]
  },
  {
   "cell_type": "code",
   "execution_count": 13,
   "id": "f0698e66",
   "metadata": {},
   "outputs": [
    {
     "name": "stdout",
     "output_type": "stream",
     "text": [
      "Enter programming language: Java\n",
      "language is Java\n"
     ]
    }
   ],
   "source": [
    "lang= input('Enter programming language: ')\n",
    "\n",
    "if lang == 'Python':\n",
    "    print('the language is python')\n",
    "elif lang =='Java':\n",
    "    print('language is Java')\n",
    "elif lang =='React':\n",
    "    print('language is React')\n",
    "else:\n",
    "    print(\"No match\")\n",
    "        "
   ]
  },
  {
   "cell_type": "code",
   "execution_count": null,
   "id": "88f54621",
   "metadata": {},
   "outputs": [],
   "source": []
  },
  {
   "cell_type": "markdown",
   "id": "8a2db429",
   "metadata": {},
   "source": []
  },
  {
   "cell_type": "code",
   "execution_count": 22,
   "id": "0cec6564",
   "metadata": {},
   "outputs": [
    {
     "name": "stdout",
     "output_type": "stream",
     "text": [
      "Age of the Dog10\n",
      "\n",
      "The age of human is  62\n"
     ]
    }
   ],
   "source": [
    "age= int(input('Age of the Dog'))\n",
    "\n",
    "print()\n",
    "\n",
    "if age<0:\n",
    "    print('this cannnot be true')\n",
    "elif age==0:\n",
    "    print('corresponding to zero human years')\n",
    "elif age==1:\n",
    "    print('corresponding to 14 human years')\n",
    "else:\n",
    "    human = 22+(age-2)*5\n",
    "    print('The age of human is ',human)"
   ]
  },
  {
   "cell_type": "code",
   "execution_count": null,
   "id": "56e98576",
   "metadata": {},
   "outputs": [],
   "source": []
  },
  {
   "cell_type": "markdown",
   "id": "2260ddf7",
   "metadata": {},
   "source": []
  },
  {
   "cell_type": "code",
   "execution_count": 29,
   "id": "f61ea121",
   "metadata": {},
   "outputs": [
    {
     "name": "stdout",
     "output_type": "stream",
     "text": [
      "Enter the number1250\n",
      "Enter the number21555\n",
      "Enter the number3999\n",
      "The bigger num is num3 999.0\n"
     ]
    }
   ],
   "source": []
  },
  {
   "cell_type": "markdown",
   "id": "797fc831",
   "metadata": {},
   "source": [
    "loops\n",
    " - for loop\n",
    " - while loop"
   ]
  },
  {
   "cell_type": "code",
   "execution_count": 30,
   "id": "3f6f211b",
   "metadata": {
    "scrolled": true
   },
   "outputs": [
    {
     "data": {
      "text/plain": [
       "18330"
      ]
     },
     "execution_count": 30,
     "metadata": {},
     "output_type": "execute_result"
    }
   ],
   "source": [
    "# Store the monthly expenses in a list and\n",
    "#  find out the total expenses for all month\n",
    "\n",
    "expenses= [4400, 2600, 450, 3900, 6980]\n",
    "sum(expenses)"
   ]
  },
  {
   "cell_type": "code",
   "execution_count": 32,
   "id": "06698753",
   "metadata": {},
   "outputs": [
    {
     "name": "stdout",
     "output_type": "stream",
     "text": [
      "18330\n"
     ]
    }
   ],
   "source": [
    "a=0\n",
    "for i in expenses:\n",
    "    a= a+i\n",
    "print(a)"
   ]
  },
  {
   "cell_type": "code",
   "execution_count": 33,
   "id": "46e92ad5",
   "metadata": {},
   "outputs": [
    {
     "name": "stdout",
     "output_type": "stream",
     "text": [
      "Month 1 Expenses : 4400\n",
      "Month 2 Expenses : 2600\n",
      "Month 3 Expenses : 450\n",
      "Month 4 Expenses : 3900\n",
      "Month 5 Expenses : 6980\n",
      "total expenese  18330\n"
     ]
    }
   ],
   "source": [
    "total=0\n",
    "for i in range(len(expenses)):\n",
    "    print('Month',(i+1), 'Expenses :',expenses[i])\n",
    "    total=total+expenses[i]\n",
    "print(\"total expenese \",total)"
   ]
  },
  {
   "cell_type": "code",
   "execution_count": null,
   "id": "f8f719b0",
   "metadata": {},
   "outputs": [],
   "source": []
  },
  {
   "cell_type": "markdown",
   "id": "65586b1f",
   "metadata": {},
   "source": [
    "For loop and continue statement:\n"
   ]
  },
  {
   "cell_type": "code",
   "execution_count": 36,
   "id": "9f37deea",
   "metadata": {},
   "outputs": [
    {
     "name": "stdout",
     "output_type": "stream",
     "text": [
      "1\n",
      "3\n",
      "5\n",
      "7\n",
      "9\n"
     ]
    }
   ],
   "source": [
    "for i in range(1,11):\n",
    "    if i%2==0:\n",
    "#         print(i)\n",
    "        continue\n",
    "    print(i)"
   ]
  },
  {
   "cell_type": "code",
   "execution_count": 42,
   "id": "746ddc58",
   "metadata": {},
   "outputs": [
    {
     "name": "stdout",
     "output_type": "stream",
     "text": [
      "31,32,33,34,35,36,37,38,39,40,41,42,43,44,45,46,47,48,49,50,51,52,53,54,55,56,57,58,59,60,61,62,63,64,65,66,67,68,69,70,71,72,73,74,75,76,77,78,79,80,81,82,83,84,85,86,87,88,89,90,91,92,93,94,95,96,97,98,99,100,101,102,103,104,105,106,107,108,109,110,111,112,113,114,115,116,117,118,119,120,121,122,123,124,125,126,127,128,129,130,131,132,133,134,135,136,137,138,139,140,141,142,143,144,145,146,147,148,149,150,151,152,153,154,155,156,157,158,159,160,161,162,163,164,165,166,167,168,169,170,171,172,173,174,175,176,177,178,179,180,181,182,183,184,185,186,187,188,189,190,191,192,193,194,195,196,197,198,199,200,201,202,203,204,205,206,207,208,209,210,211,212,213,214,215,216,217,218,219,220,221,222,223,224,225,226,227,228,229,230,231,232,233,234,235,236,237,238,239,240,241,242,243,244,245,246,247,248,249,250,251,252,253,254,255,256,257,258,259,260,261,262,263,264,265,266,267,268,269,270,271,272,273,274,275,276,277,278,279,280,281,282,283,284,285,286,287,288,289,290,291,292,293,294,295,296,297,298,299,300,301,302,303,304,305,306,307,308,309,310,311,312,313,314,315,316,317,318,319,320,321,322,323,324,325,326,327,328,329,330,331,332,333,334,335,336,337,338,339,340,341,342,343,344,345,346,347,348,349,350,351,352,353,354,355,356,357,358,359,360,361,362,363,364,365,366,367,368,369,370,371,372,373,374,375,376,377,378,379,380,381,382,383,384,385,386,387,388,389,390,391,392,393,394,395,396,397,398,399,400,401,402,403,404,405,406,407,408,409,410,411,412,413,414,415,416,417,418,419,420,421,422,423,424,425,426,427,428,429,430,431,432,433,434,435,436,437,438,439,440,441,442,443,444,445,446,447,448,449,450,451,452,453,454,455,456,457,458,459,460,461,462,463,464,465,466,467,468,469,470,471,472,473,474,475,476,477,478,479,480,481,482,483,484,485,486,487,488,489,490,491,492,493,494,495,496,497,498,499,"
     ]
    }
   ],
   "source": [
    "for i in range(10,500):\n",
    "    if i<=30:\n",
    "        continue\n",
    "    print(i,end=',')"
   ]
  },
  {
   "cell_type": "markdown",
   "id": "a250a480",
   "metadata": {},
   "source": [
    "While loop "
   ]
  },
  {
   "cell_type": "code",
   "execution_count": 43,
   "id": "d371bd54",
   "metadata": {},
   "outputs": [
    {
     "name": "stdout",
     "output_type": "stream",
     "text": [
      "5\n",
      "4\n",
      "3\n",
      "2\n",
      "1\n"
     ]
    }
   ],
   "source": [
    "i=5\n",
    "\n",
    "while i>=1:\n",
    "    print(i)\n",
    "    i=i-1"
   ]
  },
  {
   "cell_type": "code",
   "execution_count": null,
   "id": "b3009dbd",
   "metadata": {},
   "outputs": [],
   "source": []
  },
  {
   "cell_type": "markdown",
   "id": "9ff02569",
   "metadata": {},
   "source": [
    "Functions"
   ]
  },
  {
   "cell_type": "code",
   "execution_count": 48,
   "id": "ab09b464",
   "metadata": {},
   "outputs": [
    {
     "name": "stdout",
     "output_type": "stream",
     "text": [
      "Enter the Number 14\n",
      "Number is even 14\n"
     ]
    }
   ],
   "source": [
    "num = (int(input(\"Enter the Number \")))\n",
    "if num%2==0:\n",
    "    print('Number is even',(num))\n",
    "else:\n",
    "    print('Number is odd',(num))"
   ]
  },
  {
   "cell_type": "code",
   "execution_count": 49,
   "id": "54b37798",
   "metadata": {},
   "outputs": [],
   "source": [
    "def even_or_odd(num):\n",
    "    if num%2==0:\n",
    "        print(\"Number {} is even\".format(num))\n",
    "    else:\n",
    "        print(\"Number {} is odd\".format(num))"
   ]
  },
  {
   "cell_type": "code",
   "execution_count": 50,
   "id": "276953f6",
   "metadata": {},
   "outputs": [
    {
     "name": "stdout",
     "output_type": "stream",
     "text": [
      "Number 15 is odd\n"
     ]
    }
   ],
   "source": [
    "even_or_odd(15)"
   ]
  },
  {
   "cell_type": "code",
   "execution_count": null,
   "id": "d00e621b",
   "metadata": {},
   "outputs": [],
   "source": []
  }
 ],
 "metadata": {
  "kernelspec": {
   "display_name": "Python 3 (ipykernel)",
   "language": "python",
   "name": "python3"
  },
  "language_info": {
   "codemirror_mode": {
    "name": "ipython",
    "version": 3
   },
   "file_extension": ".py",
   "mimetype": "text/x-python",
   "name": "python",
   "nbconvert_exporter": "python",
   "pygments_lexer": "ipython3",
   "version": "3.8.12"
  }
 },
 "nbformat": 4,
 "nbformat_minor": 5
}
