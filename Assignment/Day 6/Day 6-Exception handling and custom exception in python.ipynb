{
 "cells": [
  {
   "cell_type": "markdown",
   "id": "f66dfec9",
   "metadata": {},
   "source": [
    "Trial and exception"
   ]
  },
  {
   "cell_type": "markdown",
   "id": "2c5ab2d3",
   "metadata": {},
   "source": [
    "Exception : Error detected at the time of program execution\n",
    "    \n",
    "Reason for handling exception\n",
    "1. Program neve crashes\n",
    "2. we can give the right statement to the use"
   ]
  },
  {
   "cell_type": "code",
   "execution_count": 2,
   "id": "7bce256d",
   "metadata": {},
   "outputs": [],
   "source": [
    "a=20\n",
    "b=0"
   ]
  },
  {
   "cell_type": "code",
   "execution_count": 3,
   "id": "f2721a13",
   "metadata": {},
   "outputs": [],
   "source": [
    "# c= a/b\n",
    "# print(c)\n",
    "# error=ZeroDivisionError                         Traceback (most recent call last)\n"
   ]
  },
  {
   "cell_type": "code",
   "execution_count": 4,
   "id": "f085c56e",
   "metadata": {},
   "outputs": [],
   "source": [
    "# a = 10\n",
    "# b = c\n",
    "# erorr= NameError"
   ]
  },
  {
   "cell_type": "code",
   "execution_count": 5,
   "id": "bdad1618",
   "metadata": {},
   "outputs": [
    {
     "name": "stdout",
     "output_type": "stream",
     "text": [
      "the variable c not define\n"
     ]
    }
   ],
   "source": [
    "try:\n",
    "    a=c\n",
    "except NameError as ex1:\n",
    "    print('the variable c not define')\n",
    "except Expection as ex:\n",
    "    print(ex)"
   ]
  },
  {
   "cell_type": "code",
   "execution_count": 6,
   "id": "53c1dd2a",
   "metadata": {},
   "outputs": [],
   "source": [
    "# x=23\n",
    "# y='s'\n",
    "# z=x+y\n",
    "# error - unsupported operand type(s) for +: 'int' and 'str'"
   ]
  },
  {
   "cell_type": "code",
   "execution_count": 7,
   "id": "a84477c6",
   "metadata": {},
   "outputs": [
    {
     "name": "stdout",
     "output_type": "stream",
     "text": [
      "The datatypes are not similar\n"
     ]
    }
   ],
   "source": [
    "try :\n",
    "    x=23\n",
    "    y='s'\n",
    "    z=x+y\n",
    "except TypeError as ex1:\n",
    "    print('The datatypes are not similar')\n",
    "except NameError as ex1:\n",
    "    print('The variable c was not defined')\n",
    "except Expection as ex:\n",
    "    print(ex)"
   ]
  },
  {
   "cell_type": "code",
   "execution_count": 8,
   "id": "6b6ec762",
   "metadata": {},
   "outputs": [],
   "source": [
    "# a= int(input('Enter the 1st number'))\n",
    "# b= int(input('Enter the 2st number'))\n",
    "# c=a+b\n",
    "# d=a/b\n",
    "# e=a*b\n",
    "# print(c,d,e)"
   ]
  },
  {
   "cell_type": "code",
   "execution_count": 9,
   "id": "1247f98c",
   "metadata": {},
   "outputs": [
    {
     "name": "stdout",
     "output_type": "stream",
     "text": [
      "Enter the 1st number10\n",
      "Enter the 2st number0\n",
      "Enter the number greater than 0\n",
      "Thr execution is complete\n"
     ]
    }
   ],
   "source": [
    "try:\n",
    "    a= int(input('Enter the 1st number'))\n",
    "    b= int(input('Enter the 2st number'))\n",
    "    c=a/b\n",
    "#     print(c,d,e)\n",
    "except ZeroDivisionError :\n",
    "    print('Enter the number greater than 0')\n",
    "except TypeError as ex1:\n",
    "    print('The datatypes are not similar')\n",
    "except NameError as ex1:\n",
    "    print('The variable c was not defined')\n",
    "except Exception as ex:\n",
    "    print(ex)\n",
    "else:\n",
    "    print(c)\n",
    "    \n",
    "finally:\n",
    "    print('Thr execution is complete')"
   ]
  },
  {
   "cell_type": "code",
   "execution_count": null,
   "id": "3b046e84",
   "metadata": {},
   "outputs": [],
   "source": []
  },
  {
   "cell_type": "code",
   "execution_count": 10,
   "id": "1947a4c6",
   "metadata": {},
   "outputs": [],
   "source": [
    "# create your own custom exception\n",
    "\n",
    "class Error(Exception):\n",
    "    pass\n",
    "class dobException(Error):\n",
    "    pass\n",
    "class cutoffExpection(Error):\n",
    "    pass"
   ]
  },
  {
   "cell_type": "code",
   "execution_count": 11,
   "id": "50b80a86",
   "metadata": {},
   "outputs": [
    {
     "name": "stdout",
     "output_type": "stream",
     "text": [
      "Enter the year of birth19\n",
      "you are not eligible to apply for the exam\n",
      "2003\n"
     ]
    }
   ],
   "source": [
    "year = int(input('Enter the year of birth'))\n",
    "\n",
    "age = 2022-year\n",
    "\n",
    "try:\n",
    "    if age<=28 and age>20:\n",
    "        print('You are eligible to apply for the exam')\n",
    "    else:\n",
    "        raise dobException\n",
    "except dobException:\n",
    "    print('you are not eligible to apply for the exam')\n",
    "\n",
    "print(age)"
   ]
  },
  {
   "cell_type": "code",
   "execution_count": 12,
   "id": "3d4ad377",
   "metadata": {},
   "outputs": [
    {
     "name": "stdout",
     "output_type": "stream",
     "text": [
      "Enter the exam score80\n",
      "Re-attempt\n"
     ]
    }
   ],
   "source": [
    "score = int(input('Enter the exam score'))\n",
    "cut_off = 85\n",
    "\n",
    "try:\n",
    "    if score >cut_off:\n",
    "        print('Pass')\n",
    "    else:\n",
    "        raise cutoffExpection\n",
    "except cutoffExpection:\n",
    "    print('Re-attempt')"
   ]
  }
 ],
 "metadata": {
  "kernelspec": {
   "display_name": "Python 3 (ipykernel)",
   "language": "python",
   "name": "python3"
  },
  "language_info": {
   "codemirror_mode": {
    "name": "ipython",
    "version": 3
   },
   "file_extension": ".py",
   "mimetype": "text/x-python",
   "name": "python",
   "nbconvert_exporter": "python",
   "pygments_lexer": "ipython3",
   "version": "3.8.12"
  }
 },
 "nbformat": 4,
 "nbformat_minor": 5
}
