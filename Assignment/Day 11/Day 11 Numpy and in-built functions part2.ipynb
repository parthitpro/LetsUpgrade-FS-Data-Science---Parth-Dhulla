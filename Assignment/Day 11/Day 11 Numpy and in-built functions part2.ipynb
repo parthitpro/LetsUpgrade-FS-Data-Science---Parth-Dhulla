{
 "cells": [
  {
   "cell_type": "code",
   "execution_count": 1,
   "id": "804898d2",
   "metadata": {},
   "outputs": [
    {
     "data": {
      "application/javascript": [
       "\n",
       "        if (window._pyforest_update_imports_cell) { window._pyforest_update_imports_cell('import numpy as np'); }\n",
       "    "
      ],
      "text/plain": [
       "<IPython.core.display.Javascript object>"
      ]
     },
     "metadata": {},
     "output_type": "display_data"
    }
   ],
   "source": [
    "c=np.zeros((5,5))"
   ]
  },
  {
   "cell_type": "code",
   "execution_count": 2,
   "id": "69aa2cbb",
   "metadata": {},
   "outputs": [
    {
     "data": {
      "text/plain": [
       "array([[0., 0., 0., 0., 0.],\n",
       "       [0., 0., 0., 0., 0.],\n",
       "       [0., 0., 0., 0., 0.],\n",
       "       [0., 0., 0., 0., 0.],\n",
       "       [0., 0., 0., 0., 0.]])"
      ]
     },
     "execution_count": 2,
     "metadata": {},
     "output_type": "execute_result"
    }
   ],
   "source": [
    "# c[0:3]=7\n",
    "c"
   ]
  },
  {
   "cell_type": "code",
   "execution_count": 3,
   "id": "46fc9cf5",
   "metadata": {},
   "outputs": [
    {
     "data": {
      "text/plain": [
       "array([[0., 0., 0., 0., 0.],\n",
       "       [0., 0., 0., 0., 0.],\n",
       "       [0., 0., 0., 0., 0.],\n",
       "       [0., 0., 0., 0., 0.]])"
      ]
     },
     "execution_count": 3,
     "metadata": {},
     "output_type": "execute_result"
    }
   ],
   "source": [
    "c[0:-1]"
   ]
  },
  {
   "cell_type": "code",
   "execution_count": 4,
   "id": "4e45fab3",
   "metadata": {},
   "outputs": [],
   "source": [
    "c[0]=1"
   ]
  },
  {
   "cell_type": "code",
   "execution_count": 5,
   "id": "c033f54b",
   "metadata": {},
   "outputs": [],
   "source": [
    "c[-1]=1"
   ]
  },
  {
   "cell_type": "code",
   "execution_count": 6,
   "id": "e8a2900a",
   "metadata": {},
   "outputs": [],
   "source": [
    "c[:,0]=1"
   ]
  },
  {
   "cell_type": "code",
   "execution_count": 7,
   "id": "1a2646c7",
   "metadata": {},
   "outputs": [],
   "source": [
    "c[:,-1]=1"
   ]
  },
  {
   "cell_type": "code",
   "execution_count": 8,
   "id": "c950c46d",
   "metadata": {},
   "outputs": [],
   "source": [
    "c[2,2]=7"
   ]
  },
  {
   "cell_type": "code",
   "execution_count": 9,
   "id": "34c31c75",
   "metadata": {},
   "outputs": [
    {
     "data": {
      "text/plain": [
       "array([[1., 1., 1., 1., 1.],\n",
       "       [1., 0., 0., 0., 1.],\n",
       "       [1., 0., 7., 0., 1.],\n",
       "       [1., 0., 0., 0., 1.],\n",
       "       [1., 1., 1., 1., 1.]])"
      ]
     },
     "execution_count": 9,
     "metadata": {},
     "output_type": "execute_result"
    }
   ],
   "source": [
    "c"
   ]
  },
  {
   "cell_type": "code",
   "execution_count": null,
   "id": "105b8914",
   "metadata": {},
   "outputs": [],
   "source": []
  }
 ],
 "metadata": {
  "kernelspec": {
   "display_name": "Python 3 (ipykernel)",
   "language": "python",
   "name": "python3"
  },
  "language_info": {
   "codemirror_mode": {
    "name": "ipython",
    "version": 3
   },
   "file_extension": ".py",
   "mimetype": "text/x-python",
   "name": "python",
   "nbconvert_exporter": "python",
   "pygments_lexer": "ipython3",
   "version": "3.8.12"
  }
 },
 "nbformat": 4,
 "nbformat_minor": 5
}
