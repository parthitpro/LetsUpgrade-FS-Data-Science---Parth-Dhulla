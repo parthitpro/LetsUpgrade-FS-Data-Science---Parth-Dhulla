{
 "cells": [
  {
   "cell_type": "markdown",
   "id": "e4de687a",
   "metadata": {},
   "source": [
    "Decorators in python\n",
    "\n"
   ]
  },
  {
   "cell_type": "markdown",
   "id": "c28102b7",
   "metadata": {},
   "source": [
    "A decorator takes in a function, adds some functionality and return it.\n",
    "\n",
    "\n",
    "Decorators are very powerful and useful tools in python since it allows programmers to modify the behaviour of function or class \n",
    "\n",
    "Decorators allow us to wrap another function in order to extend the behaviour of the wrapped function, without permanently modfing it."
   ]
  },
  {
   "cell_type": "code",
   "execution_count": 4,
   "id": "9d6b6f15",
   "metadata": {},
   "outputs": [],
   "source": [
    "def wel():\n",
    "    print('!! Welcome')"
   ]
  },
  {
   "cell_type": "code",
   "execution_count": 5,
   "id": "1e7d1460",
   "metadata": {},
   "outputs": [
    {
     "name": "stdout",
     "output_type": "stream",
     "text": [
      "!! Welcome\n"
     ]
    }
   ],
   "source": [
    "s=wel()"
   ]
  },
  {
   "cell_type": "code",
   "execution_count": 7,
   "id": "1a1eaf37",
   "metadata": {},
   "outputs": [
    {
     "name": "stdout",
     "output_type": "stream",
     "text": [
      "None\n"
     ]
    }
   ],
   "source": [
    "print(s)"
   ]
  },
  {
   "cell_type": "code",
   "execution_count": 8,
   "id": "427d6f7b",
   "metadata": {},
   "outputs": [],
   "source": [
    "def wel():\n",
    "    return'!! Welcome'"
   ]
  },
  {
   "cell_type": "code",
   "execution_count": 9,
   "id": "c03a3997",
   "metadata": {},
   "outputs": [],
   "source": [
    "s=wel()"
   ]
  },
  {
   "cell_type": "code",
   "execution_count": 10,
   "id": "2c226fe7",
   "metadata": {},
   "outputs": [
    {
     "data": {
      "text/plain": [
       "'!! Welcome'"
      ]
     },
     "execution_count": 10,
     "metadata": {},
     "output_type": "execute_result"
    }
   ],
   "source": [
    "s"
   ]
  },
  {
   "cell_type": "code",
   "execution_count": 12,
   "id": "4b3e8a9f",
   "metadata": {},
   "outputs": [],
   "source": [
    "del wel"
   ]
  },
  {
   "cell_type": "code",
   "execution_count": 13,
   "id": "f76b8188",
   "metadata": {},
   "outputs": [],
   "source": [
    "# wel"
   ]
  },
  {
   "cell_type": "code",
   "execution_count": null,
   "id": "9fe090e8",
   "metadata": {},
   "outputs": [],
   "source": []
  },
  {
   "cell_type": "code",
   "execution_count": null,
   "id": "f9e52b9f",
   "metadata": {},
   "outputs": [],
   "source": []
  },
  {
   "cell_type": "markdown",
   "id": "f1d73fbc",
   "metadata": {},
   "source": [
    "Closure : A function within a function\n",
    "\n",
    "    we can provide input in the main function and when we are defining the inner function, we can use the variabele "
   ]
  },
  {
   "cell_type": "code",
   "execution_count": 15,
   "id": "bd883ab5",
   "metadata": {},
   "outputs": [],
   "source": [
    "def main_message():\n",
    "    message ='Hello all'\n",
    "    \n",
    "    def sub_message():\n",
    "        print('welcome to my class')\n",
    "        print(message)\n",
    "        print('learn everyday')\n",
    "    return sub_message()"
   ]
  },
  {
   "cell_type": "code",
   "execution_count": 16,
   "id": "c6eada9d",
   "metadata": {},
   "outputs": [
    {
     "name": "stdout",
     "output_type": "stream",
     "text": [
      "welcome to my class\n",
      "Hello all\n",
      "learn everyday\n"
     ]
    }
   ],
   "source": [
    "main_message()"
   ]
  },
  {
   "cell_type": "code",
   "execution_count": 17,
   "id": "2a0681be",
   "metadata": {},
   "outputs": [],
   "source": [
    "def main_message(message):\n",
    "    def sub_message():\n",
    "        print(\"Welcome to my class\")\n",
    "        print(message)\n",
    "        print(\"Learn everyday\")\n",
    "    return sub_message()"
   ]
  },
  {
   "cell_type": "code",
   "execution_count": 19,
   "id": "f34e54ea",
   "metadata": {},
   "outputs": [
    {
     "name": "stdout",
     "output_type": "stream",
     "text": [
      "Welcome to my class\n",
      "Hello dude!!\n",
      "Learn everyday\n"
     ]
    }
   ],
   "source": [
    "main_message('Hello dude!!')"
   ]
  },
  {
   "cell_type": "code",
   "execution_count": 20,
   "id": "3a5110b8",
   "metadata": {},
   "outputs": [],
   "source": [
    "def main_message(function):\n",
    "    def sub_message():\n",
    "        print(\"Welcome to my class\")\n",
    "        function(\"ABC\")\n",
    "        print(\"Learn everyday\")\n",
    "    return sub_message()"
   ]
  },
  {
   "cell_type": "code",
   "execution_count": 21,
   "id": "ba9f6235",
   "metadata": {},
   "outputs": [
    {
     "name": "stdout",
     "output_type": "stream",
     "text": [
      "Welcome to my class\n",
      "Learn everyday\n"
     ]
    }
   ],
   "source": [
    "main_message(len)"
   ]
  },
  {
   "cell_type": "code",
   "execution_count": 32,
   "id": "44a3ddbe",
   "metadata": {},
   "outputs": [],
   "source": [
    "def main_message(function):\n",
    "    def sub_message():\n",
    "        print(\"Welcome to my class\")\n",
    "        print(function([2,3,5,63,2,5,5,9,1,5,6,7]))\n",
    "        print(\"Learn everyday\")\n",
    "    return sub_message()"
   ]
  },
  {
   "cell_type": "code",
   "execution_count": 33,
   "id": "763bd196",
   "metadata": {},
   "outputs": [
    {
     "name": "stdout",
     "output_type": "stream",
     "text": [
      "Welcome to my class\n",
      "12\n",
      "Learn everyday\n"
     ]
    }
   ],
   "source": [
    "main_message(len)"
   ]
  },
  {
   "cell_type": "code",
   "execution_count": 35,
   "id": "b9f5de2a",
   "metadata": {},
   "outputs": [],
   "source": [
    "# @main_message   ##### define a decorator \n",
    "# def class_name():\n",
    "#     print(\"This is Python batch 6\") "
   ]
  },
  {
   "cell_type": "code",
   "execution_count": 36,
   "id": "cc351df8",
   "metadata": {},
   "outputs": [],
   "source": [
    "lst1=[[1,2,3,4],[20,30,40,50]]\n",
    "lst2=lst1.copy()"
   ]
  },
  {
   "cell_type": "code",
   "execution_count": 37,
   "id": "93a853db",
   "metadata": {},
   "outputs": [
    {
     "data": {
      "text/plain": [
       "([[1, 2, 3, 4], [20, 30, 40, 50]], [[1, 2, 3, 4], [20, 30, 40, 50]])"
      ]
     },
     "execution_count": 37,
     "metadata": {},
     "output_type": "execute_result"
    }
   ],
   "source": [
    "lst1, lst2"
   ]
  },
  {
   "cell_type": "code",
   "execution_count": 38,
   "id": "d05f601e",
   "metadata": {},
   "outputs": [],
   "source": [
    "lst1[1][2]=5000"
   ]
  },
  {
   "cell_type": "code",
   "execution_count": 39,
   "id": "241fe708",
   "metadata": {},
   "outputs": [
    {
     "data": {
      "text/plain": [
       "([[1, 2, 3, 4], [20, 30, 5000, 50]], [[1, 2, 3, 4], [20, 30, 5000, 50]])"
      ]
     },
     "execution_count": 39,
     "metadata": {},
     "output_type": "execute_result"
    }
   ],
   "source": [
    "lst1, lst2"
   ]
  },
  {
   "cell_type": "code",
   "execution_count": 41,
   "id": "2666a2af",
   "metadata": {},
   "outputs": [],
   "source": [
    "import copy"
   ]
  },
  {
   "cell_type": "code",
   "execution_count": 43,
   "id": "46bae23d",
   "metadata": {},
   "outputs": [],
   "source": [
    "lst1=[15,92,48,36,89]\n",
    "lst2=copy.deepcopy(lst1)"
   ]
  },
  {
   "cell_type": "code",
   "execution_count": 44,
   "id": "0aa65a91",
   "metadata": {},
   "outputs": [],
   "source": [
    "lst2[1]=90"
   ]
  },
  {
   "cell_type": "code",
   "execution_count": 45,
   "id": "b9357d9f",
   "metadata": {},
   "outputs": [
    {
     "data": {
      "text/plain": [
       "[15, 90, 48, 36, 89]"
      ]
     },
     "execution_count": 45,
     "metadata": {},
     "output_type": "execute_result"
    }
   ],
   "source": [
    "lst2"
   ]
  },
  {
   "cell_type": "code",
   "execution_count": 46,
   "id": "36fe2fe3",
   "metadata": {},
   "outputs": [],
   "source": [
    "lst1=[[1,2,3], [3,4,5], [4,5,6]]\n",
    "lst2=copy.deepcopy(lst1)"
   ]
  },
  {
   "cell_type": "code",
   "execution_count": 47,
   "id": "a6b0b2f5",
   "metadata": {},
   "outputs": [
    {
     "data": {
      "text/plain": [
       "[[1, 2, 3], [3, 4, 5], [4, 5, 6]]"
      ]
     },
     "execution_count": 47,
     "metadata": {},
     "output_type": "execute_result"
    }
   ],
   "source": [
    "lst2"
   ]
  },
  {
   "cell_type": "code",
   "execution_count": 50,
   "id": "84d59802",
   "metadata": {},
   "outputs": [],
   "source": [
    "lst1[1][1]=60"
   ]
  },
  {
   "cell_type": "code",
   "execution_count": 51,
   "id": "972ec1f4",
   "metadata": {},
   "outputs": [
    {
     "data": {
      "text/plain": [
       "[[1, 2, 3], [3, 60, 5], [4, 5, 6]]"
      ]
     },
     "execution_count": 51,
     "metadata": {},
     "output_type": "execute_result"
    }
   ],
   "source": [
    "lst1"
   ]
  },
  {
   "cell_type": "code",
   "execution_count": null,
   "id": "a906226e",
   "metadata": {},
   "outputs": [],
   "source": []
  }
 ],
 "metadata": {
  "kernelspec": {
   "display_name": "Python 3 (ipykernel)",
   "language": "python",
   "name": "python3"
  },
  "language_info": {
   "codemirror_mode": {
    "name": "ipython",
    "version": 3
   },
   "file_extension": ".py",
   "mimetype": "text/x-python",
   "name": "python",
   "nbconvert_exporter": "python",
   "pygments_lexer": "ipython3",
   "version": "3.8.12"
  }
 },
 "nbformat": 4,
 "nbformat_minor": 5
}
