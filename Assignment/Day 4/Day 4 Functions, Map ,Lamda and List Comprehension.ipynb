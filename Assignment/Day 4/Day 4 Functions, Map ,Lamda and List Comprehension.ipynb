{
 "cells": [
  {
   "cell_type": "markdown",
   "id": "f3832ac0",
   "metadata": {},
   "source": [
    "Functions\n",
    "\n",
    "Introduction to functions\n",
    "\n",
    "A Function is a group of set of statements together to run the the statement more than onces. it allow us to specify parametre that can serve as input to the function\n",
    "\n",
    "Functions allow us to recuse the code instead of writing the code again and again. if you recall string and lists, remember that len() function is use to fins the length of a string .Since checking the length of a sequnce is a common task, you would want to write a function that can do this repeatedly at command.\n",
    "\n",
    "function is one of the most basic levels of reusing code in python , and it will also us to start thinking of program design."
   ]
  },
  {
   "cell_type": "code",
   "execution_count": 1,
   "id": "136ff53e",
   "metadata": {},
   "outputs": [],
   "source": [
    "def say_hello(name):\n",
    "    print('hello',name)\n",
    "    print('how do you do?')"
   ]
  },
  {
   "cell_type": "code",
   "execution_count": 2,
   "id": "a4c9853a",
   "metadata": {},
   "outputs": [
    {
     "name": "stdout",
     "output_type": "stream",
     "text": [
      "hello Aarthi\n",
      "how do you do?\n"
     ]
    }
   ],
   "source": [
    "say_hello('Aarthi')"
   ]
  },
  {
   "cell_type": "code",
   "execution_count": 3,
   "id": "1e6ca4a2",
   "metadata": {},
   "outputs": [],
   "source": [
    "def sum(x,y,z):\n",
    "    total =x+y+z\n",
    "    return total"
   ]
  },
  {
   "cell_type": "code",
   "execution_count": 4,
   "id": "8c8880c8",
   "metadata": {},
   "outputs": [
    {
     "data": {
      "text/plain": [
       "189"
      ]
     },
     "execution_count": 4,
     "metadata": {},
     "output_type": "execute_result"
    }
   ],
   "source": [
    "sum(51,52,86)"
   ]
  },
  {
   "cell_type": "code",
   "execution_count": 5,
   "id": "0de100b2",
   "metadata": {},
   "outputs": [
    {
     "name": "stdout",
     "output_type": "stream",
     "text": [
      "1\n",
      "2\n",
      "3\n",
      "4\n",
      "5\n"
     ]
    }
   ],
   "source": [
    "for i in [1,2,3,4,5]:\n",
    "    print(i)"
   ]
  },
  {
   "cell_type": "code",
   "execution_count": 6,
   "id": "08641d49",
   "metadata": {},
   "outputs": [
    {
     "name": "stdout",
     "output_type": "stream",
     "text": [
      "Total marks of 1st student  337\n",
      "Total marks of 1st student  365\n"
     ]
    }
   ],
   "source": [
    "marks1 =  [68,78,98,59,34]\n",
    "marks2 =  [77,67,57,88,76]\n",
    "\n",
    "total = 0\n",
    "\n",
    "for i in marks1:\n",
    "    total =total+i\n",
    "print('Total marks of 1st student ',total)\n",
    "\n",
    "total=0\n",
    "for i in marks2:\n",
    "    total=total+i\n",
    "print('Total marks of 1st student ',total)\n",
    "\n"
   ]
  },
  {
   "cell_type": "code",
   "execution_count": 7,
   "id": "74e6a78f",
   "metadata": {},
   "outputs": [],
   "source": [
    "def calcuate_total(marks):\n",
    "    total=0\n",
    "    for i in marks:\n",
    "        total=total+i\n",
    "    return total"
   ]
  },
  {
   "cell_type": "code",
   "execution_count": 8,
   "id": "c86501cf",
   "metadata": {},
   "outputs": [],
   "source": [
    "sum_of_marks1 = calcuate_total(marks1)"
   ]
  },
  {
   "cell_type": "code",
   "execution_count": 9,
   "id": "9985924e",
   "metadata": {},
   "outputs": [
    {
     "data": {
      "text/plain": [
       "337"
      ]
     },
     "execution_count": 9,
     "metadata": {},
     "output_type": "execute_result"
    }
   ],
   "source": [
    "sum_of_marks1"
   ]
  },
  {
   "cell_type": "code",
   "execution_count": 10,
   "id": "eb3ef562",
   "metadata": {},
   "outputs": [
    {
     "data": {
      "text/plain": [
       "365"
      ]
     },
     "execution_count": 10,
     "metadata": {},
     "output_type": "execute_result"
    }
   ],
   "source": [
    "sum_of_marks2 = calcuate_total(marks2)\n",
    "sum_of_marks2"
   ]
  },
  {
   "cell_type": "code",
   "execution_count": 11,
   "id": "fe673fb8",
   "metadata": {},
   "outputs": [],
   "source": [
    "def abso_value(num):\n",
    "    if num>=0:\n",
    "        return num\n",
    "    else:\n",
    "        return -num"
   ]
  },
  {
   "cell_type": "code",
   "execution_count": 12,
   "id": "33339e06",
   "metadata": {},
   "outputs": [
    {
     "name": "stdout",
     "output_type": "stream",
     "text": [
      "25\n"
     ]
    }
   ],
   "source": [
    "print(abso_value(-25))"
   ]
  },
  {
   "cell_type": "code",
   "execution_count": null,
   "id": "6a5496fb",
   "metadata": {},
   "outputs": [],
   "source": []
  },
  {
   "cell_type": "code",
   "execution_count": 13,
   "id": "d9670e63",
   "metadata": {},
   "outputs": [],
   "source": [
    "def hello(name, age=21):\n",
    "    print('My name is {} and my age is {}'.format(name,age))"
   ]
  },
  {
   "cell_type": "code",
   "execution_count": 14,
   "id": "efa5b349",
   "metadata": {},
   "outputs": [
    {
     "name": "stdout",
     "output_type": "stream",
     "text": [
      "My name is parth and my age is 25\n"
     ]
    }
   ],
   "source": [
    "hello('parth',25)"
   ]
  },
  {
   "cell_type": "code",
   "execution_count": 15,
   "id": "38090fcb",
   "metadata": {},
   "outputs": [],
   "source": [
    "def hello(*args,**kwargs):\n",
    "    print(args)\n",
    "    print(kwargs)"
   ]
  },
  {
   "cell_type": "code",
   "execution_count": 16,
   "id": "77119524",
   "metadata": {},
   "outputs": [
    {
     "name": "stdout",
     "output_type": "stream",
     "text": [
      "('meesho', 'Flipkart')\n",
      "{'age': 99, 'dob': 1909}\n"
     ]
    }
   ],
   "source": [
    "hello('meesho','Flipkart',age=99,dob=1909)"
   ]
  },
  {
   "cell_type": "code",
   "execution_count": 17,
   "id": "c3360fcb",
   "metadata": {},
   "outputs": [],
   "source": [
    "names=['parth','flipkart']\n",
    "dict_arg={'age':23,'dob':1977}"
   ]
  },
  {
   "cell_type": "code",
   "execution_count": 18,
   "id": "6c2b5b26",
   "metadata": {},
   "outputs": [
    {
     "name": "stdout",
     "output_type": "stream",
     "text": [
      "('parth', 'flipkart')\n",
      "{'age': 23, 'dob': 1977}\n"
     ]
    }
   ],
   "source": [
    "hello(*names,**dict_arg)"
   ]
  },
  {
   "cell_type": "code",
   "execution_count": 19,
   "id": "fd1f1d69",
   "metadata": {},
   "outputs": [
    {
     "data": {
      "text/plain": [
       "(234, 147)"
      ]
     },
     "execution_count": 19,
     "metadata": {},
     "output_type": "execute_result"
    }
   ],
   "source": [
    "list1= [12,44,56,33,56,8,58,57,57]\n",
    "\n",
    "def even_odd_sum(list):\n",
    "    even_sum= 0\n",
    "    odd_sum=0\n",
    "    \n",
    "    for i in list1:\n",
    "        if i%2==.0:\n",
    "            even_sum =even_sum+i\n",
    "        else:\n",
    "            odd_sum =odd_sum+i\n",
    "    return even_sum,odd_sum\n",
    "even_odd_sum(list1)"
   ]
  },
  {
   "cell_type": "code",
   "execution_count": null,
   "id": "f78dd118",
   "metadata": {},
   "outputs": [],
   "source": []
  },
  {
   "cell_type": "markdown",
   "id": "5da17000",
   "metadata": {},
   "source": [
    "Map function"
   ]
  },
  {
   "cell_type": "code",
   "execution_count": 20,
   "id": "93998e8b",
   "metadata": {},
   "outputs": [],
   "source": [
    "def even_odd(num):\n",
    "    if num%2==0:\n",
    "        return 'even'\n",
    "    else:\n",
    "        return 'odd'"
   ]
  },
  {
   "cell_type": "code",
   "execution_count": 21,
   "id": "9610dd6f",
   "metadata": {},
   "outputs": [
    {
     "data": {
      "text/plain": [
       "'even'"
      ]
     },
     "execution_count": 21,
     "metadata": {},
     "output_type": "execute_result"
    }
   ],
   "source": [
    "even_odd(84)"
   ]
  },
  {
   "cell_type": "code",
   "execution_count": 22,
   "id": "6a8bf2aa",
   "metadata": {},
   "outputs": [
    {
     "data": {
      "text/plain": [
       "[12, 44, 56, 33, 56, 8, 58, 57, 57]"
      ]
     },
     "execution_count": 22,
     "metadata": {},
     "output_type": "execute_result"
    }
   ],
   "source": [
    "list1"
   ]
  },
  {
   "cell_type": "code",
   "execution_count": 23,
   "id": "f20d1546",
   "metadata": {},
   "outputs": [
    {
     "data": {
      "text/plain": [
       "['even', 'even', 'even', 'odd', 'even', 'even', 'even', 'odd', 'odd']"
      ]
     },
     "execution_count": 23,
     "metadata": {},
     "output_type": "execute_result"
    }
   ],
   "source": [
    "list(map(even_odd, list1))"
   ]
  },
  {
   "cell_type": "code",
   "execution_count": null,
   "id": "4225636c",
   "metadata": {},
   "outputs": [],
   "source": []
  },
  {
   "cell_type": "markdown",
   "id": "1c880205",
   "metadata": {},
   "source": [
    "Lambda function-anoymous function"
   ]
  },
  {
   "cell_type": "code",
   "execution_count": 24,
   "id": "0c13a838",
   "metadata": {},
   "outputs": [
    {
     "data": {
      "text/plain": [
       "10"
      ]
     },
     "execution_count": 24,
     "metadata": {},
     "output_type": "execute_result"
    }
   ],
   "source": [
    "def add(a,b):\n",
    "    sum= a+b\n",
    "    return sum\n",
    "add(9,1)"
   ]
  },
  {
   "cell_type": "code",
   "execution_count": 25,
   "id": "26273f6c",
   "metadata": {},
   "outputs": [],
   "source": [
    "sum= lambda a,b:a+b"
   ]
  },
  {
   "cell_type": "code",
   "execution_count": 26,
   "id": "1ca027c6",
   "metadata": {},
   "outputs": [
    {
     "data": {
      "text/plain": [
       "97"
      ]
     },
     "execution_count": 26,
     "metadata": {},
     "output_type": "execute_result"
    }
   ],
   "source": [
    "sum(17,80)"
   ]
  },
  {
   "cell_type": "code",
   "execution_count": 27,
   "id": "d4f3a07e",
   "metadata": {},
   "outputs": [],
   "source": [
    "even =lambda n:n%2 ==0"
   ]
  },
  {
   "cell_type": "code",
   "execution_count": 28,
   "id": "be7cad0b",
   "metadata": {},
   "outputs": [
    {
     "data": {
      "text/plain": [
       "False"
      ]
     },
     "execution_count": 28,
     "metadata": {},
     "output_type": "execute_result"
    }
   ],
   "source": [
    "even(25)"
   ]
  },
  {
   "cell_type": "code",
   "execution_count": 29,
   "id": "4e964ec6",
   "metadata": {},
   "outputs": [
    {
     "data": {
      "text/plain": [
       "[8, 10, 12]"
      ]
     },
     "execution_count": 29,
     "metadata": {},
     "output_type": "execute_result"
    }
   ],
   "source": [
    "l1 = [1,2,3]\n",
    "l2 = [7,8,9]\n",
    "\n",
    "list(map(lambda x,y:x+y,l1,l2))"
   ]
  },
  {
   "cell_type": "code",
   "execution_count": 30,
   "id": "8ca5fab6",
   "metadata": {},
   "outputs": [],
   "source": [
    "lst1 = []\n",
    "def lst_sq(lst):\n",
    "    for i in lst:\n",
    "        lst1.append(i*i)\n",
    "        \n",
    "    return lst1"
   ]
  },
  {
   "cell_type": "code",
   "execution_count": 31,
   "id": "740678f3",
   "metadata": {},
   "outputs": [
    {
     "data": {
      "text/plain": [
       "[4, 9, 16]"
      ]
     },
     "execution_count": 31,
     "metadata": {},
     "output_type": "execute_result"
    }
   ],
   "source": [
    "lst_sq([2,3,4])"
   ]
  },
  {
   "cell_type": "code",
   "execution_count": 32,
   "id": "562b30d6",
   "metadata": {},
   "outputs": [
    {
     "name": "stdout",
     "output_type": "stream",
     "text": [
      "helo\n"
     ]
    }
   ],
   "source": [
    "print('helo')"
   ]
  },
  {
   "cell_type": "code",
   "execution_count": 33,
   "id": "c49de23a",
   "metadata": {},
   "outputs": [
    {
     "name": "stdout",
     "output_type": "stream",
     "text": [
      "[8, 12, 16]\n"
     ]
    }
   ],
   "source": [
    "lst = [2,3,4]\n",
    "lst1 = [i*4 for i in lst]\n",
    "print(lst1)"
   ]
  },
  {
   "cell_type": "code",
   "execution_count": 34,
   "id": "a8394737",
   "metadata": {},
   "outputs": [
    {
     "name": "stdout",
     "output_type": "stream",
     "text": [
      "[9]\n"
     ]
    }
   ],
   "source": [
    "lst2 =[i*i for i in lst if i%2!=0]\n",
    "print(lst2)"
   ]
  },
  {
   "cell_type": "code",
   "execution_count": 35,
   "id": "fa96e382",
   "metadata": {},
   "outputs": [
    {
     "data": {
      "text/plain": [
       "(192, 234)"
      ]
     },
     "execution_count": 35,
     "metadata": {},
     "output_type": "execute_result"
    }
   ],
   "source": [
    "lst=[41,85,96,47,32,6,58,61]\n",
    "\n",
    "def even_odd_sum(lst):\n",
    "    even_sum = 0\n",
    "    odd_sum = 0\n",
    "    \n",
    "    for i in lst:\n",
    "        if i%2==0:\n",
    "            even_sum = even_sum+i\n",
    "        else:\n",
    "            odd_sum = odd_sum+i\n",
    "    return even_sum, odd_sum\n",
    "\n",
    "even_odd_sum(lst)"
   ]
  },
  {
   "cell_type": "code",
   "execution_count": null,
   "id": "52f711d7",
   "metadata": {},
   "outputs": [],
   "source": []
  }
 ],
 "metadata": {
  "kernelspec": {
   "display_name": "Python 3 (ipykernel)",
   "language": "python",
   "name": "python3"
  },
  "language_info": {
   "codemirror_mode": {
    "name": "ipython",
    "version": 3
   },
   "file_extension": ".py",
   "mimetype": "text/x-python",
   "name": "python",
   "nbconvert_exporter": "python",
   "pygments_lexer": "ipython3",
   "version": "3.8.12"
  }
 },
 "nbformat": 4,
 "nbformat_minor": 5
}
