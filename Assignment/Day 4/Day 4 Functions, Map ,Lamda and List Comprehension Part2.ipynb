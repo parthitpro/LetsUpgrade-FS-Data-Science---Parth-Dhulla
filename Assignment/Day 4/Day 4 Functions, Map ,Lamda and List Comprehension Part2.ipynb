{
 "cells": [
  {
   "cell_type": "code",
   "execution_count": null,
   "id": "634c773c",
   "metadata": {},
   "outputs": [],
   "source": []
  },
  {
   "cell_type": "code",
   "execution_count": null,
   "id": "ff4ff54a",
   "metadata": {},
   "outputs": [],
   "source": []
  },
  {
   "cell_type": "code",
   "execution_count": 48,
   "id": "b1557909",
   "metadata": {},
   "outputs": [
    {
     "data": {
      "text/plain": [
       "240"
      ]
     },
     "execution_count": 48,
     "metadata": {},
     "output_type": "execute_result"
    }
   ],
   "source": [
    "## create 2 function to add (add_num())and multiply 2 numbers\n",
    "\n",
    "\n",
    "total=[]\n",
    "num2=[100,20,30,40,50]\n",
    "\n",
    "def add(num2):\n",
    "    total = 0\n",
    "    for i in num2:\n",
    "        total = total+i\n",
    "    return total\n",
    "add(num2)"
   ]
  },
  {
   "cell_type": "code",
   "execution_count": 49,
   "id": "d4380e8c",
   "metadata": {},
   "outputs": [
    {
     "data": {
      "text/plain": [
       "76.85714285714286"
      ]
     },
     "execution_count": 49,
     "metadata": {},
     "output_type": "execute_result"
    }
   ],
   "source": [
    "###write a function to cal the average marks.\n",
    "marks=[70,80,77,86,99,75,51]\n",
    "\n",
    "def avg(marks):\n",
    "    totalsub=len(marks)\n",
    "    avg=sum(marks)/totalsub\n",
    "    return avg\n",
    "avg(marks)"
   ]
  },
  {
   "cell_type": "code",
   "execution_count": 50,
   "id": "57a4c640",
   "metadata": {},
   "outputs": [],
   "source": [
    "avg=avg(marks)"
   ]
  },
  {
   "cell_type": "code",
   "execution_count": 51,
   "id": "9111dfcf",
   "metadata": {},
   "outputs": [
    {
     "name": "stdout",
     "output_type": "stream",
     "text": [
      "the grade is B\n",
      "76.85714285714286\n"
     ]
    }
   ],
   "source": [
    "\n",
    "###write a function to cal the grade of the students based on avg marks (if,elif,else)\n",
    "\n",
    "def grade(avg):\n",
    "    if avg>=90:\n",
    "        print('the grade is A+')\n",
    "    elif avg>80:\n",
    "        print('the grade is A')\n",
    "    elif avg>70:\n",
    "        print('the grade is B')\n",
    "    elif avg>60:\n",
    "        print('the grade is C')\n",
    "    elif avg>50:\n",
    "        print('the grade is D')\n",
    "    else:\n",
    "        print('E')\n",
    "grade(avg)\n",
    "print(avg)"
   ]
  },
  {
   "cell_type": "code",
   "execution_count": null,
   "id": "1b8c6339",
   "metadata": {},
   "outputs": [],
   "source": []
  }
 ],
 "metadata": {
  "kernelspec": {
   "display_name": "Python 3 (ipykernel)",
   "language": "python",
   "name": "python3"
  },
  "language_info": {
   "codemirror_mode": {
    "name": "ipython",
    "version": 3
   },
   "file_extension": ".py",
   "mimetype": "text/x-python",
   "name": "python",
   "nbconvert_exporter": "python",
   "pygments_lexer": "ipython3",
   "version": "3.8.12"
  }
 },
 "nbformat": 4,
 "nbformat_minor": 5
}
