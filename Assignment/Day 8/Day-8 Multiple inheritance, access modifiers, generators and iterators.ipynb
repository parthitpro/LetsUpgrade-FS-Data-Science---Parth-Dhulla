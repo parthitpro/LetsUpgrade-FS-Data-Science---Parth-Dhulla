{
 "cells": [
  {
   "cell_type": "markdown",
   "id": "1ad2f0b1",
   "metadata": {},
   "source": [
    "Multiple inhertances\n"
   ]
  },
  {
   "cell_type": "code",
   "execution_count": 1,
   "id": "9ebd8695",
   "metadata": {},
   "outputs": [],
   "source": [
    "class A:\n",
    "    def method1(self):\n",
    "        print('A class method')\n",
    "class B(A):\n",
    "    def method2(self):\n",
    "        print('B class method')\n",
    "class C(A):\n",
    "    def method3(self):\n",
    "        print('C class method')\n",
    "class D(B,C):\n",
    "    def method4(self):\n",
    "        print('D class method')"
   ]
  },
  {
   "cell_type": "code",
   "execution_count": 2,
   "id": "1a0aae17",
   "metadata": {},
   "outputs": [],
   "source": [
    "d=D()"
   ]
  },
  {
   "cell_type": "code",
   "execution_count": 3,
   "id": "2af6bbf9",
   "metadata": {},
   "outputs": [
    {
     "name": "stdout",
     "output_type": "stream",
     "text": [
      "A class method\n"
     ]
    }
   ],
   "source": [
    "d.method1()"
   ]
  },
  {
   "cell_type": "code",
   "execution_count": 4,
   "id": "1071a6a2",
   "metadata": {},
   "outputs": [
    {
     "name": "stdout",
     "output_type": "stream",
     "text": [
      "B class method\n"
     ]
    }
   ],
   "source": [
    "d.method2()"
   ]
  },
  {
   "cell_type": "code",
   "execution_count": 5,
   "id": "d90c693d",
   "metadata": {},
   "outputs": [
    {
     "name": "stdout",
     "output_type": "stream",
     "text": [
      "C class method\n"
     ]
    }
   ],
   "source": [
    "d.method3()"
   ]
  },
  {
   "cell_type": "code",
   "execution_count": 6,
   "id": "d84e0fde",
   "metadata": {},
   "outputs": [
    {
     "name": "stdout",
     "output_type": "stream",
     "text": [
      "D class method\n"
     ]
    }
   ],
   "source": [
    "d.method4()"
   ]
  },
  {
   "cell_type": "code",
   "execution_count": null,
   "id": "aa4e17d9",
   "metadata": {},
   "outputs": [],
   "source": []
  },
  {
   "cell_type": "code",
   "execution_count": 7,
   "id": "75c1808c",
   "metadata": {},
   "outputs": [],
   "source": [
    "class A:\n",
    "    def method1(self):\n",
    "        print(\"A class method\")\n",
    "class C(A):\n",
    "    def method1(self):\n",
    "        print('C class method')"
   ]
  },
  {
   "cell_type": "code",
   "execution_count": 8,
   "id": "c639bd95",
   "metadata": {},
   "outputs": [],
   "source": [
    "class D(B,C):\n",
    "    def method1(self):\n",
    "        print('D class method')\n",
    "        C.method1(self)\n",
    "        B.method1(self)\n",
    "        A.method1(self)"
   ]
  },
  {
   "cell_type": "code",
   "execution_count": 9,
   "id": "1731e088",
   "metadata": {},
   "outputs": [],
   "source": [
    "d=D()"
   ]
  },
  {
   "cell_type": "code",
   "execution_count": 10,
   "id": "44b092b4",
   "metadata": {},
   "outputs": [
    {
     "name": "stdout",
     "output_type": "stream",
     "text": [
      "D class method\n",
      "C class method\n",
      "A class method\n",
      "A class method\n"
     ]
    }
   ],
   "source": [
    "d.method1()"
   ]
  },
  {
   "cell_type": "code",
   "execution_count": 11,
   "id": "43fa87e5",
   "metadata": {},
   "outputs": [
    {
     "name": "stdout",
     "output_type": "stream",
     "text": [
      "B class method\n"
     ]
    }
   ],
   "source": [
    "d.method2()"
   ]
  },
  {
   "cell_type": "code",
   "execution_count": 12,
   "id": "3c1c173f",
   "metadata": {},
   "outputs": [
    {
     "name": "stdout",
     "output_type": "stream",
     "text": [
      "A class method\n"
     ]
    }
   ],
   "source": [
    "A.method1(d)"
   ]
  },
  {
   "cell_type": "code",
   "execution_count": null,
   "id": "1af0f0bf",
   "metadata": {},
   "outputs": [],
   "source": []
  },
  {
   "cell_type": "markdown",
   "id": "fbeb69d9",
   "metadata": {},
   "source": [
    "public\n",
    "protected \n",
    "private\n",
    "\n",
    "\n",
    "self.name= public\n",
    "\n",
    "self._name= protected\n",
    "\n",
    "\n",
    "self.__name= private"
   ]
  },
  {
   "cell_type": "code",
   "execution_count": 13,
   "id": "387964cc",
   "metadata": {},
   "outputs": [],
   "source": [
    "class LU:\n",
    "    def __init__(self, name, age, roll):\n",
    "        self._name = name\n",
    "        self._age = age\n",
    "        self._roll = roll\n",
    "\n",
    "class batch(LU):\n",
    "    def __init__(self, name, age, roll, rank):\n",
    "        super().__init__(name, age, roll)\n",
    "        self.rank = rank"
   ]
  },
  {
   "cell_type": "code",
   "execution_count": 14,
   "id": "ef3d7134",
   "metadata": {},
   "outputs": [],
   "source": [
    "b = batch(\"pihu\", 60, 1001, 9)"
   ]
  },
  {
   "cell_type": "code",
   "execution_count": 15,
   "id": "f3284a77",
   "metadata": {},
   "outputs": [
    {
     "data": {
      "text/plain": [
       "60"
      ]
     },
     "execution_count": 15,
     "metadata": {},
     "output_type": "execute_result"
    }
   ],
   "source": [
    "b._age"
   ]
  },
  {
   "cell_type": "code",
   "execution_count": 16,
   "id": "7833a88b",
   "metadata": {},
   "outputs": [],
   "source": [
    "b._age=31"
   ]
  },
  {
   "cell_type": "code",
   "execution_count": 17,
   "id": "2c42e355",
   "metadata": {},
   "outputs": [
    {
     "data": {
      "text/plain": [
       "31"
      ]
     },
     "execution_count": 17,
     "metadata": {},
     "output_type": "execute_result"
    }
   ],
   "source": [
    "b._age"
   ]
  },
  {
   "cell_type": "code",
   "execution_count": 18,
   "id": "880dc2d9",
   "metadata": {},
   "outputs": [],
   "source": [
    "class LU:\n",
    "    def __init__(self, name, age, roll):\n",
    "        self.__name = name\n",
    "        self.__age = age\n",
    "        self.__roll = roll"
   ]
  },
  {
   "cell_type": "code",
   "execution_count": 19,
   "id": "5e6ef7ae",
   "metadata": {},
   "outputs": [],
   "source": [
    "s=LU(\"Mia\", 24, 1898)"
   ]
  },
  {
   "cell_type": "code",
   "execution_count": 20,
   "id": "06c01d0f",
   "metadata": {},
   "outputs": [
    {
     "data": {
      "text/plain": [
       "24"
      ]
     },
     "execution_count": 20,
     "metadata": {},
     "output_type": "execute_result"
    }
   ],
   "source": [
    "s._LU__age"
   ]
  },
  {
   "cell_type": "code",
   "execution_count": 21,
   "id": "54366121",
   "metadata": {},
   "outputs": [],
   "source": [
    "s._LU__age=28"
   ]
  },
  {
   "cell_type": "code",
   "execution_count": 22,
   "id": "95aae62b",
   "metadata": {},
   "outputs": [
    {
     "data": {
      "text/plain": [
       "28"
      ]
     },
     "execution_count": 22,
     "metadata": {},
     "output_type": "execute_result"
    }
   ],
   "source": [
    "s._LU__age"
   ]
  },
  {
   "cell_type": "code",
   "execution_count": 23,
   "id": "3737dd0d",
   "metadata": {},
   "outputs": [
    {
     "name": "stdout",
     "output_type": "stream",
     "text": [
      "5,59,6,4,6,9,6,4,9,4,"
     ]
    }
   ],
   "source": [
    "lst  = [5,59,6,4,6,9,6,4,9,4]\n",
    "for i in lst:\n",
    "    print(i,end=',')"
   ]
  },
  {
   "cell_type": "code",
   "execution_count": 24,
   "id": "35f4c401",
   "metadata": {},
   "outputs": [
    {
     "data": {
      "text/plain": [
       "<list_iterator at 0x15009a56520>"
      ]
     },
     "execution_count": 24,
     "metadata": {},
     "output_type": "execute_result"
    }
   ],
   "source": [
    "iter(lst)"
   ]
  },
  {
   "cell_type": "code",
   "execution_count": 25,
   "id": "cd925500",
   "metadata": {},
   "outputs": [],
   "source": [
    "iterabe = iter(lst)"
   ]
  },
  {
   "cell_type": "code",
   "execution_count": 26,
   "id": "bba486d4",
   "metadata": {},
   "outputs": [],
   "source": [
    "rev =reversed(lst)"
   ]
  },
  {
   "cell_type": "code",
   "execution_count": 27,
   "id": "df37d939",
   "metadata": {},
   "outputs": [
    {
     "name": "stdout",
     "output_type": "stream",
     "text": [
      "<list_reverseiterator object at 0x0000015009A56430>\n"
     ]
    }
   ],
   "source": [
    "print(rev)"
   ]
  },
  {
   "cell_type": "code",
   "execution_count": 28,
   "id": "f460addb",
   "metadata": {},
   "outputs": [
    {
     "data": {
      "text/plain": [
       "4"
      ]
     },
     "execution_count": 28,
     "metadata": {},
     "output_type": "execute_result"
    }
   ],
   "source": [
    "next(rev)"
   ]
  },
  {
   "cell_type": "code",
   "execution_count": 29,
   "id": "f39127b8",
   "metadata": {},
   "outputs": [
    {
     "name": "stdout",
     "output_type": "stream",
     "text": [
      "5\n"
     ]
    }
   ],
   "source": [
    "try:\n",
    "    print(next(iterabe))\n",
    "except StopIteration:\n",
    "    print('the list is empty')"
   ]
  },
  {
   "cell_type": "code",
   "execution_count": 30,
   "id": "7eea287f",
   "metadata": {},
   "outputs": [],
   "source": [
    "def cube(n):\n",
    "    for i in range(n):\n",
    "        return  i**3"
   ]
  },
  {
   "cell_type": "code",
   "execution_count": 31,
   "id": "4571cd6d",
   "metadata": {},
   "outputs": [
    {
     "data": {
      "text/plain": [
       "0"
      ]
     },
     "execution_count": 31,
     "metadata": {},
     "output_type": "execute_result"
    }
   ],
   "source": [
    "cube(6)"
   ]
  },
  {
   "cell_type": "code",
   "execution_count": 32,
   "id": "648c308c",
   "metadata": {},
   "outputs": [],
   "source": [
    "def cube(n):\n",
    "    for i in range(n):\n",
    "        print( i**3)"
   ]
  },
  {
   "cell_type": "code",
   "execution_count": 33,
   "id": "8f99f208",
   "metadata": {},
   "outputs": [
    {
     "name": "stdout",
     "output_type": "stream",
     "text": [
      "0\n",
      "1\n",
      "8\n",
      "27\n",
      "64\n",
      "125\n"
     ]
    }
   ],
   "source": [
    "cube(6)"
   ]
  },
  {
   "cell_type": "code",
   "execution_count": 34,
   "id": "a6947ebc",
   "metadata": {},
   "outputs": [],
   "source": [
    "def cube(n):\n",
    "    for i in range(n):\n",
    "        yield i**3"
   ]
  },
  {
   "cell_type": "code",
   "execution_count": 35,
   "id": "ab91110b",
   "metadata": {},
   "outputs": [
    {
     "data": {
      "text/plain": [
       "<generator object cube at 0x0000015009A7E820>"
      ]
     },
     "execution_count": 35,
     "metadata": {},
     "output_type": "execute_result"
    }
   ],
   "source": [
    "cube(6)"
   ]
  },
  {
   "cell_type": "code",
   "execution_count": 36,
   "id": "25174158",
   "metadata": {},
   "outputs": [
    {
     "name": "stdout",
     "output_type": "stream",
     "text": [
      "0\n",
      "1\n",
      "8\n",
      "27\n",
      "64\n",
      "125\n"
     ]
    }
   ],
   "source": [
    "for i in cube(6):\n",
    "    print(i)"
   ]
  },
  {
   "cell_type": "code",
   "execution_count": 37,
   "id": "8a20c534",
   "metadata": {},
   "outputs": [
    {
     "name": "stdout",
     "output_type": "stream",
     "text": [
      "0 1 1 2 3 5 8 13 21 34 55 89 144 233 377 "
     ]
    }
   ],
   "source": [
    "def fib():\n",
    "    x,y=0,1\n",
    "    while True:\n",
    "        yield x\n",
    "        x,y =y,x+y\n",
    "for i in fib():\n",
    "    if i>500:\n",
    "        break\n",
    "    print(i,end=' ')"
   ]
  },
  {
   "cell_type": "code",
   "execution_count": 38,
   "id": "9ffd27e5",
   "metadata": {},
   "outputs": [],
   "source": [
    "def rev_str(my_str):\n",
    "    length = len(my_str)\n",
    "    for i in range(length-1, -1,-1):\n",
    "        yield my_str[i]"
   ]
  },
  {
   "cell_type": "code",
   "execution_count": 39,
   "id": "3f637893",
   "metadata": {},
   "outputs": [
    {
     "name": "stdout",
     "output_type": "stream",
     "text": [
      "r e t s a M c i n o S "
     ]
    }
   ],
   "source": [
    "for i in rev_str('SonicMaster'):\n",
    "    print(i,end=' ')\n"
   ]
  }
 ],
 "metadata": {
  "kernelspec": {
   "display_name": "Python 3 (ipykernel)",
   "language": "python",
   "name": "python3"
  },
  "language_info": {
   "codemirror_mode": {
    "name": "ipython",
    "version": 3
   },
   "file_extension": ".py",
   "mimetype": "text/x-python",
   "name": "python",
   "nbconvert_exporter": "python",
   "pygments_lexer": "ipython3",
   "version": "3.8.12"
  }
 },
 "nbformat": 4,
 "nbformat_minor": 5
}
