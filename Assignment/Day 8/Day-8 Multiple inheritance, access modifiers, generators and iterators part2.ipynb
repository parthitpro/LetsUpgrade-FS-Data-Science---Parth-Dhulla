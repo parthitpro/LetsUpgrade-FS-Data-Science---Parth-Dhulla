{
 "cells": [
  {
   "cell_type": "markdown",
   "id": "3b92796f",
   "metadata": {},
   "source": [
    "Create a generator to find out the sum of squares of numbers in fibonacci seq\n",
    "\n"
   ]
  },
  {
   "cell_type": "code",
   "execution_count": 1,
   "id": "4db13e25",
   "metadata": {},
   "outputs": [],
   "source": [
    "d=[]\n",
    "def fiboo(n):\n",
    "#     d=[]\n",
    "    a,b=0,1\n",
    "    for i in range(n):\n",
    "        d.append(a)\n",
    "#         print(a)\n",
    "        z=a+b\n",
    "        a=z\n",
    "        b=a\n",
    "#     print(d)\n",
    "#     lst1= [x**2 for x in d]  \n",
    "#     print('The sum of suare of numbers in fibonacci seq',lst1)\n",
    "#     print('The total sum of all number are',sum(lst1))\n",
    "    \n",
    "    gen=(x**2 for x in d)\n",
    "    next(gen)\n",
    "    print('The total sum of all number square are',sum(gen))"
   ]
  },
  {
   "cell_type": "code",
   "execution_count": 2,
   "id": "e5556cdf",
   "metadata": {},
   "outputs": [
    {
     "name": "stdout",
     "output_type": "stream",
     "text": [
      "The total sum of all number square are 87381\n"
     ]
    }
   ],
   "source": [
    "fiboo(10)"
   ]
  },
  {
   "cell_type": "code",
   "execution_count": null,
   "id": "fe808b62",
   "metadata": {},
   "outputs": [],
   "source": []
  }
 ],
 "metadata": {
  "kernelspec": {
   "display_name": "Python 3 (ipykernel)",
   "language": "python",
   "name": "python3"
  },
  "language_info": {
   "codemirror_mode": {
    "name": "ipython",
    "version": 3
   },
   "file_extension": ".py",
   "mimetype": "text/x-python",
   "name": "python",
   "nbconvert_exporter": "python",
   "pygments_lexer": "ipython3",
   "version": "3.8.12"
  }
 },
 "nbformat": 4,
 "nbformat_minor": 5
}
