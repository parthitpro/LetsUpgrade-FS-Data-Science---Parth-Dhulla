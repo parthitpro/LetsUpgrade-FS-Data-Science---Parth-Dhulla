{
 "cells": [
  {
   "cell_type": "markdown",
   "id": "429b1b4c",
   "metadata": {},
   "source": [
    "Enumerator\n",
    "\n",
    "-List -iterable (itearble through values in a list)"
   ]
  },
  {
   "cell_type": "code",
   "execution_count": null,
   "id": "c1e0b33c",
   "metadata": {},
   "outputs": [],
   "source": [
    "lst =[2,5,7,6,7,5]\n",
    "for i in lst:\n",
    "    print(i)"
   ]
  },
  {
   "cell_type": "code",
   "execution_count": null,
   "id": "e635693b",
   "metadata": {},
   "outputs": [],
   "source": [
    "tesr_line = [5,6,7,8,9,41,2,5]\n",
    "\n",
    "res=[]\n",
    "for index, ele in enumerate(tesr_line):\n",
    "    if ele %2 ==0:\n",
    "        res.append(index)\n",
    "        print(index,ele)"
   ]
  },
  {
   "cell_type": "code",
   "execution_count": null,
   "id": "0d2a9c2e",
   "metadata": {},
   "outputs": [],
   "source": [
    "list(enumerate(tesr_line))"
   ]
  },
  {
   "cell_type": "code",
   "execution_count": null,
   "id": "0e26f454",
   "metadata": {},
   "outputs": [],
   "source": [
    "for i,a in enumerate(tesr_line):\n",
    "    print(i,a)"
   ]
  },
  {
   "cell_type": "code",
   "execution_count": null,
   "id": "124a2599",
   "metadata": {},
   "outputs": [],
   "source": [
    "lt= ['eat','sleep','repeat']\n",
    "for e in enumerate(lt):\n",
    "    print(e)"
   ]
  },
  {
   "cell_type": "code",
   "execution_count": null,
   "id": "837a0b45",
   "metadata": {},
   "outputs": [],
   "source": [
    "language = ['python','java','javascript']\n",
    "\n",
    "enumerate_p = enumerate(language)\n",
    "\n",
    "print(list(enumerate_p))"
   ]
  },
  {
   "cell_type": "code",
   "execution_count": null,
   "id": "d4789925",
   "metadata": {},
   "outputs": [],
   "source": []
  },
  {
   "cell_type": "markdown",
   "id": "15cdf5a8",
   "metadata": {},
   "source": [
    "ITER\n",
    "\n",
    "\n",
    "Iterator"
   ]
  },
  {
   "cell_type": "code",
   "execution_count": null,
   "id": "cb170e34",
   "metadata": {},
   "outputs": [],
   "source": [
    "list(iter(language))"
   ]
  },
  {
   "cell_type": "code",
   "execution_count": null,
   "id": "d8eb599a",
   "metadata": {},
   "outputs": [],
   "source": [
    "lst1=iter(language)"
   ]
  },
  {
   "cell_type": "code",
   "execution_count": null,
   "id": "f646e8fa",
   "metadata": {},
   "outputs": [],
   "source": [
    "print(list(lst1))"
   ]
  },
  {
   "cell_type": "code",
   "execution_count": null,
   "id": "8e699a0c",
   "metadata": {},
   "outputs": [],
   "source": [
    "next(lst1)"
   ]
  },
  {
   "cell_type": "code",
   "execution_count": null,
   "id": "01398b25",
   "metadata": {},
   "outputs": [],
   "source": [
    "next(lst1)"
   ]
  },
  {
   "cell_type": "code",
   "execution_count": null,
   "id": "081adda8",
   "metadata": {},
   "outputs": [],
   "source": [
    "next(lst1)"
   ]
  },
  {
   "cell_type": "code",
   "execution_count": null,
   "id": "e9bc6cef",
   "metadata": {},
   "outputs": [],
   "source": [
    "# next(lst1) elements in the list are initialized one at a time"
   ]
  },
  {
   "cell_type": "code",
   "execution_count": null,
   "id": "5b73aef3",
   "metadata": {},
   "outputs": [],
   "source": []
  },
  {
   "cell_type": "markdown",
   "id": "036e5786",
   "metadata": {},
   "source": [
    "String Formating"
   ]
  },
  {
   "cell_type": "code",
   "execution_count": null,
   "id": "1038e7b1",
   "metadata": {},
   "outputs": [],
   "source": [
    "def yellow(name):\n",
    "    print('hello my name is',name)"
   ]
  },
  {
   "cell_type": "code",
   "execution_count": null,
   "id": "00d516f0",
   "metadata": {},
   "outputs": [],
   "source": [
    "yellow('Parth')"
   ]
  },
  {
   "cell_type": "code",
   "execution_count": null,
   "id": "4b72cc6f",
   "metadata": {},
   "outputs": [],
   "source": [
    "def gret(name):\n",
    "    return 'hello {}, welcome to world'.format(name)\n",
    "gret(\"piyush\")"
   ]
  },
  {
   "cell_type": "code",
   "execution_count": null,
   "id": "1f479f3d",
   "metadata": {},
   "outputs": [],
   "source": [
    "def welcome_email(name,age):\n",
    "    return 'My name is {} and my age is{}'.format(name,age)"
   ]
  },
  {
   "cell_type": "code",
   "execution_count": null,
   "id": "866a9fc4",
   "metadata": {},
   "outputs": [],
   "source": [
    "welcome_email('Rinku',45)"
   ]
  },
  {
   "cell_type": "code",
   "execution_count": null,
   "id": "087190b5",
   "metadata": {},
   "outputs": [],
   "source": [
    "welcome_email('sunny',49)"
   ]
  },
  {
   "cell_type": "code",
   "execution_count": null,
   "id": "c84e20ce",
   "metadata": {},
   "outputs": [],
   "source": []
  },
  {
   "cell_type": "markdown",
   "id": "c16253af",
   "metadata": {},
   "source": [
    "Class in python2"
   ]
  },
  {
   "cell_type": "markdown",
   "id": "363e7b54",
   "metadata": {},
   "source": [
    "\n",
    "Class - Has two entities: -properties,\n",
    "                           -methods\n",
    "                           \n",
    "class - Abstraction of some entities that contain common set of properties (attributes) \n",
    "      - methods (activities in real world)\n",
    "\n",
    "\n",
    "\n",
    "Object - specific instance of a class\n",
    "\n",
    "- behavior varies, gender varies, occupation varies\n"
   ]
  },
  {
   "cell_type": "code",
   "execution_count": null,
   "id": "a9b27782",
   "metadata": {},
   "outputs": [],
   "source": [
    "class Human:\n",
    "    def __init__(self):\n",
    "        self.name=''\n",
    "        self.occupation=''\n",
    "# Properties of the class 'Human'"
   ]
  },
  {
   "cell_type": "code",
   "execution_count": null,
   "id": "6636d209",
   "metadata": {},
   "outputs": [],
   "source": [
    "class Human:\n",
    "    def __init__(self,n,o):\n",
    "        self.name=n\n",
    "        self.occupation=o\n",
    "    def our_work(self):\n",
    "        if self.occupation=='play':\n",
    "            print(self.name,'play badminton')\n",
    "        elif self.occupation=='Artist':\n",
    "            print(self.name,'draw art')\n",
    "    def speaks(self):\n",
    "        print(self.name,'says how are you?')"
   ]
  },
  {
   "cell_type": "code",
   "execution_count": null,
   "id": "23ae344e",
   "metadata": {},
   "outputs": [],
   "source": [
    "# creating an instances\n",
    "\n",
    "tom=Human('Jenny','play')\n",
    "print(tom)"
   ]
  },
  {
   "cell_type": "code",
   "execution_count": null,
   "id": "8ee5dd38",
   "metadata": {},
   "outputs": [],
   "source": [
    "tom.name"
   ]
  },
  {
   "cell_type": "code",
   "execution_count": null,
   "id": "046c8a6b",
   "metadata": {},
   "outputs": [],
   "source": [
    "tom.occupation"
   ]
  },
  {
   "cell_type": "code",
   "execution_count": null,
   "id": "b5a4bfcf",
   "metadata": {},
   "outputs": [],
   "source": [
    "tom.our_work()"
   ]
  },
  {
   "cell_type": "code",
   "execution_count": null,
   "id": "2be7df1d",
   "metadata": {},
   "outputs": [],
   "source": [
    "tom.speaks()"
   ]
  },
  {
   "cell_type": "code",
   "execution_count": null,
   "id": "962ca577",
   "metadata": {},
   "outputs": [],
   "source": [
    "jerry = Human('cat','Artist')"
   ]
  },
  {
   "cell_type": "code",
   "execution_count": null,
   "id": "44d3d4a5",
   "metadata": {},
   "outputs": [],
   "source": [
    "jerry.name"
   ]
  },
  {
   "cell_type": "code",
   "execution_count": null,
   "id": "3f9a531b",
   "metadata": {},
   "outputs": [],
   "source": [
    "jerry.occupation"
   ]
  },
  {
   "cell_type": "code",
   "execution_count": null,
   "id": "cf7cde10",
   "metadata": {},
   "outputs": [],
   "source": [
    "jerry.our_work()"
   ]
  },
  {
   "cell_type": "code",
   "execution_count": null,
   "id": "5b5df33f",
   "metadata": {},
   "outputs": [],
   "source": [
    "jerry.speaks()"
   ]
  },
  {
   "cell_type": "code",
   "execution_count": null,
   "id": "700f09a3",
   "metadata": {},
   "outputs": [],
   "source": [
    "class car:\n",
    "    pass"
   ]
  },
  {
   "cell_type": "code",
   "execution_count": null,
   "id": "7b56b817",
   "metadata": {},
   "outputs": [],
   "source": [
    "car1= car()\n",
    "## object/intance called car1"
   ]
  },
  {
   "cell_type": "code",
   "execution_count": null,
   "id": "1d95533a",
   "metadata": {},
   "outputs": [],
   "source": [
    "type(car1)"
   ]
  },
  {
   "cell_type": "code",
   "execution_count": null,
   "id": "9a4cd969",
   "metadata": {},
   "outputs": [],
   "source": [
    "car1"
   ]
  },
  {
   "cell_type": "code",
   "execution_count": null,
   "id": "f83a4e3f",
   "metadata": {},
   "outputs": [],
   "source": [
    "car1.windows= 5\n",
    "car1.doors=4"
   ]
  },
  {
   "cell_type": "code",
   "execution_count": null,
   "id": "3d263190",
   "metadata": {},
   "outputs": [],
   "source": [
    "print(car1.doors)"
   ]
  },
  {
   "cell_type": "code",
   "execution_count": null,
   "id": "0961e6eb",
   "metadata": {},
   "outputs": [],
   "source": [
    "print(car1.windows)"
   ]
  },
  {
   "cell_type": "code",
   "execution_count": null,
   "id": "d2e568df",
   "metadata": {},
   "outputs": [],
   "source": [
    "car2=car()"
   ]
  },
  {
   "cell_type": "code",
   "execution_count": null,
   "id": "96252b4a",
   "metadata": {},
   "outputs": [],
   "source": [
    "car2.windows=6"
   ]
  },
  {
   "cell_type": "code",
   "execution_count": null,
   "id": "db3a3ac3",
   "metadata": {},
   "outputs": [],
   "source": [
    "print(car2.windows)"
   ]
  },
  {
   "cell_type": "code",
   "execution_count": null,
   "id": "28f83600",
   "metadata": {},
   "outputs": [],
   "source": [
    "class car:\n",
    "    def __init__(self,windows,doors,enginetype):\n",
    "        self.windows =windows\n",
    "        self.doors=doors\n",
    "        self.enginetype=enginetype"
   ]
  },
  {
   "cell_type": "code",
   "execution_count": null,
   "id": "537f70da",
   "metadata": {},
   "outputs": [],
   "source": [
    "car1= car(6,4,'petrol')"
   ]
  },
  {
   "cell_type": "code",
   "execution_count": null,
   "id": "d34a39b6",
   "metadata": {},
   "outputs": [],
   "source": [
    "car1.doors"
   ]
  },
  {
   "cell_type": "code",
   "execution_count": null,
   "id": "5b747818",
   "metadata": {},
   "outputs": [],
   "source": [
    "car1.enginetype"
   ]
  },
  {
   "cell_type": "code",
   "execution_count": null,
   "id": "82472114",
   "metadata": {},
   "outputs": [],
   "source": [
    "car1.windows"
   ]
  },
  {
   "cell_type": "code",
   "execution_count": null,
   "id": "77376301",
   "metadata": {},
   "outputs": [],
   "source": [
    "dir(car)"
   ]
  },
  {
   "cell_type": "code",
   "execution_count": null,
   "id": "c833712f",
   "metadata": {},
   "outputs": [],
   "source": [
    "dir(car2)"
   ]
  },
  {
   "cell_type": "code",
   "execution_count": null,
   "id": "06f2acb5",
   "metadata": {},
   "outputs": [],
   "source": []
  },
  {
   "cell_type": "markdown",
   "id": "36052d35",
   "metadata": {},
   "source": [
    "Modules"
   ]
  },
  {
   "cell_type": "code",
   "execution_count": null,
   "id": "420b4c81",
   "metadata": {},
   "outputs": [],
   "source": [
    "import math"
   ]
  },
  {
   "cell_type": "code",
   "execution_count": null,
   "id": "5c14c7a2",
   "metadata": {},
   "outputs": [],
   "source": [
    "math.sqrt(415)"
   ]
  },
  {
   "cell_type": "code",
   "execution_count": null,
   "id": "58c882e2",
   "metadata": {},
   "outputs": [],
   "source": [
    "math.pow(2215,6)"
   ]
  },
  {
   "cell_type": "code",
   "execution_count": null,
   "id": "4b97345e",
   "metadata": {},
   "outputs": [],
   "source": [
    "math.atan(47)"
   ]
  },
  {
   "cell_type": "code",
   "execution_count": null,
   "id": "4cce8395",
   "metadata": {},
   "outputs": [],
   "source": [
    "math.pi"
   ]
  },
  {
   "cell_type": "code",
   "execution_count": null,
   "id": "b7a2b8e6",
   "metadata": {},
   "outputs": [],
   "source": [
    "import calendar as cal"
   ]
  },
  {
   "cell_type": "code",
   "execution_count": null,
   "id": "4292ce28",
   "metadata": {},
   "outputs": [],
   "source": [
    "c =cal.month(2022,2)"
   ]
  },
  {
   "cell_type": "code",
   "execution_count": null,
   "id": "d0867932",
   "metadata": {},
   "outputs": [],
   "source": [
    "print(c)"
   ]
  },
  {
   "cell_type": "code",
   "execution_count": null,
   "id": "ee525614",
   "metadata": {},
   "outputs": [],
   "source": [
    "cal.isleap(2024)"
   ]
  },
  {
   "cell_type": "code",
   "execution_count": null,
   "id": "e6eb8249",
   "metadata": {},
   "outputs": [],
   "source": []
  }
 ],
 "metadata": {
  "kernelspec": {
   "display_name": "Python 3 (ipykernel)",
   "language": "python",
   "name": "python3"
  },
  "language_info": {
   "codemirror_mode": {
    "name": "ipython",
    "version": 3
   },
   "file_extension": ".py",
   "mimetype": "text/x-python",
   "name": "python",
   "nbconvert_exporter": "python",
   "pygments_lexer": "ipython3",
   "version": "3.8.12"
  }
 },
 "nbformat": 4,
 "nbformat_minor": 5
}
