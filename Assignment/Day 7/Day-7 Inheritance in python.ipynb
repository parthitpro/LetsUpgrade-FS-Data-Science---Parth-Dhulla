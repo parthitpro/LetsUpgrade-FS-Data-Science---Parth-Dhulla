{
 "cells": [
  {
   "cell_type": "markdown",
   "id": "e0fd9ed0",
   "metadata": {},
   "source": [
    "Inheritances\n",
    "\n",
    "when a child class (derived class) iherit the properites of a parent classs (base clamss)"
   ]
  },
  {
   "cell_type": "code",
   "execution_count": 1,
   "id": "b44dc70f",
   "metadata": {},
   "outputs": [],
   "source": [
    "class parent:\n",
    "    def function1(self):\n",
    "        print(\"This is a parent function\")\n",
    "class child(parent):\n",
    "    def function2(self):\n",
    "        print(\"This is a child cfunction\")"
   ]
  },
  {
   "cell_type": "code",
   "execution_count": 2,
   "id": "cb77e03e",
   "metadata": {},
   "outputs": [
    {
     "name": "stdout",
     "output_type": "stream",
     "text": [
      "This is a parent function\n"
     ]
    }
   ],
   "source": [
    "c =child()\n",
    "c.function1()"
   ]
  },
  {
   "cell_type": "code",
   "execution_count": 3,
   "id": "c396aa71",
   "metadata": {},
   "outputs": [
    {
     "name": "stdout",
     "output_type": "stream",
     "text": [
      "This is a child cfunction\n"
     ]
    }
   ],
   "source": [
    "c.function2()"
   ]
  },
  {
   "cell_type": "code",
   "execution_count": null,
   "id": "81e41696",
   "metadata": {},
   "outputs": [],
   "source": []
  },
  {
   "cell_type": "code",
   "execution_count": 4,
   "id": "65970d64",
   "metadata": {},
   "outputs": [],
   "source": [
    "class animals:\n",
    "    def eat(self):\n",
    "        print('I can eat')\n",
    "class cat(animals):\n",
    "    def grumy(self):\n",
    "        print('I am grumpy')\n",
    "class Dog(animals):\n",
    "    def bark(self):\n",
    "        print('I bark')"
   ]
  },
  {
   "cell_type": "code",
   "execution_count": 5,
   "id": "b8010a87",
   "metadata": {},
   "outputs": [],
   "source": [
    "dog1= Dog()"
   ]
  },
  {
   "cell_type": "code",
   "execution_count": 6,
   "id": "310cf745",
   "metadata": {},
   "outputs": [
    {
     "name": "stdout",
     "output_type": "stream",
     "text": [
      "I bark\n",
      "I can eat\n"
     ]
    }
   ],
   "source": [
    "dog1.bark()\n",
    "dog1.eat()"
   ]
  },
  {
   "cell_type": "code",
   "execution_count": 7,
   "id": "5a1e9b59",
   "metadata": {},
   "outputs": [],
   "source": [
    "cat1= cat()"
   ]
  },
  {
   "cell_type": "code",
   "execution_count": 8,
   "id": "e0524f6f",
   "metadata": {},
   "outputs": [
    {
     "name": "stdout",
     "output_type": "stream",
     "text": [
      "I can eat\n",
      "I am grumpy\n"
     ]
    }
   ],
   "source": [
    "cat1.eat()\n",
    "cat1.grumy()"
   ]
  },
  {
   "cell_type": "code",
   "execution_count": null,
   "id": "f3a35997",
   "metadata": {},
   "outputs": [],
   "source": []
  },
  {
   "cell_type": "markdown",
   "id": "faf88752",
   "metadata": {},
   "source": [
    "__init__ function:\n",
    "    \n",
    "init function is called automatically everytime the class is used to create a object"
   ]
  },
  {
   "cell_type": "code",
   "execution_count": 5,
   "id": "689c2e51",
   "metadata": {},
   "outputs": [],
   "source": [
    "class polygon:\n",
    "    def __init__(self, sides):\n",
    "        self.sides= sides\n",
    "    def display_info(self):\n",
    "        print('A polygon is a 2d with straight Lines')\n",
    "    def get_perimetre(self):\n",
    "        perimetre =sum(self.sides)\n",
    "        return perimetre\n",
    "    \n",
    "class triangle(polygon):\n",
    "    def display_info(self):\n",
    "        print(\"A triangle has 3-sides\")\n",
    "\n",
    "class quadrilatral(polygon):\n",
    "    def display_info(info):\n",
    "        print('A quadrilateral has 4-sides')"
   ]
  },
  {
   "cell_type": "code",
   "execution_count": 7,
   "id": "cb2a413d",
   "metadata": {},
   "outputs": [],
   "source": [
    "t=triangle([5,6,8])"
   ]
  },
  {
   "cell_type": "code",
   "execution_count": 8,
   "id": "fb8368e0",
   "metadata": {},
   "outputs": [
    {
     "name": "stdout",
     "output_type": "stream",
     "text": [
      "A triangle has 3-sides\n"
     ]
    }
   ],
   "source": [
    "t.display_info()"
   ]
  },
  {
   "cell_type": "code",
   "execution_count": 9,
   "id": "5e17aee0",
   "metadata": {},
   "outputs": [
    {
     "data": {
      "text/plain": [
       "19"
      ]
     },
     "execution_count": 9,
     "metadata": {},
     "output_type": "execute_result"
    }
   ],
   "source": [
    "t.get_perimetre()"
   ]
  },
  {
   "cell_type": "code",
   "execution_count": 11,
   "id": "8e5aff5e",
   "metadata": {},
   "outputs": [
    {
     "name": "stdout",
     "output_type": "stream",
     "text": [
      "A quadrilateral has 4-sides\n"
     ]
    },
    {
     "data": {
      "text/plain": [
       "23"
      ]
     },
     "execution_count": 11,
     "metadata": {},
     "output_type": "execute_result"
    }
   ],
   "source": [
    "q=quadrilatral([4,5,9,5])\n",
    "q.display_info()\n",
    "q.get_perimetre()"
   ]
  },
  {
   "cell_type": "code",
   "execution_count": 13,
   "id": "bf3aadca",
   "metadata": {},
   "outputs": [],
   "source": [
    "# method overriding"
   ]
  },
  {
   "cell_type": "markdown",
   "id": "da792387",
   "metadata": {},
   "source": [
    "it can be achieved to change the functionality of parent class function"
   ]
  },
  {
   "cell_type": "code",
   "execution_count": null,
   "id": "6bc53e43",
   "metadata": {},
   "outputs": [],
   "source": []
  },
  {
   "cell_type": "markdown",
   "id": "2899e29c",
   "metadata": {},
   "source": [
    "Types of Inheritances\n",
    "\n",
    "\n",
    "    1. Single -invloes 1 child class and 1 parent class\n",
    "    2. Multiple -invloes more than 1 parent class\n",
    "    3. Multi-level -child class acts as a parent class for another child class\n",
    "    4. Hierarical -more than 2 derived classes from a single base class\n",
    "    5.hybrid - more than 1 type of inhertances"
   ]
  },
  {
   "cell_type": "code",
   "execution_count": 14,
   "id": "a36272f6",
   "metadata": {},
   "outputs": [],
   "source": [
    "class Parent:\n",
    "    def fn1(self):\n",
    "        print('This is function1')\n",
    "\n",
    "class parent2(parent):\n",
    "    def fn3(self):\n",
    "        print('This is function3')\n",
    "        \n",
    "class parent3(parent):\n",
    "    def fn4(self):\n",
    "        print('this is function4')\n",
    "        \n",
    "class child(parent2):\n",
    "    def fn2(self):\n",
    "        print('This is functions2')"
   ]
  },
  {
   "cell_type": "code",
   "execution_count": 15,
   "id": "13f4545b",
   "metadata": {},
   "outputs": [],
   "source": [
    "ob=child()"
   ]
  },
  {
   "cell_type": "code",
   "execution_count": 16,
   "id": "f85ec1c1",
   "metadata": {},
   "outputs": [
    {
     "name": "stdout",
     "output_type": "stream",
     "text": [
      "This is functions2\n"
     ]
    }
   ],
   "source": [
    "ob.fn2()"
   ]
  },
  {
   "cell_type": "code",
   "execution_count": 17,
   "id": "77491899",
   "metadata": {},
   "outputs": [],
   "source": [
    "class car:\n",
    "    def __init__(self,windows,doors,engine):\n",
    "        self.windows= windows\n",
    "        self.doors = doors\n",
    "        self.engine =engine\n",
    "    def drive(self):\n",
    "        print('I love driving')\n",
    "\n",
    "class lg(car):\n",
    "    def __init__(self,windows,doors,engine,voice):\n",
    "        self.voice= voice\n",
    "    def selfdriving(self):\n",
    "        print('Lg suggots auto-driving')"
   ]
  },
  {
   "cell_type": "code",
   "execution_count": 18,
   "id": "21d03164",
   "metadata": {},
   "outputs": [],
   "source": [
    "lg= lg(4,4,'petrol','zoo')"
   ]
  },
  {
   "cell_type": "code",
   "execution_count": 19,
   "id": "1cc7868e",
   "metadata": {},
   "outputs": [
    {
     "name": "stdout",
     "output_type": "stream",
     "text": [
      "I love driving\n"
     ]
    }
   ],
   "source": [
    "lg.drive()"
   ]
  },
  {
   "cell_type": "code",
   "execution_count": 20,
   "id": "36759cbf",
   "metadata": {},
   "outputs": [
    {
     "name": "stdout",
     "output_type": "stream",
     "text": [
      "Lg suggots auto-driving\n"
     ]
    }
   ],
   "source": [
    "lg.selfdriving()"
   ]
  },
  {
   "cell_type": "code",
   "execution_count": 21,
   "id": "a2fa37ee",
   "metadata": {},
   "outputs": [
    {
     "data": {
      "text/plain": [
       "'zoo'"
      ]
     },
     "execution_count": 21,
     "metadata": {},
     "output_type": "execute_result"
    }
   ],
   "source": [
    "lg.voice"
   ]
  },
  {
   "cell_type": "code",
   "execution_count": null,
   "id": "48a38369",
   "metadata": {},
   "outputs": [],
   "source": []
  }
 ],
 "metadata": {
  "kernelspec": {
   "display_name": "Python 3 (ipykernel)",
   "language": "python",
   "name": "python3"
  },
  "language_info": {
   "codemirror_mode": {
    "name": "ipython",
    "version": 3
   },
   "file_extension": ".py",
   "mimetype": "text/x-python",
   "name": "python",
   "nbconvert_exporter": "python",
   "pygments_lexer": "ipython3",
   "version": "3.8.12"
  }
 },
 "nbformat": 4,
 "nbformat_minor": 5
}
