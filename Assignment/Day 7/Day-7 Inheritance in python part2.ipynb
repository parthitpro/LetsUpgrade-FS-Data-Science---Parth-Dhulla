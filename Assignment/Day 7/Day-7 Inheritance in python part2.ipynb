{
 "cells": [
  {
   "cell_type": "markdown",
   "id": "98f8e87b",
   "metadata": {},
   "source": [
    "Try this: \n",
    "\n",
    "1. Create a parent class called 'person' and define with attributes like name, empid...create a child class called 'employee' with added features like designation, salary etc...create a object variable for the child class and call any of the function defined under parent class 'person' "
   ]
  },
  {
   "cell_type": "code",
   "execution_count": 41,
   "id": "b2679642",
   "metadata": {},
   "outputs": [],
   "source": [
    "class parent:\n",
    "    def __init__(self,name,empid):\n",
    "        self.name= name\n",
    "        self.empid = empid\n",
    "    \n",
    "class employee(parent):\n",
    "    def __init__(self,name,empid,designation,salary):\n",
    "        self.name=name\n",
    "        self.designation= designation\n",
    "        self.salary=salary\n",
    "        self.empid=empid"
   ]
  },
  {
   "cell_type": "code",
   "execution_count": 42,
   "id": "f57c0515",
   "metadata": {},
   "outputs": [],
   "source": [
    "emp0=employee('Parth','20','Hr',60)"
   ]
  },
  {
   "cell_type": "code",
   "execution_count": 43,
   "id": "530c9f9b",
   "metadata": {},
   "outputs": [
    {
     "data": {
      "text/plain": [
       "'Hr'"
      ]
     },
     "execution_count": 43,
     "metadata": {},
     "output_type": "execute_result"
    }
   ],
   "source": [
    "emp0.designation"
   ]
  },
  {
   "cell_type": "code",
   "execution_count": 44,
   "id": "0e97aaf9",
   "metadata": {},
   "outputs": [
    {
     "data": {
      "text/plain": [
       "60"
      ]
     },
     "execution_count": 44,
     "metadata": {},
     "output_type": "execute_result"
    }
   ],
   "source": [
    "emp0.salary"
   ]
  },
  {
   "cell_type": "code",
   "execution_count": 45,
   "id": "8acf595d",
   "metadata": {},
   "outputs": [
    {
     "data": {
      "text/plain": [
       "'20'"
      ]
     },
     "execution_count": 45,
     "metadata": {},
     "output_type": "execute_result"
    }
   ],
   "source": [
    "emp0.empid"
   ]
  },
  {
   "cell_type": "code",
   "execution_count": 46,
   "id": "8bcbdfdf",
   "metadata": {},
   "outputs": [
    {
     "data": {
      "text/plain": [
       "'Parth'"
      ]
     },
     "execution_count": 46,
     "metadata": {},
     "output_type": "execute_result"
    }
   ],
   "source": [
    "emp0.name"
   ]
  },
  {
   "cell_type": "code",
   "execution_count": null,
   "id": "8eb30ca8",
   "metadata": {},
   "outputs": [],
   "source": []
  }
 ],
 "metadata": {
  "kernelspec": {
   "display_name": "Python 3 (ipykernel)",
   "language": "python",
   "name": "python3"
  },
  "language_info": {
   "codemirror_mode": {
    "name": "ipython",
    "version": 3
   },
   "file_extension": ".py",
   "mimetype": "text/x-python",
   "name": "python",
   "nbconvert_exporter": "python",
   "pygments_lexer": "ipython3",
   "version": "3.8.12"
  }
 },
 "nbformat": 4,
 "nbformat_minor": 5
}
