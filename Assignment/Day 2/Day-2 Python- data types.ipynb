{
 "cells": [
  {
   "cell_type": "markdown",
   "id": "259e711c",
   "metadata": {},
   "source": [
    "String Function"
   ]
  },
  {
   "cell_type": "code",
   "execution_count": 1,
   "id": "dd778aaa",
   "metadata": {},
   "outputs": [
    {
     "data": {
      "text/plain": [
       "'hello'"
      ]
     },
     "execution_count": 1,
     "metadata": {},
     "output_type": "execute_result"
    }
   ],
   "source": [
    "s= 'hello'\n",
    "s"
   ]
  },
  {
   "cell_type": "code",
   "execution_count": 2,
   "id": "9b028f68",
   "metadata": {},
   "outputs": [
    {
     "data": {
      "text/plain": [
       "'l'"
      ]
     },
     "execution_count": 2,
     "metadata": {},
     "output_type": "execute_result"
    }
   ],
   "source": [
    "s[2]"
   ]
  },
  {
   "cell_type": "code",
   "execution_count": 6,
   "id": "bcd3f87c",
   "metadata": {},
   "outputs": [
    {
     "name": "stdout",
     "output_type": "stream",
     "text": [
      "h\n",
      "e\n",
      "l\n",
      "l\n",
      "o\n"
     ]
    }
   ],
   "source": [
    "for i in s:\n",
    "    print(i)"
   ]
  },
  {
   "cell_type": "code",
   "execution_count": 7,
   "id": "f48868b6",
   "metadata": {},
   "outputs": [
    {
     "data": {
      "text/plain": [
       "'HELLO'"
      ]
     },
     "execution_count": 7,
     "metadata": {},
     "output_type": "execute_result"
    }
   ],
   "source": [
    "s.upper()"
   ]
  },
  {
   "cell_type": "code",
   "execution_count": 8,
   "id": "6e9e30a4",
   "metadata": {},
   "outputs": [
    {
     "data": {
      "text/plain": [
       "['This', 'is', 'my', 'class']"
      ]
     },
     "execution_count": 8,
     "metadata": {},
     "output_type": "execute_result"
    }
   ],
   "source": [
    "'This is my class ' .split()"
   ]
  },
  {
   "cell_type": "code",
   "execution_count": 16,
   "id": "e7e0fcc8",
   "metadata": {},
   "outputs": [
    {
     "data": {
      "text/plain": [
       "['this is my ', ' class efef']"
      ]
     },
     "execution_count": 16,
     "metadata": {},
     "output_type": "execute_result"
    }
   ],
   "source": [
    "'this is my / class efef'.split('/')"
   ]
  },
  {
   "cell_type": "code",
   "execution_count": 12,
   "id": "c5477f7b",
   "metadata": {},
   "outputs": [
    {
     "data": {
      "text/plain": [
       "['this is my class']"
      ]
     },
     "execution_count": 12,
     "metadata": {},
     "output_type": "execute_result"
    }
   ],
   "source": [
    "s"
   ]
  },
  {
   "cell_type": "code",
   "execution_count": 17,
   "id": "c1fa5c80",
   "metadata": {},
   "outputs": [
    {
     "data": {
      "text/plain": [
       "['this is my / cl', 'ss efef']"
      ]
     },
     "execution_count": 17,
     "metadata": {},
     "output_type": "execute_result"
    }
   ],
   "source": [
    "'this is my / class efef'.split('a')"
   ]
  },
  {
   "cell_type": "code",
   "execution_count": 19,
   "id": "f54a854b",
   "metadata": {},
   "outputs": [],
   "source": [
    "record = '711204, kolkata, India'.split(',')"
   ]
  },
  {
   "cell_type": "code",
   "execution_count": 20,
   "id": "ba68557f",
   "metadata": {},
   "outputs": [],
   "source": [
    "pin = record[0]"
   ]
  },
  {
   "cell_type": "code",
   "execution_count": 21,
   "id": "6b9cd499",
   "metadata": {},
   "outputs": [],
   "source": [
    "city= record[1]\n",
    "country=record[2]"
   ]
  },
  {
   "cell_type": "code",
   "execution_count": 22,
   "id": "f4d9e464",
   "metadata": {},
   "outputs": [
    {
     "data": {
      "text/plain": [
       "'711204'"
      ]
     },
     "execution_count": 22,
     "metadata": {},
     "output_type": "execute_result"
    }
   ],
   "source": [
    "pin"
   ]
  },
  {
   "cell_type": "code",
   "execution_count": 23,
   "id": "495e0e10",
   "metadata": {},
   "outputs": [
    {
     "data": {
      "text/plain": [
       "' kolkata'"
      ]
     },
     "execution_count": 23,
     "metadata": {},
     "output_type": "execute_result"
    }
   ],
   "source": [
    "city"
   ]
  },
  {
   "cell_type": "code",
   "execution_count": 24,
   "id": "aec5c37e",
   "metadata": {},
   "outputs": [
    {
     "data": {
      "text/plain": [
       "' India'"
      ]
     },
     "execution_count": 24,
     "metadata": {},
     "output_type": "execute_result"
    }
   ],
   "source": [
    "country"
   ]
  },
  {
   "cell_type": "code",
   "execution_count": 26,
   "id": "6d0165c4",
   "metadata": {},
   "outputs": [],
   "source": [
    "a = ' hello '\n",
    "b = 'world'"
   ]
  },
  {
   "cell_type": "code",
   "execution_count": 27,
   "id": "a7815b76",
   "metadata": {},
   "outputs": [
    {
     "data": {
      "text/plain": [
       "' hello world'"
      ]
     },
     "execution_count": 27,
     "metadata": {},
     "output_type": "execute_result"
    }
   ],
   "source": [
    "a+ str(b)"
   ]
  },
  {
   "cell_type": "code",
   "execution_count": 28,
   "id": "e9a0501a",
   "metadata": {},
   "outputs": [
    {
     "name": "stdout",
     "output_type": "stream",
     "text": [
      " hello  world\n"
     ]
    }
   ],
   "source": [
    "print(\" \".join([a,b]))"
   ]
  },
  {
   "cell_type": "code",
   "execution_count": 30,
   "id": "6b692d20",
   "metadata": {},
   "outputs": [
    {
     "data": {
      "text/plain": [
       "' hello  world'"
      ]
     },
     "execution_count": 30,
     "metadata": {},
     "output_type": "execute_result"
    }
   ],
   "source": [
    "a+' '+b"
   ]
  },
  {
   "cell_type": "markdown",
   "id": "7f3a93c4",
   "metadata": {},
   "source": [
    "Texting"
   ]
  },
  {
   "cell_type": "code",
   "execution_count": 31,
   "id": "3bebb984",
   "metadata": {},
   "outputs": [
    {
     "data": {
      "text/plain": [
       "'c'"
      ]
     },
     "execution_count": 31,
     "metadata": {},
     "output_type": "execute_result"
    }
   ],
   "source": [
    "text= 'Ice-cream'\n",
    "text[-5]"
   ]
  },
  {
   "cell_type": "code",
   "execution_count": 32,
   "id": "9324795b",
   "metadata": {},
   "outputs": [
    {
     "data": {
      "text/plain": [
       "'m'"
      ]
     },
     "execution_count": 32,
     "metadata": {},
     "output_type": "execute_result"
    }
   ],
   "source": [
    "text[-1]"
   ]
  },
  {
   "cell_type": "code",
   "execution_count": 33,
   "id": "91af7985",
   "metadata": {},
   "outputs": [
    {
     "data": {
      "text/plain": [
       "'Ice-cream'"
      ]
     },
     "execution_count": 33,
     "metadata": {},
     "output_type": "execute_result"
    }
   ],
   "source": [
    "text[:]"
   ]
  },
  {
   "cell_type": "code",
   "execution_count": 34,
   "id": "75526d0f",
   "metadata": {},
   "outputs": [
    {
     "data": {
      "text/plain": [
       "'e'"
      ]
     },
     "execution_count": 34,
     "metadata": {},
     "output_type": "execute_result"
    }
   ],
   "source": [
    "text[-3]"
   ]
  },
  {
   "cell_type": "code",
   "execution_count": 35,
   "id": "68030ab3",
   "metadata": {},
   "outputs": [
    {
     "data": {
      "text/plain": [
       "'Ice-cr'"
      ]
     },
     "execution_count": 35,
     "metadata": {},
     "output_type": "execute_result"
    }
   ],
   "source": [
    "text[0:-3]"
   ]
  },
  {
   "cell_type": "code",
   "execution_count": 36,
   "id": "e3c237a3",
   "metadata": {},
   "outputs": [
    {
     "data": {
      "text/plain": [
       "'Ice-cre'"
      ]
     },
     "execution_count": 36,
     "metadata": {},
     "output_type": "execute_result"
    }
   ],
   "source": [
    "text[:7]"
   ]
  },
  {
   "cell_type": "markdown",
   "id": "4da1741d",
   "metadata": {},
   "source": [
    "List"
   ]
  },
  {
   "cell_type": "code",
   "execution_count": 73,
   "id": "c0e12e6d",
   "metadata": {},
   "outputs": [],
   "source": [
    "num= [12,23,45,77,80,92]"
   ]
  },
  {
   "cell_type": "code",
   "execution_count": 74,
   "id": "c2e05b0b",
   "metadata": {},
   "outputs": [],
   "source": [
    "num.append(40)"
   ]
  },
  {
   "cell_type": "code",
   "execution_count": 75,
   "id": "83eab3ce",
   "metadata": {},
   "outputs": [
    {
     "data": {
      "text/plain": [
       "[12, 23, 45, 77, 80, 92, 40]"
      ]
     },
     "execution_count": 75,
     "metadata": {},
     "output_type": "execute_result"
    }
   ],
   "source": [
    "num"
   ]
  },
  {
   "cell_type": "code",
   "execution_count": 76,
   "id": "d24065d5",
   "metadata": {},
   "outputs": [],
   "source": [
    "num.extend([90,31])"
   ]
  },
  {
   "cell_type": "code",
   "execution_count": 77,
   "id": "4639b59a",
   "metadata": {},
   "outputs": [
    {
     "data": {
      "text/plain": [
       "[12, 23, 45, 77, 80, 92, 40, 90, 31]"
      ]
     },
     "execution_count": 77,
     "metadata": {},
     "output_type": "execute_result"
    }
   ],
   "source": [
    "num"
   ]
  },
  {
   "cell_type": "code",
   "execution_count": 78,
   "id": "e9b1accb",
   "metadata": {},
   "outputs": [],
   "source": [
    "num.insert(2,78)"
   ]
  },
  {
   "cell_type": "code",
   "execution_count": 79,
   "id": "1b42d490",
   "metadata": {},
   "outputs": [
    {
     "data": {
      "text/plain": [
       "[12, 23, 78, 45, 77, 80, 92, 40, 90, 31]"
      ]
     },
     "execution_count": 79,
     "metadata": {},
     "output_type": "execute_result"
    }
   ],
   "source": [
    "num"
   ]
  },
  {
   "cell_type": "code",
   "execution_count": 80,
   "id": "17ac3729",
   "metadata": {},
   "outputs": [],
   "source": [
    "num.remove(31)"
   ]
  },
  {
   "cell_type": "code",
   "execution_count": 81,
   "id": "5524cfda",
   "metadata": {},
   "outputs": [
    {
     "data": {
      "text/plain": [
       "[12, 23, 78, 45, 77, 80, 92, 40, 90]"
      ]
     },
     "execution_count": 81,
     "metadata": {},
     "output_type": "execute_result"
    }
   ],
   "source": [
    "num"
   ]
  },
  {
   "cell_type": "code",
   "execution_count": 82,
   "id": "08f4aaae",
   "metadata": {},
   "outputs": [],
   "source": [
    "num.reverse()"
   ]
  },
  {
   "cell_type": "code",
   "execution_count": 83,
   "id": "46ad7370",
   "metadata": {},
   "outputs": [
    {
     "data": {
      "text/plain": [
       "[90, 40, 92, 80, 77, 45, 78, 23, 12]"
      ]
     },
     "execution_count": 83,
     "metadata": {},
     "output_type": "execute_result"
    }
   ],
   "source": [
    "num"
   ]
  },
  {
   "cell_type": "code",
   "execution_count": 84,
   "id": "48fbfe32",
   "metadata": {},
   "outputs": [],
   "source": [
    "num.sort()"
   ]
  },
  {
   "cell_type": "code",
   "execution_count": 85,
   "id": "2b39e72e",
   "metadata": {},
   "outputs": [
    {
     "data": {
      "text/plain": [
       "[12, 23, 40, 45, 77, 78, 80, 90, 92]"
      ]
     },
     "execution_count": 85,
     "metadata": {},
     "output_type": "execute_result"
    }
   ],
   "source": [
    "num"
   ]
  },
  {
   "cell_type": "code",
   "execution_count": 86,
   "id": "f77e12ad",
   "metadata": {},
   "outputs": [
    {
     "data": {
      "text/plain": [
       "92"
      ]
     },
     "execution_count": 86,
     "metadata": {},
     "output_type": "execute_result"
    }
   ],
   "source": [
    "num.pop()"
   ]
  },
  {
   "cell_type": "code",
   "execution_count": 87,
   "id": "b5752b95",
   "metadata": {},
   "outputs": [],
   "source": [
    "# del num[1:]"
   ]
  },
  {
   "cell_type": "code",
   "execution_count": 92,
   "id": "be579a9e",
   "metadata": {},
   "outputs": [
    {
     "data": {
      "text/plain": [
       "[12, 23, 40, 45, 77, 78, 80, 90]"
      ]
     },
     "execution_count": 92,
     "metadata": {},
     "output_type": "execute_result"
    }
   ],
   "source": [
    "num"
   ]
  },
  {
   "cell_type": "code",
   "execution_count": 93,
   "id": "3be5d24f",
   "metadata": {},
   "outputs": [
    {
     "data": {
      "text/plain": [
       "445"
      ]
     },
     "execution_count": 93,
     "metadata": {},
     "output_type": "execute_result"
    }
   ],
   "source": [
    "sum(num)"
   ]
  },
  {
   "cell_type": "code",
   "execution_count": 95,
   "id": "1f180234",
   "metadata": {},
   "outputs": [
    {
     "data": {
      "text/plain": [
       "12"
      ]
     },
     "execution_count": 95,
     "metadata": {},
     "output_type": "execute_result"
    }
   ],
   "source": [
    "min(num)"
   ]
  },
  {
   "cell_type": "code",
   "execution_count": 96,
   "id": "a60a17bf",
   "metadata": {},
   "outputs": [
    {
     "data": {
      "text/plain": [
       "90"
      ]
     },
     "execution_count": 96,
     "metadata": {},
     "output_type": "execute_result"
    }
   ],
   "source": [
    "max(num)"
   ]
  },
  {
   "cell_type": "code",
   "execution_count": 98,
   "id": "0b154a4e",
   "metadata": {},
   "outputs": [],
   "source": [
    "name= ['Jenny','umar','melon']\n",
    "values= [19.6,'home','40']\n"
   ]
  },
  {
   "cell_type": "code",
   "execution_count": 100,
   "id": "c51255bf",
   "metadata": {},
   "outputs": [],
   "source": [
    "misc= [name,values]"
   ]
  },
  {
   "cell_type": "code",
   "execution_count": 101,
   "id": "32379960",
   "metadata": {},
   "outputs": [
    {
     "data": {
      "text/plain": [
       "[['Jenny', 'umar', 'melon'], [19.6, 'home', '40']]"
      ]
     },
     "execution_count": 101,
     "metadata": {},
     "output_type": "execute_result"
    }
   ],
   "source": [
    "misc"
   ]
  },
  {
   "cell_type": "code",
   "execution_count": 104,
   "id": "4518e12e",
   "metadata": {},
   "outputs": [
    {
     "data": {
      "text/plain": [
       "'home'"
      ]
     },
     "execution_count": 104,
     "metadata": {},
     "output_type": "execute_result"
    }
   ],
   "source": [
    "misc[1][1]"
   ]
  },
  {
   "cell_type": "code",
   "execution_count": 105,
   "id": "51431b1f",
   "metadata": {},
   "outputs": [
    {
     "data": {
      "text/plain": [
       "'40'"
      ]
     },
     "execution_count": 105,
     "metadata": {},
     "output_type": "execute_result"
    }
   ],
   "source": [
    "misc[1][2]"
   ]
  },
  {
   "cell_type": "code",
   "execution_count": 106,
   "id": "7fe1518e",
   "metadata": {},
   "outputs": [
    {
     "data": {
      "text/plain": [
       "'umar'"
      ]
     },
     "execution_count": 106,
     "metadata": {},
     "output_type": "execute_result"
    }
   ],
   "source": [
    "misc[0][1]"
   ]
  },
  {
   "cell_type": "markdown",
   "id": "8d473d9b",
   "metadata": {},
   "source": [
    "Sets"
   ]
  },
  {
   "cell_type": "code",
   "execution_count": 107,
   "id": "fdd46344",
   "metadata": {},
   "outputs": [],
   "source": [
    "a= {1,3,2,4,5,8,6,4,10,36,5,2}"
   ]
  },
  {
   "cell_type": "code",
   "execution_count": 108,
   "id": "b2e8067d",
   "metadata": {},
   "outputs": [
    {
     "data": {
      "text/plain": [
       "set"
      ]
     },
     "execution_count": 108,
     "metadata": {},
     "output_type": "execute_result"
    }
   ],
   "source": [
    "type(a)"
   ]
  },
  {
   "cell_type": "code",
   "execution_count": 109,
   "id": "ab3f2945",
   "metadata": {},
   "outputs": [
    {
     "data": {
      "text/plain": [
       "{1, 2, 3, 4, 5, 6, 8, 10, 36}"
      ]
     },
     "execution_count": 109,
     "metadata": {},
     "output_type": "execute_result"
    }
   ],
   "source": [
    "a"
   ]
  },
  {
   "cell_type": "code",
   "execution_count": 111,
   "id": "a00bee88",
   "metadata": {},
   "outputs": [
    {
     "data": {
      "text/plain": [
       "{1, 2, 3, 4, 5, 6, 8, 10, 36}"
      ]
     },
     "execution_count": 111,
     "metadata": {},
     "output_type": "execute_result"
    }
   ],
   "source": [
    "a"
   ]
  },
  {
   "cell_type": "code",
   "execution_count": 115,
   "id": "d01169d3",
   "metadata": {},
   "outputs": [
    {
     "data": {
      "text/plain": [
       "{'fb', 'hulk', 'iron', 'string'}"
      ]
     },
     "execution_count": 115,
     "metadata": {},
     "output_type": "execute_result"
    }
   ],
   "source": [
    "movies = {'hulk','iron','fb'}\n",
    "movies.add('string')\n",
    "movies"
   ]
  },
  {
   "cell_type": "code",
   "execution_count": 117,
   "id": "616cb027",
   "metadata": {},
   "outputs": [],
   "source": [
    "set1 = {'a','b','c'}\n",
    "set2 = {'a','b','c','d','e'}\n"
   ]
  },
  {
   "cell_type": "code",
   "execution_count": 118,
   "id": "8582598c",
   "metadata": {},
   "outputs": [
    {
     "data": {
      "text/plain": [
       "{'d', 'e'}"
      ]
     },
     "execution_count": 118,
     "metadata": {},
     "output_type": "execute_result"
    }
   ],
   "source": [
    "set2.difference(set1)"
   ]
  },
  {
   "cell_type": "code",
   "execution_count": 119,
   "id": "e6ca747b",
   "metadata": {},
   "outputs": [],
   "source": [
    "set2.difference_update(set1)"
   ]
  },
  {
   "cell_type": "code",
   "execution_count": 120,
   "id": "01f0bad9",
   "metadata": {},
   "outputs": [
    {
     "data": {
      "text/plain": [
       "{'d', 'e'}"
      ]
     },
     "execution_count": 120,
     "metadata": {},
     "output_type": "execute_result"
    }
   ],
   "source": [
    "set2"
   ]
  },
  {
   "cell_type": "markdown",
   "id": "2156e4f3",
   "metadata": {},
   "source": [
    "Tuple"
   ]
  },
  {
   "cell_type": "code",
   "execution_count": 121,
   "id": "c6c25131",
   "metadata": {},
   "outputs": [
    {
     "data": {
      "text/plain": [
       "'python'"
      ]
     },
     "execution_count": 121,
     "metadata": {},
     "output_type": "execute_result"
    }
   ],
   "source": [
    "my_tuple= ('python','ML','Ai')\n",
    "my_tuple[0]"
   ]
  },
  {
   "cell_type": "code",
   "execution_count": 123,
   "id": "b3d228f6",
   "metadata": {},
   "outputs": [
    {
     "data": {
      "text/plain": [
       "'python'"
      ]
     },
     "execution_count": 123,
     "metadata": {},
     "output_type": "execute_result"
    }
   ],
   "source": [
    "my_tuple[0]"
   ]
  },
  {
   "cell_type": "code",
   "execution_count": 126,
   "id": "3b79a1cf",
   "metadata": {},
   "outputs": [
    {
     "name": "stdout",
     "output_type": "stream",
     "text": [
      "python ML Ai "
     ]
    }
   ],
   "source": [
    "for i in my_tuple:\n",
    "    print(i,end=' ')"
   ]
  },
  {
   "cell_type": "code",
   "execution_count": null,
   "id": "66e976cb",
   "metadata": {},
   "outputs": [],
   "source": []
  },
  {
   "cell_type": "markdown",
   "id": "90212e11",
   "metadata": {},
   "source": [
    "Dictionaries"
   ]
  },
  {
   "cell_type": "code",
   "execution_count": 127,
   "id": "ce8edff9",
   "metadata": {},
   "outputs": [],
   "source": [
    "dict= {}"
   ]
  },
  {
   "cell_type": "code",
   "execution_count": 128,
   "id": "fee6ceae",
   "metadata": {},
   "outputs": [],
   "source": [
    "expenses = {'books':400,'cars':300,\"internet\":'jio'}\n",
    "\n"
   ]
  },
  {
   "cell_type": "code",
   "execution_count": 131,
   "id": "2e763adc",
   "metadata": {},
   "outputs": [
    {
     "data": {
      "text/plain": [
       "dict_keys(['books', 'cars', 'internet'])"
      ]
     },
     "execution_count": 131,
     "metadata": {},
     "output_type": "execute_result"
    }
   ],
   "source": [
    "expenses.keys()"
   ]
  },
  {
   "cell_type": "code",
   "execution_count": 132,
   "id": "350a011f",
   "metadata": {},
   "outputs": [
    {
     "data": {
      "text/plain": [
       "dict_values([400, 300, 'jio'])"
      ]
     },
     "execution_count": 132,
     "metadata": {},
     "output_type": "execute_result"
    }
   ],
   "source": [
    "expenses.values()"
   ]
  },
  {
   "cell_type": "code",
   "execution_count": 133,
   "id": "2f213ab5",
   "metadata": {},
   "outputs": [
    {
     "data": {
      "text/plain": [
       "{'books': 400, 'cars': 300, 'internet': 'jio'}"
      ]
     },
     "execution_count": 133,
     "metadata": {},
     "output_type": "execute_result"
    }
   ],
   "source": [
    "expenses"
   ]
  },
  {
   "cell_type": "code",
   "execution_count": 136,
   "id": "273e37d5",
   "metadata": {},
   "outputs": [],
   "source": [
    "d5= {'city':'pune','pin': 789456}"
   ]
  },
  {
   "cell_type": "code",
   "execution_count": 137,
   "id": "19f2215e",
   "metadata": {},
   "outputs": [],
   "source": [
    "expenses.update(d5)"
   ]
  },
  {
   "cell_type": "code",
   "execution_count": 138,
   "id": "5201e6e4",
   "metadata": {},
   "outputs": [
    {
     "data": {
      "text/plain": [
       "{'books': 400, 'cars': 300, 'internet': 'jio', 'city': 'pune', 'pin': 789456}"
      ]
     },
     "execution_count": 138,
     "metadata": {},
     "output_type": "execute_result"
    }
   ],
   "source": [
    "expenses"
   ]
  },
  {
   "cell_type": "code",
   "execution_count": 139,
   "id": "0d80311b",
   "metadata": {},
   "outputs": [],
   "source": [
    "expenses['books']=1900"
   ]
  },
  {
   "cell_type": "code",
   "execution_count": 140,
   "id": "02efb05d",
   "metadata": {},
   "outputs": [
    {
     "data": {
      "text/plain": [
       "{'books': 1900, 'cars': 300, 'internet': 'jio', 'city': 'pune', 'pin': 789456}"
      ]
     },
     "execution_count": 140,
     "metadata": {},
     "output_type": "execute_result"
    }
   ],
   "source": [
    "expenses"
   ]
  },
  {
   "cell_type": "code",
   "execution_count": 141,
   "id": "3352e87d",
   "metadata": {},
   "outputs": [
    {
     "data": {
      "text/plain": [
       "1900"
      ]
     },
     "execution_count": 141,
     "metadata": {},
     "output_type": "execute_result"
    }
   ],
   "source": [
    "expenses['books']"
   ]
  },
  {
   "cell_type": "code",
   "execution_count": 142,
   "id": "f03b0ab7",
   "metadata": {},
   "outputs": [
    {
     "name": "stdout",
     "output_type": "stream",
     "text": [
      "1900\n",
      "300\n",
      "jio\n",
      "pune\n",
      "789456\n"
     ]
    }
   ],
   "source": [
    "for i in expenses.values():\n",
    "    print(i)"
   ]
  },
  {
   "cell_type": "code",
   "execution_count": 143,
   "id": "ba615281",
   "metadata": {},
   "outputs": [
    {
     "name": "stdout",
     "output_type": "stream",
     "text": [
      "books\n",
      "cars\n",
      "internet\n",
      "city\n",
      "pin\n"
     ]
    }
   ],
   "source": [
    "for i in expenses.keys():\n",
    "    print(i)"
   ]
  },
  {
   "cell_type": "code",
   "execution_count": null,
   "id": "50000165",
   "metadata": {},
   "outputs": [],
   "source": []
  }
 ],
 "metadata": {
  "kernelspec": {
   "display_name": "Python 3 (ipykernel)",
   "language": "python",
   "name": "python3"
  },
  "language_info": {
   "codemirror_mode": {
    "name": "ipython",
    "version": 3
   },
   "file_extension": ".py",
   "mimetype": "text/x-python",
   "name": "python",
   "nbconvert_exporter": "python",
   "pygments_lexer": "ipython3",
   "version": "3.8.12"
  }
 },
 "nbformat": 4,
 "nbformat_minor": 5
}
